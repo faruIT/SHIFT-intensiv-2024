{
  "cells": [
    {
      "cell_type": "markdown",
      "source": [
        "# **Задача обучения (соревнования)** - построить модель определения цены жилой недвижимости на основе представленного набора данных"
      ],
      "metadata": {
        "id": "3T2slM4U8E1B"
      }
    },
    {
      "cell_type": "markdown",
      "source": [
        "Проект выполнен в рамках участия в ШИФТ Интенсиве по направлению ML Classic.\n",
        "\n",
        "Проект подготовлен командой Русичи: Владислав Вольников, [Станислав Кацко](https://t.me/StanislavKatsko), Иван Литвинов."
      ],
      "metadata": {
        "id": "GX09qbmGQoo9"
      }
    },
    {
      "cell_type": "markdown",
      "source": [
        "На первом этапе (ноутбук Русичи_EDA) представлена загрузка исходных данных и выполнен разведочный анализ данных (EDA).\n",
        "\n",
        "В текущем ноутбуке (Русичи_model) будут представлены процессы предобработки данных, обучения и сабмита."
      ],
      "metadata": {
        "id": "XejwTS60Rx2H"
      }
    },
    {
      "cell_type": "markdown",
      "source": [
        "# Подключаемся к Google Drive и импортируем библиотеки"
      ],
      "metadata": {
        "id": "KMih_Paw66hI"
      }
    },
    {
      "cell_type": "code",
      "execution_count": null,
      "metadata": {
        "colab": {
          "base_uri": "https://localhost:8080/"
        },
        "id": "aJCsJ3ZTHZcl",
        "outputId": "9074f3d5-d97f-4473-8d23-dc6817552712"
      },
      "outputs": [
        {
          "output_type": "stream",
          "name": "stdout",
          "text": [
            "Drive already mounted at /content/gdrive; to attempt to forcibly remount, call drive.mount(\"/content/gdrive\", force_remount=True).\n"
          ]
        }
      ],
      "source": [
        "from google.colab import drive\n",
        "drive.mount('/content/gdrive')"
      ]
    },
    {
      "cell_type": "code",
      "execution_count": null,
      "metadata": {
        "id": "QCd59ED1MxfF"
      },
      "outputs": [],
      "source": [
        "# Load data libraries\n",
        "import numpy as np # linear algebra\n",
        "import pandas as pd # data processing, CSV file I/O\n",
        "from sklearn.model_selection import train_test_split\n",
        "\n",
        "# For visualizations\n",
        "import matplotlib.pyplot as plt\n",
        "import seaborn as sns\n",
        "%matplotlib inline\n",
        "\n",
        "# Data preparation\n",
        "from sklearn.preprocessing import RobustScaler, StandardScaler\n",
        "from datetime import datetime\n",
        "import math\n",
        "\n",
        "# Modeling\n",
        "from xgboost import XGBRegressor\n",
        "import xgboost as xgb\n",
        "from sklearn.preprocessing import PolynomialFeatures\n",
        "from sklearn.linear_model import Ridge, RidgeCV, Lasso, LassoCV, LinearRegression\n",
        "\n",
        "# Evaluation\n",
        "from sklearn.metrics import mean_squared_error, mean_absolute_error\n",
        "from sklearn.model_selection import cross_val_score\n",
        "from sklearn.metrics import accuracy_score, f1_score, r2_score, precision_score, recall_score, classification_report, confusion_matrix\n",
        "\n",
        "\n",
        "from sklearn.metrics import mean_absolute_error, mean_squared_error, r2_score, mean_squared_log_error\n",
        "import os\n",
        "\n",
        "import pandas as pd"
      ]
    },
    {
      "cell_type": "code",
      "execution_count": null,
      "metadata": {
        "colab": {
          "base_uri": "https://localhost:8080/",
          "height": 444
        },
        "id": "uFmdcq20IQ23",
        "outputId": "b7813d76-7144-4e74-b415-91de05b0ae42"
      },
      "outputs": [
        {
          "output_type": "execute_result",
          "data": {
            "text/plain": [
              "       full_sq  floor  build_year  num_room  kitch_sq  state  product_type  \\\n",
              "0           43   24.0      2014.0       1.0      10.0    1.0             1   \n",
              "1           66    3.0      1979.0       3.0      10.0    3.0             0   \n",
              "2           55    5.0      1979.0       2.0       6.0    2.0             0   \n",
              "3           45    7.0      1970.0       2.0       6.0    2.0             0   \n",
              "4           43    4.0      1968.0       2.0       6.0    2.0             0   \n",
              "...        ...    ...         ...       ...       ...    ...           ...   \n",
              "21324       56   19.0      1979.0       2.0       1.0    1.0             1   \n",
              "21325       42    5.0      1977.0       1.0       8.0    3.0             0   \n",
              "21326       32    3.0      1979.0       2.0       6.0    2.0             0   \n",
              "21327       43    4.0      1969.0       2.0       5.0    2.0             0   \n",
              "21328       32    1.0      1979.0       2.0       6.0    2.0             0   \n",
              "\n",
              "       raion_popul  indust_part  sport_objects_raion  ...  \\\n",
              "0         8.294300     0.007122                    0  ...   \n",
              "1        11.314231     0.232205                    4  ...   \n",
              "2        11.718817     0.000170                    5  ...   \n",
              "3        11.331032     0.428826                    4  ...   \n",
              "4        11.538769     0.136330                    6  ...   \n",
              "...            ...          ...                  ...  ...   \n",
              "21324    11.655744     0.049637                    6  ...   \n",
              "21325    11.718817     0.000170                    5  ...   \n",
              "21326    11.719940     0.000000                    4  ...   \n",
              "21327    11.331032     0.428826                    4  ...   \n",
              "21328    11.793198     0.130618                   12  ...   \n",
              "\n",
              "       cafe_count_1000_price_high  cafe_sum_1500_min_price_avg  \\\n",
              "0                               0                     6.907755   \n",
              "1                               0                     6.626122   \n",
              "2                               0                     6.368753   \n",
              "3                               0                     6.753601   \n",
              "4                               0                     6.636603   \n",
              "...                           ...                          ...   \n",
              "21324                           0                     6.492240   \n",
              "21325                           0                     6.502295   \n",
              "21326                           0                     6.572814   \n",
              "21327                           0                     6.586172   \n",
              "21328                           0                     6.536692   \n",
              "\n",
              "       green_part_2000  cafe_sum_2000_min_price_avg  mosque_count_3000  \\\n",
              "0             3.710396                     6.725430                  0   \n",
              "1             2.764431                     6.479615                  1   \n",
              "2             3.511844                     6.192138                  0   \n",
              "3             1.814825                     6.551080                  0   \n",
              "4             2.257588                     6.646507                  1   \n",
              "...                ...                          ...                ...   \n",
              "21324         2.711378                     6.816188                  0   \n",
              "21325         3.802208                     6.291569                  0   \n",
              "21326         3.062456                     6.583520                  1   \n",
              "21327         2.408745                     6.563982                  0   \n",
              "21328         1.726332                     6.543538                  0   \n",
              "\n",
              "       prom_part_5000  cafe_sum_5000_min_price_avg  mosque_count_5000  year  \\\n",
              "0            1.803359                     6.616560                  0  2014   \n",
              "1            2.631169                     6.469948                  1  2013   \n",
              "2            1.363537                     6.462171                  0  2012   \n",
              "3            2.732418                     6.458229                  0  2014   \n",
              "4            2.020222                     6.634778                  2  2014   \n",
              "...               ...                          ...                ...   ...   \n",
              "21324        3.297317                     6.536155                  0  2014   \n",
              "21325        1.442202                     6.487684                  0  2014   \n",
              "21326        2.733718                     6.573904                  2  2011   \n",
              "21327        3.034953                     6.476311                  0  2013   \n",
              "21328        2.204972                     6.817097                  0  2013   \n",
              "\n",
              "       price_doc  \n",
              "0        5533460  \n",
              "1        9900000  \n",
              "2        1990000  \n",
              "3        6500000  \n",
              "4        8500000  \n",
              "...          ...  \n",
              "21324   10159562  \n",
              "21325    5100000  \n",
              "21326    4800000  \n",
              "21327    6300000  \n",
              "21328    4800000  \n",
              "\n",
              "[21329 rows x 51 columns]"
            ],
            "text/html": [
              "\n",
              "  <div id=\"df-b211eaa1-479b-4e4b-ad6f-cf55ef8a48bc\" class=\"colab-df-container\">\n",
              "    <div>\n",
              "<style scoped>\n",
              "    .dataframe tbody tr th:only-of-type {\n",
              "        vertical-align: middle;\n",
              "    }\n",
              "\n",
              "    .dataframe tbody tr th {\n",
              "        vertical-align: top;\n",
              "    }\n",
              "\n",
              "    .dataframe thead th {\n",
              "        text-align: right;\n",
              "    }\n",
              "</style>\n",
              "<table border=\"1\" class=\"dataframe\">\n",
              "  <thead>\n",
              "    <tr style=\"text-align: right;\">\n",
              "      <th></th>\n",
              "      <th>full_sq</th>\n",
              "      <th>floor</th>\n",
              "      <th>build_year</th>\n",
              "      <th>num_room</th>\n",
              "      <th>kitch_sq</th>\n",
              "      <th>state</th>\n",
              "      <th>product_type</th>\n",
              "      <th>raion_popul</th>\n",
              "      <th>indust_part</th>\n",
              "      <th>sport_objects_raion</th>\n",
              "      <th>...</th>\n",
              "      <th>cafe_count_1000_price_high</th>\n",
              "      <th>cafe_sum_1500_min_price_avg</th>\n",
              "      <th>green_part_2000</th>\n",
              "      <th>cafe_sum_2000_min_price_avg</th>\n",
              "      <th>mosque_count_3000</th>\n",
              "      <th>prom_part_5000</th>\n",
              "      <th>cafe_sum_5000_min_price_avg</th>\n",
              "      <th>mosque_count_5000</th>\n",
              "      <th>year</th>\n",
              "      <th>price_doc</th>\n",
              "    </tr>\n",
              "  </thead>\n",
              "  <tbody>\n",
              "    <tr>\n",
              "      <th>0</th>\n",
              "      <td>43</td>\n",
              "      <td>24.0</td>\n",
              "      <td>2014.0</td>\n",
              "      <td>1.0</td>\n",
              "      <td>10.0</td>\n",
              "      <td>1.0</td>\n",
              "      <td>1</td>\n",
              "      <td>8.294300</td>\n",
              "      <td>0.007122</td>\n",
              "      <td>0</td>\n",
              "      <td>...</td>\n",
              "      <td>0</td>\n",
              "      <td>6.907755</td>\n",
              "      <td>3.710396</td>\n",
              "      <td>6.725430</td>\n",
              "      <td>0</td>\n",
              "      <td>1.803359</td>\n",
              "      <td>6.616560</td>\n",
              "      <td>0</td>\n",
              "      <td>2014</td>\n",
              "      <td>5533460</td>\n",
              "    </tr>\n",
              "    <tr>\n",
              "      <th>1</th>\n",
              "      <td>66</td>\n",
              "      <td>3.0</td>\n",
              "      <td>1979.0</td>\n",
              "      <td>3.0</td>\n",
              "      <td>10.0</td>\n",
              "      <td>3.0</td>\n",
              "      <td>0</td>\n",
              "      <td>11.314231</td>\n",
              "      <td>0.232205</td>\n",
              "      <td>4</td>\n",
              "      <td>...</td>\n",
              "      <td>0</td>\n",
              "      <td>6.626122</td>\n",
              "      <td>2.764431</td>\n",
              "      <td>6.479615</td>\n",
              "      <td>1</td>\n",
              "      <td>2.631169</td>\n",
              "      <td>6.469948</td>\n",
              "      <td>1</td>\n",
              "      <td>2013</td>\n",
              "      <td>9900000</td>\n",
              "    </tr>\n",
              "    <tr>\n",
              "      <th>2</th>\n",
              "      <td>55</td>\n",
              "      <td>5.0</td>\n",
              "      <td>1979.0</td>\n",
              "      <td>2.0</td>\n",
              "      <td>6.0</td>\n",
              "      <td>2.0</td>\n",
              "      <td>0</td>\n",
              "      <td>11.718817</td>\n",
              "      <td>0.000170</td>\n",
              "      <td>5</td>\n",
              "      <td>...</td>\n",
              "      <td>0</td>\n",
              "      <td>6.368753</td>\n",
              "      <td>3.511844</td>\n",
              "      <td>6.192138</td>\n",
              "      <td>0</td>\n",
              "      <td>1.363537</td>\n",
              "      <td>6.462171</td>\n",
              "      <td>0</td>\n",
              "      <td>2012</td>\n",
              "      <td>1990000</td>\n",
              "    </tr>\n",
              "    <tr>\n",
              "      <th>3</th>\n",
              "      <td>45</td>\n",
              "      <td>7.0</td>\n",
              "      <td>1970.0</td>\n",
              "      <td>2.0</td>\n",
              "      <td>6.0</td>\n",
              "      <td>2.0</td>\n",
              "      <td>0</td>\n",
              "      <td>11.331032</td>\n",
              "      <td>0.428826</td>\n",
              "      <td>4</td>\n",
              "      <td>...</td>\n",
              "      <td>0</td>\n",
              "      <td>6.753601</td>\n",
              "      <td>1.814825</td>\n",
              "      <td>6.551080</td>\n",
              "      <td>0</td>\n",
              "      <td>2.732418</td>\n",
              "      <td>6.458229</td>\n",
              "      <td>0</td>\n",
              "      <td>2014</td>\n",
              "      <td>6500000</td>\n",
              "    </tr>\n",
              "    <tr>\n",
              "      <th>4</th>\n",
              "      <td>43</td>\n",
              "      <td>4.0</td>\n",
              "      <td>1968.0</td>\n",
              "      <td>2.0</td>\n",
              "      <td>6.0</td>\n",
              "      <td>2.0</td>\n",
              "      <td>0</td>\n",
              "      <td>11.538769</td>\n",
              "      <td>0.136330</td>\n",
              "      <td>6</td>\n",
              "      <td>...</td>\n",
              "      <td>0</td>\n",
              "      <td>6.636603</td>\n",
              "      <td>2.257588</td>\n",
              "      <td>6.646507</td>\n",
              "      <td>1</td>\n",
              "      <td>2.020222</td>\n",
              "      <td>6.634778</td>\n",
              "      <td>2</td>\n",
              "      <td>2014</td>\n",
              "      <td>8500000</td>\n",
              "    </tr>\n",
              "    <tr>\n",
              "      <th>...</th>\n",
              "      <td>...</td>\n",
              "      <td>...</td>\n",
              "      <td>...</td>\n",
              "      <td>...</td>\n",
              "      <td>...</td>\n",
              "      <td>...</td>\n",
              "      <td>...</td>\n",
              "      <td>...</td>\n",
              "      <td>...</td>\n",
              "      <td>...</td>\n",
              "      <td>...</td>\n",
              "      <td>...</td>\n",
              "      <td>...</td>\n",
              "      <td>...</td>\n",
              "      <td>...</td>\n",
              "      <td>...</td>\n",
              "      <td>...</td>\n",
              "      <td>...</td>\n",
              "      <td>...</td>\n",
              "      <td>...</td>\n",
              "      <td>...</td>\n",
              "    </tr>\n",
              "    <tr>\n",
              "      <th>21324</th>\n",
              "      <td>56</td>\n",
              "      <td>19.0</td>\n",
              "      <td>1979.0</td>\n",
              "      <td>2.0</td>\n",
              "      <td>1.0</td>\n",
              "      <td>1.0</td>\n",
              "      <td>1</td>\n",
              "      <td>11.655744</td>\n",
              "      <td>0.049637</td>\n",
              "      <td>6</td>\n",
              "      <td>...</td>\n",
              "      <td>0</td>\n",
              "      <td>6.492240</td>\n",
              "      <td>2.711378</td>\n",
              "      <td>6.816188</td>\n",
              "      <td>0</td>\n",
              "      <td>3.297317</td>\n",
              "      <td>6.536155</td>\n",
              "      <td>0</td>\n",
              "      <td>2014</td>\n",
              "      <td>10159562</td>\n",
              "    </tr>\n",
              "    <tr>\n",
              "      <th>21325</th>\n",
              "      <td>42</td>\n",
              "      <td>5.0</td>\n",
              "      <td>1977.0</td>\n",
              "      <td>1.0</td>\n",
              "      <td>8.0</td>\n",
              "      <td>3.0</td>\n",
              "      <td>0</td>\n",
              "      <td>11.718817</td>\n",
              "      <td>0.000170</td>\n",
              "      <td>5</td>\n",
              "      <td>...</td>\n",
              "      <td>0</td>\n",
              "      <td>6.502295</td>\n",
              "      <td>3.802208</td>\n",
              "      <td>6.291569</td>\n",
              "      <td>0</td>\n",
              "      <td>1.442202</td>\n",
              "      <td>6.487684</td>\n",
              "      <td>0</td>\n",
              "      <td>2014</td>\n",
              "      <td>5100000</td>\n",
              "    </tr>\n",
              "    <tr>\n",
              "      <th>21326</th>\n",
              "      <td>32</td>\n",
              "      <td>3.0</td>\n",
              "      <td>1979.0</td>\n",
              "      <td>2.0</td>\n",
              "      <td>6.0</td>\n",
              "      <td>2.0</td>\n",
              "      <td>0</td>\n",
              "      <td>11.719940</td>\n",
              "      <td>0.000000</td>\n",
              "      <td>4</td>\n",
              "      <td>...</td>\n",
              "      <td>0</td>\n",
              "      <td>6.572814</td>\n",
              "      <td>3.062456</td>\n",
              "      <td>6.583520</td>\n",
              "      <td>1</td>\n",
              "      <td>2.733718</td>\n",
              "      <td>6.573904</td>\n",
              "      <td>2</td>\n",
              "      <td>2011</td>\n",
              "      <td>4800000</td>\n",
              "    </tr>\n",
              "    <tr>\n",
              "      <th>21327</th>\n",
              "      <td>43</td>\n",
              "      <td>4.0</td>\n",
              "      <td>1969.0</td>\n",
              "      <td>2.0</td>\n",
              "      <td>5.0</td>\n",
              "      <td>2.0</td>\n",
              "      <td>0</td>\n",
              "      <td>11.331032</td>\n",
              "      <td>0.428826</td>\n",
              "      <td>4</td>\n",
              "      <td>...</td>\n",
              "      <td>0</td>\n",
              "      <td>6.586172</td>\n",
              "      <td>2.408745</td>\n",
              "      <td>6.563982</td>\n",
              "      <td>0</td>\n",
              "      <td>3.034953</td>\n",
              "      <td>6.476311</td>\n",
              "      <td>0</td>\n",
              "      <td>2013</td>\n",
              "      <td>6300000</td>\n",
              "    </tr>\n",
              "    <tr>\n",
              "      <th>21328</th>\n",
              "      <td>32</td>\n",
              "      <td>1.0</td>\n",
              "      <td>1979.0</td>\n",
              "      <td>2.0</td>\n",
              "      <td>6.0</td>\n",
              "      <td>2.0</td>\n",
              "      <td>0</td>\n",
              "      <td>11.793198</td>\n",
              "      <td>0.130618</td>\n",
              "      <td>12</td>\n",
              "      <td>...</td>\n",
              "      <td>0</td>\n",
              "      <td>6.536692</td>\n",
              "      <td>1.726332</td>\n",
              "      <td>6.543538</td>\n",
              "      <td>0</td>\n",
              "      <td>2.204972</td>\n",
              "      <td>6.817097</td>\n",
              "      <td>0</td>\n",
              "      <td>2013</td>\n",
              "      <td>4800000</td>\n",
              "    </tr>\n",
              "  </tbody>\n",
              "</table>\n",
              "<p>21329 rows × 51 columns</p>\n",
              "</div>\n",
              "    <div class=\"colab-df-buttons\">\n",
              "\n",
              "  <div class=\"colab-df-container\">\n",
              "    <button class=\"colab-df-convert\" onclick=\"convertToInteractive('df-b211eaa1-479b-4e4b-ad6f-cf55ef8a48bc')\"\n",
              "            title=\"Convert this dataframe to an interactive table.\"\n",
              "            style=\"display:none;\">\n",
              "\n",
              "  <svg xmlns=\"http://www.w3.org/2000/svg\" height=\"24px\" viewBox=\"0 -960 960 960\">\n",
              "    <path d=\"M120-120v-720h720v720H120Zm60-500h600v-160H180v160Zm220 220h160v-160H400v160Zm0 220h160v-160H400v160ZM180-400h160v-160H180v160Zm440 0h160v-160H620v160ZM180-180h160v-160H180v160Zm440 0h160v-160H620v160Z\"/>\n",
              "  </svg>\n",
              "    </button>\n",
              "\n",
              "  <style>\n",
              "    .colab-df-container {\n",
              "      display:flex;\n",
              "      gap: 12px;\n",
              "    }\n",
              "\n",
              "    .colab-df-convert {\n",
              "      background-color: #E8F0FE;\n",
              "      border: none;\n",
              "      border-radius: 50%;\n",
              "      cursor: pointer;\n",
              "      display: none;\n",
              "      fill: #1967D2;\n",
              "      height: 32px;\n",
              "      padding: 0 0 0 0;\n",
              "      width: 32px;\n",
              "    }\n",
              "\n",
              "    .colab-df-convert:hover {\n",
              "      background-color: #E2EBFA;\n",
              "      box-shadow: 0px 1px 2px rgba(60, 64, 67, 0.3), 0px 1px 3px 1px rgba(60, 64, 67, 0.15);\n",
              "      fill: #174EA6;\n",
              "    }\n",
              "\n",
              "    .colab-df-buttons div {\n",
              "      margin-bottom: 4px;\n",
              "    }\n",
              "\n",
              "    [theme=dark] .colab-df-convert {\n",
              "      background-color: #3B4455;\n",
              "      fill: #D2E3FC;\n",
              "    }\n",
              "\n",
              "    [theme=dark] .colab-df-convert:hover {\n",
              "      background-color: #434B5C;\n",
              "      box-shadow: 0px 1px 3px 1px rgba(0, 0, 0, 0.15);\n",
              "      filter: drop-shadow(0px 1px 2px rgba(0, 0, 0, 0.3));\n",
              "      fill: #FFFFFF;\n",
              "    }\n",
              "  </style>\n",
              "\n",
              "    <script>\n",
              "      const buttonEl =\n",
              "        document.querySelector('#df-b211eaa1-479b-4e4b-ad6f-cf55ef8a48bc button.colab-df-convert');\n",
              "      buttonEl.style.display =\n",
              "        google.colab.kernel.accessAllowed ? 'block' : 'none';\n",
              "\n",
              "      async function convertToInteractive(key) {\n",
              "        const element = document.querySelector('#df-b211eaa1-479b-4e4b-ad6f-cf55ef8a48bc');\n",
              "        const dataTable =\n",
              "          await google.colab.kernel.invokeFunction('convertToInteractive',\n",
              "                                                    [key], {});\n",
              "        if (!dataTable) return;\n",
              "\n",
              "        const docLinkHtml = 'Like what you see? Visit the ' +\n",
              "          '<a target=\"_blank\" href=https://colab.research.google.com/notebooks/data_table.ipynb>data table notebook</a>'\n",
              "          + ' to learn more about interactive tables.';\n",
              "        element.innerHTML = '';\n",
              "        dataTable['output_type'] = 'display_data';\n",
              "        await google.colab.output.renderOutput(dataTable, element);\n",
              "        const docLink = document.createElement('div');\n",
              "        docLink.innerHTML = docLinkHtml;\n",
              "        element.appendChild(docLink);\n",
              "      }\n",
              "    </script>\n",
              "  </div>\n",
              "\n",
              "\n",
              "<div id=\"df-176d3e9d-e42d-4b04-8b1d-9251d9beef14\">\n",
              "  <button class=\"colab-df-quickchart\" onclick=\"quickchart('df-176d3e9d-e42d-4b04-8b1d-9251d9beef14')\"\n",
              "            title=\"Suggest charts\"\n",
              "            style=\"display:none;\">\n",
              "\n",
              "<svg xmlns=\"http://www.w3.org/2000/svg\" height=\"24px\"viewBox=\"0 0 24 24\"\n",
              "     width=\"24px\">\n",
              "    <g>\n",
              "        <path d=\"M19 3H5c-1.1 0-2 .9-2 2v14c0 1.1.9 2 2 2h14c1.1 0 2-.9 2-2V5c0-1.1-.9-2-2-2zM9 17H7v-7h2v7zm4 0h-2V7h2v10zm4 0h-2v-4h2v4z\"/>\n",
              "    </g>\n",
              "</svg>\n",
              "  </button>\n",
              "\n",
              "<style>\n",
              "  .colab-df-quickchart {\n",
              "      --bg-color: #E8F0FE;\n",
              "      --fill-color: #1967D2;\n",
              "      --hover-bg-color: #E2EBFA;\n",
              "      --hover-fill-color: #174EA6;\n",
              "      --disabled-fill-color: #AAA;\n",
              "      --disabled-bg-color: #DDD;\n",
              "  }\n",
              "\n",
              "  [theme=dark] .colab-df-quickchart {\n",
              "      --bg-color: #3B4455;\n",
              "      --fill-color: #D2E3FC;\n",
              "      --hover-bg-color: #434B5C;\n",
              "      --hover-fill-color: #FFFFFF;\n",
              "      --disabled-bg-color: #3B4455;\n",
              "      --disabled-fill-color: #666;\n",
              "  }\n",
              "\n",
              "  .colab-df-quickchart {\n",
              "    background-color: var(--bg-color);\n",
              "    border: none;\n",
              "    border-radius: 50%;\n",
              "    cursor: pointer;\n",
              "    display: none;\n",
              "    fill: var(--fill-color);\n",
              "    height: 32px;\n",
              "    padding: 0;\n",
              "    width: 32px;\n",
              "  }\n",
              "\n",
              "  .colab-df-quickchart:hover {\n",
              "    background-color: var(--hover-bg-color);\n",
              "    box-shadow: 0 1px 2px rgba(60, 64, 67, 0.3), 0 1px 3px 1px rgba(60, 64, 67, 0.15);\n",
              "    fill: var(--button-hover-fill-color);\n",
              "  }\n",
              "\n",
              "  .colab-df-quickchart-complete:disabled,\n",
              "  .colab-df-quickchart-complete:disabled:hover {\n",
              "    background-color: var(--disabled-bg-color);\n",
              "    fill: var(--disabled-fill-color);\n",
              "    box-shadow: none;\n",
              "  }\n",
              "\n",
              "  .colab-df-spinner {\n",
              "    border: 2px solid var(--fill-color);\n",
              "    border-color: transparent;\n",
              "    border-bottom-color: var(--fill-color);\n",
              "    animation:\n",
              "      spin 1s steps(1) infinite;\n",
              "  }\n",
              "\n",
              "  @keyframes spin {\n",
              "    0% {\n",
              "      border-color: transparent;\n",
              "      border-bottom-color: var(--fill-color);\n",
              "      border-left-color: var(--fill-color);\n",
              "    }\n",
              "    20% {\n",
              "      border-color: transparent;\n",
              "      border-left-color: var(--fill-color);\n",
              "      border-top-color: var(--fill-color);\n",
              "    }\n",
              "    30% {\n",
              "      border-color: transparent;\n",
              "      border-left-color: var(--fill-color);\n",
              "      border-top-color: var(--fill-color);\n",
              "      border-right-color: var(--fill-color);\n",
              "    }\n",
              "    40% {\n",
              "      border-color: transparent;\n",
              "      border-right-color: var(--fill-color);\n",
              "      border-top-color: var(--fill-color);\n",
              "    }\n",
              "    60% {\n",
              "      border-color: transparent;\n",
              "      border-right-color: var(--fill-color);\n",
              "    }\n",
              "    80% {\n",
              "      border-color: transparent;\n",
              "      border-right-color: var(--fill-color);\n",
              "      border-bottom-color: var(--fill-color);\n",
              "    }\n",
              "    90% {\n",
              "      border-color: transparent;\n",
              "      border-bottom-color: var(--fill-color);\n",
              "    }\n",
              "  }\n",
              "</style>\n",
              "\n",
              "  <script>\n",
              "    async function quickchart(key) {\n",
              "      const quickchartButtonEl =\n",
              "        document.querySelector('#' + key + ' button');\n",
              "      quickchartButtonEl.disabled = true;  // To prevent multiple clicks.\n",
              "      quickchartButtonEl.classList.add('colab-df-spinner');\n",
              "      try {\n",
              "        const charts = await google.colab.kernel.invokeFunction(\n",
              "            'suggestCharts', [key], {});\n",
              "      } catch (error) {\n",
              "        console.error('Error during call to suggestCharts:', error);\n",
              "      }\n",
              "      quickchartButtonEl.classList.remove('colab-df-spinner');\n",
              "      quickchartButtonEl.classList.add('colab-df-quickchart-complete');\n",
              "    }\n",
              "    (() => {\n",
              "      let quickchartButtonEl =\n",
              "        document.querySelector('#df-176d3e9d-e42d-4b04-8b1d-9251d9beef14 button');\n",
              "      quickchartButtonEl.style.display =\n",
              "        google.colab.kernel.accessAllowed ? 'block' : 'none';\n",
              "    })();\n",
              "  </script>\n",
              "</div>\n",
              "    </div>\n",
              "  </div>\n"
            ],
            "application/vnd.google.colaboratory.intrinsic+json": {
              "type": "dataframe",
              "variable_name": "df"
            }
          },
          "metadata": {},
          "execution_count": 78
        }
      ],
      "source": [
        "df = pd.read_csv('./gdrive/MyDrive/SHIFT_SUMMER/train.csv', index_col=0)\n",
        "df"
      ]
    },
    {
      "cell_type": "code",
      "execution_count": null,
      "metadata": {
        "colab": {
          "base_uri": "https://localhost:8080/"
        },
        "id": "_k1dVNUtby7p",
        "outputId": "9ff0c7df-d175-458b-ea74-24038fa945c5"
      },
      "outputs": [
        {
          "output_type": "stream",
          "name": "stdout",
          "text": [
            "['full_sq', 'floor', 'build_year', 'num_room', 'kitch_sq', 'state', 'product_type', 'raion_popul', 'indust_part', 'sport_objects_raion', 'shopping_centers_raion', 'radiation_raion', 'build_count_block', 'build_count_brick', 'build_count_monolith', 'metro_min_avto', 'school_km', 'green_zone_km', 'industrial_km', 'water_treatment_km', 'cemetery_km', 'incineration_km', 'ID_railroad_station_avto', 'mkad_km', 'ttk_km', 'oil_chemistry_km', 'nuclear_reactor_km', 'power_transmission_line_km', 'market_shop_km', 'fitness_km', 'stadium_km', 'basketball_km', 'detention_facility_km', 'additional_education_km', 'big_church_km', 'mosque_km', 'theater_km', 'exhibition_km', 'catering_km', 'green_part_1000', 'cafe_sum_1000_min_price_avg', 'cafe_count_1000_price_high', 'cafe_sum_1500_min_price_avg', 'green_part_2000', 'cafe_sum_2000_min_price_avg', 'mosque_count_3000', 'prom_part_5000', 'cafe_sum_5000_min_price_avg', 'mosque_count_5000', 'year', 'price_doc']\n"
          ]
        }
      ],
      "source": [
        "features = df.columns.tolist()\n",
        "print(features)"
      ]
    },
    {
      "cell_type": "markdown",
      "metadata": {
        "id": "dwqb6qjZI8QJ"
      },
      "source": [
        "# Предобработка"
      ]
    },
    {
      "cell_type": "code",
      "execution_count": null,
      "metadata": {
        "id": "CjfU2l24PnuG"
      },
      "outputs": [],
      "source": [
        "def copy_by_feature(df, features):\n",
        "  df_copy = pd.DataFrame()\n",
        "  for feature in features:\n",
        "    df_copy[feature] = df[feature]\n",
        "  df_copy[\"price_doc\"] = df['price_doc']\n",
        "  return df_copy"
      ]
    },
    {
      "cell_type": "code",
      "execution_count": null,
      "metadata": {
        "id": "E0yjkSynJ98Z"
      },
      "outputs": [],
      "source": [
        "df_clean = copy_by_feature(df, features)"
      ]
    },
    {
      "cell_type": "code",
      "execution_count": null,
      "metadata": {
        "colab": {
          "base_uri": "https://localhost:8080/"
        },
        "collapsed": true,
        "id": "sFvttwfCK2uV",
        "outputId": "e48848d9-7a1b-463f-d3c0-8008627126cf"
      },
      "outputs": [
        {
          "output_type": "execute_result",
          "data": {
            "text/plain": [
              "full_sq\n",
              "(-5.327, 88.767]        20281\n",
              "(88.767, 177.533]        1010\n",
              "(177.533, 266.3]           30\n",
              "(266.3, 355.067]            3\n",
              "(355.067, 443.833]          0\n",
              "(443.833, 532.6]            1\n",
              "(532.6, 621.367]            1\n",
              "(621.367, 710.133]          1\n",
              "(710.133, 798.9]            1\n",
              "(798.9, 887.667]            0\n",
              "(887.667, 976.433]          0\n",
              "(976.433, 1065.2]           0\n",
              "(1065.2, 1153.967]          0\n",
              "(1153.967, 1242.733]        0\n",
              "(1242.733, 1331.5]          0\n",
              "(1331.5, 1420.267]          0\n",
              "(1420.267, 1509.033]        0\n",
              "(1509.033, 1597.8]          0\n",
              "(1597.8, 1686.567]          0\n",
              "(1686.567, 1775.333]        0\n",
              "(1775.333, 1864.1]          0\n",
              "(1864.1, 1952.867]          0\n",
              "(1952.867, 2041.633]        0\n",
              "(2041.633, 2130.4]          0\n",
              "(2130.4, 2219.167]          0\n",
              "(2219.167, 2307.933]        0\n",
              "(2307.933, 2396.7]          0\n",
              "(2396.7, 2485.467]          0\n",
              "(2485.467, 2574.233]        0\n",
              "(2574.233, 2663.0]          0\n",
              "(2663.0, 2751.767]          0\n",
              "(2751.767, 2840.533]        0\n",
              "(2840.533, 2929.3]          0\n",
              "(2929.3, 3018.067]          0\n",
              "(3018.067, 3106.833]        0\n",
              "(3106.833, 3195.6]          0\n",
              "(3195.6, 3284.367]          0\n",
              "(3284.367, 3373.133]        0\n",
              "(3373.133, 3461.9]          0\n",
              "(3461.9, 3550.667]          0\n",
              "(3550.667, 3639.433]        0\n",
              "(3639.433, 3728.2]          0\n",
              "(3728.2, 3816.967]          0\n",
              "(3816.967, 3905.733]        0\n",
              "(3905.733, 3994.5]          0\n",
              "(3994.5, 4083.267]          0\n",
              "(4083.267, 4172.033]        0\n",
              "(4172.033, 4260.8]          0\n",
              "(4260.8, 4349.567]          0\n",
              "(4349.567, 4438.333]        0\n",
              "(4438.333, 4527.1]          0\n",
              "(4527.1, 4615.867]          0\n",
              "(4615.867, 4704.633]        0\n",
              "(4704.633, 4793.4]          0\n",
              "(4793.4, 4882.167]          0\n",
              "(4882.167, 4970.933]        0\n",
              "(4970.933, 5059.7]          0\n",
              "(5059.7, 5148.467]          0\n",
              "(5148.467, 5237.233]        0\n",
              "(5237.233, 5326.0]          1\n",
              "Name: count, dtype: int64"
            ]
          },
          "metadata": {},
          "execution_count": 82
        }
      ],
      "source": [
        "df_clean['full_sq'].value_counts(bins=60, sort = False)"
      ]
    },
    {
      "cell_type": "code",
      "execution_count": null,
      "metadata": {
        "id": "m-I3EiEcMGP3"
      },
      "outputs": [],
      "source": [
        "df_clean.loc[df_clean['full_sq'] > 800, 'full_sq'] = np.NaN\n",
        "df_clean.loc[df_clean['full_sq'] < 5, 'full_sq'] = np.NaN"
      ]
    },
    {
      "cell_type": "code",
      "execution_count": null,
      "metadata": {
        "colab": {
          "base_uri": "https://localhost:8080/"
        },
        "collapsed": true,
        "id": "CZf3fjxvN2vz",
        "outputId": "c5d74e60-d10d-4a4d-9064-01f83d13ed01"
      },
      "outputs": [
        {
          "output_type": "execute_result",
          "data": {
            "text/plain": [
              "kitch_sq\n",
              "(-2.014, 33.55]      21283\n",
              "(33.55, 67.1]           33\n",
              "(67.1, 100.65]           7\n",
              "(100.65, 134.2]          3\n",
              "(134.2, 167.75]          0\n",
              "(167.75, 201.3]          0\n",
              "(201.3, 234.85]          0\n",
              "(234.85, 268.4]          0\n",
              "(268.4, 301.95]          0\n",
              "(301.95, 335.5]          0\n",
              "(335.5, 369.05]          0\n",
              "(369.05, 402.6]          0\n",
              "(402.6, 436.15]          0\n",
              "(436.15, 469.7]          0\n",
              "(469.7, 503.25]          0\n",
              "(503.25, 536.8]          0\n",
              "(536.8, 570.35]          0\n",
              "(570.35, 603.9]          0\n",
              "(603.9, 637.45]          0\n",
              "(637.45, 671.0]          0\n",
              "(671.0, 704.55]          0\n",
              "(704.55, 738.1]          0\n",
              "(738.1, 771.65]          0\n",
              "(771.65, 805.2]          0\n",
              "(805.2, 838.75]          0\n",
              "(838.75, 872.3]          0\n",
              "(872.3, 905.85]          0\n",
              "(905.85, 939.4]          0\n",
              "(939.4, 972.95]          0\n",
              "(972.95, 1006.5]         0\n",
              "(1006.5, 1040.05]        0\n",
              "(1040.05, 1073.6]        0\n",
              "(1073.6, 1107.15]        0\n",
              "(1107.15, 1140.7]        0\n",
              "(1140.7, 1174.25]        0\n",
              "(1174.25, 1207.8]        0\n",
              "(1207.8, 1241.35]        0\n",
              "(1241.35, 1274.9]        0\n",
              "(1274.9, 1308.45]        0\n",
              "(1308.45, 1342.0]        0\n",
              "(1342.0, 1375.55]        0\n",
              "(1375.55, 1409.1]        0\n",
              "(1409.1, 1442.65]        0\n",
              "(1442.65, 1476.2]        0\n",
              "(1476.2, 1509.75]        0\n",
              "(1509.75, 1543.3]        0\n",
              "(1543.3, 1576.85]        0\n",
              "(1576.85, 1610.4]        0\n",
              "(1610.4, 1643.95]        0\n",
              "(1643.95, 1677.5]        0\n",
              "(1677.5, 1711.05]        0\n",
              "(1711.05, 1744.6]        0\n",
              "(1744.6, 1778.15]        0\n",
              "(1778.15, 1811.7]        0\n",
              "(1811.7, 1845.25]        0\n",
              "(1845.25, 1878.8]        0\n",
              "(1878.8, 1912.35]        0\n",
              "(1912.35, 1945.9]        0\n",
              "(1945.9, 1979.45]        2\n",
              "(1979.45, 2013.0]        1\n",
              "Name: count, dtype: int64"
            ]
          },
          "metadata": {},
          "execution_count": 84
        }
      ],
      "source": [
        "df_clean['kitch_sq'].value_counts(bins=60, sort = False)"
      ]
    },
    {
      "cell_type": "code",
      "execution_count": null,
      "metadata": {
        "id": "NV341YSnNyXH"
      },
      "outputs": [],
      "source": [
        "df_clean.loc[df_clean['kitch_sq'] > 50, 'kitch_sq'] = np.NaN\n",
        "df_clean.loc[df_clean['kitch_sq'] < 0, 'kitch_sq'] = np.NaN"
      ]
    },
    {
      "cell_type": "code",
      "execution_count": null,
      "metadata": {
        "colab": {
          "base_uri": "https://localhost:8080/"
        },
        "collapsed": true,
        "id": "AMUjGQgHOr0f",
        "outputId": "eb918144-999f-49df-f457-4fc02a0a9b57"
      },
      "outputs": [
        {
          "output_type": "execute_result",
          "data": {
            "text/plain": [
              "build_year\n",
              "(-20052.01, 334200.15]       21328\n",
              "(334200.15, 668400.3]            0\n",
              "(668400.3, 1002600.45]           0\n",
              "(1002600.45, 1336800.6]          0\n",
              "(1336800.6, 1671000.75]          0\n",
              "(1671000.75, 2005200.9]          0\n",
              "(2005200.9, 2339401.05]          0\n",
              "(2339401.05, 2673601.2]          0\n",
              "(2673601.2, 3007801.35]          0\n",
              "(3007801.35, 3342001.5]          0\n",
              "(3342001.5, 3676201.65]          0\n",
              "(3676201.65, 4010401.8]          0\n",
              "(4010401.8, 4344601.95]          0\n",
              "(4344601.95, 4678802.1]          0\n",
              "(4678802.1, 5013002.25]          0\n",
              "(5013002.25, 5347202.4]          0\n",
              "(5347202.4, 5681402.55]          0\n",
              "(5681402.55, 6015602.7]          0\n",
              "(6015602.7, 6349802.85]          0\n",
              "(6349802.85, 6684003.0]          0\n",
              "(6684003.0, 7018203.15]          0\n",
              "(7018203.15, 7352403.3]          0\n",
              "(7352403.3, 7686603.45]          0\n",
              "(7686603.45, 8020803.6]          0\n",
              "(8020803.6, 8355003.75]          0\n",
              "(8355003.75, 8689203.9]          0\n",
              "(8689203.9, 9023404.05]          0\n",
              "(9023404.05, 9357604.2]          0\n",
              "(9357604.2, 9691804.35]          0\n",
              "(9691804.35, 10026004.5]         0\n",
              "(10026004.5, 10360204.65]        0\n",
              "(10360204.65, 10694404.8]        0\n",
              "(10694404.8, 11028604.95]        0\n",
              "(11028604.95, 11362805.1]        0\n",
              "(11362805.1, 11697005.25]        0\n",
              "(11697005.25, 12031205.4]        0\n",
              "(12031205.4, 12365405.55]        0\n",
              "(12365405.55, 12699605.7]        0\n",
              "(12699605.7, 13033805.85]        0\n",
              "(13033805.85, 13368006.0]        0\n",
              "(13368006.0, 13702206.15]        0\n",
              "(13702206.15, 14036406.3]        0\n",
              "(14036406.3, 14370606.45]        0\n",
              "(14370606.45, 14704806.6]        0\n",
              "(14704806.6, 15039006.75]        0\n",
              "(15039006.75, 15373206.9]        0\n",
              "(15373206.9, 15707407.05]        0\n",
              "(15707407.05, 16041607.2]        0\n",
              "(16041607.2, 16375807.35]        0\n",
              "(16375807.35, 16710007.5]        0\n",
              "(16710007.5, 17044207.65]        0\n",
              "(17044207.65, 17378407.8]        0\n",
              "(17378407.8, 17712607.95]        0\n",
              "(17712607.95, 18046808.1]        0\n",
              "(18046808.1, 18381008.25]        0\n",
              "(18381008.25, 18715208.4]        0\n",
              "(18715208.4, 19049408.55]        0\n",
              "(19049408.55, 19383608.7]        0\n",
              "(19383608.7, 19717808.85]        0\n",
              "(19717808.85, 20052009.0]        1\n",
              "Name: count, dtype: int64"
            ]
          },
          "metadata": {},
          "execution_count": 86
        }
      ],
      "source": [
        "df_clean['build_year'].value_counts(bins=60, sort = False)"
      ]
    },
    {
      "cell_type": "code",
      "execution_count": null,
      "metadata": {
        "id": "RtjiP_wpNpGf"
      },
      "outputs": [],
      "source": [
        "df_clean.loc[df_clean['build_year'] > 2024, 'build_year'] = np.NaN\n",
        "df_clean.loc[df_clean['build_year'] < 1700, 'build_year'] = np.NaN"
      ]
    },
    {
      "cell_type": "code",
      "execution_count": null,
      "metadata": {
        "colab": {
          "base_uri": "https://localhost:8080/"
        },
        "collapsed": true,
        "id": "aWc0uPc2PN98",
        "outputId": "8fea8a94-9e99-42c8-a258-2ac46e4e42b0"
      },
      "outputs": [
        {
          "output_type": "execute_result",
          "data": {
            "text/plain": [
              "num_room\n",
              "(-0.02, 0.317]         12\n",
              "(0.317, 0.633]          0\n",
              "(0.633, 0.95]           0\n",
              "(0.95, 1.267]        5300\n",
              "(1.267, 1.583]          0\n",
              "(1.583, 1.9]            0\n",
              "(1.9, 2.217]        12423\n",
              "(2.217, 2.533]          0\n",
              "(2.533, 2.85]           0\n",
              "(2.85, 3.167]        3269\n",
              "(3.167, 3.483]          0\n",
              "(3.483, 3.8]            0\n",
              "(3.8, 4.117]          286\n",
              "(4.117, 4.433]          0\n",
              "(4.433, 4.75]           0\n",
              "(4.75, 5.067]          27\n",
              "(5.067, 5.383]          0\n",
              "(5.383, 5.7]            0\n",
              "(5.7, 6.017]            5\n",
              "(6.017, 6.333]          0\n",
              "(6.333, 6.65]           0\n",
              "(6.65, 6.967]           0\n",
              "(6.967, 7.283]          0\n",
              "(7.283, 7.6]            0\n",
              "(7.6, 7.917]            0\n",
              "(7.917, 8.233]          3\n",
              "(8.233, 8.55]           0\n",
              "(8.55, 8.867]           0\n",
              "(8.867, 9.183]          0\n",
              "(9.183, 9.5]            0\n",
              "(9.5, 9.817]            0\n",
              "(9.817, 10.133]         2\n",
              "(10.133, 10.45]         0\n",
              "(10.45, 10.767]         0\n",
              "(10.767, 11.083]        0\n",
              "(11.083, 11.4]          0\n",
              "(11.4, 11.717]          0\n",
              "(11.717, 12.033]        0\n",
              "(12.033, 12.35]         0\n",
              "(12.35, 12.667]         0\n",
              "(12.667, 12.983]        0\n",
              "(12.983, 13.3]          0\n",
              "(13.3, 13.617]          0\n",
              "(13.617, 13.933]        0\n",
              "(13.933, 14.25]         0\n",
              "(14.25, 14.567]         0\n",
              "(14.567, 14.883]        0\n",
              "(14.883, 15.2]          0\n",
              "(15.2, 15.517]          0\n",
              "(15.517, 15.833]        0\n",
              "(15.833, 16.15]         0\n",
              "(16.15, 16.467]         0\n",
              "(16.467, 16.783]        0\n",
              "(16.783, 17.1]          1\n",
              "(17.1, 17.417]          0\n",
              "(17.417, 17.733]        0\n",
              "(17.733, 18.05]         0\n",
              "(18.05, 18.367]         0\n",
              "(18.367, 18.683]        0\n",
              "(18.683, 19.0]          1\n",
              "Name: count, dtype: int64"
            ]
          },
          "metadata": {},
          "execution_count": 88
        }
      ],
      "source": [
        "df_clean['num_room'].value_counts(bins=60, sort = False)"
      ]
    },
    {
      "cell_type": "code",
      "execution_count": null,
      "metadata": {
        "id": "S7FSFIZxPPcF"
      },
      "outputs": [],
      "source": [
        "df_clean.loc[df_clean['num_room'] < 1, 'num_room'] = np.NaN"
      ]
    },
    {
      "cell_type": "code",
      "execution_count": null,
      "metadata": {
        "colab": {
          "base_uri": "https://localhost:8080/"
        },
        "collapsed": true,
        "id": "9fFTDfzASwfz",
        "outputId": "e22be5ee-953f-4b0e-c3e7-ddefb590ad3d"
      },
      "outputs": [
        {
          "output_type": "execute_result",
          "data": {
            "text/plain": [
              "water_treatment_km\n",
              "(-1.2999999999999998, -1.208]       2\n",
              "(-1.208, -1.122]                    1\n",
              "(-1.122, -1.036]                    0\n",
              "(-1.036, -0.95]                     1\n",
              "(-0.95, -0.864]                   675\n",
              "(-0.864, -0.778]                    3\n",
              "(-0.778, -0.692]                    6\n",
              "(-0.692, -0.607]                   52\n",
              "(-0.607, -0.521]                    4\n",
              "(-0.521, -0.435]                    7\n",
              "(-0.435, -0.349]                    6\n",
              "(-0.349, -0.263]                    3\n",
              "(-0.263, -0.177]                   12\n",
              "(-0.177, -0.0909]                   4\n",
              "(-0.0909, -0.00493]               177\n",
              "(-0.00493, 0.081]                 285\n",
              "(0.081, 0.167]                     23\n",
              "(0.167, 0.253]                     18\n",
              "(0.253, 0.339]                    112\n",
              "(0.339, 0.425]                     39\n",
              "(0.425, 0.511]                    226\n",
              "(0.511, 0.597]                    278\n",
              "(0.597, 0.683]                    114\n",
              "(0.683, 0.769]                     96\n",
              "(0.769, 0.855]                     81\n",
              "(0.855, 0.94]                     113\n",
              "(0.94, 1.026]                     315\n",
              "(1.026, 1.112]                    150\n",
              "(1.112, 1.198]                    163\n",
              "(1.198, 1.284]                    229\n",
              "(1.284, 1.37]                     316\n",
              "(1.37, 1.456]                     487\n",
              "(1.456, 1.542]                    595\n",
              "(1.542, 1.628]                    448\n",
              "(1.628, 1.714]                   1003\n",
              "(1.714, 1.8]                      823\n",
              "(1.8, 1.886]                      492\n",
              "(1.886, 1.972]                    589\n",
              "(1.972, 2.058]                    578\n",
              "(2.058, 2.144]                    595\n",
              "(2.144, 2.23]                     731\n",
              "(2.23, 2.316]                     408\n",
              "(2.316, 2.402]                    888\n",
              "(2.402, 2.488]                    482\n",
              "(2.488, 2.573]                    591\n",
              "(2.573, 2.659]                   1166\n",
              "(2.659, 2.745]                    943\n",
              "(2.745, 2.831]                   1881\n",
              "(2.831, 2.917]                   1784\n",
              "(2.917, 3.003]                    993\n",
              "(3.003, 3.089]                   1118\n",
              "(3.089, 3.175]                    904\n",
              "(3.175, 3.261]                    187\n",
              "(3.261, 3.347]                      3\n",
              "(3.347, 3.433]                      0\n",
              "(3.433, 3.519]                      5\n",
              "(3.519, 3.605]                      0\n",
              "(3.605, 3.691]                    102\n",
              "(3.691, 3.777]                      0\n",
              "(3.777, 3.863]                     22\n",
              "Name: count, dtype: int64"
            ]
          },
          "metadata": {},
          "execution_count": 90
        }
      ],
      "source": [
        "df_clean['water_treatment_km'].value_counts(bins=60, sort = False)"
      ]
    },
    {
      "cell_type": "code",
      "execution_count": null,
      "metadata": {
        "id": "x-NZVByzRf-d"
      },
      "outputs": [],
      "source": [
        "df_clean.loc[df_clean['water_treatment_km'] < 0, 'water_treatment_km'] = abs(df_clean['water_treatment_km'])"
      ]
    },
    {
      "cell_type": "code",
      "execution_count": null,
      "metadata": {
        "colab": {
          "base_uri": "https://localhost:8080/"
        },
        "collapsed": true,
        "id": "6Nx0znRrXrGd",
        "outputId": "80fbfefb-f1c6-44e9-8f32-48f283c5621f"
      },
      "outputs": [
        {
          "output_type": "execute_result",
          "data": {
            "text/plain": [
              "state\n",
              "(0.967, 1.533]       3380\n",
              "(1.533, 2.067]      13581\n",
              "(2.067, 2.6]            0\n",
              "(2.6, 3.133]         4071\n",
              "(3.133, 3.667]          0\n",
              "(3.667, 4.2]          296\n",
              "(4.2, 4.733]            0\n",
              "(4.733, 5.267]          0\n",
              "(5.267, 5.8]            0\n",
              "(5.8, 6.333]            0\n",
              "(6.333, 6.867]          0\n",
              "(6.867, 7.4]            0\n",
              "(7.4, 7.933]            0\n",
              "(7.933, 8.467]          0\n",
              "(8.467, 9.0]            0\n",
              "(9.0, 9.533]            0\n",
              "(9.533, 10.067]         0\n",
              "(10.067, 10.6]          0\n",
              "(10.6, 11.133]          0\n",
              "(11.133, 11.667]        0\n",
              "(11.667, 12.2]          0\n",
              "(12.2, 12.733]          0\n",
              "(12.733, 13.267]        0\n",
              "(13.267, 13.8]          0\n",
              "(13.8, 14.333]          0\n",
              "(14.333, 14.867]        0\n",
              "(14.867, 15.4]          0\n",
              "(15.4, 15.933]          0\n",
              "(15.933, 16.467]        0\n",
              "(16.467, 17.0]          0\n",
              "(17.0, 17.533]          0\n",
              "(17.533, 18.067]        0\n",
              "(18.067, 18.6]          0\n",
              "(18.6, 19.133]          0\n",
              "(19.133, 19.667]        0\n",
              "(19.667, 20.2]          0\n",
              "(20.2, 20.733]          0\n",
              "(20.733, 21.267]        0\n",
              "(21.267, 21.8]          0\n",
              "(21.8, 22.333]          0\n",
              "(22.333, 22.867]        0\n",
              "(22.867, 23.4]          0\n",
              "(23.4, 23.933]          0\n",
              "(23.933, 24.467]        0\n",
              "(24.467, 25.0]          0\n",
              "(25.0, 25.533]          0\n",
              "(25.533, 26.067]        0\n",
              "(26.067, 26.6]          0\n",
              "(26.6, 27.133]          0\n",
              "(27.133, 27.667]        0\n",
              "(27.667, 28.2]          0\n",
              "(28.2, 28.733]          0\n",
              "(28.733, 29.267]        0\n",
              "(29.267, 29.8]          0\n",
              "(29.8, 30.333]          0\n",
              "(30.333, 30.867]        0\n",
              "(30.867, 31.4]          0\n",
              "(31.4, 31.933]          0\n",
              "(31.933, 32.467]        0\n",
              "(32.467, 33.0]          1\n",
              "Name: count, dtype: int64"
            ]
          },
          "metadata": {},
          "execution_count": 92
        }
      ],
      "source": [
        "df_clean['state'].value_counts(bins=60, sort = False)"
      ]
    },
    {
      "cell_type": "code",
      "execution_count": null,
      "metadata": {
        "id": "z5XME1LQXsEi"
      },
      "outputs": [],
      "source": [
        "df_clean.loc[df_clean['state'] > 5, 'state'] = np.NaN"
      ]
    },
    {
      "cell_type": "code",
      "execution_count": null,
      "metadata": {
        "colab": {
          "base_uri": "https://localhost:8080/"
        },
        "collapsed": true,
        "id": "W1oMdlWIYHdX",
        "outputId": "d795287d-3bda-4984-ad88-4ee706fdfc9e"
      },
      "outputs": [
        {
          "output_type": "execute_result",
          "data": {
            "text/plain": [
              "mkad_km\n",
              "(-4.305000000000001, -4.158]      13\n",
              "(-4.158, -4.02]                    0\n",
              "(-4.02, -3.882]                    1\n",
              "(-3.882, -3.744]                   0\n",
              "(-3.744, -3.606]                   0\n",
              "(-3.606, -3.469]                   3\n",
              "(-3.469, -3.331]                   0\n",
              "(-3.331, -3.193]                   0\n",
              "(-3.193, -3.055]                   0\n",
              "(-3.055, -2.917]                   0\n",
              "(-2.917, -2.779]                   0\n",
              "(-2.779, -2.642]                   0\n",
              "(-2.642, -2.504]                   0\n",
              "(-2.504, -2.366]                   1\n",
              "(-2.366, -2.228]                   0\n",
              "(-2.228, -2.09]                    2\n",
              "(-2.09, -1.952]                    3\n",
              "(-1.952, -1.814]                   2\n",
              "(-1.814, -1.677]                   2\n",
              "(-1.677, -1.539]                  59\n",
              "(-1.539, -1.401]                  36\n",
              "(-1.401, -1.263]                  23\n",
              "(-1.263, -1.125]                  40\n",
              "(-1.125, -0.987]                  70\n",
              "(-0.987, -0.849]                  84\n",
              "(-0.849, -0.712]                 160\n",
              "(-0.712, -0.574]                 101\n",
              "(-0.574, -0.436]                 126\n",
              "(-0.436, -0.298]                 218\n",
              "(-0.298, -0.16]                  165\n",
              "(-0.16, -0.0223]                 214\n",
              "(-0.0223, 0.116]                 456\n",
              "(0.116, 0.253]                   322\n",
              "(0.253, 0.391]                   454\n",
              "(0.391, 0.529]                   367\n",
              "(0.529, 0.667]                   593\n",
              "(0.667, 0.805]                   594\n",
              "(0.805, 0.943]                   967\n",
              "(0.943, 1.081]                   824\n",
              "(1.081, 1.218]                   865\n",
              "(1.218, 1.356]                  1391\n",
              "(1.356, 1.494]                   925\n",
              "(1.494, 1.632]                  1080\n",
              "(1.632, 1.77]                   1243\n",
              "(1.77, 1.908]                   1804\n",
              "(1.908, 2.046]                  2052\n",
              "(2.046, 2.183]                  1415\n",
              "(2.183, 2.321]                  1253\n",
              "(2.321, 2.459]                   961\n",
              "(2.459, 2.597]                   919\n",
              "(2.597, 2.735]                   475\n",
              "(2.735, 2.873]                    89\n",
              "(2.873, 3.011]                   658\n",
              "(3.011, 3.148]                   166\n",
              "(3.148, 3.286]                     3\n",
              "(3.286, 3.424]                     0\n",
              "(3.424, 3.562]                     2\n",
              "(3.562, 3.7]                     106\n",
              "(3.7, 3.838]                       1\n",
              "(3.838, 3.976]                    21\n",
              "Name: count, dtype: int64"
            ]
          },
          "metadata": {},
          "execution_count": 94
        }
      ],
      "source": [
        "df_clean['mkad_km'].value_counts(bins=60, sort = False)"
      ]
    },
    {
      "cell_type": "code",
      "execution_count": null,
      "metadata": {
        "id": "dIlYSDm5YK9O"
      },
      "outputs": [],
      "source": [
        "df_clean.loc[df_clean['mkad_km'] < 0, 'mkad_km'] = np.NaN"
      ]
    },
    {
      "cell_type": "code",
      "execution_count": null,
      "metadata": {
        "id": "5lEu_dKEZrl6"
      },
      "outputs": [],
      "source": [
        "features_km = ['incineration_km', 'ttk_km', 'oil_chemistry_km', 'nuclear_reactor_km', 'power_transmission_line_km',\n",
        "               'market_shop_km', 'fitness_km', 'stadium_km', 'basketball_km', 'detention_facility_km', 'big_church_km',\n",
        "               'mosque_km', 'theater_km', 'exhibition_km', 'catering_km']"
      ]
    },
    {
      "cell_type": "code",
      "execution_count": null,
      "metadata": {
        "id": "8PePGAZnYhWf"
      },
      "outputs": [],
      "source": [
        "for feature in features_km:\n",
        "  df_clean.loc[df_clean[feature] < 0, feature] = np.NaN"
      ]
    },
    {
      "cell_type": "code",
      "execution_count": null,
      "metadata": {
        "id": "fqmNL3JiKqAK"
      },
      "outputs": [],
      "source": [
        "Q1 = df_clean.quantile(0.05)\n",
        "Q3 = df_clean.quantile(0.95)\n",
        "IQR = Q3 - Q1"
      ]
    },
    {
      "cell_type": "code",
      "execution_count": null,
      "metadata": {
        "colab": {
          "base_uri": "https://localhost:8080/"
        },
        "collapsed": true,
        "id": "wb2EV0MRKywv",
        "outputId": "19cd83d8-daba-4669-af96-9b9d4583313a"
      },
      "outputs": [
        {
          "output_type": "stream",
          "name": "stdout",
          "text": [
            "       full_sq  floor  build_year  num_room  kitch_sq  state  product_type  \\\n",
            "0        False  False       False     False     False  False         False   \n",
            "1        False  False       False     False     False  False         False   \n",
            "2        False  False       False     False     False  False         False   \n",
            "3        False  False       False     False     False  False         False   \n",
            "4        False  False       False     False     False  False         False   \n",
            "...        ...    ...         ...       ...       ...    ...           ...   \n",
            "21324    False  False       False     False     False  False         False   \n",
            "21325    False  False       False     False     False  False         False   \n",
            "21326    False  False       False     False     False  False         False   \n",
            "21327    False  False       False     False     False  False         False   \n",
            "21328    False  False       False     False     False  False         False   \n",
            "\n",
            "       raion_popul  indust_part  sport_objects_raion  ...  \\\n",
            "0            False        False                False  ...   \n",
            "1            False        False                False  ...   \n",
            "2            False        False                False  ...   \n",
            "3            False        False                False  ...   \n",
            "4            False        False                False  ...   \n",
            "...            ...          ...                  ...  ...   \n",
            "21324        False        False                False  ...   \n",
            "21325        False        False                False  ...   \n",
            "21326        False        False                False  ...   \n",
            "21327        False        False                False  ...   \n",
            "21328        False        False                False  ...   \n",
            "\n",
            "       cafe_count_1000_price_high  cafe_sum_1500_min_price_avg  \\\n",
            "0                           False                        False   \n",
            "1                           False                        False   \n",
            "2                           False                        False   \n",
            "3                           False                        False   \n",
            "4                           False                        False   \n",
            "...                           ...                          ...   \n",
            "21324                       False                        False   \n",
            "21325                       False                        False   \n",
            "21326                       False                        False   \n",
            "21327                       False                        False   \n",
            "21328                       False                        False   \n",
            "\n",
            "       green_part_2000  cafe_sum_2000_min_price_avg  mosque_count_3000  \\\n",
            "0                False                        False              False   \n",
            "1                False                        False              False   \n",
            "2                False                        False              False   \n",
            "3                False                        False              False   \n",
            "4                False                        False              False   \n",
            "...                ...                          ...                ...   \n",
            "21324            False                        False              False   \n",
            "21325            False                        False              False   \n",
            "21326            False                        False              False   \n",
            "21327            False                        False              False   \n",
            "21328            False                        False              False   \n",
            "\n",
            "       prom_part_5000  cafe_sum_5000_min_price_avg  mosque_count_5000   year  \\\n",
            "0               False                        False              False  False   \n",
            "1               False                        False              False  False   \n",
            "2               False                        False              False  False   \n",
            "3               False                        False              False  False   \n",
            "4               False                        False              False  False   \n",
            "...               ...                          ...                ...    ...   \n",
            "21324           False                        False              False  False   \n",
            "21325           False                        False              False  False   \n",
            "21326           False                        False              False  False   \n",
            "21327           False                        False              False  False   \n",
            "21328           False                        False              False  False   \n",
            "\n",
            "       price_doc  \n",
            "0          False  \n",
            "1          False  \n",
            "2          False  \n",
            "3          False  \n",
            "4          False  \n",
            "...          ...  \n",
            "21324      False  \n",
            "21325      False  \n",
            "21326      False  \n",
            "21327      False  \n",
            "21328      False  \n",
            "\n",
            "[21329 rows x 51 columns]\n"
          ]
        }
      ],
      "source": [
        "outliers = (df_clean < (Q1 - 1.8* IQR)) | (df_clean > (Q3 + 1.8 * IQR))\n",
        "print(outliers)"
      ]
    },
    {
      "cell_type": "code",
      "execution_count": null,
      "metadata": {
        "colab": {
          "base_uri": "https://localhost:8080/"
        },
        "collapsed": true,
        "id": "twfoz4g-98hY",
        "outputId": "6ba7a1d1-916d-456b-f54d-03642193a0b0"
      },
      "outputs": [
        {
          "output_type": "stream",
          "name": "stdout",
          "text": [
            "       full_sq  floor  build_year  num_room  kitch_sq  state  product_type  \\\n",
            "0         43.0   24.0      2014.0       1.0      10.0    1.0             1   \n",
            "1         66.0    3.0      1979.0       3.0      10.0    3.0             0   \n",
            "2         55.0    5.0      1979.0       2.0       6.0    2.0             0   \n",
            "3         45.0    7.0      1970.0       2.0       6.0    2.0             0   \n",
            "4         43.0    4.0      1968.0       2.0       6.0    2.0             0   \n",
            "...        ...    ...         ...       ...       ...    ...           ...   \n",
            "21324     56.0   19.0      1979.0       2.0       1.0    1.0             1   \n",
            "21325     42.0    5.0      1977.0       1.0       8.0    3.0             0   \n",
            "21326     32.0    3.0      1979.0       2.0       6.0    2.0             0   \n",
            "21327     43.0    4.0      1969.0       2.0       5.0    2.0             0   \n",
            "21328     32.0    1.0      1979.0       2.0       6.0    2.0             0   \n",
            "\n",
            "       raion_popul  indust_part  sport_objects_raion  ...  \\\n",
            "0         8.294300     0.007122                    0  ...   \n",
            "1        11.314231     0.232205                    4  ...   \n",
            "2        11.718817     0.000170                    5  ...   \n",
            "3        11.331032     0.428826                    4  ...   \n",
            "4        11.538769     0.136330                    6  ...   \n",
            "...            ...          ...                  ...  ...   \n",
            "21324    11.655744     0.049637                    6  ...   \n",
            "21325    11.718817     0.000170                    5  ...   \n",
            "21326    11.719940     0.000000                    4  ...   \n",
            "21327    11.331032     0.428826                    4  ...   \n",
            "21328    11.793198     0.130618                   12  ...   \n",
            "\n",
            "       cafe_count_1000_price_high  cafe_sum_1500_min_price_avg  \\\n",
            "0                               0                     6.907755   \n",
            "1                               0                     6.626122   \n",
            "2                               0                     6.368753   \n",
            "3                               0                     6.753601   \n",
            "4                               0                     6.636603   \n",
            "...                           ...                          ...   \n",
            "21324                           0                     6.492240   \n",
            "21325                           0                     6.502295   \n",
            "21326                           0                     6.572814   \n",
            "21327                           0                     6.586172   \n",
            "21328                           0                     6.536692   \n",
            "\n",
            "       green_part_2000  cafe_sum_2000_min_price_avg  mosque_count_3000  \\\n",
            "0             3.710396                     6.725430                  0   \n",
            "1             2.764431                     6.479615                  1   \n",
            "2             3.511844                     6.192138                  0   \n",
            "3             1.814825                     6.551080                  0   \n",
            "4             2.257588                     6.646507                  1   \n",
            "...                ...                          ...                ...   \n",
            "21324         2.711378                     6.816188                  0   \n",
            "21325         3.802208                     6.291569                  0   \n",
            "21326         3.062456                     6.583520                  1   \n",
            "21327         2.408745                     6.563982                  0   \n",
            "21328         1.726332                     6.543538                  0   \n",
            "\n",
            "       prom_part_5000  cafe_sum_5000_min_price_avg  mosque_count_5000  year  \\\n",
            "0            1.803359                     6.616560                  0  2014   \n",
            "1            2.631169                     6.469948                  1  2013   \n",
            "2            1.363537                     6.462171                  0  2012   \n",
            "3            2.732418                     6.458229                  0  2014   \n",
            "4            2.020222                     6.634778                  2  2014   \n",
            "...               ...                          ...                ...   ...   \n",
            "21324        3.297317                     6.536155                  0  2014   \n",
            "21325        1.442202                     6.487684                  0  2014   \n",
            "21326        2.733718                     6.573904                  2  2011   \n",
            "21327        3.034953                     6.476311                  0  2013   \n",
            "21328        2.204972                     6.817097                  0  2013   \n",
            "\n",
            "       price_doc  \n",
            "0        5533460  \n",
            "1        9900000  \n",
            "2        1990000  \n",
            "3        6500000  \n",
            "4        8500000  \n",
            "...          ...  \n",
            "21324   10159562  \n",
            "21325    5100000  \n",
            "21326    4800000  \n",
            "21327    6300000  \n",
            "21328    4800000  \n",
            "\n",
            "[20007 rows x 51 columns]\n"
          ]
        }
      ],
      "source": [
        "# Удаляем выбросы\n",
        "df_clean1 = df_clean[~outliers.any(axis=1)]\n",
        "print(df_clean1)"
      ]
    },
    {
      "cell_type": "markdown",
      "metadata": {
        "id": "sxtgd4niQLPO"
      },
      "source": [
        "# Обучение после удаления выбросов\n",
        "\n"
      ]
    },
    {
      "cell_type": "code",
      "execution_count": null,
      "metadata": {
        "colab": {
          "base_uri": "https://localhost:8080/"
        },
        "collapsed": true,
        "id": "A-KEgBFOP3s4",
        "outputId": "8cc28d8b-e30e-4372-8d2f-42e048e82e99"
      },
      "outputs": [
        {
          "output_type": "stream",
          "name": "stdout",
          "text": [
            "Requirement already satisfied: catboost in /usr/local/lib/python3.10/dist-packages (1.2.5)\n",
            "Requirement already satisfied: graphviz in /usr/local/lib/python3.10/dist-packages (from catboost) (0.20.3)\n",
            "Requirement already satisfied: matplotlib in /usr/local/lib/python3.10/dist-packages (from catboost) (3.7.1)\n",
            "Requirement already satisfied: numpy>=1.16.0 in /usr/local/lib/python3.10/dist-packages (from catboost) (1.25.2)\n",
            "Requirement already satisfied: pandas>=0.24 in /usr/local/lib/python3.10/dist-packages (from catboost) (2.0.3)\n",
            "Requirement already satisfied: scipy in /usr/local/lib/python3.10/dist-packages (from catboost) (1.11.4)\n",
            "Requirement already satisfied: plotly in /usr/local/lib/python3.10/dist-packages (from catboost) (5.15.0)\n",
            "Requirement already satisfied: six in /usr/local/lib/python3.10/dist-packages (from catboost) (1.16.0)\n",
            "Requirement already satisfied: python-dateutil>=2.8.2 in /usr/local/lib/python3.10/dist-packages (from pandas>=0.24->catboost) (2.8.2)\n",
            "Requirement already satisfied: pytz>=2020.1 in /usr/local/lib/python3.10/dist-packages (from pandas>=0.24->catboost) (2023.4)\n",
            "Requirement already satisfied: tzdata>=2022.1 in /usr/local/lib/python3.10/dist-packages (from pandas>=0.24->catboost) (2024.1)\n",
            "Requirement already satisfied: contourpy>=1.0.1 in /usr/local/lib/python3.10/dist-packages (from matplotlib->catboost) (1.2.1)\n",
            "Requirement already satisfied: cycler>=0.10 in /usr/local/lib/python3.10/dist-packages (from matplotlib->catboost) (0.12.1)\n",
            "Requirement already satisfied: fonttools>=4.22.0 in /usr/local/lib/python3.10/dist-packages (from matplotlib->catboost) (4.53.0)\n",
            "Requirement already satisfied: kiwisolver>=1.0.1 in /usr/local/lib/python3.10/dist-packages (from matplotlib->catboost) (1.4.5)\n",
            "Requirement already satisfied: packaging>=20.0 in /usr/local/lib/python3.10/dist-packages (from matplotlib->catboost) (24.1)\n",
            "Requirement already satisfied: pillow>=6.2.0 in /usr/local/lib/python3.10/dist-packages (from matplotlib->catboost) (9.4.0)\n",
            "Requirement already satisfied: pyparsing>=2.3.1 in /usr/local/lib/python3.10/dist-packages (from matplotlib->catboost) (3.1.2)\n",
            "Requirement already satisfied: tenacity>=6.2.0 in /usr/local/lib/python3.10/dist-packages (from plotly->catboost) (8.4.2)\n"
          ]
        }
      ],
      "source": [
        "pip install catboost"
      ]
    },
    {
      "cell_type": "code",
      "execution_count": null,
      "metadata": {
        "id": "L6fY3cHVNjV-"
      },
      "outputs": [],
      "source": [
        "from catboost import CatBoostRegressor, Pool\n",
        "from sklearn.model_selection import train_test_split\n",
        "from sklearn.metrics import mean_absolute_error, mean_squared_error, r2_score\n",
        "import numpy as np"
      ]
    },
    {
      "cell_type": "code",
      "execution_count": null,
      "metadata": {
        "colab": {
          "base_uri": "https://localhost:8080/",
          "height": 330,
          "referenced_widgets": [
            "d591f64f8ee1404096e72f2d162cc361"
          ]
        },
        "id": "Z4wizAIGQSCG",
        "outputId": "165ce0cf-7b5b-4922-e21f-ec01963c833a"
      },
      "outputs": [
        {
          "output_type": "display_data",
          "data": {
            "text/plain": [
              "MetricVisualizer(layout=Layout(align_self='stretch', height='500px'))"
            ],
            "application/vnd.jupyter.widget-view+json": {
              "version_major": 2,
              "version_minor": 0,
              "model_id": "d591f64f8ee1404096e72f2d162cc361"
            }
          },
          "metadata": {}
        },
        {
          "output_type": "stream",
          "name": "stdout",
          "text": [
            "0:\tlearn: 3675244.7672441\ttest: 3636320.6978944\tbest: 3636320.6978944 (0)\ttotal: 19.2ms\tremaining: 19.1s\n",
            "100:\tlearn: 2067693.0078466\ttest: 2288220.9831321\tbest: 2288220.9831321 (100)\ttotal: 1.83s\tremaining: 16.3s\n",
            "200:\tlearn: 1896272.7324903\ttest: 2248953.3798597\tbest: 2248836.7107400 (186)\ttotal: 4.59s\tremaining: 18.2s\n",
            "300:\tlearn: 1773494.7531558\ttest: 2236303.0322157\tbest: 2234977.3861940 (294)\ttotal: 8.69s\tremaining: 20.2s\n",
            "400:\tlearn: 1678673.2119709\ttest: 2229520.8603525\tbest: 2229333.1280337 (399)\ttotal: 12.6s\tremaining: 18.9s\n",
            "500:\tlearn: 1596768.5233221\ttest: 2228871.6901724\tbest: 2226203.4068177 (435)\ttotal: 15.6s\tremaining: 15.6s\n",
            "600:\tlearn: 1526720.8754890\ttest: 2228707.9151937\tbest: 2226203.4068177 (435)\ttotal: 18.7s\tremaining: 12.4s\n",
            "700:\tlearn: 1469303.3060079\ttest: 2226967.1982004\tbest: 2225523.6637890 (687)\ttotal: 22.4s\tremaining: 9.54s\n",
            "800:\tlearn: 1414316.7271354\ttest: 2230330.2086748\tbest: 2225523.6637890 (687)\ttotal: 25.2s\tremaining: 6.26s\n",
            "900:\tlearn: 1368622.1009504\ttest: 2229121.1640535\tbest: 2225523.6637890 (687)\ttotal: 26.9s\tremaining: 2.96s\n",
            "999:\tlearn: 1324200.1390351\ttest: 2233648.9941929\tbest: 2225523.6637890 (687)\ttotal: 28.3s\tremaining: 0us\n",
            "\n",
            "bestTest = 2225523.664\n",
            "bestIteration = 687\n",
            "\n",
            "Shrink model to first 688 iterations.\n",
            "CatBoostRegressor - Корень из среднеквадратичной ошибки (RMSE): 2225523.66\n",
            "CatBoostRegressor - Коэффициент детерминации (R^2): 0.66\n"
          ]
        }
      ],
      "source": [
        "# Отделение целевой переменной\n",
        "X = df_clean1.drop(columns=['price_doc'])\n",
        "y = df_clean1['price_doc']\n",
        "\n",
        "# Разделение данных на тренировочную и тестовую выборки\n",
        "X_train, X_test, y_train, y_test = train_test_split(X, y, test_size=0.2, random_state=42)\n",
        "\n",
        "# Создание и обучение модели CatBoost\n",
        "model = CatBoostRegressor(iterations=1000, learning_rate=0.1, depth=6, loss_function='RMSE', verbose=100)\n",
        "model.fit(X_train, y_train, eval_set=(X_test, y_test), use_best_model=True, plot=True)\n",
        "\n",
        "# Предсказание и оценка модели\n",
        "y_pred = model.predict(X_test)\n",
        "\n",
        "mse_rf = mean_squared_error(y_test, y_pred)\n",
        "rmse_rf = np.sqrt(mse_rf)\n",
        "rmse_rf = np.sqrt(mse_rf)\n",
        "r2_rf = r2_score(y_test, y_pred)\n",
        "\n",
        "print(f\"CatBoostRegressor - Корень из среднеквадратичной ошибки (RMSE): {rmse_rf:.2f}\")\n",
        "print(f\"CatBoostRegressor - Коэффициент детерминации (R^2): {r2_rf:.2f}\")"
      ]
    },
    {
      "cell_type": "markdown",
      "metadata": {
        "id": "l_zA1kDkQMl3"
      },
      "source": [
        "# Обучение до удаления выбросов"
      ]
    },
    {
      "cell_type": "code",
      "execution_count": null,
      "metadata": {
        "colab": {
          "base_uri": "https://localhost:8080/",
          "height": 330,
          "referenced_widgets": [
            "fd0c698ff1fa4b099ef818bf72023196"
          ]
        },
        "id": "PCwbCARFNRPz",
        "outputId": "376c5a95-c3cf-4e9b-e82b-4fe8f12b6965"
      },
      "outputs": [
        {
          "output_type": "display_data",
          "data": {
            "text/plain": [
              "MetricVisualizer(layout=Layout(align_self='stretch', height='500px'))"
            ],
            "application/vnd.jupyter.widget-view+json": {
              "version_major": 2,
              "version_minor": 0,
              "model_id": "fd0c698ff1fa4b099ef818bf72023196"
            }
          },
          "metadata": {}
        },
        {
          "output_type": "stream",
          "name": "stdout",
          "text": [
            "0:\tlearn: 4428223.0956771\ttest: 4642681.6451153\tbest: 4642681.6451153 (0)\ttotal: 13.2ms\tremaining: 13.1s\n",
            "100:\tlearn: 2276468.2309663\ttest: 2591572.9122761\tbest: 2591572.9122761 (100)\ttotal: 1.83s\tremaining: 16.3s\n",
            "200:\tlearn: 2064325.8977974\ttest: 2530735.7929519\tbest: 2530735.7929519 (200)\ttotal: 4.88s\tremaining: 19.4s\n",
            "300:\tlearn: 1909746.8070085\ttest: 2507504.9567474\tbest: 2506826.3157609 (284)\ttotal: 8.75s\tremaining: 20.3s\n",
            "400:\tlearn: 1804300.9671911\ttest: 2503205.5982015\tbest: 2502935.5048347 (396)\ttotal: 13.2s\tremaining: 19.7s\n",
            "500:\tlearn: 1719357.3305719\ttest: 2509028.1284750\tbest: 2502935.5048347 (396)\ttotal: 17.2s\tremaining: 17.1s\n",
            "600:\tlearn: 1644722.4110307\ttest: 2513478.6568726\tbest: 2502935.5048347 (396)\ttotal: 21.6s\tremaining: 14.4s\n",
            "700:\tlearn: 1578111.4533364\ttest: 2514740.2121217\tbest: 2502935.5048347 (396)\ttotal: 28.1s\tremaining: 12s\n",
            "800:\tlearn: 1518462.2615028\ttest: 2518064.6765941\tbest: 2502935.5048347 (396)\ttotal: 30.4s\tremaining: 7.56s\n",
            "900:\tlearn: 1466062.3945152\ttest: 2516440.7795458\tbest: 2502935.5048347 (396)\ttotal: 31.9s\tremaining: 3.51s\n",
            "999:\tlearn: 1417187.9841083\ttest: 2515383.9739840\tbest: 2502935.5048347 (396)\ttotal: 33.2s\tremaining: 0us\n",
            "\n",
            "bestTest = 2502935.505\n",
            "bestIteration = 396\n",
            "\n",
            "Shrink model to first 397 iterations.\n",
            "CatBoostRegressor - Корень из среднеквадратичной ошибки (RMSE): 2502935.50\n",
            "CatBoostRegressor - Коэффициент детерминации (R^2): 0.74\n"
          ]
        }
      ],
      "source": [
        "# Отделение целевой переменной\n",
        "X = df_clean.drop(columns=['price_doc'])\n",
        "y = df_clean['price_doc']\n",
        "\n",
        "# Разделение данных на тренировочную и тестовую выборки\n",
        "X_train, X_test, y_train, y_test = train_test_split(X, y, test_size=0.2, random_state=42)\n",
        "\n",
        "# Создание и обучение модели CatBoost\n",
        "model = CatBoostRegressor(iterations=1000, learning_rate=0.1, depth=6, loss_function='RMSE', verbose=100)\n",
        "model.fit(X_train, y_train, eval_set=(X_test, y_test), use_best_model=True, plot=True)\n",
        "\n",
        "# Предсказание и оценка модели\n",
        "y_pred = model.predict(X_test)\n",
        "\n",
        "mse_rf = mean_squared_error(y_test, y_pred)\n",
        "rmse_rf = np.sqrt(mse_rf)\n",
        "rmse_rf = np.sqrt(mse_rf)\n",
        "r2_rf = r2_score(y_test, y_pred)\n",
        "\n",
        "print(f\"CatBoostRegressor - Корень из среднеквадратичной ошибки (RMSE): {rmse_rf:.2f}\")\n",
        "print(f\"CatBoostRegressor - Коэффициент детерминации (R^2): {r2_rf:.2f}\")"
      ]
    },
    {
      "cell_type": "code",
      "execution_count": null,
      "metadata": {
        "id": "_OEWH138RiOa"
      },
      "outputs": [],
      "source": [
        "submission = pd.read_csv('./gdrive/MyDrive/SHIFT_SUMMER/submission.csv', index_col=0)"
      ]
    },
    {
      "cell_type": "code",
      "execution_count": null,
      "metadata": {
        "colab": {
          "base_uri": "https://localhost:8080/"
        },
        "id": "9Oxs3I-8Rldq",
        "outputId": "3e6688ff-8817-4e35-c803-8d929105c12b"
      },
      "outputs": [
        {
          "output_type": "stream",
          "name": "stdout",
          "text": [
            "9142\n",
            "(9142, 1)\n"
          ]
        }
      ],
      "source": [
        "test_df = pd.read_csv('./gdrive/MyDrive/SHIFT_SUMMER/test.csv', index_col=0)\n",
        "\n",
        "test_preds = model.predict(test_df[X.columns])\n",
        "submission['price_doc'] = test_preds\n",
        "print(len(test_preds))\n",
        "print(submission.shape)\n",
        "submission.to_csv('./gdrive/MyDrive/SHIFT_SUMMER/submission.csv')"
      ]
    },
    {
      "cell_type": "markdown",
      "source": [
        "# Выводы"
      ],
      "metadata": {
        "id": "ychxpGocT-Xj"
      }
    },
    {
      "cell_type": "markdown",
      "metadata": {
        "id": "KP_zuY3MR_OA"
      },
      "source": [
        "В результате мы получили, что модель, обученная на предобработанных данных до удаления выбросов, показывает лучший результат по сравнению с моделью, использующей данных после удаления выбросов."
      ]
    }
  ],
  "metadata": {
    "colab": {
      "provenance": []
    },
    "kernelspec": {
      "display_name": "Python 3",
      "name": "python3"
    },
    "language_info": {
      "name": "python"
    },
    "widgets": {
      "application/vnd.jupyter.widget-state+json": {
        "d591f64f8ee1404096e72f2d162cc361": {
          "model_module": "catboost-widget",
          "model_name": "CatboostWidgetModel",
          "model_module_version": "^1.0.0",
          "state": {
            "_dom_classes": [],
            "_model_module": "catboost-widget",
            "_model_module_version": "^1.0.0",
            "_model_name": "CatboostWidgetModel",
            "_view_count": null,
            "_view_module": "catboost-widget",
            "_view_module_version": "^1.0.0",
            "_view_name": "CatboostWidgetView",
            "data": {
              "catboost_info": {
                "path": "catboost_info",
                "name": "catboost_info",
                "content": {
                  "passed_iterations": 999,
                  "total_iterations": 1000,
                  "data": {
                    "iterations": [
                      {
                        "learn": [
                          3675244.767
                        ],
                        "iteration": 0,
                        "passed_time": 0.01915786752,
                        "remaining_time": 19.13870965,
                        "test": [
                          3636320.698
                        ]
                      },
                      {
                        "learn": [
                          3507487.504
                        ],
                        "iteration": 1,
                        "passed_time": 0.03206345673,
                        "remaining_time": 15.99966491,
                        "test": [
                          3474901.821
                        ]
                      },
                      {
                        "learn": [
                          3358210.863
                        ],
                        "iteration": 2,
                        "passed_time": 0.04422218834,
                        "remaining_time": 14.69650726,
                        "test": [
                          3335281.803
                        ]
                      },
                      {
                        "learn": [
                          3231193.437
                        ],
                        "iteration": 3,
                        "passed_time": 0.05617900638,
                        "remaining_time": 13.98857259,
                        "test": [
                          3210351.476
                        ]
                      },
                      {
                        "learn": [
                          3117688.816
                        ],
                        "iteration": 4,
                        "passed_time": 0.06750029925,
                        "remaining_time": 13.43255955,
                        "test": [
                          3104949.445
                        ]
                      },
                      {
                        "learn": [
                          3019379.358
                        ],
                        "iteration": 5,
                        "passed_time": 0.07929073409,
                        "remaining_time": 13.13583161,
                        "test": [
                          3016263.858
                        ]
                      },
                      {
                        "learn": [
                          2939162.723
                        ],
                        "iteration": 6,
                        "passed_time": 0.09140058264,
                        "remaining_time": 12.96582551,
                        "test": [
                          2942292.522
                        ]
                      },
                      {
                        "learn": [
                          2871942.125
                        ],
                        "iteration": 7,
                        "passed_time": 0.1032536205,
                        "remaining_time": 12.80344894,
                        "test": [
                          2880244.505
                        ]
                      },
                      {
                        "learn": [
                          2808913.41
                        ],
                        "iteration": 8,
                        "passed_time": 0.1146653854,
                        "remaining_time": 12.62593299,
                        "test": [
                          2822660.163
                        ]
                      },
                      {
                        "learn": [
                          2752634.787
                        ],
                        "iteration": 9,
                        "passed_time": 0.1264471389,
                        "remaining_time": 12.51826675,
                        "test": [
                          2772460.486
                        ]
                      },
                      {
                        "learn": [
                          2702193.408
                        ],
                        "iteration": 10,
                        "passed_time": 0.1382609555,
                        "remaining_time": 12.43091682,
                        "test": [
                          2730890.516
                        ]
                      },
                      {
                        "learn": [
                          2659000.794
                        ],
                        "iteration": 11,
                        "passed_time": 0.1511903365,
                        "remaining_time": 12.44800437,
                        "test": [
                          2690444.055
                        ]
                      },
                      {
                        "learn": [
                          2621299.022
                        ],
                        "iteration": 12,
                        "passed_time": 0.1633735157,
                        "remaining_time": 12.40382,
                        "test": [
                          2657930.368
                        ]
                      },
                      {
                        "learn": [
                          2589086.211
                        ],
                        "iteration": 13,
                        "passed_time": 0.1747479353,
                        "remaining_time": 12.30724744,
                        "test": [
                          2631017.423
                        ]
                      },
                      {
                        "learn": [
                          2560728.169
                        ],
                        "iteration": 14,
                        "passed_time": 0.18657166,
                        "remaining_time": 12.25153901,
                        "test": [
                          2607857.572
                        ]
                      },
                      {
                        "learn": [
                          2534198.015
                        ],
                        "iteration": 15,
                        "passed_time": 0.198265491,
                        "remaining_time": 12.1933277,
                        "test": [
                          2585892.254
                        ]
                      },
                      {
                        "learn": [
                          2508310.43
                        ],
                        "iteration": 16,
                        "passed_time": 0.2100041578,
                        "remaining_time": 12.1431816,
                        "test": [
                          2564504.142
                        ]
                      },
                      {
                        "learn": [
                          2488791.687
                        ],
                        "iteration": 17,
                        "passed_time": 0.224267729,
                        "remaining_time": 12.23505055,
                        "test": [
                          2550304.826
                        ]
                      },
                      {
                        "learn": [
                          2471517.351
                        ],
                        "iteration": 18,
                        "passed_time": 0.2359426227,
                        "remaining_time": 12.18209015,
                        "test": [
                          2537930.766
                        ]
                      },
                      {
                        "learn": [
                          2457557.41
                        ],
                        "iteration": 19,
                        "passed_time": 0.2469964568,
                        "remaining_time": 12.10282638,
                        "test": [
                          2528164.623
                        ]
                      },
                      {
                        "learn": [
                          2441745.762
                        ],
                        "iteration": 20,
                        "passed_time": 0.2587218631,
                        "remaining_time": 12.06136686,
                        "test": [
                          2516116.284
                        ]
                      },
                      {
                        "learn": [
                          2424076.48
                        ],
                        "iteration": 21,
                        "passed_time": 0.2703091017,
                        "remaining_time": 12.01646825,
                        "test": [
                          2505578.476
                        ]
                      },
                      {
                        "learn": [
                          2409478.949
                        ],
                        "iteration": 22,
                        "passed_time": 0.2860571053,
                        "remaining_time": 12.15120834,
                        "test": [
                          2496965.777
                        ]
                      },
                      {
                        "learn": [
                          2395516.59
                        ],
                        "iteration": 23,
                        "passed_time": 0.2980603069,
                        "remaining_time": 12.12111915,
                        "test": [
                          2486052.91
                        ]
                      },
                      {
                        "learn": [
                          2384175.836
                        ],
                        "iteration": 24,
                        "passed_time": 0.326522308,
                        "remaining_time": 12.73437001,
                        "test": [
                          2480253.555
                        ]
                      },
                      {
                        "learn": [
                          2372141.637
                        ],
                        "iteration": 25,
                        "passed_time": 0.3581021841,
                        "remaining_time": 13.41505874,
                        "test": [
                          2471395.913
                        ]
                      },
                      {
                        "learn": [
                          2361976.165
                        ],
                        "iteration": 26,
                        "passed_time": 0.3849144509,
                        "remaining_time": 13.87117632,
                        "test": [
                          2464516.924
                        ]
                      },
                      {
                        "learn": [
                          2353162.752
                        ],
                        "iteration": 27,
                        "passed_time": 0.409710591,
                        "remaining_time": 14.22281052,
                        "test": [
                          2458545.982
                        ]
                      },
                      {
                        "learn": [
                          2343089.006
                        ],
                        "iteration": 28,
                        "passed_time": 0.4383551657,
                        "remaining_time": 14.6773402,
                        "test": [
                          2453457.032
                        ]
                      },
                      {
                        "learn": [
                          2334990.583
                        ],
                        "iteration": 29,
                        "passed_time": 0.4603158264,
                        "remaining_time": 14.88354505,
                        "test": [
                          2448284.827
                        ]
                      },
                      {
                        "learn": [
                          2326508.007
                        ],
                        "iteration": 30,
                        "passed_time": 0.488259127,
                        "remaining_time": 15.26203529,
                        "test": [
                          2443754.5
                        ]
                      },
                      {
                        "learn": [
                          2317062.086
                        ],
                        "iteration": 31,
                        "passed_time": 0.5181835571,
                        "remaining_time": 15.6750526,
                        "test": [
                          2436215.264
                        ]
                      },
                      {
                        "learn": [
                          2309186.733
                        ],
                        "iteration": 32,
                        "passed_time": 0.543195813,
                        "remaining_time": 15.91728337,
                        "test": [
                          2431532.675
                        ]
                      },
                      {
                        "learn": [
                          2300842.899
                        ],
                        "iteration": 33,
                        "passed_time": 0.5556797174,
                        "remaining_time": 15.78784138,
                        "test": [
                          2423780.924
                        ]
                      },
                      {
                        "learn": [
                          2288892.685
                        ],
                        "iteration": 34,
                        "passed_time": 0.5672404242,
                        "remaining_time": 15.63962884,
                        "test": [
                          2415868.142
                        ]
                      },
                      {
                        "learn": [
                          2279822.014
                        ],
                        "iteration": 35,
                        "passed_time": 0.578613037,
                        "remaining_time": 15.49397132,
                        "test": [
                          2409796.678
                        ]
                      },
                      {
                        "learn": [
                          2273951.903
                        ],
                        "iteration": 36,
                        "passed_time": 0.590296713,
                        "remaining_time": 15.3636685,
                        "test": [
                          2405842.673
                        ]
                      },
                      {
                        "learn": [
                          2268495.793
                        ],
                        "iteration": 37,
                        "passed_time": 0.602296175,
                        "remaining_time": 15.24760317,
                        "test": [
                          2402453.442
                        ]
                      },
                      {
                        "learn": [
                          2264850.052
                        ],
                        "iteration": 38,
                        "passed_time": 0.613759802,
                        "remaining_time": 15.12367102,
                        "test": [
                          2401081.727
                        ]
                      },
                      {
                        "learn": [
                          2261522.009
                        ],
                        "iteration": 39,
                        "passed_time": 0.6253671992,
                        "remaining_time": 15.00881278,
                        "test": [
                          2398816.223
                        ]
                      },
                      {
                        "learn": [
                          2256335.319
                        ],
                        "iteration": 40,
                        "passed_time": 0.6421239166,
                        "remaining_time": 15.01943502,
                        "test": [
                          2394723.011
                        ]
                      },
                      {
                        "learn": [
                          2252262.039
                        ],
                        "iteration": 41,
                        "passed_time": 0.6579953481,
                        "remaining_time": 15.00856056,
                        "test": [
                          2394002.564
                        ]
                      },
                      {
                        "learn": [
                          2246603.122
                        ],
                        "iteration": 42,
                        "passed_time": 0.6759290429,
                        "remaining_time": 15.04335102,
                        "test": [
                          2389042.732
                        ]
                      },
                      {
                        "learn": [
                          2239859.536
                        ],
                        "iteration": 43,
                        "passed_time": 0.6873180369,
                        "remaining_time": 14.93354644,
                        "test": [
                          2383910.437
                        ]
                      },
                      {
                        "learn": [
                          2235004.046
                        ],
                        "iteration": 44,
                        "passed_time": 0.6989113636,
                        "remaining_time": 14.83245227,
                        "test": [
                          2379153.313
                        ]
                      },
                      {
                        "learn": [
                          2230700.474
                        ],
                        "iteration": 45,
                        "passed_time": 0.7108752721,
                        "remaining_time": 14.74293499,
                        "test": [
                          2376687.737
                        ]
                      },
                      {
                        "learn": [
                          2226019.992
                        ],
                        "iteration": 46,
                        "passed_time": 0.7376899588,
                        "remaining_time": 14.95784108,
                        "test": [
                          2375830.693
                        ]
                      },
                      {
                        "learn": [
                          2218611.182
                        ],
                        "iteration": 47,
                        "passed_time": 0.7647191277,
                        "remaining_time": 15.16692937,
                        "test": [
                          2369275.072
                        ]
                      },
                      {
                        "learn": [
                          2212927.288
                        ],
                        "iteration": 48,
                        "passed_time": 0.7838486308,
                        "remaining_time": 15.2130622,
                        "test": [
                          2365555.958
                        ]
                      },
                      {
                        "learn": [
                          2209667.964
                        ],
                        "iteration": 49,
                        "passed_time": 0.7997895208,
                        "remaining_time": 15.19600089,
                        "test": [
                          2362054.143
                        ]
                      },
                      {
                        "learn": [
                          2203388.673
                        ],
                        "iteration": 50,
                        "passed_time": 0.8224284288,
                        "remaining_time": 15.30361919,
                        "test": [
                          2355826.983
                        ]
                      },
                      {
                        "learn": [
                          2200261.868
                        ],
                        "iteration": 51,
                        "passed_time": 0.8496478604,
                        "remaining_time": 15.48973407,
                        "test": [
                          2353058.767
                        ]
                      },
                      {
                        "learn": [
                          2195286.45
                        ],
                        "iteration": 52,
                        "passed_time": 0.880173782,
                        "remaining_time": 15.72687871,
                        "test": [
                          2349266.065
                        ]
                      },
                      {
                        "learn": [
                          2189675.694
                        ],
                        "iteration": 53,
                        "passed_time": 0.8976998465,
                        "remaining_time": 15.72637138,
                        "test": [
                          2347327.915
                        ]
                      },
                      {
                        "learn": [
                          2186623.152
                        ],
                        "iteration": 54,
                        "passed_time": 0.9322037178,
                        "remaining_time": 16.01695479,
                        "test": [
                          2345026.354
                        ]
                      },
                      {
                        "learn": [
                          2184299.12
                        ],
                        "iteration": 55,
                        "passed_time": 0.9611205254,
                        "remaining_time": 16.201746,
                        "test": [
                          2343991.688
                        ]
                      },
                      {
                        "learn": [
                          2181646.391
                        ],
                        "iteration": 56,
                        "passed_time": 0.9908057656,
                        "remaining_time": 16.39175153,
                        "test": [
                          2342224.335
                        ]
                      },
                      {
                        "learn": [
                          2179273.278
                        ],
                        "iteration": 57,
                        "passed_time": 1.022178223,
                        "remaining_time": 16.60158424,
                        "test": [
                          2341339.072
                        ]
                      },
                      {
                        "learn": [
                          2176842.71
                        ],
                        "iteration": 58,
                        "passed_time": 1.05001347,
                        "remaining_time": 16.74682501,
                        "test": [
                          2339581.789
                        ]
                      },
                      {
                        "learn": [
                          2172967.585
                        ],
                        "iteration": 59,
                        "passed_time": 1.082601405,
                        "remaining_time": 16.96075534,
                        "test": [
                          2339010.759
                        ]
                      },
                      {
                        "learn": [
                          2167292.065
                        ],
                        "iteration": 60,
                        "passed_time": 1.117530125,
                        "remaining_time": 17.20263585,
                        "test": [
                          2335591.731
                        ]
                      },
                      {
                        "learn": [
                          2164080.07
                        ],
                        "iteration": 61,
                        "passed_time": 1.148034805,
                        "remaining_time": 17.36865561,
                        "test": [
                          2333683.656
                        ]
                      },
                      {
                        "learn": [
                          2160091.973
                        ],
                        "iteration": 62,
                        "passed_time": 1.162832553,
                        "remaining_time": 17.29482701,
                        "test": [
                          2332171.437
                        ]
                      },
                      {
                        "learn": [
                          2157945.793
                        ],
                        "iteration": 63,
                        "passed_time": 1.17450127,
                        "remaining_time": 17.17708107,
                        "test": [
                          2331271.152
                        ]
                      },
                      {
                        "learn": [
                          2154513.873
                        ],
                        "iteration": 64,
                        "passed_time": 1.185918635,
                        "remaining_time": 17.05898344,
                        "test": [
                          2327101.257
                        ]
                      },
                      {
                        "learn": [
                          2149371.873
                        ],
                        "iteration": 65,
                        "passed_time": 1.197584285,
                        "remaining_time": 16.94763216,
                        "test": [
                          2323727.688
                        ]
                      },
                      {
                        "learn": [
                          2146818.164
                        ],
                        "iteration": 66,
                        "passed_time": 1.208794646,
                        "remaining_time": 16.83291649,
                        "test": [
                          2324082.256
                        ]
                      },
                      {
                        "learn": [
                          2144990.854
                        ],
                        "iteration": 67,
                        "passed_time": 1.219835602,
                        "remaining_time": 16.71892325,
                        "test": [
                          2322740.95
                        ]
                      },
                      {
                        "learn": [
                          2142759.568
                        ],
                        "iteration": 68,
                        "passed_time": 1.231045632,
                        "remaining_time": 16.61019541,
                        "test": [
                          2322616.822
                        ]
                      },
                      {
                        "learn": [
                          2140120.994
                        ],
                        "iteration": 69,
                        "passed_time": 1.241823025,
                        "remaining_time": 16.4985059,
                        "test": [
                          2321159.743
                        ]
                      },
                      {
                        "learn": [
                          2138022.951
                        ],
                        "iteration": 70,
                        "passed_time": 1.252894082,
                        "remaining_time": 16.39350144,
                        "test": [
                          2319549.833
                        ]
                      },
                      {
                        "learn": [
                          2135884.431
                        ],
                        "iteration": 71,
                        "passed_time": 1.263883952,
                        "remaining_time": 16.29005982,
                        "test": [
                          2319831.418
                        ]
                      },
                      {
                        "learn": [
                          2133187.647
                        ],
                        "iteration": 72,
                        "passed_time": 1.274304323,
                        "remaining_time": 16.18191927,
                        "test": [
                          2318949.615
                        ]
                      },
                      {
                        "learn": [
                          2128361.679
                        ],
                        "iteration": 73,
                        "passed_time": 1.28518551,
                        "remaining_time": 16.08218625,
                        "test": [
                          2316460.535
                        ]
                      },
                      {
                        "learn": [
                          2123649.721
                        ],
                        "iteration": 74,
                        "passed_time": 1.296662485,
                        "remaining_time": 15.99217065,
                        "test": [
                          2314224.161
                        ]
                      },
                      {
                        "learn": [
                          2119531.057
                        ],
                        "iteration": 75,
                        "passed_time": 1.308346105,
                        "remaining_time": 15.90673422,
                        "test": [
                          2310756.835
                        ]
                      },
                      {
                        "learn": [
                          2117726.503
                        ],
                        "iteration": 76,
                        "passed_time": 1.319908695,
                        "remaining_time": 15.82176267,
                        "test": [
                          2309877.648
                        ]
                      },
                      {
                        "learn": [
                          2115733.363
                        ],
                        "iteration": 77,
                        "passed_time": 1.341215431,
                        "remaining_time": 15.8538542,
                        "test": [
                          2310006.614
                        ]
                      },
                      {
                        "learn": [
                          2113799.647
                        ],
                        "iteration": 78,
                        "passed_time": 1.371337226,
                        "remaining_time": 15.98736183,
                        "test": [
                          2309649.825
                        ]
                      },
                      {
                        "learn": [
                          2112100.05
                        ],
                        "iteration": 79,
                        "passed_time": 1.400955904,
                        "remaining_time": 16.1109929,
                        "test": [
                          2309022.561
                        ]
                      },
                      {
                        "learn": [
                          2109502.333
                        ],
                        "iteration": 80,
                        "passed_time": 1.433170095,
                        "remaining_time": 16.26028787,
                        "test": [
                          2308991.937
                        ]
                      },
                      {
                        "learn": [
                          2108113.674
                        ],
                        "iteration": 81,
                        "passed_time": 1.461190909,
                        "remaining_time": 16.35821042,
                        "test": [
                          2308297.24
                        ]
                      },
                      {
                        "learn": [
                          2106246.321
                        ],
                        "iteration": 82,
                        "passed_time": 1.493022951,
                        "remaining_time": 16.49520537,
                        "test": [
                          2306927.049
                        ]
                      },
                      {
                        "learn": [
                          2102923.013
                        ],
                        "iteration": 83,
                        "passed_time": 1.522151459,
                        "remaining_time": 16.59869925,
                        "test": [
                          2305951.683
                        ]
                      },
                      {
                        "learn": [
                          2099531.243
                        ],
                        "iteration": 84,
                        "passed_time": 1.549987598,
                        "remaining_time": 16.68516061,
                        "test": [
                          2304691.8
                        ]
                      },
                      {
                        "learn": [
                          2097453.767
                        ],
                        "iteration": 85,
                        "passed_time": 1.579107139,
                        "remaining_time": 16.78260378,
                        "test": [
                          2303858.682
                        ]
                      },
                      {
                        "learn": [
                          2096155.271
                        ],
                        "iteration": 86,
                        "passed_time": 1.608949101,
                        "remaining_time": 16.88471872,
                        "test": [
                          2303307.2
                        ]
                      },
                      {
                        "learn": [
                          2093915.068
                        ],
                        "iteration": 87,
                        "passed_time": 1.639340886,
                        "remaining_time": 16.98953281,
                        "test": [
                          2301233.52
                        ]
                      },
                      {
                        "learn": [
                          2092697.185
                        ],
                        "iteration": 88,
                        "passed_time": 1.669910678,
                        "remaining_time": 17.09313065,
                        "test": [
                          2300371.216
                        ]
                      },
                      {
                        "learn": [
                          2089216.615
                        ],
                        "iteration": 89,
                        "passed_time": 1.704474325,
                        "remaining_time": 17.23412929,
                        "test": [
                          2297791.349
                        ]
                      },
                      {
                        "learn": [
                          2087208.576
                        ],
                        "iteration": 90,
                        "passed_time": 1.717678586,
                        "remaining_time": 17.15791027,
                        "test": [
                          2297382.193
                        ]
                      },
                      {
                        "learn": [
                          2085299.227
                        ],
                        "iteration": 91,
                        "passed_time": 1.731075336,
                        "remaining_time": 17.08496093,
                        "test": [
                          2296428.993
                        ]
                      },
                      {
                        "learn": [
                          2082942.265
                        ],
                        "iteration": 92,
                        "passed_time": 1.744792409,
                        "remaining_time": 17.01641629,
                        "test": [
                          2295501.454
                        ]
                      },
                      {
                        "learn": [
                          2080696.09
                        ],
                        "iteration": 93,
                        "passed_time": 1.755856374,
                        "remaining_time": 16.92346675,
                        "test": [
                          2294487.641
                        ]
                      },
                      {
                        "learn": [
                          2079553.047
                        ],
                        "iteration": 94,
                        "passed_time": 1.766386636,
                        "remaining_time": 16.8271569,
                        "test": [
                          2294052.848
                        ]
                      },
                      {
                        "learn": [
                          2078200.017
                        ],
                        "iteration": 95,
                        "passed_time": 1.777283081,
                        "remaining_time": 16.73608235,
                        "test": [
                          2292579.208
                        ]
                      },
                      {
                        "learn": [
                          2076170.342
                        ],
                        "iteration": 96,
                        "passed_time": 1.788361111,
                        "remaining_time": 16.64835137,
                        "test": [
                          2293735.646
                        ]
                      },
                      {
                        "learn": [
                          2074264.435
                        ],
                        "iteration": 97,
                        "passed_time": 1.799443998,
                        "remaining_time": 16.56222945,
                        "test": [
                          2292504.845
                        ]
                      },
                      {
                        "learn": [
                          2072758.329
                        ],
                        "iteration": 98,
                        "passed_time": 1.812287572,
                        "remaining_time": 16.4936475,
                        "test": [
                          2292179.007
                        ]
                      },
                      {
                        "learn": [
                          2069528.483
                        ],
                        "iteration": 99,
                        "passed_time": 1.823414597,
                        "remaining_time": 16.41073137,
                        "test": [
                          2289605.168
                        ]
                      },
                      {
                        "learn": [
                          2067693.008
                        ],
                        "iteration": 100,
                        "passed_time": 1.834588704,
                        "remaining_time": 16.32965589,
                        "test": [
                          2288220.983
                        ]
                      },
                      {
                        "learn": [
                          2067180.405
                        ],
                        "iteration": 101,
                        "passed_time": 1.846310719,
                        "remaining_time": 16.25477476,
                        "test": [
                          2288274.965
                        ]
                      },
                      {
                        "learn": [
                          2066575.57
                        ],
                        "iteration": 102,
                        "passed_time": 1.856793937,
                        "remaining_time": 16.17033166,
                        "test": [
                          2288214.078
                        ]
                      },
                      {
                        "learn": [
                          2064682.3
                        ],
                        "iteration": 103,
                        "passed_time": 1.868183466,
                        "remaining_time": 16.09511909,
                        "test": [
                          2288471.496
                        ]
                      },
                      {
                        "learn": [
                          2062328.967
                        ],
                        "iteration": 104,
                        "passed_time": 1.879176345,
                        "remaining_time": 16.01774122,
                        "test": [
                          2285167.653
                        ]
                      },
                      {
                        "learn": [
                          2060391.837
                        ],
                        "iteration": 105,
                        "passed_time": 1.890258782,
                        "remaining_time": 15.94237124,
                        "test": [
                          2285416.223
                        ]
                      },
                      {
                        "learn": [
                          2057773.245
                        ],
                        "iteration": 106,
                        "passed_time": 1.901504123,
                        "remaining_time": 15.86956245,
                        "test": [
                          2284528.006
                        ]
                      },
                      {
                        "learn": [
                          2053851.251
                        ],
                        "iteration": 107,
                        "passed_time": 1.913294993,
                        "remaining_time": 15.80239938,
                        "test": [
                          2282655.66
                        ]
                      },
                      {
                        "learn": [
                          2052933.14
                        ],
                        "iteration": 108,
                        "passed_time": 1.92406088,
                        "remaining_time": 15.7278738,
                        "test": [
                          2282443.427
                        ]
                      },
                      {
                        "learn": [
                          2051221.263
                        ],
                        "iteration": 109,
                        "passed_time": 1.947014779,
                        "remaining_time": 15.75311958,
                        "test": [
                          2282330.48
                        ]
                      },
                      {
                        "learn": [
                          2046895.309
                        ],
                        "iteration": 110,
                        "passed_time": 1.958690061,
                        "remaining_time": 15.68716635,
                        "test": [
                          2280219.96
                        ]
                      },
                      {
                        "learn": [
                          2044068.577
                        ],
                        "iteration": 111,
                        "passed_time": 1.969862155,
                        "remaining_time": 15.6181928,
                        "test": [
                          2279424.963
                        ]
                      },
                      {
                        "learn": [
                          2041607.106
                        ],
                        "iteration": 112,
                        "passed_time": 1.990904708,
                        "remaining_time": 15.62772103,
                        "test": [
                          2278610.209
                        ]
                      },
                      {
                        "learn": [
                          2040480.518
                        ],
                        "iteration": 113,
                        "passed_time": 2.014741859,
                        "remaining_time": 15.65843234,
                        "test": [
                          2278186.494
                        ]
                      },
                      {
                        "learn": [
                          2037573.57
                        ],
                        "iteration": 114,
                        "passed_time": 2.044328589,
                        "remaining_time": 15.73244175,
                        "test": [
                          2277886.841
                        ]
                      },
                      {
                        "learn": [
                          2034280.467
                        ],
                        "iteration": 115,
                        "passed_time": 2.069628415,
                        "remaining_time": 15.77199586,
                        "test": [
                          2276613.158
                        ]
                      },
                      {
                        "learn": [
                          2033962.808
                        ],
                        "iteration": 116,
                        "passed_time": 2.094079647,
                        "remaining_time": 15.80403699,
                        "test": [
                          2276890.133
                        ]
                      },
                      {
                        "learn": [
                          2031467.925
                        ],
                        "iteration": 117,
                        "passed_time": 2.121934868,
                        "remaining_time": 15.86056401,
                        "test": [
                          2276314.782
                        ]
                      },
                      {
                        "learn": [
                          2029931.79
                        ],
                        "iteration": 118,
                        "passed_time": 2.159338721,
                        "remaining_time": 15.98636481,
                        "test": [
                          2276389.352
                        ]
                      },
                      {
                        "learn": [
                          2027928.175
                        ],
                        "iteration": 119,
                        "passed_time": 2.190684125,
                        "remaining_time": 16.06501692,
                        "test": [
                          2276346.719
                        ]
                      },
                      {
                        "learn": [
                          2026067.643
                        ],
                        "iteration": 120,
                        "passed_time": 2.222054125,
                        "remaining_time": 16.14202956,
                        "test": [
                          2276151.43
                        ]
                      },
                      {
                        "learn": [
                          2022909.707
                        ],
                        "iteration": 121,
                        "passed_time": 2.258537889,
                        "remaining_time": 16.25406776,
                        "test": [
                          2276272.65
                        ]
                      },
                      {
                        "learn": [
                          2020218.213
                        ],
                        "iteration": 122,
                        "passed_time": 2.28452247,
                        "remaining_time": 16.28883094,
                        "test": [
                          2274692.849
                        ]
                      },
                      {
                        "learn": [
                          2018644.962
                        ],
                        "iteration": 123,
                        "passed_time": 2.297125586,
                        "remaining_time": 16.22808075,
                        "test": [
                          2273956.857
                        ]
                      },
                      {
                        "learn": [
                          2017706.825
                        ],
                        "iteration": 124,
                        "passed_time": 2.323863437,
                        "remaining_time": 16.26704406,
                        "test": [
                          2273585.61
                        ]
                      },
                      {
                        "learn": [
                          2016560.547
                        ],
                        "iteration": 125,
                        "passed_time": 2.353630189,
                        "remaining_time": 16.32597448,
                        "test": [
                          2272986.383
                        ]
                      },
                      {
                        "learn": [
                          2014782.193
                        ],
                        "iteration": 126,
                        "passed_time": 2.398062724,
                        "remaining_time": 16.48432093,
                        "test": [
                          2271885.92
                        ]
                      },
                      {
                        "learn": [
                          2014288.303
                        ],
                        "iteration": 127,
                        "passed_time": 2.431407228,
                        "remaining_time": 16.56396174,
                        "test": [
                          2271869.021
                        ]
                      },
                      {
                        "learn": [
                          2012359.33
                        ],
                        "iteration": 128,
                        "passed_time": 2.463328569,
                        "remaining_time": 16.63224174,
                        "test": [
                          2271906.899
                        ]
                      },
                      {
                        "learn": [
                          2011814.249
                        ],
                        "iteration": 129,
                        "passed_time": 2.484176642,
                        "remaining_time": 16.62487445,
                        "test": [
                          2271272.024
                        ]
                      },
                      {
                        "learn": [
                          2010506.831
                        ],
                        "iteration": 130,
                        "passed_time": 2.514131258,
                        "remaining_time": 16.67771041,
                        "test": [
                          2271382.387
                        ]
                      },
                      {
                        "learn": [
                          2010176.179
                        ],
                        "iteration": 131,
                        "passed_time": 2.562738021,
                        "remaining_time": 16.85194396,
                        "test": [
                          2271614.889
                        ]
                      },
                      {
                        "learn": [
                          2007009.252
                        ],
                        "iteration": 132,
                        "passed_time": 2.590630445,
                        "remaining_time": 16.88779395,
                        "test": [
                          2271332.751
                        ]
                      },
                      {
                        "learn": [
                          2004154.677
                        ],
                        "iteration": 133,
                        "passed_time": 2.623028224,
                        "remaining_time": 16.95180927,
                        "test": [
                          2270054.211
                        ]
                      },
                      {
                        "learn": [
                          2002494.539
                        ],
                        "iteration": 134,
                        "passed_time": 2.67799543,
                        "remaining_time": 17.15900775,
                        "test": [
                          2269607.315
                        ]
                      },
                      {
                        "learn": [
                          2001229.216
                        ],
                        "iteration": 135,
                        "passed_time": 2.695738374,
                        "remaining_time": 17.12586732,
                        "test": [
                          2269541.66
                        ]
                      },
                      {
                        "learn": [
                          1999517.734
                        ],
                        "iteration": 136,
                        "passed_time": 2.711229072,
                        "remaining_time": 17.07876415,
                        "test": [
                          2268835.425
                        ]
                      },
                      {
                        "learn": [
                          1997228.397
                        ],
                        "iteration": 137,
                        "passed_time": 2.747410038,
                        "remaining_time": 17.16135836,
                        "test": [
                          2268982.546
                        ]
                      },
                      {
                        "learn": [
                          1996317.035
                        ],
                        "iteration": 138,
                        "passed_time": 2.769843982,
                        "remaining_time": 17.15709114,
                        "test": [
                          2269477.855
                        ]
                      },
                      {
                        "learn": [
                          1994207.851
                        ],
                        "iteration": 139,
                        "passed_time": 2.799834436,
                        "remaining_time": 17.19898297,
                        "test": [
                          2267961.231
                        ]
                      },
                      {
                        "learn": [
                          1992831.483
                        ],
                        "iteration": 140,
                        "passed_time": 2.831345049,
                        "remaining_time": 17.24911629,
                        "test": [
                          2268130.414
                        ]
                      },
                      {
                        "learn": [
                          1990910.043
                        ],
                        "iteration": 141,
                        "passed_time": 2.858383431,
                        "remaining_time": 17.27107735,
                        "test": [
                          2267246.895
                        ]
                      },
                      {
                        "learn": [
                          1988429.999
                        ],
                        "iteration": 142,
                        "passed_time": 2.889626886,
                        "remaining_time": 17.31755413,
                        "test": [
                          2266178.314
                        ]
                      },
                      {
                        "learn": [
                          1987400.434
                        ],
                        "iteration": 143,
                        "passed_time": 2.918083988,
                        "remaining_time": 17.34638815,
                        "test": [
                          2265705.778
                        ]
                      },
                      {
                        "learn": [
                          1986226.823
                        ],
                        "iteration": 144,
                        "passed_time": 2.959918405,
                        "remaining_time": 17.45331198,
                        "test": [
                          2265568.995
                        ]
                      },
                      {
                        "learn": [
                          1983217.966
                        ],
                        "iteration": 145,
                        "passed_time": 2.983500199,
                        "remaining_time": 17.45143267,
                        "test": [
                          2263758.749
                        ]
                      },
                      {
                        "learn": [
                          1980584.88
                        ],
                        "iteration": 146,
                        "passed_time": 3.010218492,
                        "remaining_time": 17.46745833,
                        "test": [
                          2263442.753
                        ]
                      },
                      {
                        "learn": [
                          1978957.606
                        ],
                        "iteration": 147,
                        "passed_time": 3.037067646,
                        "remaining_time": 17.48365969,
                        "test": [
                          2262637.122
                        ]
                      },
                      {
                        "learn": [
                          1977242.265
                        ],
                        "iteration": 148,
                        "passed_time": 3.067897887,
                        "remaining_time": 17.52202082,
                        "test": [
                          2261303.184
                        ]
                      },
                      {
                        "learn": [
                          1975765.743
                        ],
                        "iteration": 149,
                        "passed_time": 3.096680046,
                        "remaining_time": 17.54785359,
                        "test": [
                          2260676.499
                        ]
                      },
                      {
                        "learn": [
                          1973204.007
                        ],
                        "iteration": 150,
                        "passed_time": 3.132119675,
                        "remaining_time": 17.61039473,
                        "test": [
                          2259372.749
                        ]
                      },
                      {
                        "learn": [
                          1972039.863
                        ],
                        "iteration": 151,
                        "passed_time": 3.162788987,
                        "remaining_time": 17.6450333,
                        "test": [
                          2259478.774
                        ]
                      },
                      {
                        "learn": [
                          1970308.37
                        ],
                        "iteration": 152,
                        "passed_time": 3.193001264,
                        "remaining_time": 17.67628804,
                        "test": [
                          2260036.893
                        ]
                      },
                      {
                        "learn": [
                          1969470.252
                        ],
                        "iteration": 153,
                        "passed_time": 3.223762289,
                        "remaining_time": 17.70975907,
                        "test": [
                          2260289.906
                        ]
                      },
                      {
                        "learn": [
                          1966993.216
                        ],
                        "iteration": 154,
                        "passed_time": 3.258204895,
                        "remaining_time": 17.76247185,
                        "test": [
                          2258204.112
                        ]
                      },
                      {
                        "learn": [
                          1965883.608
                        ],
                        "iteration": 155,
                        "passed_time": 3.288462604,
                        "remaining_time": 17.79142588,
                        "test": [
                          2258264.644
                        ]
                      },
                      {
                        "learn": [
                          1963503.769
                        ],
                        "iteration": 156,
                        "passed_time": 3.324975808,
                        "remaining_time": 17.85321405,
                        "test": [
                          2257474.435
                        ]
                      },
                      {
                        "learn": [
                          1962319.197
                        ],
                        "iteration": 157,
                        "passed_time": 3.353544921,
                        "remaining_time": 17.87142293,
                        "test": [
                          2257325.639
                        ]
                      },
                      {
                        "learn": [
                          1961462.821
                        ],
                        "iteration": 158,
                        "passed_time": 3.381174739,
                        "remaining_time": 17.88407519,
                        "test": [
                          2256861.553
                        ]
                      },
                      {
                        "learn": [
                          1959839.409
                        ],
                        "iteration": 159,
                        "passed_time": 3.409687358,
                        "remaining_time": 17.90085863,
                        "test": [
                          2256116.323
                        ]
                      },
                      {
                        "learn": [
                          1958226.943
                        ],
                        "iteration": 160,
                        "passed_time": 3.424525353,
                        "remaining_time": 17.84581845,
                        "test": [
                          2256893.847
                        ]
                      },
                      {
                        "learn": [
                          1957138.834
                        ],
                        "iteration": 161,
                        "passed_time": 3.439930315,
                        "remaining_time": 17.79420743,
                        "test": [
                          2257032.173
                        ]
                      },
                      {
                        "learn": [
                          1955025.253
                        ],
                        "iteration": 162,
                        "passed_time": 3.457244808,
                        "remaining_time": 17.75284604,
                        "test": [
                          2255889.242
                        ]
                      },
                      {
                        "learn": [
                          1953554.064
                        ],
                        "iteration": 163,
                        "passed_time": 3.474823715,
                        "remaining_time": 17.71312577,
                        "test": [
                          2255905.506
                        ]
                      },
                      {
                        "learn": [
                          1952459.728
                        ],
                        "iteration": 164,
                        "passed_time": 3.492085401,
                        "remaining_time": 17.67206854,
                        "test": [
                          2255603.93
                        ]
                      },
                      {
                        "learn": [
                          1950364.753
                        ],
                        "iteration": 165,
                        "passed_time": 3.520131684,
                        "remaining_time": 17.68548087,
                        "test": [
                          2254680.203
                        ]
                      },
                      {
                        "learn": [
                          1949627.207
                        ],
                        "iteration": 166,
                        "passed_time": 3.545982843,
                        "remaining_time": 17.68744736,
                        "test": [
                          2254064.727
                        ]
                      },
                      {
                        "learn": [
                          1947229.531
                        ],
                        "iteration": 167,
                        "passed_time": 3.575209711,
                        "remaining_time": 17.70580047,
                        "test": [
                          2253772.649
                        ]
                      },
                      {
                        "learn": [
                          1944804.918
                        ],
                        "iteration": 168,
                        "passed_time": 3.604254521,
                        "remaining_time": 17.72269531,
                        "test": [
                          2253474.167
                        ]
                      },
                      {
                        "learn": [
                          1942982.323
                        ],
                        "iteration": 169,
                        "passed_time": 3.632438387,
                        "remaining_time": 17.73484624,
                        "test": [
                          2253485.202
                        ]
                      },
                      {
                        "learn": [
                          1941448.383
                        ],
                        "iteration": 170,
                        "passed_time": 3.662215179,
                        "remaining_time": 17.75424785,
                        "test": [
                          2252246.521
                        ]
                      },
                      {
                        "learn": [
                          1940126.954
                        ],
                        "iteration": 171,
                        "passed_time": 3.689864311,
                        "remaining_time": 17.76283517,
                        "test": [
                          2252587.767
                        ]
                      },
                      {
                        "learn": [
                          1937506.642
                        ],
                        "iteration": 172,
                        "passed_time": 3.715852043,
                        "remaining_time": 17.7630615,
                        "test": [
                          2252333.721
                        ]
                      },
                      {
                        "learn": [
                          1934983.403
                        ],
                        "iteration": 173,
                        "passed_time": 3.75895792,
                        "remaining_time": 17.84424852,
                        "test": [
                          2250611.73
                        ]
                      },
                      {
                        "learn": [
                          1932355.191
                        ],
                        "iteration": 174,
                        "passed_time": 3.810396463,
                        "remaining_time": 17.96329761,
                        "test": [
                          2251330.757
                        ]
                      },
                      {
                        "learn": [
                          1930868.466
                        ],
                        "iteration": 175,
                        "passed_time": 3.829953849,
                        "remaining_time": 17.93114757,
                        "test": [
                          2250551.18
                        ]
                      },
                      {
                        "learn": [
                          1930154.988
                        ],
                        "iteration": 176,
                        "passed_time": 3.853269114,
                        "remaining_time": 17.91661289,
                        "test": [
                          2250559.319
                        ]
                      },
                      {
                        "learn": [
                          1928696.949
                        ],
                        "iteration": 177,
                        "passed_time": 3.895383525,
                        "remaining_time": 17.98879358,
                        "test": [
                          2250300.293
                        ]
                      },
                      {
                        "learn": [
                          1927661.842
                        ],
                        "iteration": 178,
                        "passed_time": 3.925762918,
                        "remaining_time": 18.0058735,
                        "test": [
                          2250566.527
                        ]
                      },
                      {
                        "learn": [
                          1925467.918
                        ],
                        "iteration": 179,
                        "passed_time": 3.96432644,
                        "remaining_time": 18.05970934,
                        "test": [
                          2250603.543
                        ]
                      },
                      {
                        "learn": [
                          1923259.007
                        ],
                        "iteration": 180,
                        "passed_time": 4.0087147,
                        "remaining_time": 18.13888033,
                        "test": [
                          2250561.445
                        ]
                      },
                      {
                        "learn": [
                          1922261.907
                        ],
                        "iteration": 181,
                        "passed_time": 4.035346688,
                        "remaining_time": 18.13688786,
                        "test": [
                          2250642.391
                        ]
                      },
                      {
                        "learn": [
                          1921000.408
                        ],
                        "iteration": 182,
                        "passed_time": 4.06286778,
                        "remaining_time": 18.1385955,
                        "test": [
                          2250148.886
                        ]
                      },
                      {
                        "learn": [
                          1919568.615
                        ],
                        "iteration": 183,
                        "passed_time": 4.086697925,
                        "remaining_time": 18.12361688,
                        "test": [
                          2249637.46
                        ]
                      },
                      {
                        "learn": [
                          1918628.94
                        ],
                        "iteration": 184,
                        "passed_time": 4.119061782,
                        "remaining_time": 18.14613704,
                        "test": [
                          2249651.589
                        ]
                      },
                      {
                        "learn": [
                          1917249.326
                        ],
                        "iteration": 185,
                        "passed_time": 4.143896753,
                        "remaining_time": 18.13511805,
                        "test": [
                          2249059.355
                        ]
                      },
                      {
                        "learn": [
                          1915801.215
                        ],
                        "iteration": 186,
                        "passed_time": 4.170645202,
                        "remaining_time": 18.13227032,
                        "test": [
                          2248836.711
                        ]
                      },
                      {
                        "learn": [
                          1914076.96
                        ],
                        "iteration": 187,
                        "passed_time": 4.205672859,
                        "remaining_time": 18.16492746,
                        "test": [
                          2250390.289
                        ]
                      },
                      {
                        "learn": [
                          1912425.623
                        ],
                        "iteration": 188,
                        "passed_time": 4.236711171,
                        "remaining_time": 18.17975005,
                        "test": [
                          2250460.707
                        ]
                      },
                      {
                        "learn": [
                          1910739.407
                        ],
                        "iteration": 189,
                        "passed_time": 4.26868201,
                        "remaining_time": 18.19806541,
                        "test": [
                          2249746.313
                        ]
                      },
                      {
                        "learn": [
                          1909700.486
                        ],
                        "iteration": 190,
                        "passed_time": 4.292643488,
                        "remaining_time": 18.18192975,
                        "test": [
                          2249744.416
                        ]
                      },
                      {
                        "learn": [
                          1908015.419
                        ],
                        "iteration": 191,
                        "passed_time": 4.317655693,
                        "remaining_time": 18.17013437,
                        "test": [
                          2250015.156
                        ]
                      },
                      {
                        "learn": [
                          1906511.746
                        ],
                        "iteration": 192,
                        "passed_time": 4.346599717,
                        "remaining_time": 18.17464234,
                        "test": [
                          2249909.336
                        ]
                      },
                      {
                        "learn": [
                          1904699.347
                        ],
                        "iteration": 193,
                        "passed_time": 4.375148268,
                        "remaining_time": 18.17716239,
                        "test": [
                          2249965.161
                        ]
                      },
                      {
                        "learn": [
                          1903381.045
                        ],
                        "iteration": 194,
                        "passed_time": 4.407961589,
                        "remaining_time": 18.19696964,
                        "test": [
                          2250423.992
                        ]
                      },
                      {
                        "learn": [
                          1903092.577
                        ],
                        "iteration": 195,
                        "passed_time": 4.433575351,
                        "remaining_time": 18.18670705,
                        "test": [
                          2250258.781
                        ]
                      },
                      {
                        "learn": [
                          1901433.367
                        ],
                        "iteration": 196,
                        "passed_time": 4.462380165,
                        "remaining_time": 18.1892958,
                        "test": [
                          2250448.286
                        ]
                      },
                      {
                        "learn": [
                          1900522.503
                        ],
                        "iteration": 197,
                        "passed_time": 4.491967848,
                        "remaining_time": 18.19473846,
                        "test": [
                          2250276.766
                        ]
                      },
                      {
                        "learn": [
                          1899617.076
                        ],
                        "iteration": 198,
                        "passed_time": 4.520737072,
                        "remaining_time": 18.19653465,
                        "test": [
                          2250201.177
                        ]
                      },
                      {
                        "learn": [
                          1898000.555
                        ],
                        "iteration": 199,
                        "passed_time": 4.555906588,
                        "remaining_time": 18.22362635,
                        "test": [
                          2249495.879
                        ]
                      },
                      {
                        "learn": [
                          1896272.732
                        ],
                        "iteration": 200,
                        "passed_time": 4.587894584,
                        "remaining_time": 18.23745161,
                        "test": [
                          2248953.38
                        ]
                      },
                      {
                        "learn": [
                          1895448.944
                        ],
                        "iteration": 201,
                        "passed_time": 4.605482136,
                        "remaining_time": 18.19393438,
                        "test": [
                          2248529.882
                        ]
                      },
                      {
                        "learn": [
                          1893772.521
                        ],
                        "iteration": 202,
                        "passed_time": 4.636978088,
                        "remaining_time": 18.2052785,
                        "test": [
                          2248387.143
                        ]
                      },
                      {
                        "learn": [
                          1891739.005
                        ],
                        "iteration": 203,
                        "passed_time": 4.719595323,
                        "remaining_time": 18.41567587,
                        "test": [
                          2247941.077
                        ]
                      },
                      {
                        "learn": [
                          1890476.735
                        ],
                        "iteration": 204,
                        "passed_time": 4.752546263,
                        "remaining_time": 18.43060624,
                        "test": [
                          2247826.625
                        ]
                      },
                      {
                        "learn": [
                          1889952.96
                        ],
                        "iteration": 205,
                        "passed_time": 4.783025988,
                        "remaining_time": 18.43554677,
                        "test": [
                          2247511.203
                        ]
                      },
                      {
                        "learn": [
                          1888133.767
                        ],
                        "iteration": 206,
                        "passed_time": 4.82152109,
                        "remaining_time": 18.47085133,
                        "test": [
                          2247190.904
                        ]
                      },
                      {
                        "learn": [
                          1886446.191
                        ],
                        "iteration": 207,
                        "passed_time": 4.872969255,
                        "remaining_time": 18.55476755,
                        "test": [
                          2247276.926
                        ]
                      },
                      {
                        "learn": [
                          1884925.754
                        ],
                        "iteration": 208,
                        "passed_time": 4.903579065,
                        "remaining_time": 18.55852173,
                        "test": [
                          2246637.81
                        ]
                      },
                      {
                        "learn": [
                          1883453.924
                        ],
                        "iteration": 209,
                        "passed_time": 4.958243824,
                        "remaining_time": 18.65244105,
                        "test": [
                          2245709.712
                        ]
                      },
                      {
                        "learn": [
                          1882362.059
                        ],
                        "iteration": 210,
                        "passed_time": 5.023834439,
                        "remaining_time": 18.78580745,
                        "test": [
                          2245465.766
                        ]
                      },
                      {
                        "learn": [
                          1881560.798
                        ],
                        "iteration": 211,
                        "passed_time": 5.048833244,
                        "remaining_time": 18.76641791,
                        "test": [
                          2245427.296
                        ]
                      },
                      {
                        "learn": [
                          1880112.55
                        ],
                        "iteration": 212,
                        "passed_time": 5.070607557,
                        "remaining_time": 18.73506172,
                        "test": [
                          2245431.008
                        ]
                      },
                      {
                        "learn": [
                          1878264.158
                        ],
                        "iteration": 213,
                        "passed_time": 5.104162431,
                        "remaining_time": 18.74706388,
                        "test": [
                          2244979.288
                        ]
                      },
                      {
                        "learn": [
                          1875984.602
                        ],
                        "iteration": 214,
                        "passed_time": 5.137056387,
                        "remaining_time": 18.75622914,
                        "test": [
                          2245958.628
                        ]
                      },
                      {
                        "learn": [
                          1874436.207
                        ],
                        "iteration": 215,
                        "passed_time": 5.17277522,
                        "remaining_time": 18.7752582,
                        "test": [
                          2245444.026
                        ]
                      },
                      {
                        "learn": [
                          1873108.547
                        ],
                        "iteration": 216,
                        "passed_time": 5.21340697,
                        "remaining_time": 18.81150994,
                        "test": [
                          2244991.419
                        ]
                      },
                      {
                        "learn": [
                          1871006.93
                        ],
                        "iteration": 217,
                        "passed_time": 5.252687833,
                        "remaining_time": 18.84221049,
                        "test": [
                          2244993.66
                        ]
                      },
                      {
                        "learn": [
                          1870804.085
                        ],
                        "iteration": 218,
                        "passed_time": 5.297657159,
                        "remaining_time": 18.89255818,
                        "test": [
                          2244923.685
                        ]
                      },
                      {
                        "learn": [
                          1869206.174
                        ],
                        "iteration": 219,
                        "passed_time": 5.336945941,
                        "remaining_time": 18.92189924,
                        "test": [
                          2244323.438
                        ]
                      },
                      {
                        "learn": [
                          1867786.804
                        ],
                        "iteration": 220,
                        "passed_time": 5.365368546,
                        "remaining_time": 18.91231718,
                        "test": [
                          2243530.328
                        ]
                      },
                      {
                        "learn": [
                          1866578.986
                        ],
                        "iteration": 221,
                        "passed_time": 5.39303238,
                        "remaining_time": 18.89990627,
                        "test": [
                          2243758.071
                        ]
                      },
                      {
                        "learn": [
                          1864811.15
                        ],
                        "iteration": 222,
                        "passed_time": 5.427837205,
                        "remaining_time": 18.91223995,
                        "test": [
                          2243785.992
                        ]
                      },
                      {
                        "learn": [
                          1863295.334
                        ],
                        "iteration": 223,
                        "passed_time": 5.460714638,
                        "remaining_time": 18.91747571,
                        "test": [
                          2242418.672
                        ]
                      },
                      {
                        "learn": [
                          1862612.775
                        ],
                        "iteration": 224,
                        "passed_time": 5.500770381,
                        "remaining_time": 18.94709798,
                        "test": [
                          2242500.347
                        ]
                      },
                      {
                        "learn": [
                          1860423.389
                        ],
                        "iteration": 225,
                        "passed_time": 5.533232745,
                        "remaining_time": 18.95009799,
                        "test": [
                          2242043.278
                        ]
                      },
                      {
                        "learn": [
                          1859895.278
                        ],
                        "iteration": 226,
                        "passed_time": 5.574262759,
                        "remaining_time": 18.98196085,
                        "test": [
                          2241802.818
                        ]
                      },
                      {
                        "learn": [
                          1859158.599
                        ],
                        "iteration": 227,
                        "passed_time": 5.612940472,
                        "remaining_time": 19.00521949,
                        "test": [
                          2241913.47
                        ]
                      },
                      {
                        "learn": [
                          1857840.092
                        ],
                        "iteration": 228,
                        "passed_time": 5.669483576,
                        "remaining_time": 19.08808663,
                        "test": [
                          2241876.659
                        ]
                      },
                      {
                        "learn": [
                          1856217.454
                        ],
                        "iteration": 229,
                        "passed_time": 5.692034432,
                        "remaining_time": 19.05594136,
                        "test": [
                          2241719.541
                        ]
                      },
                      {
                        "learn": [
                          1853770.265
                        ],
                        "iteration": 230,
                        "passed_time": 5.71956492,
                        "remaining_time": 19.04045638,
                        "test": [
                          2240919.977
                        ]
                      },
                      {
                        "learn": [
                          1852141.2
                        ],
                        "iteration": 231,
                        "passed_time": 5.744715582,
                        "remaining_time": 19.01698951,
                        "test": [
                          2241082.399
                        ]
                      },
                      {
                        "learn": [
                          1850665.559
                        ],
                        "iteration": 232,
                        "passed_time": 5.773315538,
                        "remaining_time": 19.00486274,
                        "test": [
                          2240755.844
                        ]
                      },
                      {
                        "learn": [
                          1849706.575
                        ],
                        "iteration": 233,
                        "passed_time": 5.80413232,
                        "remaining_time": 18.99985196,
                        "test": [
                          2240744.466
                        ]
                      },
                      {
                        "learn": [
                          1848618.641
                        ],
                        "iteration": 234,
                        "passed_time": 5.831048679,
                        "remaining_time": 18.98192442,
                        "test": [
                          2240190.443
                        ]
                      },
                      {
                        "learn": [
                          1847491.351
                        ],
                        "iteration": 235,
                        "passed_time": 5.870958296,
                        "remaining_time": 19.00598364,
                        "test": [
                          2239558.062
                        ]
                      },
                      {
                        "learn": [
                          1846518.566
                        ],
                        "iteration": 236,
                        "passed_time": 5.908296876,
                        "remaining_time": 19.02122581,
                        "test": [
                          2239942.462
                        ]
                      },
                      {
                        "learn": [
                          1845418.075
                        ],
                        "iteration": 237,
                        "passed_time": 5.933839985,
                        "remaining_time": 18.99826079,
                        "test": [
                          2240213.814
                        ]
                      },
                      {
                        "learn": [
                          1844681.659
                        ],
                        "iteration": 238,
                        "passed_time": 5.963430411,
                        "remaining_time": 18.98816127,
                        "test": [
                          2239536.495
                        ]
                      },
                      {
                        "learn": [
                          1843051.897
                        ],
                        "iteration": 239,
                        "passed_time": 5.993405117,
                        "remaining_time": 18.9791162,
                        "test": [
                          2238923.58
                        ]
                      },
                      {
                        "learn": [
                          1842013.016
                        ],
                        "iteration": 240,
                        "passed_time": 6.065527862,
                        "remaining_time": 19.10263754,
                        "test": [
                          2239352.149
                        ]
                      },
                      {
                        "learn": [
                          1840970.792
                        ],
                        "iteration": 241,
                        "passed_time": 6.097327582,
                        "remaining_time": 19.09824094,
                        "test": [
                          2239436.438
                        ]
                      },
                      {
                        "learn": [
                          1839563.126
                        ],
                        "iteration": 242,
                        "passed_time": 6.13801776,
                        "remaining_time": 19.12131459,
                        "test": [
                          2240592.912
                        ]
                      },
                      {
                        "learn": [
                          1838328.575
                        ],
                        "iteration": 243,
                        "passed_time": 6.171185275,
                        "remaining_time": 19.12055766,
                        "test": [
                          2240356.507
                        ]
                      },
                      {
                        "learn": [
                          1836798.258
                        ],
                        "iteration": 244,
                        "passed_time": 6.224900491,
                        "remaining_time": 19.18285662,
                        "test": [
                          2240606.865
                        ]
                      },
                      {
                        "learn": [
                          1835553.433
                        ],
                        "iteration": 245,
                        "passed_time": 6.249709236,
                        "remaining_time": 19.15561286,
                        "test": [
                          2242147.368
                        ]
                      },
                      {
                        "learn": [
                          1834342.265
                        ],
                        "iteration": 246,
                        "passed_time": 6.279942554,
                        "remaining_time": 19.14492609,
                        "test": [
                          2242631.253
                        ]
                      },
                      {
                        "learn": [
                          1832889.629
                        ],
                        "iteration": 247,
                        "passed_time": 6.308951592,
                        "remaining_time": 19.13036934,
                        "test": [
                          2242617.647
                        ]
                      },
                      {
                        "learn": [
                          1831729.222
                        ],
                        "iteration": 248,
                        "passed_time": 6.344883272,
                        "remaining_time": 19.13657565,
                        "test": [
                          2242411.832
                        ]
                      },
                      {
                        "learn": [
                          1830389.949
                        ],
                        "iteration": 249,
                        "passed_time": 6.393386134,
                        "remaining_time": 19.1801584,
                        "test": [
                          2242572.75
                        ]
                      },
                      {
                        "learn": [
                          1829243.408
                        ],
                        "iteration": 250,
                        "passed_time": 6.43272434,
                        "remaining_time": 19.19565949,
                        "test": [
                          2243229.907
                        ]
                      },
                      {
                        "learn": [
                          1828015.817
                        ],
                        "iteration": 251,
                        "passed_time": 6.468319741,
                        "remaining_time": 19.19961574,
                        "test": [
                          2242615.102
                        ]
                      },
                      {
                        "learn": [
                          1826601.814
                        ],
                        "iteration": 252,
                        "passed_time": 6.529305945,
                        "remaining_time": 19.27822744,
                        "test": [
                          2242199.927
                        ]
                      },
                      {
                        "learn": [
                          1824697.808
                        ],
                        "iteration": 253,
                        "passed_time": 6.590775086,
                        "remaining_time": 19.35715832,
                        "test": [
                          2241575.221
                        ]
                      },
                      {
                        "learn": [
                          1823494.481
                        ],
                        "iteration": 254,
                        "passed_time": 6.655404965,
                        "remaining_time": 19.44422235,
                        "test": [
                          2241590.237
                        ]
                      },
                      {
                        "learn": [
                          1822641.854
                        ],
                        "iteration": 255,
                        "passed_time": 6.716712176,
                        "remaining_time": 19.52044476,
                        "test": [
                          2241565.319
                        ]
                      },
                      {
                        "learn": [
                          1820584.156
                        ],
                        "iteration": 256,
                        "passed_time": 6.763999611,
                        "remaining_time": 19.55506502,
                        "test": [
                          2240775.997
                        ]
                      },
                      {
                        "learn": [
                          1819543.814
                        ],
                        "iteration": 257,
                        "passed_time": 6.797540353,
                        "remaining_time": 19.54951528,
                        "test": [
                          2240755.774
                        ]
                      },
                      {
                        "learn": [
                          1818618.907
                        ],
                        "iteration": 258,
                        "passed_time": 6.83261751,
                        "remaining_time": 19.54814508,
                        "test": [
                          2240544.575
                        ]
                      },
                      {
                        "learn": [
                          1817898.055
                        ],
                        "iteration": 259,
                        "passed_time": 6.867345421,
                        "remaining_time": 19.54552158,
                        "test": [
                          2240468.01
                        ]
                      },
                      {
                        "learn": [
                          1816623.445
                        ],
                        "iteration": 260,
                        "passed_time": 6.928907059,
                        "remaining_time": 19.61862957,
                        "test": [
                          2240333.785
                        ]
                      },
                      {
                        "learn": [
                          1814880.173
                        ],
                        "iteration": 261,
                        "passed_time": 7.009438622,
                        "remaining_time": 19.7441439,
                        "test": [
                          2239623.136
                        ]
                      },
                      {
                        "learn": [
                          1813956.296
                        ],
                        "iteration": 262,
                        "passed_time": 7.048427472,
                        "remaining_time": 19.75167698,
                        "test": [
                          2239349.237
                        ]
                      },
                      {
                        "learn": [
                          1812581.18
                        ],
                        "iteration": 263,
                        "passed_time": 7.127017532,
                        "remaining_time": 19.869261,
                        "test": [
                          2239812.764
                        ]
                      },
                      {
                        "learn": [
                          1811174.871
                        ],
                        "iteration": 264,
                        "passed_time": 7.176321409,
                        "remaining_time": 19.90413674,
                        "test": [
                          2239129.266
                        ]
                      },
                      {
                        "learn": [
                          1810292.762
                        ],
                        "iteration": 265,
                        "passed_time": 7.217361274,
                        "remaining_time": 19.91557585,
                        "test": [
                          2239034.75
                        ]
                      },
                      {
                        "learn": [
                          1809330.966
                        ],
                        "iteration": 266,
                        "passed_time": 7.269198968,
                        "remaining_time": 19.95626533,
                        "test": [
                          2238960.647
                        ]
                      },
                      {
                        "learn": [
                          1808256.42
                        ],
                        "iteration": 267,
                        "passed_time": 7.326915783,
                        "remaining_time": 20.01232221,
                        "test": [
                          2238786.201
                        ]
                      },
                      {
                        "learn": [
                          1807533.025
                        ],
                        "iteration": 268,
                        "passed_time": 7.353275835,
                        "remaining_time": 19.98232207,
                        "test": [
                          2238763.919
                        ]
                      },
                      {
                        "learn": [
                          1805926.152
                        ],
                        "iteration": 269,
                        "passed_time": 7.386558735,
                        "remaining_time": 19.97106621,
                        "test": [
                          2238659.277
                        ]
                      },
                      {
                        "learn": [
                          1804883.043
                        ],
                        "iteration": 270,
                        "passed_time": 7.417712272,
                        "remaining_time": 19.95391973,
                        "test": [
                          2238808.498
                        ]
                      },
                      {
                        "learn": [
                          1803706.599
                        ],
                        "iteration": 271,
                        "passed_time": 7.442184404,
                        "remaining_time": 19.91878767,
                        "test": [
                          2238109.498
                        ]
                      },
                      {
                        "learn": [
                          1802205.219
                        ],
                        "iteration": 272,
                        "passed_time": 7.467746676,
                        "remaining_time": 19.88663675,
                        "test": [
                          2237826.662
                        ]
                      },
                      {
                        "learn": [
                          1801714.247
                        ],
                        "iteration": 273,
                        "passed_time": 7.507396025,
                        "remaining_time": 19.89185954,
                        "test": [
                          2237569.181
                        ]
                      },
                      {
                        "learn": [
                          1800772.171
                        ],
                        "iteration": 274,
                        "passed_time": 7.56379486,
                        "remaining_time": 19.94091372,
                        "test": [
                          2237266.998
                        ]
                      },
                      {
                        "learn": [
                          1799662.133
                        ],
                        "iteration": 275,
                        "passed_time": 7.61372468,
                        "remaining_time": 19.97223431,
                        "test": [
                          2236690.682
                        ]
                      },
                      {
                        "learn": [
                          1798571.174
                        ],
                        "iteration": 276,
                        "passed_time": 7.665778823,
                        "remaining_time": 20.00851296,
                        "test": [
                          2236816.333
                        ]
                      },
                      {
                        "learn": [
                          1797122.137
                        ],
                        "iteration": 277,
                        "passed_time": 7.708556469,
                        "remaining_time": 20.02006392,
                        "test": [
                          2237284.171
                        ]
                      },
                      {
                        "learn": [
                          1795630.584
                        ],
                        "iteration": 278,
                        "passed_time": 7.757894866,
                        "remaining_time": 20.04817992,
                        "test": [
                          2236634.364
                        ]
                      },
                      {
                        "learn": [
                          1794593.724
                        ],
                        "iteration": 279,
                        "passed_time": 7.818339731,
                        "remaining_time": 20.10430216,
                        "test": [
                          2236430.797
                        ]
                      },
                      {
                        "learn": [
                          1793473.917
                        ],
                        "iteration": 280,
                        "passed_time": 7.885714756,
                        "remaining_time": 20.17732708,
                        "test": [
                          2236114.288
                        ]
                      },
                      {
                        "learn": [
                          1792250.774
                        ],
                        "iteration": 281,
                        "passed_time": 7.922305066,
                        "remaining_time": 20.17097531,
                        "test": [
                          2236031.803
                        ]
                      },
                      {
                        "learn": [
                          1791586.58
                        ],
                        "iteration": 282,
                        "passed_time": 7.948502504,
                        "remaining_time": 20.13807878,
                        "test": [
                          2236110.937
                        ]
                      },
                      {
                        "learn": [
                          1790207.186
                        ],
                        "iteration": 283,
                        "passed_time": 7.970560746,
                        "remaining_time": 20.09479399,
                        "test": [
                          2236346.788
                        ]
                      },
                      {
                        "learn": [
                          1789357.69
                        ],
                        "iteration": 284,
                        "passed_time": 8.000407362,
                        "remaining_time": 20.07119742,
                        "test": [
                          2236394.786
                        ]
                      },
                      {
                        "learn": [
                          1788936.547
                        ],
                        "iteration": 285,
                        "passed_time": 8.050383701,
                        "remaining_time": 20.09781106,
                        "test": [
                          2236433.47
                        ]
                      },
                      {
                        "learn": [
                          1787983.427
                        ],
                        "iteration": 286,
                        "passed_time": 8.093874732,
                        "remaining_time": 20.10777939,
                        "test": [
                          2236067.912
                        ]
                      },
                      {
                        "learn": [
                          1786728.91
                        ],
                        "iteration": 287,
                        "passed_time": 8.163613755,
                        "remaining_time": 20.18226734,
                        "test": [
                          2236140.107
                        ]
                      },
                      {
                        "learn": [
                          1785546.132
                        ],
                        "iteration": 288,
                        "passed_time": 8.209627277,
                        "remaining_time": 20.19738752,
                        "test": [
                          2236190.227
                        ]
                      },
                      {
                        "learn": [
                          1784699.03
                        ],
                        "iteration": 289,
                        "passed_time": 8.236547443,
                        "remaining_time": 20.16534029,
                        "test": [
                          2236098.289
                        ]
                      },
                      {
                        "learn": [
                          1783646.469
                        ],
                        "iteration": 290,
                        "passed_time": 8.262120033,
                        "remaining_time": 20.13004503,
                        "test": [
                          2236450.924
                        ]
                      },
                      {
                        "learn": [
                          1782882.185
                        ],
                        "iteration": 291,
                        "passed_time": 8.292242697,
                        "remaining_time": 20.10584873,
                        "test": [
                          2236172.834
                        ]
                      },
                      {
                        "learn": [
                          1781017.902
                        ],
                        "iteration": 292,
                        "passed_time": 8.339854047,
                        "remaining_time": 20.12381164,
                        "test": [
                          2235774.253
                        ]
                      },
                      {
                        "learn": [
                          1780429.738
                        ],
                        "iteration": 293,
                        "passed_time": 8.374162567,
                        "remaining_time": 20.10938358,
                        "test": [
                          2235625.71
                        ]
                      },
                      {
                        "learn": [
                          1779223.865
                        ],
                        "iteration": 294,
                        "passed_time": 8.405180112,
                        "remaining_time": 20.08695586,
                        "test": [
                          2234977.386
                        ]
                      },
                      {
                        "learn": [
                          1778404.574
                        ],
                        "iteration": 295,
                        "passed_time": 8.441807703,
                        "remaining_time": 20.07781291,
                        "test": [
                          2235225.487
                        ]
                      },
                      {
                        "learn": [
                          1777139.402
                        ],
                        "iteration": 296,
                        "passed_time": 8.474660777,
                        "remaining_time": 20.05955059,
                        "test": [
                          2235631.049
                        ]
                      },
                      {
                        "learn": [
                          1776295.756
                        ],
                        "iteration": 297,
                        "passed_time": 8.49918898,
                        "remaining_time": 20.02157941,
                        "test": [
                          2235499.962
                        ]
                      },
                      {
                        "learn": [
                          1775447.079
                        ],
                        "iteration": 298,
                        "passed_time": 8.540573285,
                        "remaining_time": 20.02321697,
                        "test": [
                          2235402.29
                        ]
                      },
                      {
                        "learn": [
                          1774686.797
                        ],
                        "iteration": 299,
                        "passed_time": 8.62368661,
                        "remaining_time": 20.12193542,
                        "test": [
                          2235428.593
                        ]
                      },
                      {
                        "learn": [
                          1773494.753
                        ],
                        "iteration": 300,
                        "passed_time": 8.688846953,
                        "remaining_time": 20.17775422,
                        "test": [
                          2236303.032
                        ]
                      },
                      {
                        "learn": [
                          1771866.926
                        ],
                        "iteration": 301,
                        "passed_time": 8.737914547,
                        "remaining_time": 20.19557733,
                        "test": [
                          2237007.848
                        ]
                      },
                      {
                        "learn": [
                          1770755.823
                        ],
                        "iteration": 302,
                        "passed_time": 8.833279573,
                        "remaining_time": 20.31945829,
                        "test": [
                          2236802.859
                        ]
                      },
                      {
                        "learn": [
                          1769851.445
                        ],
                        "iteration": 303,
                        "passed_time": 8.875143969,
                        "remaining_time": 20.31940856,
                        "test": [
                          2236956.118
                        ]
                      },
                      {
                        "learn": [
                          1769398.586
                        ],
                        "iteration": 304,
                        "passed_time": 8.920812842,
                        "remaining_time": 20.32775385,
                        "test": [
                          2236889.044
                        ]
                      },
                      {
                        "learn": [
                          1768217.593
                        ],
                        "iteration": 305,
                        "passed_time": 8.960622593,
                        "remaining_time": 20.32245778,
                        "test": [
                          2236373.752
                        ]
                      },
                      {
                        "learn": [
                          1767488.412
                        ],
                        "iteration": 306,
                        "passed_time": 9.002303769,
                        "remaining_time": 20.32116128,
                        "test": [
                          2236690.143
                        ]
                      },
                      {
                        "learn": [
                          1766028.817
                        ],
                        "iteration": 307,
                        "passed_time": 9.027504215,
                        "remaining_time": 20.2825744,
                        "test": [
                          2236103.522
                        ]
                      },
                      {
                        "learn": [
                          1764680.851
                        ],
                        "iteration": 308,
                        "passed_time": 9.062520037,
                        "remaining_time": 20.26602377,
                        "test": [
                          2236544.685
                        ]
                      },
                      {
                        "learn": [
                          1763268.369
                        ],
                        "iteration": 309,
                        "passed_time": 9.103717693,
                        "remaining_time": 20.26311358,
                        "test": [
                          2236825.8
                        ]
                      },
                      {
                        "learn": [
                          1761714.942
                        ],
                        "iteration": 310,
                        "passed_time": 9.137485376,
                        "remaining_time": 20.24349654,
                        "test": [
                          2236094.631
                        ]
                      },
                      {
                        "learn": [
                          1760617.268
                        ],
                        "iteration": 311,
                        "passed_time": 9.190446868,
                        "remaining_time": 20.26611361,
                        "test": [
                          2236095.849
                        ]
                      },
                      {
                        "learn": [
                          1759587.486
                        ],
                        "iteration": 312,
                        "passed_time": 9.261666072,
                        "remaining_time": 20.32832138,
                        "test": [
                          2235829.579
                        ]
                      },
                      {
                        "learn": [
                          1758410.677
                        ],
                        "iteration": 313,
                        "passed_time": 9.306129393,
                        "remaining_time": 20.33122536,
                        "test": [
                          2235993.966
                        ]
                      },
                      {
                        "learn": [
                          1757156.322
                        ],
                        "iteration": 314,
                        "passed_time": 9.336075984,
                        "remaining_time": 20.30226047,
                        "test": [
                          2234916.406
                        ]
                      },
                      {
                        "learn": [
                          1756584.319
                        ],
                        "iteration": 315,
                        "passed_time": 9.364986152,
                        "remaining_time": 20.27104598,
                        "test": [
                          2234895.595
                        ]
                      },
                      {
                        "learn": [
                          1756002.401
                        ],
                        "iteration": 316,
                        "passed_time": 9.39241211,
                        "remaining_time": 20.23664817,
                        "test": [
                          2234854.615
                        ]
                      },
                      {
                        "learn": [
                          1755050.698
                        ],
                        "iteration": 317,
                        "passed_time": 9.425071802,
                        "remaining_time": 20.21351877,
                        "test": [
                          2234739.678
                        ]
                      },
                      {
                        "learn": [
                          1753758.408
                        ],
                        "iteration": 318,
                        "passed_time": 9.452831634,
                        "remaining_time": 20.17986941,
                        "test": [
                          2234258.621
                        ]
                      },
                      {
                        "learn": [
                          1752251.583
                        ],
                        "iteration": 319,
                        "passed_time": 9.500298621,
                        "remaining_time": 20.18813457,
                        "test": [
                          2233819.463
                        ]
                      },
                      {
                        "learn": [
                          1751213.911
                        ],
                        "iteration": 320,
                        "passed_time": 9.540491225,
                        "remaining_time": 20.18066524,
                        "test": [
                          2233803.081
                        ]
                      },
                      {
                        "learn": [
                          1750796.658
                        ],
                        "iteration": 321,
                        "passed_time": 9.584614887,
                        "remaining_time": 20.18126986,
                        "test": [
                          2233741.609
                        ]
                      },
                      {
                        "learn": [
                          1749917.378
                        ],
                        "iteration": 322,
                        "passed_time": 9.62480962,
                        "remaining_time": 20.17336258,
                        "test": [
                          2233670.184
                        ]
                      },
                      {
                        "learn": [
                          1749247.482
                        ],
                        "iteration": 323,
                        "passed_time": 9.673390901,
                        "remaining_time": 20.18275386,
                        "test": [
                          2233637.307
                        ]
                      },
                      {
                        "learn": [
                          1747770.612
                        ],
                        "iteration": 324,
                        "passed_time": 9.723454662,
                        "remaining_time": 20.19486738,
                        "test": [
                          2233126.356
                        ]
                      },
                      {
                        "learn": [
                          1746535.611
                        ],
                        "iteration": 325,
                        "passed_time": 9.762190627,
                        "remaining_time": 20.1831794,
                        "test": [
                          2232865.503
                        ]
                      },
                      {
                        "learn": [
                          1745323.675
                        ],
                        "iteration": 326,
                        "passed_time": 9.805808821,
                        "remaining_time": 20.18137412,
                        "test": [
                          2233342.648
                        ]
                      },
                      {
                        "learn": [
                          1744700.109
                        ],
                        "iteration": 327,
                        "passed_time": 9.86933385,
                        "remaining_time": 20.22009862,
                        "test": [
                          2232886.796
                        ]
                      },
                      {
                        "learn": [
                          1743622.098
                        ],
                        "iteration": 328,
                        "passed_time": 9.931580125,
                        "remaining_time": 20.25559351,
                        "test": [
                          2232887.978
                        ]
                      },
                      {
                        "learn": [
                          1742284.41
                        ],
                        "iteration": 329,
                        "passed_time": 10.007573,
                        "remaining_time": 20.31840578,
                        "test": [
                          2233358.094
                        ]
                      },
                      {
                        "learn": [
                          1741541.184
                        ],
                        "iteration": 330,
                        "passed_time": 10.07715008,
                        "remaining_time": 20.36741209,
                        "test": [
                          2233176.979
                        ]
                      },
                      {
                        "learn": [
                          1740509.175
                        ],
                        "iteration": 331,
                        "passed_time": 10.14032355,
                        "remaining_time": 20.40281968,
                        "test": [
                          2233093.239
                        ]
                      },
                      {
                        "learn": [
                          1739184.673
                        ],
                        "iteration": 332,
                        "passed_time": 10.20513169,
                        "remaining_time": 20.44090942,
                        "test": [
                          2232624.784
                        ]
                      },
                      {
                        "learn": [
                          1738225.794
                        ],
                        "iteration": 333,
                        "passed_time": 10.29203768,
                        "remaining_time": 20.52244639,
                        "test": [
                          2233015.119
                        ]
                      },
                      {
                        "learn": [
                          1737443.542
                        ],
                        "iteration": 334,
                        "passed_time": 10.36547154,
                        "remaining_time": 20.57623456,
                        "test": [
                          2233312.155
                        ]
                      },
                      {
                        "learn": [
                          1735762.937
                        ],
                        "iteration": 335,
                        "passed_time": 10.40362992,
                        "remaining_time": 20.55955436,
                        "test": [
                          2233689.622
                        ]
                      },
                      {
                        "learn": [
                          1734967.181
                        ],
                        "iteration": 336,
                        "passed_time": 10.45765372,
                        "remaining_time": 20.5739597,
                        "test": [
                          2233894.283
                        ]
                      },
                      {
                        "learn": [
                          1734394.386
                        ],
                        "iteration": 337,
                        "passed_time": 10.50882971,
                        "remaining_time": 20.58238245,
                        "test": [
                          2234021.663
                        ]
                      },
                      {
                        "learn": [
                          1733505.398
                        ],
                        "iteration": 338,
                        "passed_time": 10.55477506,
                        "remaining_time": 20.58025461,
                        "test": [
                          2234137.635
                        ]
                      },
                      {
                        "learn": [
                          1732557.2
                        ],
                        "iteration": 339,
                        "passed_time": 10.59285913,
                        "remaining_time": 20.5626089,
                        "test": [
                          2233980.593
                        ]
                      },
                      {
                        "learn": [
                          1731990.082
                        ],
                        "iteration": 340,
                        "passed_time": 10.65954098,
                        "remaining_time": 20.60010999,
                        "test": [
                          2234264.054
                        ]
                      },
                      {
                        "learn": [
                          1730921.606
                        ],
                        "iteration": 341,
                        "passed_time": 10.69432317,
                        "remaining_time": 20.57562762,
                        "test": [
                          2234268.807
                        ]
                      },
                      {
                        "learn": [
                          1729814.531
                        ],
                        "iteration": 342,
                        "passed_time": 10.72260099,
                        "remaining_time": 20.53862638,
                        "test": [
                          2234278.713
                        ]
                      },
                      {
                        "learn": [
                          1728079.058
                        ],
                        "iteration": 343,
                        "passed_time": 10.74320291,
                        "remaining_time": 20.48703811,
                        "test": [
                          2234098.432
                        ]
                      },
                      {
                        "learn": [
                          1726795.894
                        ],
                        "iteration": 344,
                        "passed_time": 10.75918985,
                        "remaining_time": 20.42686769,
                        "test": [
                          2233054.475
                        ]
                      },
                      {
                        "learn": [
                          1725597.414
                        ],
                        "iteration": 345,
                        "passed_time": 10.77451262,
                        "remaining_time": 20.36569727,
                        "test": [
                          2232823.678
                        ]
                      },
                      {
                        "learn": [
                          1724807.318
                        ],
                        "iteration": 346,
                        "passed_time": 10.78861109,
                        "remaining_time": 20.30248715,
                        "test": [
                          2232972.277
                        ]
                      },
                      {
                        "learn": [
                          1723677.907
                        ],
                        "iteration": 347,
                        "passed_time": 10.81408807,
                        "remaining_time": 20.26087765,
                        "test": [
                          2232596.54
                        ]
                      },
                      {
                        "learn": [
                          1722179.063
                        ],
                        "iteration": 348,
                        "passed_time": 10.82908009,
                        "remaining_time": 20.19980268,
                        "test": [
                          2232407.619
                        ]
                      },
                      {
                        "learn": [
                          1720794.827
                        ],
                        "iteration": 349,
                        "passed_time": 10.85418223,
                        "remaining_time": 20.157767,
                        "test": [
                          2232238.432
                        ]
                      },
                      {
                        "learn": [
                          1719969.044
                        ],
                        "iteration": 350,
                        "passed_time": 10.88255874,
                        "remaining_time": 20.12188211,
                        "test": [
                          2232132.229
                        ]
                      },
                      {
                        "learn": [
                          1719323.786
                        ],
                        "iteration": 351,
                        "passed_time": 10.93493833,
                        "remaining_time": 20.13022739,
                        "test": [
                          2232124.35
                        ]
                      },
                      {
                        "learn": [
                          1718466.336
                        ],
                        "iteration": 352,
                        "passed_time": 10.97077448,
                        "remaining_time": 20.10790676,
                        "test": [
                          2232018.376
                        ]
                      },
                      {
                        "learn": [
                          1717666.457
                        ],
                        "iteration": 353,
                        "passed_time": 11.00573692,
                        "remaining_time": 20.0839154,
                        "test": [
                          2231933.688
                        ]
                      },
                      {
                        "learn": [
                          1717242.201
                        ],
                        "iteration": 354,
                        "passed_time": 11.05237284,
                        "remaining_time": 20.08107178,
                        "test": [
                          2231976.728
                        ]
                      },
                      {
                        "learn": [
                          1716243.923
                        ],
                        "iteration": 355,
                        "passed_time": 11.0809561,
                        "remaining_time": 20.04532508,
                        "test": [
                          2232002.03
                        ]
                      },
                      {
                        "learn": [
                          1715604.723
                        ],
                        "iteration": 356,
                        "passed_time": 11.1074603,
                        "remaining_time": 20.00587388,
                        "test": [
                          2232180.716
                        ]
                      },
                      {
                        "learn": [
                          1715071.817
                        ],
                        "iteration": 357,
                        "passed_time": 11.1353875,
                        "remaining_time": 19.96904685,
                        "test": [
                          2232196.334
                        ]
                      },
                      {
                        "learn": [
                          1714329.528
                        ],
                        "iteration": 358,
                        "passed_time": 11.16575458,
                        "remaining_time": 19.93662587,
                        "test": [
                          2232418.143
                        ]
                      },
                      {
                        "learn": [
                          1713623.675
                        ],
                        "iteration": 359,
                        "passed_time": 11.19757966,
                        "remaining_time": 19.90680828,
                        "test": [
                          2232613.087
                        ]
                      },
                      {
                        "learn": [
                          1713495.166
                        ],
                        "iteration": 360,
                        "passed_time": 11.22497099,
                        "remaining_time": 19.86913148,
                        "test": [
                          2232605.26
                        ]
                      },
                      {
                        "learn": [
                          1712186.412
                        ],
                        "iteration": 361,
                        "passed_time": 11.25807172,
                        "remaining_time": 19.84157391,
                        "test": [
                          2232636.953
                        ]
                      },
                      {
                        "learn": [
                          1711028.114
                        ],
                        "iteration": 362,
                        "passed_time": 11.2889244,
                        "remaining_time": 19.8100409,
                        "test": [
                          2232401.354
                        ]
                      },
                      {
                        "learn": [
                          1710366.568
                        ],
                        "iteration": 363,
                        "passed_time": 11.31082544,
                        "remaining_time": 19.76287082,
                        "test": [
                          2232364.258
                        ]
                      },
                      {
                        "learn": [
                          1709312.717
                        ],
                        "iteration": 364,
                        "passed_time": 11.3363292,
                        "remaining_time": 19.72210697,
                        "test": [
                          2232843.941
                        ]
                      },
                      {
                        "learn": [
                          1707568.029
                        ],
                        "iteration": 365,
                        "passed_time": 11.36706396,
                        "remaining_time": 19.69048784,
                        "test": [
                          2232440.252
                        ]
                      },
                      {
                        "learn": [
                          1707107.515
                        ],
                        "iteration": 366,
                        "passed_time": 11.41315911,
                        "remaining_time": 19.68536707,
                        "test": [
                          2232490.429
                        ]
                      },
                      {
                        "learn": [
                          1706022.78
                        ],
                        "iteration": 367,
                        "passed_time": 11.44463883,
                        "remaining_time": 19.6549232,
                        "test": [
                          2232433.551
                        ]
                      },
                      {
                        "learn": [
                          1704846.114
                        ],
                        "iteration": 368,
                        "passed_time": 11.4892872,
                        "remaining_time": 19.64699248,
                        "test": [
                          2233082.719
                        ]
                      },
                      {
                        "learn": [
                          1703905.592
                        ],
                        "iteration": 369,
                        "passed_time": 11.5322198,
                        "remaining_time": 19.63594182,
                        "test": [
                          2233613.15
                        ]
                      },
                      {
                        "learn": [
                          1703363.581
                        ],
                        "iteration": 370,
                        "passed_time": 11.57513041,
                        "remaining_time": 19.62468202,
                        "test": [
                          2233479.043
                        ]
                      },
                      {
                        "learn": [
                          1702517.091
                        ],
                        "iteration": 371,
                        "passed_time": 11.61817714,
                        "remaining_time": 19.61348183,
                        "test": [
                          2233158.732
                        ]
                      },
                      {
                        "learn": [
                          1701869.755
                        ],
                        "iteration": 372,
                        "passed_time": 11.64878943,
                        "remaining_time": 19.58120904,
                        "test": [
                          2233334.211
                        ]
                      },
                      {
                        "learn": [
                          1700995.229
                        ],
                        "iteration": 373,
                        "passed_time": 11.68960199,
                        "remaining_time": 19.5660183,
                        "test": [
                          2233308.149
                        ]
                      },
                      {
                        "learn": [
                          1700337.633
                        ],
                        "iteration": 374,
                        "passed_time": 11.72258354,
                        "remaining_time": 19.53763924,
                        "test": [
                          2233252.279
                        ]
                      },
                      {
                        "learn": [
                          1699604.585
                        ],
                        "iteration": 375,
                        "passed_time": 11.74570728,
                        "remaining_time": 19.49287591,
                        "test": [
                          2233089.396
                        ]
                      },
                      {
                        "learn": [
                          1698847.883
                        ],
                        "iteration": 376,
                        "passed_time": 11.78457211,
                        "remaining_time": 19.47423985,
                        "test": [
                          2233085.346
                        ]
                      },
                      {
                        "learn": [
                          1698222.017
                        ],
                        "iteration": 377,
                        "passed_time": 11.8211039,
                        "remaining_time": 19.45165774,
                        "test": [
                          2233146.171
                        ]
                      },
                      {
                        "learn": [
                          1697661.425
                        ],
                        "iteration": 378,
                        "passed_time": 11.85438851,
                        "remaining_time": 19.42368143,
                        "test": [
                          2233012.325
                        ]
                      },
                      {
                        "learn": [
                          1696749.648
                        ],
                        "iteration": 379,
                        "passed_time": 11.88996689,
                        "remaining_time": 19.39941966,
                        "test": [
                          2233057.242
                        ]
                      },
                      {
                        "learn": [
                          1696004.245
                        ],
                        "iteration": 380,
                        "passed_time": 11.92172289,
                        "remaining_time": 19.36888837,
                        "test": [
                          2232685.544
                        ]
                      },
                      {
                        "learn": [
                          1695458.78
                        ],
                        "iteration": 381,
                        "passed_time": 11.94877142,
                        "remaining_time": 19.33073492,
                        "test": [
                          2232659.094
                        ]
                      },
                      {
                        "learn": [
                          1694364.475
                        ],
                        "iteration": 382,
                        "passed_time": 11.98046298,
                        "remaining_time": 19.30011922,
                        "test": [
                          2232593.338
                        ]
                      },
                      {
                        "learn": [
                          1694014.738
                        ],
                        "iteration": 383,
                        "passed_time": 12.02734001,
                        "remaining_time": 19.29385793,
                        "test": [
                          2232545.38
                        ]
                      },
                      {
                        "learn": [
                          1693120.742
                        ],
                        "iteration": 384,
                        "passed_time": 12.05749704,
                        "remaining_time": 19.2606771,
                        "test": [
                          2232087.868
                        ]
                      },
                      {
                        "learn": [
                          1692311.39
                        ],
                        "iteration": 385,
                        "passed_time": 12.08936533,
                        "remaining_time": 19.23023397,
                        "test": [
                          2232091.454
                        ]
                      },
                      {
                        "learn": [
                          1690886.424
                        ],
                        "iteration": 386,
                        "passed_time": 12.10371906,
                        "remaining_time": 19.17204079,
                        "test": [
                          2230620.883
                        ]
                      },
                      {
                        "learn": [
                          1689818.55
                        ],
                        "iteration": 387,
                        "passed_time": 12.11892345,
                        "remaining_time": 19.11541534,
                        "test": [
                          2230682.081
                        ]
                      },
                      {
                        "learn": [
                          1688952.974
                        ],
                        "iteration": 388,
                        "passed_time": 12.13386183,
                        "remaining_time": 19.05858503,
                        "test": [
                          2230537.379
                        ]
                      },
                      {
                        "learn": [
                          1688067.52
                        ],
                        "iteration": 389,
                        "passed_time": 12.1527503,
                        "remaining_time": 19.00814791,
                        "test": [
                          2229809.681
                        ]
                      },
                      {
                        "learn": [
                          1686671.056
                        ],
                        "iteration": 390,
                        "passed_time": 12.17815584,
                        "remaining_time": 18.96802278,
                        "test": [
                          2229852.313
                        ]
                      },
                      {
                        "learn": [
                          1686087.814
                        ],
                        "iteration": 391,
                        "passed_time": 12.19976589,
                        "remaining_time": 18.92208587,
                        "test": [
                          2229892.878
                        ]
                      },
                      {
                        "learn": [
                          1685408.186
                        ],
                        "iteration": 392,
                        "passed_time": 12.25034559,
                        "remaining_time": 18.92101723,
                        "test": [
                          2229965.823
                        ]
                      },
                      {
                        "learn": [
                          1684496.742
                        ],
                        "iteration": 393,
                        "passed_time": 12.29879538,
                        "remaining_time": 18.91642133,
                        "test": [
                          2229579.546
                        ]
                      },
                      {
                        "learn": [
                          1683467.554
                        ],
                        "iteration": 394,
                        "passed_time": 12.36030378,
                        "remaining_time": 18.93160453,
                        "test": [
                          2229861.307
                        ]
                      },
                      {
                        "learn": [
                          1682979.591
                        ],
                        "iteration": 395,
                        "passed_time": 12.39681452,
                        "remaining_time": 18.90827264,
                        "test": [
                          2229713.694
                        ]
                      },
                      {
                        "learn": [
                          1681800.522
                        ],
                        "iteration": 396,
                        "passed_time": 12.44940663,
                        "remaining_time": 18.90930024,
                        "test": [
                          2229489.941
                        ]
                      },
                      {
                        "learn": [
                          1680859.135
                        ],
                        "iteration": 397,
                        "passed_time": 12.50363472,
                        "remaining_time": 18.91253292,
                        "test": [
                          2229642.783
                        ]
                      },
                      {
                        "learn": [
                          1680242.078
                        ],
                        "iteration": 398,
                        "passed_time": 12.55495793,
                        "remaining_time": 18.91110204,
                        "test": [
                          2229902.013
                        ]
                      },
                      {
                        "learn": [
                          1679415.985
                        ],
                        "iteration": 399,
                        "passed_time": 12.60047553,
                        "remaining_time": 18.90071329,
                        "test": [
                          2229333.128
                        ]
                      },
                      {
                        "learn": [
                          1678673.212
                        ],
                        "iteration": 400,
                        "passed_time": 12.63525326,
                        "remaining_time": 18.87410649,
                        "test": [
                          2229520.86
                        ]
                      },
                      {
                        "learn": [
                          1677934.087
                        ],
                        "iteration": 401,
                        "passed_time": 12.68812917,
                        "remaining_time": 18.8743812,
                        "test": [
                          2229879.119
                        ]
                      },
                      {
                        "learn": [
                          1677399.032
                        ],
                        "iteration": 402,
                        "passed_time": 12.73584284,
                        "remaining_time": 18.86674485,
                        "test": [
                          2229698.911
                        ]
                      },
                      {
                        "learn": [
                          1676446.638
                        ],
                        "iteration": 403,
                        "passed_time": 12.7787673,
                        "remaining_time": 18.85184483,
                        "test": [
                          2229562.485
                        ]
                      },
                      {
                        "learn": [
                          1675787.623
                        ],
                        "iteration": 404,
                        "passed_time": 12.8320116,
                        "remaining_time": 18.85196766,
                        "test": [
                          2229521.883
                        ]
                      },
                      {
                        "learn": [
                          1675383.779
                        ],
                        "iteration": 405,
                        "passed_time": 12.87044476,
                        "remaining_time": 18.83015809,
                        "test": [
                          2229552.231
                        ]
                      },
                      {
                        "learn": [
                          1674567.407
                        ],
                        "iteration": 406,
                        "passed_time": 12.90592079,
                        "remaining_time": 18.8039583,
                        "test": [
                          2229932.33
                        ]
                      },
                      {
                        "learn": [
                          1673438.953
                        ],
                        "iteration": 407,
                        "passed_time": 12.93233126,
                        "remaining_time": 18.76455908,
                        "test": [
                          2230175.125
                        ]
                      },
                      {
                        "learn": [
                          1672481.868
                        ],
                        "iteration": 408,
                        "passed_time": 12.96432418,
                        "remaining_time": 18.73328996,
                        "test": [
                          2229720.685
                        ]
                      },
                      {
                        "learn": [
                          1671432.293
                        ],
                        "iteration": 409,
                        "passed_time": 12.99660069,
                        "remaining_time": 18.70242538,
                        "test": [
                          2229542.957
                        ]
                      },
                      {
                        "learn": [
                          1670709.501
                        ],
                        "iteration": 410,
                        "passed_time": 13.02983664,
                        "remaining_time": 18.67292891,
                        "test": [
                          2229339.022
                        ]
                      },
                      {
                        "learn": [
                          1669936.536
                        ],
                        "iteration": 411,
                        "passed_time": 13.07521372,
                        "remaining_time": 18.6607419,
                        "test": [
                          2229488.558
                        ]
                      },
                      {
                        "learn": [
                          1669060.353
                        ],
                        "iteration": 412,
                        "passed_time": 13.10447316,
                        "remaining_time": 18.62548607,
                        "test": [
                          2229280.344
                        ]
                      },
                      {
                        "learn": [
                          1668299.955
                        ],
                        "iteration": 413,
                        "passed_time": 13.13106328,
                        "remaining_time": 18.58648087,
                        "test": [
                          2229314.856
                        ]
                      },
                      {
                        "learn": [
                          1667380.434
                        ],
                        "iteration": 414,
                        "passed_time": 13.15854687,
                        "remaining_time": 18.54879499,
                        "test": [
                          2229058.378
                        ]
                      },
                      {
                        "learn": [
                          1666382.601
                        ],
                        "iteration": 415,
                        "passed_time": 13.2130665,
                        "remaining_time": 18.54911259,
                        "test": [
                          2229328.375
                        ]
                      },
                      {
                        "learn": [
                          1665085.64
                        ],
                        "iteration": 416,
                        "passed_time": 13.24109357,
                        "remaining_time": 18.51212841,
                        "test": [
                          2228102.114
                        ]
                      },
                      {
                        "learn": [
                          1664076.232
                        ],
                        "iteration": 417,
                        "passed_time": 13.26872194,
                        "remaining_time": 18.47463199,
                        "test": [
                          2227976.834
                        ]
                      },
                      {
                        "learn": [
                          1663010.912
                        ],
                        "iteration": 418,
                        "passed_time": 13.28419809,
                        "remaining_time": 18.42033195,
                        "test": [
                          2228322.619
                        ]
                      },
                      {
                        "learn": [
                          1662239.921
                        ],
                        "iteration": 419,
                        "passed_time": 13.31579573,
                        "remaining_time": 18.38847981,
                        "test": [
                          2228012.055
                        ]
                      },
                      {
                        "learn": [
                          1661529.247
                        ],
                        "iteration": 420,
                        "passed_time": 13.33072743,
                        "remaining_time": 18.33370827,
                        "test": [
                          2227974.968
                        ]
                      },
                      {
                        "learn": [
                          1660835.122
                        ],
                        "iteration": 421,
                        "passed_time": 13.34586381,
                        "remaining_time": 18.27940589,
                        "test": [
                          2227860.377
                        ]
                      },
                      {
                        "learn": [
                          1660358.701
                        ],
                        "iteration": 422,
                        "passed_time": 13.36262504,
                        "remaining_time": 18.22750507,
                        "test": [
                          2228289.529
                        ]
                      },
                      {
                        "learn": [
                          1659755.207
                        ],
                        "iteration": 423,
                        "passed_time": 13.37836049,
                        "remaining_time": 18.17437651,
                        "test": [
                          2228417.446
                        ]
                      },
                      {
                        "learn": [
                          1658872.91
                        ],
                        "iteration": 424,
                        "passed_time": 13.40134073,
                        "remaining_time": 18.13122569,
                        "test": [
                          2228204.837
                        ]
                      },
                      {
                        "learn": [
                          1657805.839
                        ],
                        "iteration": 425,
                        "passed_time": 13.43815225,
                        "remaining_time": 18.10680608,
                        "test": [
                          2228101.965
                        ]
                      },
                      {
                        "learn": [
                          1657096.567
                        ],
                        "iteration": 426,
                        "passed_time": 13.47456497,
                        "remaining_time": 18.08179328,
                        "test": [
                          2227818.629
                        ]
                      },
                      {
                        "learn": [
                          1656023.36
                        ],
                        "iteration": 427,
                        "passed_time": 13.50992213,
                        "remaining_time": 18.05531649,
                        "test": [
                          2226325.431
                        ]
                      },
                      {
                        "learn": [
                          1655552.11
                        ],
                        "iteration": 428,
                        "passed_time": 13.5395496,
                        "remaining_time": 18.02117208,
                        "test": [
                          2226208.866
                        ]
                      },
                      {
                        "learn": [
                          1654964.435
                        ],
                        "iteration": 429,
                        "passed_time": 13.57031799,
                        "remaining_time": 17.98856106,
                        "test": [
                          2226283.618
                        ]
                      },
                      {
                        "learn": [
                          1654239.773
                        ],
                        "iteration": 430,
                        "passed_time": 13.60263633,
                        "remaining_time": 17.9580048,
                        "test": [
                          2226456.599
                        ]
                      },
                      {
                        "learn": [
                          1653273.901
                        ],
                        "iteration": 431,
                        "passed_time": 13.6321616,
                        "remaining_time": 17.92376803,
                        "test": [
                          2226433.155
                        ]
                      },
                      {
                        "learn": [
                          1652603.295
                        ],
                        "iteration": 432,
                        "passed_time": 13.66425452,
                        "remaining_time": 17.89291527,
                        "test": [
                          2226396.202
                        ]
                      },
                      {
                        "learn": [
                          1652081.481
                        ],
                        "iteration": 433,
                        "passed_time": 13.69522297,
                        "remaining_time": 17.86059032,
                        "test": [
                          2226606.742
                        ]
                      },
                      {
                        "learn": [
                          1651466.188
                        ],
                        "iteration": 434,
                        "passed_time": 13.71270853,
                        "remaining_time": 17.81075936,
                        "test": [
                          2226668.908
                        ]
                      },
                      {
                        "learn": [
                          1649950.093
                        ],
                        "iteration": 435,
                        "passed_time": 13.72992813,
                        "remaining_time": 17.76073272,
                        "test": [
                          2226203.407
                        ]
                      },
                      {
                        "learn": [
                          1649574.846
                        ],
                        "iteration": 436,
                        "passed_time": 13.75227254,
                        "remaining_time": 17.71745867,
                        "test": [
                          2226571.092
                        ]
                      },
                      {
                        "learn": [
                          1649206.357
                        ],
                        "iteration": 437,
                        "passed_time": 13.77992315,
                        "remaining_time": 17.6810886,
                        "test": [
                          2226690.912
                        ]
                      },
                      {
                        "learn": [
                          1648126.556
                        ],
                        "iteration": 438,
                        "passed_time": 13.81321306,
                        "remaining_time": 17.65196475,
                        "test": [
                          2226766.379
                        ]
                      },
                      {
                        "learn": [
                          1647589.343
                        ],
                        "iteration": 439,
                        "passed_time": 13.83311956,
                        "remaining_time": 17.60578853,
                        "test": [
                          2227046.701
                        ]
                      },
                      {
                        "learn": [
                          1646667.403
                        ],
                        "iteration": 440,
                        "passed_time": 13.85031203,
                        "remaining_time": 17.55629122,
                        "test": [
                          2226646.579
                        ]
                      },
                      {
                        "learn": [
                          1645721.284
                        ],
                        "iteration": 441,
                        "passed_time": 13.87123205,
                        "remaining_time": 17.51164589,
                        "test": [
                          2226273.502
                        ]
                      },
                      {
                        "learn": [
                          1644931.51
                        ],
                        "iteration": 442,
                        "passed_time": 13.90099669,
                        "remaining_time": 17.47822834,
                        "test": [
                          2226221.489
                        ]
                      },
                      {
                        "learn": [
                          1644475.906
                        ],
                        "iteration": 443,
                        "passed_time": 13.93008712,
                        "remaining_time": 17.44398296,
                        "test": [
                          2226566.5
                        ]
                      },
                      {
                        "learn": [
                          1643116.761
                        ],
                        "iteration": 444,
                        "passed_time": 13.95963738,
                        "remaining_time": 17.41033426,
                        "test": [
                          2226905.095
                        ]
                      },
                      {
                        "learn": [
                          1642022.472
                        ],
                        "iteration": 445,
                        "passed_time": 14.00029419,
                        "remaining_time": 17.39049996,
                        "test": [
                          2226591.511
                        ]
                      },
                      {
                        "learn": [
                          1641152.776
                        ],
                        "iteration": 446,
                        "passed_time": 14.02751415,
                        "remaining_time": 17.35394928,
                        "test": [
                          2226820.315
                        ]
                      },
                      {
                        "learn": [
                          1640584.839
                        ],
                        "iteration": 447,
                        "passed_time": 14.06295183,
                        "remaining_time": 17.32756565,
                        "test": [
                          2226952.06
                        ]
                      },
                      {
                        "learn": [
                          1639575.761
                        ],
                        "iteration": 448,
                        "passed_time": 14.10740689,
                        "remaining_time": 17.31220757,
                        "test": [
                          2226903.2
                        ]
                      },
                      {
                        "learn": [
                          1639337.703
                        ],
                        "iteration": 449,
                        "passed_time": 14.13366757,
                        "remaining_time": 17.27448259,
                        "test": [
                          2227157.227
                        ]
                      },
                      {
                        "learn": [
                          1638493.332
                        ],
                        "iteration": 450,
                        "passed_time": 14.16261385,
                        "remaining_time": 17.24007761,
                        "test": [
                          2227296.173
                        ]
                      },
                      {
                        "learn": [
                          1638005.466
                        ],
                        "iteration": 451,
                        "passed_time": 14.18824352,
                        "remaining_time": 17.20167577,
                        "test": [
                          2227334.859
                        ]
                      },
                      {
                        "learn": [
                          1636954.005
                        ],
                        "iteration": 452,
                        "passed_time": 14.22324668,
                        "remaining_time": 17.17464886,
                        "test": [
                          2227632.649
                        ]
                      },
                      {
                        "learn": [
                          1635558.536
                        ],
                        "iteration": 453,
                        "passed_time": 14.2516376,
                        "remaining_time": 17.13963465,
                        "test": [
                          2226996.806
                        ]
                      },
                      {
                        "learn": [
                          1634017.917
                        ],
                        "iteration": 454,
                        "passed_time": 14.27253431,
                        "remaining_time": 17.09567296,
                        "test": [
                          2227156.728
                        ]
                      },
                      {
                        "learn": [
                          1633255.628
                        ],
                        "iteration": 455,
                        "passed_time": 14.28807454,
                        "remaining_time": 17.04542226,
                        "test": [
                          2227029.448
                        ]
                      },
                      {
                        "learn": [
                          1632511.906
                        ],
                        "iteration": 456,
                        "passed_time": 14.30813591,
                        "remaining_time": 17.00069541,
                        "test": [
                          2226784.598
                        ]
                      },
                      {
                        "learn": [
                          1631188.486
                        ],
                        "iteration": 457,
                        "passed_time": 14.34776575,
                        "remaining_time": 16.9792337,
                        "test": [
                          2227392.682
                        ]
                      },
                      {
                        "learn": [
                          1630344.385
                        ],
                        "iteration": 458,
                        "passed_time": 14.36589372,
                        "remaining_time": 16.93234968,
                        "test": [
                          2227425.129
                        ]
                      },
                      {
                        "learn": [
                          1629357.483
                        ],
                        "iteration": 459,
                        "passed_time": 14.39149312,
                        "remaining_time": 16.89436149,
                        "test": [
                          2227580.339
                        ]
                      },
                      {
                        "learn": [
                          1628672.437
                        ],
                        "iteration": 460,
                        "passed_time": 14.41265042,
                        "remaining_time": 16.85123335,
                        "test": [
                          2227751.966
                        ]
                      },
                      {
                        "learn": [
                          1628191.07
                        ],
                        "iteration": 461,
                        "passed_time": 14.43243654,
                        "remaining_time": 16.80660359,
                        "test": [
                          2227693.031
                        ]
                      },
                      {
                        "learn": [
                          1627399.01
                        ],
                        "iteration": 462,
                        "passed_time": 14.45869592,
                        "remaining_time": 16.76958901,
                        "test": [
                          2227752.19
                        ]
                      },
                      {
                        "learn": [
                          1626414.046
                        ],
                        "iteration": 463,
                        "passed_time": 14.52747072,
                        "remaining_time": 16.78173341,
                        "test": [
                          2227200.483
                        ]
                      },
                      {
                        "learn": [
                          1625719.91
                        ],
                        "iteration": 464,
                        "passed_time": 14.55952835,
                        "remaining_time": 16.75128531,
                        "test": [
                          2227096.647
                        ]
                      },
                      {
                        "learn": [
                          1624217.465
                        ],
                        "iteration": 465,
                        "passed_time": 14.60579349,
                        "remaining_time": 16.737111,
                        "test": [
                          2227053.459
                        ]
                      },
                      {
                        "learn": [
                          1622908.585
                        ],
                        "iteration": 466,
                        "passed_time": 14.63569342,
                        "remaining_time": 16.70412118,
                        "test": [
                          2227038.417
                        ]
                      },
                      {
                        "learn": [
                          1621715.63
                        ],
                        "iteration": 467,
                        "passed_time": 14.65127268,
                        "remaining_time": 16.65486553,
                        "test": [
                          2227256.681
                        ]
                      },
                      {
                        "learn": [
                          1621216.176
                        ],
                        "iteration": 468,
                        "passed_time": 14.66926237,
                        "remaining_time": 16.60848255,
                        "test": [
                          2227136.643
                        ]
                      },
                      {
                        "learn": [
                          1620338.519
                        ],
                        "iteration": 469,
                        "passed_time": 14.68949179,
                        "remaining_time": 16.56474607,
                        "test": [
                          2227338.494
                        ]
                      },
                      {
                        "learn": [
                          1620150.082
                        ],
                        "iteration": 470,
                        "passed_time": 14.70439892,
                        "remaining_time": 16.5151317,
                        "test": [
                          2227307.513
                        ]
                      },
                      {
                        "learn": [
                          1619137.041
                        ],
                        "iteration": 471,
                        "passed_time": 14.72044493,
                        "remaining_time": 16.46693839,
                        "test": [
                          2227525.706
                        ]
                      },
                      {
                        "learn": [
                          1618630.315
                        ],
                        "iteration": 472,
                        "passed_time": 14.7524263,
                        "remaining_time": 16.43663565,
                        "test": [
                          2227451.18
                        ]
                      },
                      {
                        "learn": [
                          1617904.441
                        ],
                        "iteration": 473,
                        "passed_time": 14.78597778,
                        "remaining_time": 16.40806817,
                        "test": [
                          2227069.659
                        ]
                      },
                      {
                        "learn": [
                          1617091.438
                        ],
                        "iteration": 474,
                        "passed_time": 14.81254116,
                        "remaining_time": 16.37175602,
                        "test": [
                          2226784.45
                        ]
                      },
                      {
                        "learn": [
                          1616431.218
                        ],
                        "iteration": 475,
                        "passed_time": 14.84427964,
                        "remaining_time": 16.34118179,
                        "test": [
                          2226623.566
                        ]
                      },
                      {
                        "learn": [
                          1615109.206
                        ],
                        "iteration": 476,
                        "passed_time": 14.87503969,
                        "remaining_time": 16.30952989,
                        "test": [
                          2226679.593
                        ]
                      },
                      {
                        "learn": [
                          1614716.518
                        ],
                        "iteration": 477,
                        "passed_time": 14.9060255,
                        "remaining_time": 16.27812827,
                        "test": [
                          2226827.624
                        ]
                      },
                      {
                        "learn": [
                          1613350.058
                        ],
                        "iteration": 478,
                        "passed_time": 14.940926,
                        "remaining_time": 16.25098632,
                        "test": [
                          2227404.066
                        ]
                      },
                      {
                        "learn": [
                          1613278.77
                        ],
                        "iteration": 479,
                        "passed_time": 14.96692493,
                        "remaining_time": 16.21416867,
                        "test": [
                          2227531.88
                        ]
                      },
                      {
                        "learn": [
                          1612165.047
                        ],
                        "iteration": 480,
                        "passed_time": 14.99644016,
                        "remaining_time": 16.18119011,
                        "test": [
                          2227722.902
                        ]
                      },
                      {
                        "learn": [
                          1611662.441
                        ],
                        "iteration": 481,
                        "passed_time": 15.03076877,
                        "remaining_time": 16.15339881,
                        "test": [
                          2227790.799
                        ]
                      },
                      {
                        "learn": [
                          1610927.107
                        ],
                        "iteration": 482,
                        "passed_time": 15.06367097,
                        "remaining_time": 16.12405361,
                        "test": [
                          2227854.607
                        ]
                      },
                      {
                        "learn": [
                          1609936.636
                        ],
                        "iteration": 483,
                        "passed_time": 15.09285416,
                        "remaining_time": 16.09072882,
                        "test": [
                          2228111.586
                        ]
                      },
                      {
                        "learn": [
                          1609228.401
                        ],
                        "iteration": 484,
                        "passed_time": 15.1164109,
                        "remaining_time": 16.05144662,
                        "test": [
                          2228202.294
                        ]
                      },
                      {
                        "learn": [
                          1608141.945
                        ],
                        "iteration": 485,
                        "passed_time": 15.1406901,
                        "remaining_time": 16.01299323,
                        "test": [
                          2228666.058
                        ]
                      },
                      {
                        "learn": [
                          1606952.049
                        ],
                        "iteration": 486,
                        "passed_time": 15.17059106,
                        "remaining_time": 15.98051995,
                        "test": [
                          2228985.83
                        ]
                      },
                      {
                        "learn": [
                          1606345.746
                        ],
                        "iteration": 487,
                        "passed_time": 15.19746858,
                        "remaining_time": 15.94488507,
                        "test": [
                          2229302.897
                        ]
                      },
                      {
                        "learn": [
                          1605760.585
                        ],
                        "iteration": 488,
                        "passed_time": 15.22348884,
                        "remaining_time": 15.90839018,
                        "test": [
                          2229498.173
                        ]
                      },
                      {
                        "learn": [
                          1605494.587
                        ],
                        "iteration": 489,
                        "passed_time": 15.25676113,
                        "remaining_time": 15.87948607,
                        "test": [
                          2229409.278
                        ]
                      },
                      {
                        "learn": [
                          1604562.185
                        ],
                        "iteration": 490,
                        "passed_time": 15.28152765,
                        "remaining_time": 15.84174659,
                        "test": [
                          2229147.666
                        ]
                      },
                      {
                        "learn": [
                          1603639.372
                        ],
                        "iteration": 491,
                        "passed_time": 15.30551946,
                        "remaining_time": 15.80325993,
                        "test": [
                          2228927.671
                        ]
                      },
                      {
                        "learn": [
                          1602857.656
                        ],
                        "iteration": 492,
                        "passed_time": 15.33889729,
                        "remaining_time": 15.77448464,
                        "test": [
                          2228895.327
                        ]
                      },
                      {
                        "learn": [
                          1602092.438
                        ],
                        "iteration": 493,
                        "passed_time": 15.36623184,
                        "remaining_time": 15.73950063,
                        "test": [
                          2229344.123
                        ]
                      },
                      {
                        "learn": [
                          1601394.881
                        ],
                        "iteration": 494,
                        "passed_time": 15.40197025,
                        "remaining_time": 15.71312117,
                        "test": [
                          2229415.323
                        ]
                      },
                      {
                        "learn": [
                          1600497.36
                        ],
                        "iteration": 495,
                        "passed_time": 15.46112822,
                        "remaining_time": 15.71050126,
                        "test": [
                          2229690.46
                        ]
                      },
                      {
                        "learn": [
                          1599942.527
                        ],
                        "iteration": 496,
                        "passed_time": 15.48689866,
                        "remaining_time": 15.67386323,
                        "test": [
                          2229799.454
                        ]
                      },
                      {
                        "learn": [
                          1598849.2
                        ],
                        "iteration": 497,
                        "passed_time": 15.51383137,
                        "remaining_time": 15.63844046,
                        "test": [
                          2229930.139
                        ]
                      },
                      {
                        "learn": [
                          1598067.586
                        ],
                        "iteration": 498,
                        "passed_time": 15.53518436,
                        "remaining_time": 15.59744963,
                        "test": [
                          2229423.946
                        ]
                      },
                      {
                        "learn": [
                          1597484.937
                        ],
                        "iteration": 499,
                        "passed_time": 15.59072512,
                        "remaining_time": 15.59072512,
                        "test": [
                          2229038.68
                        ]
                      },
                      {
                        "learn": [
                          1596768.523
                        ],
                        "iteration": 500,
                        "passed_time": 15.62374066,
                        "remaining_time": 15.56137044,
                        "test": [
                          2228871.69
                        ]
                      },
                      {
                        "learn": [
                          1596197.291
                        ],
                        "iteration": 501,
                        "passed_time": 15.65044735,
                        "remaining_time": 15.52574259,
                        "test": [
                          2228590.934
                        ]
                      },
                      {
                        "learn": [
                          1595745.924
                        ],
                        "iteration": 502,
                        "passed_time": 15.680017,
                        "remaining_time": 15.49297902,
                        "test": [
                          2228652.43
                        ]
                      },
                      {
                        "learn": [
                          1595362.551
                        ],
                        "iteration": 503,
                        "passed_time": 15.71309623,
                        "remaining_time": 15.46368201,
                        "test": [
                          2228692.698
                        ]
                      },
                      {
                        "learn": [
                          1595009.197
                        ],
                        "iteration": 504,
                        "passed_time": 15.76071205,
                        "remaining_time": 15.44861874,
                        "test": [
                          2228407.353
                        ]
                      },
                      {
                        "learn": [
                          1594601.842
                        ],
                        "iteration": 505,
                        "passed_time": 15.77550065,
                        "remaining_time": 15.4013781,
                        "test": [
                          2228498.878
                        ]
                      },
                      {
                        "learn": [
                          1594053.903
                        ],
                        "iteration": 506,
                        "passed_time": 15.79155271,
                        "remaining_time": 15.35549405,
                        "test": [
                          2228821.046
                        ]
                      },
                      {
                        "learn": [
                          1593556.067
                        ],
                        "iteration": 507,
                        "passed_time": 15.80639647,
                        "remaining_time": 15.30855721,
                        "test": [
                          2228721.688
                        ]
                      },
                      {
                        "learn": [
                          1592902.231
                        ],
                        "iteration": 508,
                        "passed_time": 15.82185866,
                        "remaining_time": 15.26234303,
                        "test": [
                          2228594.067
                        ]
                      },
                      {
                        "learn": [
                          1591468.82
                        ],
                        "iteration": 509,
                        "passed_time": 15.8542051,
                        "remaining_time": 15.23247156,
                        "test": [
                          2228529.522
                        ]
                      },
                      {
                        "learn": [
                          1590886.998
                        ],
                        "iteration": 510,
                        "passed_time": 15.89582603,
                        "remaining_time": 15.21146562,
                        "test": [
                          2227977.764
                        ]
                      },
                      {
                        "learn": [
                          1590545.811
                        ],
                        "iteration": 511,
                        "passed_time": 15.92148844,
                        "remaining_time": 15.17516867,
                        "test": [
                          2227906.534
                        ]
                      },
                      {
                        "learn": [
                          1589722.659
                        ],
                        "iteration": 512,
                        "passed_time": 15.95557779,
                        "remaining_time": 15.14691303,
                        "test": [
                          2227640.569
                        ]
                      },
                      {
                        "learn": [
                          1588963.356
                        ],
                        "iteration": 513,
                        "passed_time": 15.98195138,
                        "remaining_time": 15.11133925,
                        "test": [
                          2227974.469
                        ]
                      },
                      {
                        "learn": [
                          1588439.964
                        ],
                        "iteration": 514,
                        "passed_time": 16.01217916,
                        "remaining_time": 15.07943086,
                        "test": [
                          2228230.051
                        ]
                      },
                      {
                        "learn": [
                          1587885.988
                        ],
                        "iteration": 515,
                        "passed_time": 16.04613764,
                        "remaining_time": 15.05102833,
                        "test": [
                          2228437.825
                        ]
                      },
                      {
                        "learn": [
                          1587291.06
                        ],
                        "iteration": 516,
                        "passed_time": 16.0735105,
                        "remaining_time": 15.01645178,
                        "test": [
                          2228516.192
                        ]
                      },
                      {
                        "learn": [
                          1586399.409
                        ],
                        "iteration": 517,
                        "passed_time": 16.10362108,
                        "remaining_time": 14.9844505,
                        "test": [
                          2228255.187
                        ]
                      },
                      {
                        "learn": [
                          1585632.174
                        ],
                        "iteration": 518,
                        "passed_time": 16.14137401,
                        "remaining_time": 14.95953931,
                        "test": [
                          2228220.313
                        ]
                      },
                      {
                        "learn": [
                          1584461.345
                        ],
                        "iteration": 519,
                        "passed_time": 16.19010137,
                        "remaining_time": 14.94470896,
                        "test": [
                          2228292.472
                        ]
                      },
                      {
                        "learn": [
                          1584023.476
                        ],
                        "iteration": 520,
                        "passed_time": 16.2269429,
                        "remaining_time": 14.91882083,
                        "test": [
                          2228304.067
                        ]
                      },
                      {
                        "learn": [
                          1583808.932
                        ],
                        "iteration": 521,
                        "passed_time": 16.26256603,
                        "remaining_time": 14.89177502,
                        "test": [
                          2228511.47
                        ]
                      },
                      {
                        "learn": [
                          1582688.933
                        ],
                        "iteration": 522,
                        "passed_time": 16.30893661,
                        "remaining_time": 14.87449859,
                        "test": [
                          2228245.309
                        ]
                      },
                      {
                        "learn": [
                          1581832.05
                        ],
                        "iteration": 523,
                        "passed_time": 16.32371834,
                        "remaining_time": 14.82841589,
                        "test": [
                          2228384.767
                        ]
                      },
                      {
                        "learn": [
                          1581158.309
                        ],
                        "iteration": 524,
                        "passed_time": 16.34375552,
                        "remaining_time": 14.78720738,
                        "test": [
                          2228160.323
                        ]
                      },
                      {
                        "learn": [
                          1580672.013
                        ],
                        "iteration": 525,
                        "passed_time": 16.36149018,
                        "remaining_time": 14.74400446,
                        "test": [
                          2228064.271
                        ]
                      },
                      {
                        "learn": [
                          1580090.696
                        ],
                        "iteration": 526,
                        "passed_time": 16.37714044,
                        "remaining_time": 14.69902738,
                        "test": [
                          2228389.627
                        ]
                      },
                      {
                        "learn": [
                          1579281.001
                        ],
                        "iteration": 527,
                        "passed_time": 16.4051034,
                        "remaining_time": 14.66516819,
                        "test": [
                          2227949.938
                        ]
                      },
                      {
                        "learn": [
                          1578715.299
                        ],
                        "iteration": 528,
                        "passed_time": 16.4303595,
                        "remaining_time": 14.62892122,
                        "test": [
                          2227835.036
                        ]
                      },
                      {
                        "learn": [
                          1577661.657
                        ],
                        "iteration": 529,
                        "passed_time": 16.4604462,
                        "remaining_time": 14.59699946,
                        "test": [
                          2228105.126
                        ]
                      },
                      {
                        "learn": [
                          1576613.166
                        ],
                        "iteration": 530,
                        "passed_time": 16.48597622,
                        "remaining_time": 14.56105998,
                        "test": [
                          2227669.451
                        ]
                      },
                      {
                        "learn": [
                          1575636.214
                        ],
                        "iteration": 531,
                        "passed_time": 16.53475849,
                        "remaining_time": 14.54561461,
                        "test": [
                          2228309.447
                        ]
                      },
                      {
                        "learn": [
                          1574728.579
                        ],
                        "iteration": 532,
                        "passed_time": 16.55961667,
                        "remaining_time": 14.50908252,
                        "test": [
                          2228462.184
                        ]
                      },
                      {
                        "learn": [
                          1574043.922
                        ],
                        "iteration": 533,
                        "passed_time": 16.59063926,
                        "remaining_time": 14.47797358,
                        "test": [
                          2228727.646
                        ]
                      },
                      {
                        "learn": [
                          1573715.496
                        ],
                        "iteration": 534,
                        "passed_time": 16.60794198,
                        "remaining_time": 14.43494023,
                        "test": [
                          2228634.003
                        ]
                      },
                      {
                        "learn": [
                          1573462.598
                        ],
                        "iteration": 535,
                        "passed_time": 16.6755579,
                        "remaining_time": 14.43555758,
                        "test": [
                          2228783.29
                        ]
                      },
                      {
                        "learn": [
                          1572797.384
                        ],
                        "iteration": 536,
                        "passed_time": 16.72981998,
                        "remaining_time": 14.42440717,
                        "test": [
                          2228769.777
                        ]
                      },
                      {
                        "learn": [
                          1572040.884
                        ],
                        "iteration": 537,
                        "passed_time": 16.75611638,
                        "remaining_time": 14.38908135,
                        "test": [
                          2228683.512
                        ]
                      },
                      {
                        "learn": [
                          1571078.429
                        ],
                        "iteration": 538,
                        "passed_time": 16.83376138,
                        "remaining_time": 14.39770686,
                        "test": [
                          2228611.38
                        ]
                      },
                      {
                        "learn": [
                          1570200.153
                        ],
                        "iteration": 539,
                        "passed_time": 16.88012455,
                        "remaining_time": 14.37936536,
                        "test": [
                          2228908.899
                        ]
                      },
                      {
                        "learn": [
                          1569532.219
                        ],
                        "iteration": 540,
                        "passed_time": 16.91590975,
                        "remaining_time": 14.35194561,
                        "test": [
                          2229963.274
                        ]
                      },
                      {
                        "learn": [
                          1568501.019
                        ],
                        "iteration": 541,
                        "passed_time": 16.96521754,
                        "remaining_time": 14.33592183,
                        "test": [
                          2230128.357
                        ]
                      },
                      {
                        "learn": [
                          1567872.211
                        ],
                        "iteration": 542,
                        "passed_time": 16.99732298,
                        "remaining_time": 14.30529761,
                        "test": [
                          2230169.779
                        ]
                      },
                      {
                        "learn": [
                          1567482.305
                        ],
                        "iteration": 543,
                        "passed_time": 17.02310858,
                        "remaining_time": 14.26937043,
                        "test": [
                          2230215.328
                        ]
                      },
                      {
                        "learn": [
                          1566820.555
                        ],
                        "iteration": 544,
                        "passed_time": 17.04577841,
                        "remaining_time": 14.23087922,
                        "test": [
                          2230121.595
                        ]
                      },
                      {
                        "learn": [
                          1565841.714
                        ],
                        "iteration": 545,
                        "passed_time": 17.07914866,
                        "remaining_time": 14.20134339,
                        "test": [
                          2230480.003
                        ]
                      },
                      {
                        "learn": [
                          1564792.842
                        ],
                        "iteration": 546,
                        "passed_time": 17.10229144,
                        "remaining_time": 14.16332363,
                        "test": [
                          2230048.03
                        ]
                      },
                      {
                        "learn": [
                          1564228.152
                        ],
                        "iteration": 547,
                        "passed_time": 17.13322216,
                        "remaining_time": 14.13178178,
                        "test": [
                          2230143.768
                        ]
                      },
                      {
                        "learn": [
                          1562957.431
                        ],
                        "iteration": 548,
                        "passed_time": 17.15349353,
                        "remaining_time": 14.09148557,
                        "test": [
                          2230891.371
                        ]
                      },
                      {
                        "learn": [
                          1562103.998
                        ],
                        "iteration": 549,
                        "passed_time": 17.16845839,
                        "remaining_time": 14.0469205,
                        "test": [
                          2230951.308
                        ]
                      },
                      {
                        "learn": [
                          1561316.416
                        ],
                        "iteration": 550,
                        "passed_time": 17.18886923,
                        "remaining_time": 14.00690069,
                        "test": [
                          2230859.542
                        ]
                      },
                      {
                        "learn": [
                          1561061.529
                        ],
                        "iteration": 551,
                        "passed_time": 17.20863647,
                        "remaining_time": 13.9664296,
                        "test": [
                          2230848.955
                        ]
                      },
                      {
                        "learn": [
                          1560417.132
                        ],
                        "iteration": 552,
                        "passed_time": 17.24921406,
                        "remaining_time": 13.94285477,
                        "test": [
                          2230182.851
                        ]
                      },
                      {
                        "learn": [
                          1559526.415
                        ],
                        "iteration": 553,
                        "passed_time": 17.28929975,
                        "remaining_time": 13.91882254,
                        "test": [
                          2230026.02
                        ]
                      },
                      {
                        "learn": [
                          1559162.487
                        ],
                        "iteration": 554,
                        "passed_time": 17.33333476,
                        "remaining_time": 13.89789904,
                        "test": [
                          2229796.211
                        ]
                      },
                      {
                        "learn": [
                          1558626.467
                        ],
                        "iteration": 555,
                        "passed_time": 17.37563221,
                        "remaining_time": 13.87550486,
                        "test": [
                          2229888.964
                        ]
                      },
                      {
                        "learn": [
                          1558247.113
                        ],
                        "iteration": 556,
                        "passed_time": 17.39540463,
                        "remaining_time": 13.83512433,
                        "test": [
                          2229750.334
                        ]
                      },
                      {
                        "learn": [
                          1557485.89
                        ],
                        "iteration": 557,
                        "passed_time": 17.42840231,
                        "remaining_time": 13.80529358,
                        "test": [
                          2230201.887
                        ]
                      },
                      {
                        "learn": [
                          1556156.436
                        ],
                        "iteration": 558,
                        "passed_time": 17.44620696,
                        "remaining_time": 13.7634656,
                        "test": [
                          2230513.835
                        ]
                      },
                      {
                        "learn": [
                          1555128.448
                        ],
                        "iteration": 559,
                        "passed_time": 17.47641124,
                        "remaining_time": 13.73146598,
                        "test": [
                          2230239.615
                        ]
                      },
                      {
                        "learn": [
                          1554555.29
                        ],
                        "iteration": 560,
                        "passed_time": 17.50634577,
                        "remaining_time": 13.69926166,
                        "test": [
                          2229839.754
                        ]
                      },
                      {
                        "learn": [
                          1554240.567
                        ],
                        "iteration": 561,
                        "passed_time": 17.54591839,
                        "remaining_time": 13.67457697,
                        "test": [
                          2229845.975
                        ]
                      },
                      {
                        "learn": [
                          1553685.748
                        ],
                        "iteration": 562,
                        "passed_time": 17.5773773,
                        "remaining_time": 13.64354153,
                        "test": [
                          2229647.43
                        ]
                      },
                      {
                        "learn": [
                          1553210.574
                        ],
                        "iteration": 563,
                        "passed_time": 17.61389117,
                        "remaining_time": 13.61641233,
                        "test": [
                          2229717.789
                        ]
                      },
                      {
                        "learn": [
                          1551683.289
                        ],
                        "iteration": 564,
                        "passed_time": 17.64090551,
                        "remaining_time": 13.5819361,
                        "test": [
                          2230409.521
                        ]
                      },
                      {
                        "learn": [
                          1551049.688
                        ],
                        "iteration": 565,
                        "passed_time": 17.68304573,
                        "remaining_time": 13.55908454,
                        "test": [
                          2230364.763
                        ]
                      },
                      {
                        "learn": [
                          1550078.731
                        ],
                        "iteration": 566,
                        "passed_time": 17.73653547,
                        "remaining_time": 13.5448322,
                        "test": [
                          2230931.671
                        ]
                      },
                      {
                        "learn": [
                          1549053.796
                        ],
                        "iteration": 567,
                        "passed_time": 17.80356203,
                        "remaining_time": 13.54073732,
                        "test": [
                          2231431.816
                        ]
                      },
                      {
                        "learn": [
                          1548414.505
                        ],
                        "iteration": 568,
                        "passed_time": 17.82571617,
                        "remaining_time": 13.50243176,
                        "test": [
                          2231844.802
                        ]
                      },
                      {
                        "learn": [
                          1547791.15
                        ],
                        "iteration": 569,
                        "passed_time": 17.87106088,
                        "remaining_time": 13.48167751,
                        "test": [
                          2232040.11
                        ]
                      },
                      {
                        "learn": [
                          1547083.759
                        ],
                        "iteration": 570,
                        "passed_time": 17.89791021,
                        "remaining_time": 13.4469413,
                        "test": [
                          2231967.19
                        ]
                      },
                      {
                        "learn": [
                          1546499.364
                        ],
                        "iteration": 571,
                        "passed_time": 17.92436639,
                        "remaining_time": 13.41193849,
                        "test": [
                          2231732.422
                        ]
                      },
                      {
                        "learn": [
                          1545930.578
                        ],
                        "iteration": 572,
                        "passed_time": 17.95168707,
                        "remaining_time": 13.37760973,
                        "test": [
                          2231607.049
                        ]
                      },
                      {
                        "learn": [
                          1545270.744
                        ],
                        "iteration": 573,
                        "passed_time": 17.98065415,
                        "remaining_time": 13.3445273,
                        "test": [
                          2231279.743
                        ]
                      },
                      {
                        "learn": [
                          1544575.362
                        ],
                        "iteration": 574,
                        "passed_time": 18.01303157,
                        "remaining_time": 13.31397986,
                        "test": [
                          2231275.214
                        ]
                      },
                      {
                        "learn": [
                          1543786.45
                        ],
                        "iteration": 575,
                        "passed_time": 18.04706803,
                        "remaining_time": 13.2846473,
                        "test": [
                          2230434.855
                        ]
                      },
                      {
                        "learn": [
                          1543076.295
                        ],
                        "iteration": 576,
                        "passed_time": 18.07374228,
                        "remaining_time": 13.24990119,
                        "test": [
                          2230103.486
                        ]
                      },
                      {
                        "learn": [
                          1542780.605
                        ],
                        "iteration": 577,
                        "passed_time": 18.09718092,
                        "remaining_time": 13.21282067,
                        "test": [
                          2230097.354
                        ]
                      },
                      {
                        "learn": [
                          1541910.088
                        ],
                        "iteration": 578,
                        "passed_time": 18.12329529,
                        "remaining_time": 13.17773284,
                        "test": [
                          2229870.169
                        ]
                      },
                      {
                        "learn": [
                          1541638.69
                        ],
                        "iteration": 579,
                        "passed_time": 18.15407246,
                        "remaining_time": 13.14605247,
                        "test": [
                          2229880.594
                        ]
                      },
                      {
                        "learn": [
                          1540860.27
                        ],
                        "iteration": 580,
                        "passed_time": 18.18587333,
                        "remaining_time": 13.11511347,
                        "test": [
                          2229484.672
                        ]
                      },
                      {
                        "learn": [
                          1539845.115
                        ],
                        "iteration": 581,
                        "passed_time": 18.22043142,
                        "remaining_time": 13.08615178,
                        "test": [
                          2229140.775
                        ]
                      },
                      {
                        "learn": [
                          1538877.964
                        ],
                        "iteration": 582,
                        "passed_time": 18.24561771,
                        "remaining_time": 13.05046755,
                        "test": [
                          2229025.149
                        ]
                      },
                      {
                        "learn": [
                          1538431.112
                        ],
                        "iteration": 583,
                        "passed_time": 18.27401584,
                        "remaining_time": 13.01710717,
                        "test": [
                          2229086.692
                        ]
                      },
                      {
                        "learn": [
                          1537844.78
                        ],
                        "iteration": 584,
                        "passed_time": 18.30131418,
                        "remaining_time": 12.98298357,
                        "test": [
                          2229090.045
                        ]
                      },
                      {
                        "learn": [
                          1537191.437
                        ],
                        "iteration": 585,
                        "passed_time": 18.3287375,
                        "remaining_time": 12.94897154,
                        "test": [
                          2229611.858
                        ]
                      },
                      {
                        "learn": [
                          1536128.395
                        ],
                        "iteration": 586,
                        "passed_time": 18.35386869,
                        "remaining_time": 12.91336928,
                        "test": [
                          2229616.329
                        ]
                      },
                      {
                        "learn": [
                          1535354.489
                        ],
                        "iteration": 587,
                        "passed_time": 18.38137894,
                        "remaining_time": 12.8794696,
                        "test": [
                          2229345.181
                        ]
                      },
                      {
                        "learn": [
                          1534905.057
                        ],
                        "iteration": 588,
                        "passed_time": 18.43108493,
                        "remaining_time": 12.86107964,
                        "test": [
                          2229170.118
                        ]
                      },
                      {
                        "learn": [
                          1534525.973
                        ],
                        "iteration": 589,
                        "passed_time": 18.45794137,
                        "remaining_time": 12.82670502,
                        "test": [
                          2229142.649
                        ]
                      },
                      {
                        "learn": [
                          1533438.547
                        ],
                        "iteration": 590,
                        "passed_time": 18.49077048,
                        "remaining_time": 12.79648921,
                        "test": [
                          2229418.843
                        ]
                      },
                      {
                        "learn": [
                          1532467.602
                        ],
                        "iteration": 591,
                        "passed_time": 18.53568464,
                        "remaining_time": 12.77459347,
                        "test": [
                          2229435.414
                        ]
                      },
                      {
                        "learn": [
                          1532091.773
                        ],
                        "iteration": 592,
                        "passed_time": 18.55446394,
                        "remaining_time": 12.73468267,
                        "test": [
                          2229211.6
                        ]
                      },
                      {
                        "learn": [
                          1531165.55
                        ],
                        "iteration": 593,
                        "passed_time": 18.57001497,
                        "remaining_time": 12.6926365,
                        "test": [
                          2228688.99
                        ]
                      },
                      {
                        "learn": [
                          1530564.562
                        ],
                        "iteration": 594,
                        "passed_time": 18.5869796,
                        "remaining_time": 12.65164158,
                        "test": [
                          2228756.913
                        ]
                      },
                      {
                        "learn": [
                          1529544.052
                        ],
                        "iteration": 595,
                        "passed_time": 18.60218421,
                        "remaining_time": 12.60953426,
                        "test": [
                          2228984.25
                        ]
                      },
                      {
                        "learn": [
                          1528937.954
                        ],
                        "iteration": 596,
                        "passed_time": 18.61867992,
                        "remaining_time": 12.56838862,
                        "test": [
                          2228788.119
                        ]
                      },
                      {
                        "learn": [
                          1528349.102
                        ],
                        "iteration": 597,
                        "passed_time": 18.63252242,
                        "remaining_time": 12.52554183,
                        "test": [
                          2228802.245
                        ]
                      },
                      {
                        "learn": [
                          1527762.997
                        ],
                        "iteration": 598,
                        "passed_time": 18.66065979,
                        "remaining_time": 12.49236156,
                        "test": [
                          2228791.979
                        ]
                      },
                      {
                        "learn": [
                          1526983.835
                        ],
                        "iteration": 599,
                        "passed_time": 18.69208111,
                        "remaining_time": 12.46138741,
                        "test": [
                          2228798.098
                        ]
                      },
                      {
                        "learn": [
                          1526720.875
                        ],
                        "iteration": 600,
                        "passed_time": 18.72289571,
                        "remaining_time": 12.43000896,
                        "test": [
                          2228707.915
                        ]
                      },
                      {
                        "learn": [
                          1526151.834
                        ],
                        "iteration": 601,
                        "passed_time": 18.79713665,
                        "remaining_time": 12.42734284,
                        "test": [
                          2228735.238
                        ]
                      },
                      {
                        "learn": [
                          1525547.92
                        ],
                        "iteration": 602,
                        "passed_time": 18.86385758,
                        "remaining_time": 12.41948832,
                        "test": [
                          2228462.16
                        ]
                      },
                      {
                        "learn": [
                          1524422.245
                        ],
                        "iteration": 603,
                        "passed_time": 18.89343747,
                        "remaining_time": 12.38708814,
                        "test": [
                          2228559.23
                        ]
                      },
                      {
                        "learn": [
                          1524043.011
                        ],
                        "iteration": 604,
                        "passed_time": 18.92658287,
                        "remaining_time": 12.35702518,
                        "test": [
                          2228379.156
                        ]
                      },
                      {
                        "learn": [
                          1523671.956
                        ],
                        "iteration": 605,
                        "passed_time": 18.95169747,
                        "remaining_time": 12.3217307,
                        "test": [
                          2228218.722
                        ]
                      },
                      {
                        "learn": [
                          1522903.659
                        ],
                        "iteration": 606,
                        "passed_time": 19.01317878,
                        "remaining_time": 12.31001525,
                        "test": [
                          2228272.237
                        ]
                      },
                      {
                        "learn": [
                          1522299.773
                        ],
                        "iteration": 607,
                        "passed_time": 19.03972591,
                        "remaining_time": 12.27561276,
                        "test": [
                          2228474.273
                        ]
                      },
                      {
                        "learn": [
                          1521467.747
                        ],
                        "iteration": 608,
                        "passed_time": 19.07248006,
                        "remaining_time": 12.24522119,
                        "test": [
                          2228038.206
                        ]
                      },
                      {
                        "learn": [
                          1520824.823
                        ],
                        "iteration": 609,
                        "passed_time": 19.12295316,
                        "remaining_time": 12.22615038,
                        "test": [
                          2227811.114
                        ]
                      },
                      {
                        "learn": [
                          1520278.349
                        ],
                        "iteration": 610,
                        "passed_time": 19.16851961,
                        "remaining_time": 12.20385291,
                        "test": [
                          2228113.268
                        ]
                      },
                      {
                        "learn": [
                          1519842.405
                        ],
                        "iteration": 611,
                        "passed_time": 19.19531984,
                        "remaining_time": 12.16958186,
                        "test": [
                          2228261.672
                        ]
                      },
                      {
                        "learn": [
                          1519537.636
                        ],
                        "iteration": 612,
                        "passed_time": 19.2247892,
                        "remaining_time": 12.13702026,
                        "test": [
                          2228148.417
                        ]
                      },
                      {
                        "learn": [
                          1518841.215
                        ],
                        "iteration": 613,
                        "passed_time": 19.26301089,
                        "remaining_time": 12.10997102,
                        "test": [
                          2228225.375
                        ]
                      },
                      {
                        "learn": [
                          1518387.835
                        ],
                        "iteration": 614,
                        "passed_time": 19.29951037,
                        "remaining_time": 12.08180731,
                        "test": [
                          2228316.008
                        ]
                      },
                      {
                        "learn": [
                          1517550.831
                        ],
                        "iteration": 615,
                        "passed_time": 19.33036958,
                        "remaining_time": 12.05010052,
                        "test": [
                          2228308.152
                        ]
                      },
                      {
                        "learn": [
                          1516532.487
                        ],
                        "iteration": 616,
                        "passed_time": 19.36330979,
                        "remaining_time": 12.01968825,
                        "test": [
                          2228451.577
                        ]
                      },
                      {
                        "learn": [
                          1515883.732
                        ],
                        "iteration": 617,
                        "passed_time": 19.39317014,
                        "remaining_time": 11.98736406,
                        "test": [
                          2228182.659
                        ]
                      },
                      {
                        "learn": [
                          1515328.031
                        ],
                        "iteration": 618,
                        "passed_time": 19.42580619,
                        "remaining_time": 11.95675632,
                        "test": [
                          2228383.836
                        ]
                      },
                      {
                        "learn": [
                          1514946.603
                        ],
                        "iteration": 619,
                        "passed_time": 19.45917291,
                        "remaining_time": 11.92658985,
                        "test": [
                          2228143.766
                        ]
                      },
                      {
                        "learn": [
                          1514501.255
                        ],
                        "iteration": 620,
                        "passed_time": 19.48996295,
                        "remaining_time": 11.89484051,
                        "test": [
                          2227962.882
                        ]
                      },
                      {
                        "learn": [
                          1513770.906
                        ],
                        "iteration": 621,
                        "passed_time": 19.52552255,
                        "remaining_time": 11.8659928,
                        "test": [
                          2227967.796
                        ]
                      },
                      {
                        "learn": [
                          1512851.528
                        ],
                        "iteration": 622,
                        "passed_time": 19.55818641,
                        "remaining_time": 11.83537123,
                        "test": [
                          2228092.445
                        ]
                      },
                      {
                        "learn": [
                          1512381.849
                        ],
                        "iteration": 623,
                        "passed_time": 19.59121978,
                        "remaining_time": 11.80496577,
                        "test": [
                          2228182.506
                        ]
                      },
                      {
                        "learn": [
                          1511656.981
                        ],
                        "iteration": 624,
                        "passed_time": 19.62366024,
                        "remaining_time": 11.77419615,
                        "test": [
                          2228152.966
                        ]
                      },
                      {
                        "learn": [
                          1511109.242
                        ],
                        "iteration": 625,
                        "passed_time": 19.6611068,
                        "remaining_time": 11.74641205,
                        "test": [
                          2228297.134
                        ]
                      },
                      {
                        "learn": [
                          1510490.264
                        ],
                        "iteration": 626,
                        "passed_time": 19.70115831,
                        "remaining_time": 11.72014681,
                        "test": [
                          2228019.615
                        ]
                      },
                      {
                        "learn": [
                          1510031.01
                        ],
                        "iteration": 627,
                        "passed_time": 19.72947962,
                        "remaining_time": 11.6868892,
                        "test": [
                          2227927.707
                        ]
                      },
                      {
                        "learn": [
                          1509341.801
                        ],
                        "iteration": 628,
                        "passed_time": 19.75787337,
                        "remaining_time": 11.65369001,
                        "test": [
                          2228065.444
                        ]
                      },
                      {
                        "learn": [
                          1508871.426
                        ],
                        "iteration": 629,
                        "passed_time": 19.78379271,
                        "remaining_time": 11.61905286,
                        "test": [
                          2227926.18
                        ]
                      },
                      {
                        "learn": [
                          1508600.901
                        ],
                        "iteration": 630,
                        "passed_time": 19.82597148,
                        "remaining_time": 11.59395162,
                        "test": [
                          2227882.709
                        ]
                      },
                      {
                        "learn": [
                          1508021.709
                        ],
                        "iteration": 631,
                        "passed_time": 19.87706696,
                        "remaining_time": 11.57398836,
                        "test": [
                          2228254.46
                        ]
                      },
                      {
                        "learn": [
                          1507414.338
                        ],
                        "iteration": 632,
                        "passed_time": 19.90975761,
                        "remaining_time": 11.54325599,
                        "test": [
                          2227993.769
                        ]
                      },
                      {
                        "learn": [
                          1506448.7
                        ],
                        "iteration": 633,
                        "passed_time": 19.96214759,
                        "remaining_time": 11.52388962,
                        "test": [
                          2228262.547
                        ]
                      },
                      {
                        "learn": [
                          1505892.021
                        ],
                        "iteration": 634,
                        "passed_time": 20.00595719,
                        "remaining_time": 11.49948721,
                        "test": [
                          2228245.548
                        ]
                      },
                      {
                        "learn": [
                          1505270.665
                        ],
                        "iteration": 635,
                        "passed_time": 20.08250583,
                        "remaining_time": 11.4937612,
                        "test": [
                          2228506.103
                        ]
                      },
                      {
                        "learn": [
                          1504811.852
                        ],
                        "iteration": 636,
                        "passed_time": 20.1119213,
                        "remaining_time": 11.46095358,
                        "test": [
                          2228435.006
                        ]
                      },
                      {
                        "learn": [
                          1504416.332
                        ],
                        "iteration": 637,
                        "passed_time": 20.15147076,
                        "remaining_time": 11.43390661,
                        "test": [
                          2228652.752
                        ]
                      },
                      {
                        "learn": [
                          1503889.76
                        ],
                        "iteration": 638,
                        "passed_time": 20.21680346,
                        "remaining_time": 11.42138662,
                        "test": [
                          2228703.589
                        ]
                      },
                      {
                        "learn": [
                          1502954.1
                        ],
                        "iteration": 639,
                        "passed_time": 20.23967301,
                        "remaining_time": 11.38481607,
                        "test": [
                          2228302.966
                        ]
                      },
                      {
                        "learn": [
                          1502318.888
                        ],
                        "iteration": 640,
                        "passed_time": 20.27380997,
                        "remaining_time": 11.35459872,
                        "test": [
                          2228238.615
                        ]
                      },
                      {
                        "learn": [
                          1501991.809
                        ],
                        "iteration": 641,
                        "passed_time": 20.31019371,
                        "remaining_time": 11.32562204,
                        "test": [
                          2228069.161
                        ]
                      },
                      {
                        "learn": [
                          1501488.456
                        ],
                        "iteration": 642,
                        "passed_time": 20.34060794,
                        "remaining_time": 11.29330799,
                        "test": [
                          2228023.439
                        ]
                      },
                      {
                        "learn": [
                          1501173.588
                        ],
                        "iteration": 643,
                        "passed_time": 20.37559751,
                        "remaining_time": 11.26352906,
                        "test": [
                          2228106.609
                        ]
                      },
                      {
                        "learn": [
                          1500682.282
                        ],
                        "iteration": 644,
                        "passed_time": 20.40770344,
                        "remaining_time": 11.23214686,
                        "test": [
                          2228035.71
                        ]
                      },
                      {
                        "learn": [
                          1499792.435
                        ],
                        "iteration": 645,
                        "passed_time": 20.45339527,
                        "remaining_time": 11.20820731,
                        "test": [
                          2228006.339
                        ]
                      },
                      {
                        "learn": [
                          1498688.151
                        ],
                        "iteration": 646,
                        "passed_time": 20.48045973,
                        "remaining_time": 11.17403754,
                        "test": [
                          2228722.532
                        ]
                      },
                      {
                        "learn": [
                          1498118.755
                        ],
                        "iteration": 647,
                        "passed_time": 20.51659254,
                        "remaining_time": 11.1448157,
                        "test": [
                          2228613.992
                        ]
                      },
                      {
                        "learn": [
                          1497665.863
                        ],
                        "iteration": 648,
                        "passed_time": 20.55813971,
                        "remaining_time": 11.11850083,
                        "test": [
                          2228438.053
                        ]
                      },
                      {
                        "learn": [
                          1496986.735
                        ],
                        "iteration": 649,
                        "passed_time": 20.59687695,
                        "remaining_time": 11.09062605,
                        "test": [
                          2228649.07
                        ]
                      },
                      {
                        "learn": [
                          1496240.213
                        ],
                        "iteration": 650,
                        "passed_time": 20.66707855,
                        "remaining_time": 11.07958589,
                        "test": [
                          2228322.55
                        ]
                      },
                      {
                        "learn": [
                          1495305.833
                        ],
                        "iteration": 651,
                        "passed_time": 20.72054958,
                        "remaining_time": 11.05943444,
                        "test": [
                          2228284.554
                        ]
                      },
                      {
                        "learn": [
                          1494995.822
                        ],
                        "iteration": 652,
                        "passed_time": 20.77259575,
                        "remaining_time": 11.03842377,
                        "test": [
                          2228274.363
                        ]
                      },
                      {
                        "learn": [
                          1494249.69
                        ],
                        "iteration": 653,
                        "passed_time": 20.82667658,
                        "remaining_time": 11.01839464,
                        "test": [
                          2227914.865
                        ]
                      },
                      {
                        "learn": [
                          1493647.042
                        ],
                        "iteration": 654,
                        "passed_time": 20.8689832,
                        "remaining_time": 10.99205985,
                        "test": [
                          2228096.181
                        ]
                      },
                      {
                        "learn": [
                          1493148.12
                        ],
                        "iteration": 655,
                        "passed_time": 20.94547088,
                        "remaining_time": 10.98360059,
                        "test": [
                          2228431.863
                        ]
                      },
                      {
                        "learn": [
                          1492730.153
                        ],
                        "iteration": 656,
                        "passed_time": 20.99689564,
                        "remaining_time": 10.96184963,
                        "test": [
                          2228550.93
                        ]
                      },
                      {
                        "learn": [
                          1492195.702
                        ],
                        "iteration": 657,
                        "passed_time": 21.05108198,
                        "remaining_time": 10.94144383,
                        "test": [
                          2228107.645
                        ]
                      },
                      {
                        "learn": [
                          1491601.854
                        ],
                        "iteration": 658,
                        "passed_time": 21.11920561,
                        "remaining_time": 10.92814737,
                        "test": [
                          2228257.516
                        ]
                      },
                      {
                        "learn": [
                          1491018.732
                        ],
                        "iteration": 659,
                        "passed_time": 21.14877516,
                        "remaining_time": 10.89482357,
                        "test": [
                          2227941.248
                        ]
                      },
                      {
                        "learn": [
                          1490667.082
                        ],
                        "iteration": 660,
                        "passed_time": 21.18493892,
                        "remaining_time": 10.86489303,
                        "test": [
                          2227788.969
                        ]
                      },
                      {
                        "learn": [
                          1489988.541
                        ],
                        "iteration": 661,
                        "passed_time": 21.214094,
                        "remaining_time": 10.83136521,
                        "test": [
                          2227751.069
                        ]
                      },
                      {
                        "learn": [
                          1489196.695
                        ],
                        "iteration": 662,
                        "passed_time": 21.24221473,
                        "remaining_time": 10.79732483,
                        "test": [
                          2227694.408
                        ]
                      },
                      {
                        "learn": [
                          1488820.537
                        ],
                        "iteration": 663,
                        "passed_time": 21.27156606,
                        "remaining_time": 10.76392499,
                        "test": [
                          2227727.063
                        ]
                      },
                      {
                        "learn": [
                          1488777.868
                        ],
                        "iteration": 664,
                        "passed_time": 21.29644097,
                        "remaining_time": 10.72828229,
                        "test": [
                          2227746.79
                        ]
                      },
                      {
                        "learn": [
                          1488388.366
                        ],
                        "iteration": 665,
                        "passed_time": 21.32813502,
                        "remaining_time": 10.69609174,
                        "test": [
                          2227897.834
                        ]
                      },
                      {
                        "learn": [
                          1487701.446
                        ],
                        "iteration": 666,
                        "passed_time": 21.35667779,
                        "remaining_time": 10.66232939,
                        "test": [
                          2227791.952
                        ]
                      },
                      {
                        "learn": [
                          1487455.486
                        ],
                        "iteration": 667,
                        "passed_time": 21.39159673,
                        "remaining_time": 10.63175167,
                        "test": [
                          2227591.84
                        ]
                      },
                      {
                        "learn": [
                          1486499.073
                        ],
                        "iteration": 668,
                        "passed_time": 21.4303557,
                        "remaining_time": 10.60306089,
                        "test": [
                          2227025.397
                        ]
                      },
                      {
                        "learn": [
                          1485814.517
                        ],
                        "iteration": 669,
                        "passed_time": 21.46576117,
                        "remaining_time": 10.57268834,
                        "test": [
                          2226997.871
                        ]
                      },
                      {
                        "learn": [
                          1485253.999
                        ],
                        "iteration": 670,
                        "passed_time": 21.49468045,
                        "remaining_time": 10.53912052,
                        "test": [
                          2227198.792
                        ]
                      },
                      {
                        "learn": [
                          1485061.22
                        ],
                        "iteration": 671,
                        "passed_time": 21.51740378,
                        "remaining_time": 10.50254232,
                        "test": [
                          2227124.049
                        ]
                      },
                      {
                        "learn": [
                          1484721.046
                        ],
                        "iteration": 672,
                        "passed_time": 21.5477044,
                        "remaining_time": 10.46968698,
                        "test": [
                          2226993.78
                        ]
                      },
                      {
                        "learn": [
                          1483993.575
                        ],
                        "iteration": 673,
                        "passed_time": 21.57932968,
                        "remaining_time": 10.43747994,
                        "test": [
                          2227056.842
                        ]
                      },
                      {
                        "learn": [
                          1483386.557
                        ],
                        "iteration": 674,
                        "passed_time": 21.60819112,
                        "remaining_time": 10.40394387,
                        "test": [
                          2226411.071
                        ]
                      },
                      {
                        "learn": [
                          1483064.201
                        ],
                        "iteration": 675,
                        "passed_time": 21.63819467,
                        "remaining_time": 10.37096904,
                        "test": [
                          2226131.447
                        ]
                      },
                      {
                        "learn": [
                          1482611.856
                        ],
                        "iteration": 676,
                        "passed_time": 21.66933225,
                        "remaining_time": 10.33854404,
                        "test": [
                          2226074.017
                        ]
                      },
                      {
                        "learn": [
                          1481967.664
                        ],
                        "iteration": 677,
                        "passed_time": 21.70056865,
                        "remaining_time": 10.30616977,
                        "test": [
                          2226009.917
                        ]
                      },
                      {
                        "learn": [
                          1481063.107
                        ],
                        "iteration": 678,
                        "passed_time": 21.73243591,
                        "remaining_time": 10.27409709,
                        "test": [
                          2225636.655
                        ]
                      },
                      {
                        "learn": [
                          1480762.063
                        ],
                        "iteration": 679,
                        "passed_time": 21.76243863,
                        "remaining_time": 10.24114759,
                        "test": [
                          2225745.772
                        ]
                      },
                      {
                        "learn": [
                          1480085.756
                        ],
                        "iteration": 680,
                        "passed_time": 21.79267041,
                        "remaining_time": 10.20831404,
                        "test": [
                          2226133.775
                        ]
                      },
                      {
                        "learn": [
                          1479407.713
                        ],
                        "iteration": 681,
                        "passed_time": 21.8244128,
                        "remaining_time": 10.17619248,
                        "test": [
                          2225868.953
                        ]
                      },
                      {
                        "learn": [
                          1478778.542
                        ],
                        "iteration": 682,
                        "passed_time": 21.85341476,
                        "remaining_time": 10.14280012,
                        "test": [
                          2225821.446
                        ]
                      },
                      {
                        "learn": [
                          1478290.124
                        ],
                        "iteration": 683,
                        "passed_time": 21.87615113,
                        "remaining_time": 10.10652596,
                        "test": [
                          2225546.141
                        ]
                      },
                      {
                        "learn": [
                          1477964.213
                        ],
                        "iteration": 684,
                        "passed_time": 21.90059308,
                        "remaining_time": 10.07107565,
                        "test": [
                          2225558.725
                        ]
                      },
                      {
                        "learn": [
                          1477333.207
                        ],
                        "iteration": 685,
                        "passed_time": 21.92766611,
                        "remaining_time": 10.03686175,
                        "test": [
                          2225665.505
                        ]
                      },
                      {
                        "learn": [
                          1476861.38
                        ],
                        "iteration": 686,
                        "passed_time": 21.9565195,
                        "remaining_time": 10.00347977,
                        "test": [
                          2226069.608
                        ]
                      },
                      {
                        "learn": [
                          1476130.461
                        ],
                        "iteration": 687,
                        "passed_time": 21.98581867,
                        "remaining_time": 9.970313118,
                        "test": [
                          2225523.664
                        ]
                      },
                      {
                        "learn": [
                          1475508.06
                        ],
                        "iteration": 688,
                        "passed_time": 22.01744817,
                        "remaining_time": 9.93820955,
                        "test": [
                          2225592.816
                        ]
                      },
                      {
                        "learn": [
                          1475068.432
                        ],
                        "iteration": 689,
                        "passed_time": 22.04649016,
                        "remaining_time": 9.904944857,
                        "test": [
                          2225581.161
                        ]
                      },
                      {
                        "learn": [
                          1474867.265
                        ],
                        "iteration": 690,
                        "passed_time": 22.07721035,
                        "remaining_time": 9.872442835,
                        "test": [
                          2225531.828
                        ]
                      },
                      {
                        "learn": [
                          1474645.196
                        ],
                        "iteration": 691,
                        "passed_time": 22.12188949,
                        "remaining_time": 9.846158905,
                        "test": [
                          2225548.227
                        ]
                      },
                      {
                        "learn": [
                          1474343.848
                        ],
                        "iteration": 692,
                        "passed_time": 22.15049313,
                        "remaining_time": 9.81270042,
                        "test": [
                          2226101.065
                        ]
                      },
                      {
                        "learn": [
                          1473254.754
                        ],
                        "iteration": 693,
                        "passed_time": 22.17598139,
                        "remaining_time": 9.777882286,
                        "test": [
                          2226285.709
                        ]
                      },
                      {
                        "learn": [
                          1472339.271
                        ],
                        "iteration": 694,
                        "passed_time": 22.20588195,
                        "remaining_time": 9.745027331,
                        "test": [
                          2226707.06
                        ]
                      },
                      {
                        "learn": [
                          1471706.21
                        ],
                        "iteration": 695,
                        "passed_time": 22.23898555,
                        "remaining_time": 9.713579894,
                        "test": [
                          2226588.265
                        ]
                      },
                      {
                        "learn": [
                          1471321.154
                        ],
                        "iteration": 696,
                        "passed_time": 22.27262646,
                        "remaining_time": 9.682361289,
                        "test": [
                          2226875.728
                        ]
                      },
                      {
                        "learn": [
                          1470531.593
                        ],
                        "iteration": 697,
                        "passed_time": 22.29636368,
                        "remaining_time": 9.646850761,
                        "test": [
                          2226678.905
                        ]
                      },
                      {
                        "learn": [
                          1470428.897
                        ],
                        "iteration": 698,
                        "passed_time": 22.32337277,
                        "remaining_time": 9.612782839,
                        "test": [
                          2226943.486
                        ]
                      },
                      {
                        "learn": [
                          1469617.681
                        ],
                        "iteration": 699,
                        "passed_time": 22.35257645,
                        "remaining_time": 9.579675622,
                        "test": [
                          2226893.085
                        ]
                      },
                      {
                        "learn": [
                          1469303.306
                        ],
                        "iteration": 700,
                        "passed_time": 22.37869636,
                        "remaining_time": 9.545264211,
                        "test": [
                          2226967.198
                        ]
                      },
                      {
                        "learn": [
                          1468640.417
                        ],
                        "iteration": 701,
                        "passed_time": 22.40937104,
                        "remaining_time": 9.512809927,
                        "test": [
                          2227139.846
                        ]
                      },
                      {
                        "learn": [
                          1468138.565
                        ],
                        "iteration": 702,
                        "passed_time": 22.43629883,
                        "remaining_time": 9.478777741,
                        "test": [
                          2227125.877
                        ]
                      },
                      {
                        "learn": [
                          1467454.476
                        ],
                        "iteration": 703,
                        "passed_time": 22.47097758,
                        "remaining_time": 9.448024664,
                        "test": [
                          2227127.465
                        ]
                      },
                      {
                        "learn": [
                          1467302.164
                        ],
                        "iteration": 704,
                        "passed_time": 22.50446351,
                        "remaining_time": 9.416761326,
                        "test": [
                          2227225.823
                        ]
                      },
                      {
                        "learn": [
                          1466072.828
                        ],
                        "iteration": 705,
                        "passed_time": 22.53747499,
                        "remaining_time": 9.385294118,
                        "test": [
                          2226909.434
                        ]
                      },
                      {
                        "learn": [
                          1465849.577
                        ],
                        "iteration": 706,
                        "passed_time": 22.56452023,
                        "remaining_time": 9.351349969,
                        "test": [
                          2226981.698
                        ]
                      },
                      {
                        "learn": [
                          1464937.21
                        ],
                        "iteration": 707,
                        "passed_time": 22.5910663,
                        "remaining_time": 9.317219434,
                        "test": [
                          2227414.687
                        ]
                      },
                      {
                        "learn": [
                          1464070.338
                        ],
                        "iteration": 708,
                        "passed_time": 22.60964087,
                        "remaining_time": 9.279838495,
                        "test": [
                          2227782.755
                        ]
                      },
                      {
                        "learn": [
                          1463584.471
                        ],
                        "iteration": 709,
                        "passed_time": 22.63919864,
                        "remaining_time": 9.246996629,
                        "test": [
                          2227684.519
                        ]
                      },
                      {
                        "learn": [
                          1463038.581
                        ],
                        "iteration": 710,
                        "passed_time": 22.67141581,
                        "remaining_time": 9.215244963,
                        "test": [
                          2227719.232
                        ]
                      },
                      {
                        "learn": [
                          1462527.601
                        ],
                        "iteration": 711,
                        "passed_time": 22.70411783,
                        "remaining_time": 9.183688111,
                        "test": [
                          2227392.303
                        ]
                      },
                      {
                        "learn": [
                          1462059.668
                        ],
                        "iteration": 712,
                        "passed_time": 22.73441692,
                        "remaining_time": 9.151160809,
                        "test": [
                          2227423.906
                        ]
                      },
                      {
                        "learn": [
                          1461522.941
                        ],
                        "iteration": 713,
                        "passed_time": 22.7671656,
                        "remaining_time": 9.119620956,
                        "test": [
                          2227897.949
                        ]
                      },
                      {
                        "learn": [
                          1460419.009
                        ],
                        "iteration": 714,
                        "passed_time": 22.80194073,
                        "remaining_time": 9.088885465,
                        "test": [
                          2227824.421
                        ]
                      },
                      {
                        "learn": [
                          1460095.842
                        ],
                        "iteration": 715,
                        "passed_time": 22.82755481,
                        "remaining_time": 9.05450498,
                        "test": [
                          2227582.091
                        ]
                      },
                      {
                        "learn": [
                          1459728.23
                        ],
                        "iteration": 716,
                        "passed_time": 22.84586986,
                        "remaining_time": 9.017268021,
                        "test": [
                          2227629.277
                        ]
                      },
                      {
                        "learn": [
                          1459083.705
                        ],
                        "iteration": 717,
                        "passed_time": 22.87182108,
                        "remaining_time": 8.98308293,
                        "test": [
                          2227642.841
                        ]
                      },
                      {
                        "learn": [
                          1458446.142
                        ],
                        "iteration": 718,
                        "passed_time": 22.90550233,
                        "remaining_time": 8.951941799,
                        "test": [
                          2227734.606
                        ]
                      },
                      {
                        "learn": [
                          1457747.491
                        ],
                        "iteration": 719,
                        "passed_time": 22.93481189,
                        "remaining_time": 8.919093511,
                        "test": [
                          2227730.489
                        ]
                      },
                      {
                        "learn": [
                          1457262.657
                        ],
                        "iteration": 720,
                        "passed_time": 22.96635634,
                        "remaining_time": 8.887119861,
                        "test": [
                          2227825.427
                        ]
                      },
                      {
                        "learn": [
                          1456862.608
                        ],
                        "iteration": 721,
                        "passed_time": 22.98979137,
                        "remaining_time": 8.852024931,
                        "test": [
                          2227628.041
                        ]
                      },
                      {
                        "learn": [
                          1456415.631
                        ],
                        "iteration": 722,
                        "passed_time": 23.01589505,
                        "remaining_time": 8.817984688,
                        "test": [
                          2227684.315
                        ]
                      },
                      {
                        "learn": [
                          1456055.221
                        ],
                        "iteration": 723,
                        "passed_time": 23.04435347,
                        "remaining_time": 8.784864029,
                        "test": [
                          2227628.401
                        ]
                      },
                      {
                        "learn": [
                          1455548.582
                        ],
                        "iteration": 724,
                        "passed_time": 23.07623896,
                        "remaining_time": 8.753056156,
                        "test": [
                          2227714.485
                        ]
                      },
                      {
                        "learn": [
                          1454809.554
                        ],
                        "iteration": 725,
                        "passed_time": 23.12143736,
                        "remaining_time": 8.726272502,
                        "test": [
                          2227941.302
                        ]
                      },
                      {
                        "learn": [
                          1454239.36
                        ],
                        "iteration": 726,
                        "passed_time": 23.17618655,
                        "remaining_time": 8.70302466,
                        "test": [
                          2227948.798
                        ]
                      },
                      {
                        "learn": [
                          1453746.962
                        ],
                        "iteration": 727,
                        "passed_time": 23.21711961,
                        "remaining_time": 8.674528206,
                        "test": [
                          2227957.328
                        ]
                      },
                      {
                        "learn": [
                          1453218.452
                        ],
                        "iteration": 728,
                        "passed_time": 23.24286171,
                        "remaining_time": 8.640350511,
                        "test": [
                          2228091.167
                        ]
                      },
                      {
                        "learn": [
                          1452369.164
                        ],
                        "iteration": 729,
                        "passed_time": 23.27124011,
                        "remaining_time": 8.607171001,
                        "test": [
                          2227959.235
                        ]
                      },
                      {
                        "learn": [
                          1452082.535
                        ],
                        "iteration": 730,
                        "passed_time": 23.29756159,
                        "remaining_time": 8.573247698,
                        "test": [
                          2228094.764
                        ]
                      },
                      {
                        "learn": [
                          1451764.872
                        ],
                        "iteration": 731,
                        "passed_time": 23.32551505,
                        "remaining_time": 8.53994267,
                        "test": [
                          2227988.671
                        ]
                      },
                      {
                        "learn": [
                          1451193.074
                        ],
                        "iteration": 732,
                        "passed_time": 23.34315399,
                        "remaining_time": 8.50289511,
                        "test": [
                          2228090.086
                        ]
                      },
                      {
                        "learn": [
                          1450824.709
                        ],
                        "iteration": 733,
                        "passed_time": 23.3618248,
                        "remaining_time": 8.466274381,
                        "test": [
                          2228277.601
                        ]
                      },
                      {
                        "learn": [
                          1450393.975
                        ],
                        "iteration": 734,
                        "passed_time": 23.38922538,
                        "remaining_time": 8.432849967,
                        "test": [
                          2228220.804
                        ]
                      },
                      {
                        "learn": [
                          1449308.017
                        ],
                        "iteration": 735,
                        "passed_time": 23.41899104,
                        "remaining_time": 8.400290263,
                        "test": [
                          2228805.68
                        ]
                      },
                      {
                        "learn": [
                          1448962.325
                        ],
                        "iteration": 736,
                        "passed_time": 23.44639138,
                        "remaining_time": 8.366894074,
                        "test": [
                          2228543.228
                        ]
                      },
                      {
                        "learn": [
                          1448280.929
                        ],
                        "iteration": 737,
                        "passed_time": 23.47481608,
                        "remaining_time": 8.333877794,
                        "test": [
                          2228378.657
                        ]
                      },
                      {
                        "learn": [
                          1447561.09
                        ],
                        "iteration": 738,
                        "passed_time": 23.50970915,
                        "remaining_time": 8.303158441,
                        "test": [
                          2228423.386
                        ]
                      },
                      {
                        "learn": [
                          1447011
                        ],
                        "iteration": 739,
                        "passed_time": 23.53992488,
                        "remaining_time": 8.270784417,
                        "test": [
                          2228618.659
                        ]
                      },
                      {
                        "learn": [
                          1446099.124
                        ],
                        "iteration": 740,
                        "passed_time": 23.58159014,
                        "remaining_time": 8.242418148,
                        "test": [
                          2228734.052
                        ]
                      },
                      {
                        "learn": [
                          1445983.008
                        ],
                        "iteration": 741,
                        "passed_time": 23.61108465,
                        "remaining_time": 8.20978415,
                        "test": [
                          2228746.676
                        ]
                      },
                      {
                        "learn": [
                          1445164.823
                        ],
                        "iteration": 742,
                        "passed_time": 23.63853957,
                        "remaining_time": 8.176453123,
                        "test": [
                          2229378.989
                        ]
                      },
                      {
                        "learn": [
                          1444766.45
                        ],
                        "iteration": 743,
                        "passed_time": 23.66923182,
                        "remaining_time": 8.144251808,
                        "test": [
                          2229412.864
                        ]
                      },
                      {
                        "learn": [
                          1444273.711
                        ],
                        "iteration": 744,
                        "passed_time": 23.69681291,
                        "remaining_time": 8.110989654,
                        "test": [
                          2229457.394
                        ]
                      },
                      {
                        "learn": [
                          1443552.644
                        ],
                        "iteration": 745,
                        "passed_time": 23.72688404,
                        "remaining_time": 8.078590544,
                        "test": [
                          2229485.424
                        ]
                      },
                      {
                        "learn": [
                          1443216.402
                        ],
                        "iteration": 746,
                        "passed_time": 23.752871,
                        "remaining_time": 8.044814409,
                        "test": [
                          2229519.247
                        ]
                      },
                      {
                        "learn": [
                          1442593.684
                        ],
                        "iteration": 747,
                        "passed_time": 23.78340772,
                        "remaining_time": 8.012591904,
                        "test": [
                          2229505.289
                        ]
                      },
                      {
                        "learn": [
                          1442094.113
                        ],
                        "iteration": 748,
                        "passed_time": 23.80595547,
                        "remaining_time": 7.977696692,
                        "test": [
                          2229446.909
                        ]
                      },
                      {
                        "learn": [
                          1441574.272
                        ],
                        "iteration": 749,
                        "passed_time": 23.83606005,
                        "remaining_time": 7.945353349,
                        "test": [
                          2229841.217
                        ]
                      },
                      {
                        "learn": [
                          1441158.189
                        ],
                        "iteration": 750,
                        "passed_time": 23.86472774,
                        "remaining_time": 7.912539558,
                        "test": [
                          2229999.582
                        ]
                      },
                      {
                        "learn": [
                          1440796.291
                        ],
                        "iteration": 751,
                        "passed_time": 23.89307875,
                        "remaining_time": 7.879632355,
                        "test": [
                          2229606.91
                        ]
                      },
                      {
                        "learn": [
                          1440501.581
                        ],
                        "iteration": 752,
                        "passed_time": 23.91356191,
                        "remaining_time": 7.844156429,
                        "test": [
                          2229547.487
                        ]
                      },
                      {
                        "learn": [
                          1440007.248
                        ],
                        "iteration": 753,
                        "passed_time": 23.94179444,
                        "remaining_time": 7.811248583,
                        "test": [
                          2229544.66
                        ]
                      },
                      {
                        "learn": [
                          1439358.739
                        ],
                        "iteration": 754,
                        "passed_time": 23.97517498,
                        "remaining_time": 7.78002367,
                        "test": [
                          2229158.454
                        ]
                      },
                      {
                        "learn": [
                          1439173.579
                        ],
                        "iteration": 755,
                        "passed_time": 24.00661616,
                        "remaining_time": 7.748167121,
                        "test": [
                          2229225.444
                        ]
                      },
                      {
                        "learn": [
                          1438981.056
                        ],
                        "iteration": 756,
                        "passed_time": 24.03542116,
                        "remaining_time": 7.715465446,
                        "test": [
                          2229066.735
                        ]
                      },
                      {
                        "learn": [
                          1438294.743
                        ],
                        "iteration": 757,
                        "passed_time": 24.06497339,
                        "remaining_time": 7.683012613,
                        "test": [
                          2228994.844
                        ]
                      },
                      {
                        "learn": [
                          1437769.666
                        ],
                        "iteration": 758,
                        "passed_time": 24.09222873,
                        "remaining_time": 7.649838107,
                        "test": [
                          2229200.691
                        ]
                      },
                      {
                        "learn": [
                          1437125.219
                        ],
                        "iteration": 759,
                        "passed_time": 24.12086466,
                        "remaining_time": 7.617115157,
                        "test": [
                          2229052.029
                        ]
                      },
                      {
                        "learn": [
                          1436476.228
                        ],
                        "iteration": 760,
                        "passed_time": 24.1544622,
                        "remaining_time": 7.585961191,
                        "test": [
                          2228816.04
                        ]
                      },
                      {
                        "learn": [
                          1435793.001
                        ],
                        "iteration": 761,
                        "passed_time": 24.20067747,
                        "remaining_time": 7.558741781,
                        "test": [
                          2228828.143
                        ]
                      },
                      {
                        "learn": [
                          1435266.405
                        ],
                        "iteration": 762,
                        "passed_time": 24.24255408,
                        "remaining_time": 7.530124925,
                        "test": [
                          2228845.541
                        ]
                      },
                      {
                        "learn": [
                          1434614.599
                        ],
                        "iteration": 763,
                        "passed_time": 24.29630996,
                        "remaining_time": 7.505142867,
                        "test": [
                          2229216.083
                        ]
                      },
                      {
                        "learn": [
                          1434011.327
                        ],
                        "iteration": 764,
                        "passed_time": 24.32907639,
                        "remaining_time": 7.473637844,
                        "test": [
                          2229539.033
                        ]
                      },
                      {
                        "learn": [
                          1433483.442
                        ],
                        "iteration": 765,
                        "passed_time": 24.35974187,
                        "remaining_time": 7.441487725,
                        "test": [
                          2229327.611
                        ]
                      },
                      {
                        "learn": [
                          1432750.716
                        ],
                        "iteration": 766,
                        "passed_time": 24.38979592,
                        "remaining_time": 7.409155737,
                        "test": [
                          2229260.937
                        ]
                      },
                      {
                        "learn": [
                          1432118.224
                        ],
                        "iteration": 767,
                        "passed_time": 24.419489,
                        "remaining_time": 7.376720635,
                        "test": [
                          2229208.153
                        ]
                      },
                      {
                        "learn": [
                          1431615.364
                        ],
                        "iteration": 768,
                        "passed_time": 24.44929871,
                        "remaining_time": 7.344327702,
                        "test": [
                          2229404.743
                        ]
                      },
                      {
                        "learn": [
                          1430897.991
                        ],
                        "iteration": 769,
                        "passed_time": 24.48267127,
                        "remaining_time": 7.313005705,
                        "test": [
                          2229292.769
                        ]
                      },
                      {
                        "learn": [
                          1430560.285
                        ],
                        "iteration": 770,
                        "passed_time": 24.51421821,
                        "remaining_time": 7.281136149,
                        "test": [
                          2229131.024
                        ]
                      },
                      {
                        "learn": [
                          1429832.283
                        ],
                        "iteration": 771,
                        "passed_time": 24.54997562,
                        "remaining_time": 7.250510935,
                        "test": [
                          2229447.257
                        ]
                      },
                      {
                        "learn": [
                          1429643.763
                        ],
                        "iteration": 772,
                        "passed_time": 24.58487171,
                        "remaining_time": 7.219619505,
                        "test": [
                          2229454.762
                        ]
                      },
                      {
                        "learn": [
                          1429255.646
                        ],
                        "iteration": 773,
                        "passed_time": 24.61621887,
                        "remaining_time": 7.187681478,
                        "test": [
                          2229516.785
                        ]
                      },
                      {
                        "learn": [
                          1428964.524
                        ],
                        "iteration": 774,
                        "passed_time": 24.64127977,
                        "remaining_time": 7.153919933,
                        "test": [
                          2229566.472
                        ]
                      },
                      {
                        "learn": [
                          1428457.687
                        ],
                        "iteration": 775,
                        "passed_time": 24.67291594,
                        "remaining_time": 7.122078827,
                        "test": [
                          2229754.14
                        ]
                      },
                      {
                        "learn": [
                          1428140.953
                        ],
                        "iteration": 776,
                        "passed_time": 24.70299005,
                        "remaining_time": 7.089789937,
                        "test": [
                          2229905.04
                        ]
                      },
                      {
                        "learn": [
                          1427306.916
                        ],
                        "iteration": 777,
                        "passed_time": 24.72886013,
                        "remaining_time": 7.056307132,
                        "test": [
                          2230000.395
                        ]
                      },
                      {
                        "learn": [
                          1426688.576
                        ],
                        "iteration": 778,
                        "passed_time": 24.75747861,
                        "remaining_time": 7.023623584,
                        "test": [
                          2230136.887
                        ]
                      },
                      {
                        "learn": [
                          1425757.654
                        ],
                        "iteration": 779,
                        "passed_time": 24.78150595,
                        "remaining_time": 6.989655523,
                        "test": [
                          2230204.783
                        ]
                      },
                      {
                        "learn": [
                          1425071.275
                        ],
                        "iteration": 780,
                        "passed_time": 24.81159681,
                        "remaining_time": 6.957413191,
                        "test": [
                          2230105.377
                        ]
                      },
                      {
                        "learn": [
                          1424048.146
                        ],
                        "iteration": 781,
                        "passed_time": 24.84250021,
                        "remaining_time": 6.925402872,
                        "test": [
                          2230156.242
                        ]
                      },
                      {
                        "learn": [
                          1423512.3
                        ],
                        "iteration": 782,
                        "passed_time": 24.87326336,
                        "remaining_time": 6.893356512,
                        "test": [
                          2230488.307
                        ]
                      },
                      {
                        "learn": [
                          1422841.487
                        ],
                        "iteration": 783,
                        "passed_time": 24.90663078,
                        "remaining_time": 6.86203093,
                        "test": [
                          2230384.407
                        ]
                      },
                      {
                        "learn": [
                          1422153.652
                        ],
                        "iteration": 784,
                        "passed_time": 24.93830626,
                        "remaining_time": 6.830236747,
                        "test": [
                          2230517.81
                        ]
                      },
                      {
                        "learn": [
                          1421475.469
                        ],
                        "iteration": 785,
                        "passed_time": 24.9680064,
                        "remaining_time": 6.79790505,
                        "test": [
                          2230395.581
                        ]
                      },
                      {
                        "learn": [
                          1420765.539
                        ],
                        "iteration": 786,
                        "passed_time": 24.99868091,
                        "remaining_time": 6.765843753,
                        "test": [
                          2230461.279
                        ]
                      },
                      {
                        "learn": [
                          1420083.208
                        ],
                        "iteration": 787,
                        "passed_time": 25.03117237,
                        "remaining_time": 6.7342748,
                        "test": [
                          2230632.937
                        ]
                      },
                      {
                        "learn": [
                          1419535.133
                        ],
                        "iteration": 788,
                        "passed_time": 25.05414439,
                        "remaining_time": 6.700157752,
                        "test": [
                          2230566.49
                        ]
                      },
                      {
                        "learn": [
                          1418966.472
                        ],
                        "iteration": 789,
                        "passed_time": 25.06581129,
                        "remaining_time": 6.663063761,
                        "test": [
                          2230410.63
                        ]
                      },
                      {
                        "learn": [
                          1418581.842
                        ],
                        "iteration": 790,
                        "passed_time": 25.07758201,
                        "remaining_time": 6.626061492,
                        "test": [
                          2230584.422
                        ]
                      },
                      {
                        "learn": [
                          1418399.467
                        ],
                        "iteration": 791,
                        "passed_time": 25.08857046,
                        "remaining_time": 6.588917494,
                        "test": [
                          2230558.787
                        ]
                      },
                      {
                        "learn": [
                          1418147.194
                        ],
                        "iteration": 792,
                        "passed_time": 25.1008817,
                        "remaining_time": 6.552184756,
                        "test": [
                          2230580.444
                        ]
                      },
                      {
                        "learn": [
                          1417914.282
                        ],
                        "iteration": 793,
                        "passed_time": 25.11186966,
                        "remaining_time": 6.515170215,
                        "test": [
                          2230549.159
                        ]
                      },
                      {
                        "learn": [
                          1417729.198
                        ],
                        "iteration": 794,
                        "passed_time": 25.12320499,
                        "remaining_time": 6.478310722,
                        "test": [
                          2230569.707
                        ]
                      },
                      {
                        "learn": [
                          1417373.862
                        ],
                        "iteration": 795,
                        "passed_time": 25.13480969,
                        "remaining_time": 6.441584394,
                        "test": [
                          2230664.837
                        ]
                      },
                      {
                        "learn": [
                          1416829.189
                        ],
                        "iteration": 796,
                        "passed_time": 25.14636849,
                        "remaining_time": 6.404909416,
                        "test": [
                          2230637.992
                        ]
                      },
                      {
                        "learn": [
                          1415966.577
                        ],
                        "iteration": 797,
                        "passed_time": 25.15996006,
                        "remaining_time": 6.368811945,
                        "test": [
                          2230383.874
                        ]
                      },
                      {
                        "learn": [
                          1415428.353
                        ],
                        "iteration": 798,
                        "passed_time": 25.17440081,
                        "remaining_time": 6.332984435,
                        "test": [
                          2230215.026
                        ]
                      },
                      {
                        "learn": [
                          1414911.192
                        ],
                        "iteration": 799,
                        "passed_time": 25.18648964,
                        "remaining_time": 6.296622409,
                        "test": [
                          2230343.966
                        ]
                      },
                      {
                        "learn": [
                          1414316.727
                        ],
                        "iteration": 800,
                        "passed_time": 25.19889255,
                        "remaining_time": 6.260399023,
                        "test": [
                          2230330.209
                        ]
                      },
                      {
                        "learn": [
                          1414005.051
                        ],
                        "iteration": 801,
                        "passed_time": 25.21165084,
                        "remaining_time": 6.224322776,
                        "test": [
                          2230383.012
                        ]
                      },
                      {
                        "learn": [
                          1413177.526
                        ],
                        "iteration": 802,
                        "passed_time": 25.22389596,
                        "remaining_time": 6.188178709,
                        "test": [
                          2230175.442
                        ]
                      },
                      {
                        "learn": [
                          1412500.648
                        ],
                        "iteration": 803,
                        "passed_time": 25.23549654,
                        "remaining_time": 6.151936969,
                        "test": [
                          2230221.006
                        ]
                      },
                      {
                        "learn": [
                          1412373.721
                        ],
                        "iteration": 804,
                        "passed_time": 25.24770966,
                        "remaining_time": 6.115904825,
                        "test": [
                          2230155.646
                        ]
                      },
                      {
                        "learn": [
                          1411705.433
                        ],
                        "iteration": 805,
                        "passed_time": 25.26007634,
                        "remaining_time": 6.079968746,
                        "test": [
                          2230022.439
                        ]
                      },
                      {
                        "learn": [
                          1411223.924
                        ],
                        "iteration": 806,
                        "passed_time": 25.29836538,
                        "remaining_time": 6.050290605,
                        "test": [
                          2230116.57
                        ]
                      },
                      {
                        "learn": [
                          1410723.46
                        ],
                        "iteration": 807,
                        "passed_time": 25.32315641,
                        "remaining_time": 6.0173837,
                        "test": [
                          2230130.335
                        ]
                      },
                      {
                        "learn": [
                          1410418.09
                        ],
                        "iteration": 808,
                        "passed_time": 25.34449101,
                        "remaining_time": 5.983680819,
                        "test": [
                          2230119.467
                        ]
                      },
                      {
                        "learn": [
                          1409852.301
                        ],
                        "iteration": 809,
                        "passed_time": 25.35630425,
                        "remaining_time": 5.94777507,
                        "test": [
                          2230204.49
                        ]
                      },
                      {
                        "learn": [
                          1409139.553
                        ],
                        "iteration": 810,
                        "passed_time": 25.37119033,
                        "remaining_time": 5.912644849,
                        "test": [
                          2230264.185
                        ]
                      },
                      {
                        "learn": [
                          1408978.249
                        ],
                        "iteration": 811,
                        "passed_time": 25.38220331,
                        "remaining_time": 5.876667763,
                        "test": [
                          2230281.581
                        ]
                      },
                      {
                        "learn": [
                          1408565.936
                        ],
                        "iteration": 812,
                        "passed_time": 25.39445143,
                        "remaining_time": 5.841036184,
                        "test": [
                          2230195.078
                        ]
                      },
                      {
                        "learn": [
                          1407874.435
                        ],
                        "iteration": 813,
                        "passed_time": 25.41108037,
                        "remaining_time": 5.806463081,
                        "test": [
                          2230148.239
                        ]
                      },
                      {
                        "learn": [
                          1407533.198
                        ],
                        "iteration": 814,
                        "passed_time": 25.42269102,
                        "remaining_time": 5.770794893,
                        "test": [
                          2230077.454
                        ]
                      },
                      {
                        "learn": [
                          1406856.912
                        ],
                        "iteration": 815,
                        "passed_time": 25.43405935,
                        "remaining_time": 5.73513103,
                        "test": [
                          2229274.366
                        ]
                      },
                      {
                        "learn": [
                          1406542.877
                        ],
                        "iteration": 816,
                        "passed_time": 25.4468494,
                        "remaining_time": 5.699845091,
                        "test": [
                          2229229.168
                        ]
                      },
                      {
                        "learn": [
                          1405729.463
                        ],
                        "iteration": 817,
                        "passed_time": 25.45843287,
                        "remaining_time": 5.6643457,
                        "test": [
                          2229231.82
                        ]
                      },
                      {
                        "learn": [
                          1405423.786
                        ],
                        "iteration": 818,
                        "passed_time": 25.47007469,
                        "remaining_time": 5.628917605,
                        "test": [
                          2229035.405
                        ]
                      },
                      {
                        "learn": [
                          1404990.149
                        ],
                        "iteration": 819,
                        "passed_time": 25.481576,
                        "remaining_time": 5.593516682,
                        "test": [
                          2229026.919
                        ]
                      },
                      {
                        "learn": [
                          1404578.917
                        ],
                        "iteration": 820,
                        "passed_time": 25.49337364,
                        "remaining_time": 5.558238589,
                        "test": [
                          2228938.413
                        ]
                      },
                      {
                        "learn": [
                          1403788.547
                        ],
                        "iteration": 821,
                        "passed_time": 25.50512774,
                        "remaining_time": 5.523008197,
                        "test": [
                          2228824.842
                        ]
                      },
                      {
                        "learn": [
                          1403108.754
                        ],
                        "iteration": 822,
                        "passed_time": 25.51702675,
                        "remaining_time": 5.48786602,
                        "test": [
                          2228771.022
                        ]
                      },
                      {
                        "learn": [
                          1402507.858
                        ],
                        "iteration": 823,
                        "passed_time": 25.52935079,
                        "remaining_time": 5.452871043,
                        "test": [
                          2228472.717
                        ]
                      },
                      {
                        "learn": [
                          1402148.297
                        ],
                        "iteration": 824,
                        "passed_time": 25.54079892,
                        "remaining_time": 5.417745225,
                        "test": [
                          2228383.154
                        ]
                      },
                      {
                        "learn": [
                          1401666.233
                        ],
                        "iteration": 825,
                        "passed_time": 25.55296873,
                        "remaining_time": 5.382828763,
                        "test": [
                          2228299.212
                        ]
                      },
                      {
                        "learn": [
                          1401064.084
                        ],
                        "iteration": 826,
                        "passed_time": 25.56479095,
                        "remaining_time": 5.3478946,
                        "test": [
                          2228271.826
                        ]
                      },
                      {
                        "learn": [
                          1400674.51
                        ],
                        "iteration": 827,
                        "passed_time": 25.5772622,
                        "remaining_time": 5.313151085,
                        "test": [
                          2227850.082
                        ]
                      },
                      {
                        "learn": [
                          1400625.749
                        ],
                        "iteration": 828,
                        "passed_time": 25.58774363,
                        "remaining_time": 5.278050857,
                        "test": [
                          2227879.907
                        ]
                      },
                      {
                        "learn": [
                          1399997.187
                        ],
                        "iteration": 829,
                        "passed_time": 25.59966759,
                        "remaining_time": 5.243305411,
                        "test": [
                          2227835.722
                        ]
                      },
                      {
                        "learn": [
                          1399897.674
                        ],
                        "iteration": 830,
                        "passed_time": 25.61087659,
                        "remaining_time": 5.208469487,
                        "test": [
                          2227854.599
                        ]
                      },
                      {
                        "learn": [
                          1399271.502
                        ],
                        "iteration": 831,
                        "passed_time": 25.62304285,
                        "remaining_time": 5.173883653,
                        "test": [
                          2227890.815
                        ]
                      },
                      {
                        "learn": [
                          1399117.1
                        ],
                        "iteration": 832,
                        "passed_time": 25.64046528,
                        "remaining_time": 5.140405405,
                        "test": [
                          2227794.762
                        ]
                      },
                      {
                        "learn": [
                          1398999.462
                        ],
                        "iteration": 833,
                        "passed_time": 25.66515747,
                        "remaining_time": 5.108412639,
                        "test": [
                          2227910.148
                        ]
                      },
                      {
                        "learn": [
                          1398829.904
                        ],
                        "iteration": 834,
                        "passed_time": 25.6786645,
                        "remaining_time": 5.074227118,
                        "test": [
                          2227930.905
                        ]
                      },
                      {
                        "learn": [
                          1397889.898
                        ],
                        "iteration": 835,
                        "passed_time": 25.69135399,
                        "remaining_time": 5.039930687,
                        "test": [
                          2228038.648
                        ]
                      },
                      {
                        "learn": [
                          1397575.027
                        ],
                        "iteration": 836,
                        "passed_time": 25.70312215,
                        "remaining_time": 5.005506464,
                        "test": [
                          2227894.673
                        ]
                      },
                      {
                        "learn": [
                          1397340.892
                        ],
                        "iteration": 837,
                        "passed_time": 25.71426286,
                        "remaining_time": 4.971015015,
                        "test": [
                          2227820.88
                        ]
                      },
                      {
                        "learn": [
                          1397099.943
                        ],
                        "iteration": 838,
                        "passed_time": 25.72614647,
                        "remaining_time": 4.93672179,
                        "test": [
                          2227947.06
                        ]
                      },
                      {
                        "learn": [
                          1396326.664
                        ],
                        "iteration": 839,
                        "passed_time": 25.73855867,
                        "remaining_time": 4.902582605,
                        "test": [
                          2227945.324
                        ]
                      },
                      {
                        "learn": [
                          1395767.376
                        ],
                        "iteration": 840,
                        "passed_time": 25.75044604,
                        "remaining_time": 4.868395863,
                        "test": [
                          2227931.743
                        ]
                      },
                      {
                        "learn": [
                          1395190.864
                        ],
                        "iteration": 841,
                        "passed_time": 25.76181304,
                        "remaining_time": 4.834164443,
                        "test": [
                          2227765.811
                        ]
                      },
                      {
                        "learn": [
                          1394869.918
                        ],
                        "iteration": 842,
                        "passed_time": 25.77335575,
                        "remaining_time": 4.800019992,
                        "test": [
                          2227839.524
                        ]
                      },
                      {
                        "learn": [
                          1394604.197
                        ],
                        "iteration": 843,
                        "passed_time": 25.78713961,
                        "remaining_time": 4.76634334,
                        "test": [
                          2227834.386
                        ]
                      },
                      {
                        "learn": [
                          1393990.99
                        ],
                        "iteration": 844,
                        "passed_time": 25.79917912,
                        "remaining_time": 4.732393802,
                        "test": [
                          2227854.07
                        ]
                      },
                      {
                        "learn": [
                          1393485.05
                        ],
                        "iteration": 845,
                        "passed_time": 25.81159691,
                        "remaining_time": 4.698564922,
                        "test": [
                          2228103.146
                        ]
                      },
                      {
                        "learn": [
                          1393175.927
                        ],
                        "iteration": 846,
                        "passed_time": 25.82300632,
                        "remaining_time": 4.664604448,
                        "test": [
                          2227958.734
                        ]
                      },
                      {
                        "learn": [
                          1392693.78
                        ],
                        "iteration": 847,
                        "passed_time": 25.83410628,
                        "remaining_time": 4.630641692,
                        "test": [
                          2228105.598
                        ]
                      },
                      {
                        "learn": [
                          1392034.378
                        ],
                        "iteration": 848,
                        "passed_time": 25.84545362,
                        "remaining_time": 4.596776793,
                        "test": [
                          2228049.124
                        ]
                      },
                      {
                        "learn": [
                          1391407.985
                        ],
                        "iteration": 849,
                        "passed_time": 25.85699191,
                        "remaining_time": 4.562998572,
                        "test": [
                          2228113.119
                        ]
                      },
                      {
                        "learn": [
                          1390784.928
                        ],
                        "iteration": 850,
                        "passed_time": 25.86886718,
                        "remaining_time": 4.529331622,
                        "test": [
                          2228347.001
                        ]
                      },
                      {
                        "learn": [
                          1390266.023
                        ],
                        "iteration": 851,
                        "passed_time": 25.88029318,
                        "remaining_time": 4.495637783,
                        "test": [
                          2228457.452
                        ]
                      },
                      {
                        "learn": [
                          1390004.376
                        ],
                        "iteration": 852,
                        "passed_time": 25.89170546,
                        "remaining_time": 4.46199379,
                        "test": [
                          2228433.762
                        ]
                      },
                      {
                        "learn": [
                          1389495.23
                        ],
                        "iteration": 853,
                        "passed_time": 25.90346104,
                        "remaining_time": 4.428460553,
                        "test": [
                          2228255.946
                        ]
                      },
                      {
                        "learn": [
                          1389231.806
                        ],
                        "iteration": 854,
                        "passed_time": 25.92361049,
                        "remaining_time": 4.396401779,
                        "test": [
                          2228209.094
                        ]
                      },
                      {
                        "learn": [
                          1388732.389
                        ],
                        "iteration": 855,
                        "passed_time": 25.9541797,
                        "remaining_time": 4.366123688,
                        "test": [
                          2228644.292
                        ]
                      },
                      {
                        "learn": [
                          1388136.582
                        ],
                        "iteration": 856,
                        "passed_time": 25.98510012,
                        "remaining_time": 4.335903521,
                        "test": [
                          2228289.9
                        ]
                      },
                      {
                        "learn": [
                          1387480.466
                        ],
                        "iteration": 857,
                        "passed_time": 26.01415619,
                        "remaining_time": 4.305373169,
                        "test": [
                          2228456.753
                        ]
                      },
                      {
                        "learn": [
                          1387426.264
                        ],
                        "iteration": 858,
                        "passed_time": 26.03740689,
                        "remaining_time": 4.273893331,
                        "test": [
                          2228458.881
                        ]
                      },
                      {
                        "learn": [
                          1386799.267
                        ],
                        "iteration": 859,
                        "passed_time": 26.06367767,
                        "remaining_time": 4.242924271,
                        "test": [
                          2228432.496
                        ]
                      },
                      {
                        "learn": [
                          1386206.274
                        ],
                        "iteration": 860,
                        "passed_time": 26.09704311,
                        "remaining_time": 4.213111489,
                        "test": [
                          2228564.038
                        ]
                      },
                      {
                        "learn": [
                          1385706.042
                        ],
                        "iteration": 861,
                        "passed_time": 26.12723315,
                        "remaining_time": 4.182782106,
                        "test": [
                          2228614.349
                        ]
                      },
                      {
                        "learn": [
                          1385340.874
                        ],
                        "iteration": 862,
                        "passed_time": 26.15369579,
                        "remaining_time": 4.151861325,
                        "test": [
                          2228786.985
                        ]
                      },
                      {
                        "learn": [
                          1384815.33
                        ],
                        "iteration": 863,
                        "passed_time": 26.17958712,
                        "remaining_time": 4.120860935,
                        "test": [
                          2228668.635
                        ]
                      },
                      {
                        "learn": [
                          1384620.781
                        ],
                        "iteration": 864,
                        "passed_time": 26.20811655,
                        "remaining_time": 4.090284086,
                        "test": [
                          2228692.814
                        ]
                      },
                      {
                        "learn": [
                          1384245.6
                        ],
                        "iteration": 865,
                        "passed_time": 26.23790249,
                        "remaining_time": 4.05990639,
                        "test": [
                          2228845.117
                        ]
                      },
                      {
                        "learn": [
                          1383622.579
                        ],
                        "iteration": 866,
                        "passed_time": 26.26870129,
                        "remaining_time": 4.029685435,
                        "test": [
                          2228913.818
                        ]
                      },
                      {
                        "learn": [
                          1382855.402
                        ],
                        "iteration": 867,
                        "passed_time": 26.33134715,
                        "remaining_time": 4.004306248,
                        "test": [
                          2229067.424
                        ]
                      },
                      {
                        "learn": [
                          1382544.407
                        ],
                        "iteration": 868,
                        "passed_time": 26.36955711,
                        "remaining_time": 3.975157631,
                        "test": [
                          2229026.821
                        ]
                      },
                      {
                        "learn": [
                          1382465.416
                        ],
                        "iteration": 869,
                        "passed_time": 26.39953091,
                        "remaining_time": 3.944757492,
                        "test": [
                          2228998.01
                        ]
                      },
                      {
                        "learn": [
                          1382358.505
                        ],
                        "iteration": 870,
                        "passed_time": 26.42735275,
                        "remaining_time": 3.914039615,
                        "test": [
                          2229120.021
                        ]
                      },
                      {
                        "learn": [
                          1381862.416
                        ],
                        "iteration": 871,
                        "passed_time": 26.45728913,
                        "remaining_time": 3.883638772,
                        "test": [
                          2228646.124
                        ]
                      },
                      {
                        "learn": [
                          1381313.393
                        ],
                        "iteration": 872,
                        "passed_time": 26.48971183,
                        "remaining_time": 3.85360069,
                        "test": [
                          2229012.968
                        ]
                      },
                      {
                        "learn": [
                          1380844.359
                        ],
                        "iteration": 873,
                        "passed_time": 26.51400459,
                        "remaining_time": 3.822385101,
                        "test": [
                          2228780.887
                        ]
                      },
                      {
                        "learn": [
                          1380534.517
                        ],
                        "iteration": 874,
                        "passed_time": 26.54126395,
                        "remaining_time": 3.791609135,
                        "test": [
                          2228773.242
                        ]
                      },
                      {
                        "learn": [
                          1380159.654
                        ],
                        "iteration": 875,
                        "passed_time": 26.57049807,
                        "remaining_time": 3.761120732,
                        "test": [
                          2228654.785
                        ]
                      },
                      {
                        "learn": [
                          1379435.167
                        ],
                        "iteration": 876,
                        "passed_time": 26.59903832,
                        "remaining_time": 3.730537871,
                        "test": [
                          2228757.985
                        ]
                      },
                      {
                        "learn": [
                          1378928.98
                        ],
                        "iteration": 877,
                        "passed_time": 26.62836547,
                        "remaining_time": 3.700069006,
                        "test": [
                          2228406.62
                        ]
                      },
                      {
                        "learn": [
                          1378436.737
                        ],
                        "iteration": 878,
                        "passed_time": 26.64700354,
                        "remaining_time": 3.668131318,
                        "test": [
                          2228454.167
                        ]
                      },
                      {
                        "learn": [
                          1378187.208
                        ],
                        "iteration": 879,
                        "passed_time": 26.65851722,
                        "remaining_time": 3.635252348,
                        "test": [
                          2228486.092
                        ]
                      },
                      {
                        "learn": [
                          1377747.708
                        ],
                        "iteration": 880,
                        "passed_time": 26.67448,
                        "remaining_time": 3.603022838,
                        "test": [
                          2228403.983
                        ]
                      },
                      {
                        "learn": [
                          1377563.828
                        ],
                        "iteration": 881,
                        "passed_time": 26.68856985,
                        "remaining_time": 3.57057964,
                        "test": [
                          2228392.64
                        ]
                      },
                      {
                        "learn": [
                          1376963.737
                        ],
                        "iteration": 882,
                        "passed_time": 26.70376175,
                        "remaining_time": 3.538324038,
                        "test": [
                          2228463.639
                        ]
                      },
                      {
                        "learn": [
                          1376809.915
                        ],
                        "iteration": 883,
                        "passed_time": 26.71847936,
                        "remaining_time": 3.506044803,
                        "test": [
                          2228481.322
                        ]
                      },
                      {
                        "learn": [
                          1376316.95
                        ],
                        "iteration": 884,
                        "passed_time": 26.7307142,
                        "remaining_time": 3.473482636,
                        "test": [
                          2228513.053
                        ]
                      },
                      {
                        "learn": [
                          1375621.732
                        ],
                        "iteration": 885,
                        "passed_time": 26.74229463,
                        "remaining_time": 3.440882153,
                        "test": [
                          2228655.639
                        ]
                      },
                      {
                        "learn": [
                          1375060.533
                        ],
                        "iteration": 886,
                        "passed_time": 26.75408148,
                        "remaining_time": 3.408355363,
                        "test": [
                          2228806.481
                        ]
                      },
                      {
                        "learn": [
                          1374905.88
                        ],
                        "iteration": 887,
                        "passed_time": 26.76633905,
                        "remaining_time": 3.375934655,
                        "test": [
                          2228821.612
                        ]
                      },
                      {
                        "learn": [
                          1374177.159
                        ],
                        "iteration": 888,
                        "passed_time": 26.77986627,
                        "remaining_time": 3.343717835,
                        "test": [
                          2228920.932
                        ]
                      },
                      {
                        "learn": [
                          1373442.041
                        ],
                        "iteration": 889,
                        "passed_time": 26.79253845,
                        "remaining_time": 3.311437337,
                        "test": [
                          2228899.303
                        ]
                      },
                      {
                        "learn": [
                          1372715.926
                        ],
                        "iteration": 890,
                        "passed_time": 26.80462658,
                        "remaining_time": 3.279129402,
                        "test": [
                          2229170.283
                        ]
                      },
                      {
                        "learn": [
                          1372449.144
                        ],
                        "iteration": 891,
                        "passed_time": 26.81604535,
                        "remaining_time": 3.24678576,
                        "test": [
                          2229144.537
                        ]
                      },
                      {
                        "learn": [
                          1372147.65
                        ],
                        "iteration": 892,
                        "passed_time": 26.82835212,
                        "remaining_time": 3.214595382,
                        "test": [
                          2229070.094
                        ]
                      },
                      {
                        "learn": [
                          1371221.344
                        ],
                        "iteration": 893,
                        "passed_time": 26.84035673,
                        "remaining_time": 3.182413662,
                        "test": [
                          2229010.425
                        ]
                      },
                      {
                        "learn": [
                          1371012.667
                        ],
                        "iteration": 894,
                        "passed_time": 26.85134324,
                        "remaining_time": 3.150157587,
                        "test": [
                          2228821.803
                        ]
                      },
                      {
                        "learn": [
                          1370580.696
                        ],
                        "iteration": 895,
                        "passed_time": 26.86335706,
                        "remaining_time": 3.11806823,
                        "test": [
                          2228766.726
                        ]
                      },
                      {
                        "learn": [
                          1369973.091
                        ],
                        "iteration": 896,
                        "passed_time": 26.87500544,
                        "remaining_time": 3.085981673,
                        "test": [
                          2228979.22
                        ]
                      },
                      {
                        "learn": [
                          1369604.38
                        ],
                        "iteration": 897,
                        "passed_time": 26.88676996,
                        "remaining_time": 3.053953826,
                        "test": [
                          2228926.682
                        ]
                      },
                      {
                        "learn": [
                          1369449.276
                        ],
                        "iteration": 898,
                        "passed_time": 26.8976444,
                        "remaining_time": 3.021871062,
                        "test": [
                          2228983.493
                        ]
                      },
                      {
                        "learn": [
                          1368975.283
                        ],
                        "iteration": 899,
                        "passed_time": 26.90894472,
                        "remaining_time": 2.989882747,
                        "test": [
                          2229083.966
                        ]
                      },
                      {
                        "learn": [
                          1368622.101
                        ],
                        "iteration": 900,
                        "passed_time": 26.91992539,
                        "remaining_time": 2.957905232,
                        "test": [
                          2229121.164
                        ]
                      },
                      {
                        "learn": [
                          1368018.722
                        ],
                        "iteration": 901,
                        "passed_time": 26.93227814,
                        "remaining_time": 2.926123346,
                        "test": [
                          2228997.044
                        ]
                      },
                      {
                        "learn": [
                          1367313.803
                        ],
                        "iteration": 902,
                        "passed_time": 26.94490696,
                        "remaining_time": 2.894414147,
                        "test": [
                          2228931.243
                        ]
                      },
                      {
                        "learn": [
                          1366945
                        ],
                        "iteration": 903,
                        "passed_time": 26.95623018,
                        "remaining_time": 2.862608515,
                        "test": [
                          2229190.31
                        ]
                      },
                      {
                        "learn": [
                          1366770.979
                        ],
                        "iteration": 904,
                        "passed_time": 26.96797911,
                        "remaining_time": 2.830892835,
                        "test": [
                          2229104.54
                        ]
                      },
                      {
                        "learn": [
                          1366186.866
                        ],
                        "iteration": 905,
                        "passed_time": 26.97983515,
                        "remaining_time": 2.799232345,
                        "test": [
                          2229218.521
                        ]
                      },
                      {
                        "learn": [
                          1365729.01
                        ],
                        "iteration": 906,
                        "passed_time": 26.99137043,
                        "remaining_time": 2.767582635,
                        "test": [
                          2229217.472
                        ]
                      },
                      {
                        "learn": [
                          1365287.104
                        ],
                        "iteration": 907,
                        "passed_time": 27.00348918,
                        "remaining_time": 2.736036349,
                        "test": [
                          2229602.673
                        ]
                      },
                      {
                        "learn": [
                          1364953.804
                        ],
                        "iteration": 908,
                        "passed_time": 27.01487775,
                        "remaining_time": 2.704459709,
                        "test": [
                          2229667.339
                        ]
                      },
                      {
                        "learn": [
                          1364832.927
                        ],
                        "iteration": 909,
                        "passed_time": 27.02614909,
                        "remaining_time": 2.672915844,
                        "test": [
                          2229687.296
                        ]
                      },
                      {
                        "learn": [
                          1364125.002
                        ],
                        "iteration": 910,
                        "passed_time": 27.03774433,
                        "remaining_time": 2.641448129,
                        "test": [
                          2229480.065
                        ]
                      },
                      {
                        "learn": [
                          1363805.971
                        ],
                        "iteration": 911,
                        "passed_time": 27.04927858,
                        "remaining_time": 2.610018109,
                        "test": [
                          2229699.913
                        ]
                      },
                      {
                        "learn": [
                          1363380.54
                        ],
                        "iteration": 912,
                        "passed_time": 27.06080439,
                        "remaining_time": 2.578630867,
                        "test": [
                          2229746.368
                        ]
                      },
                      {
                        "learn": [
                          1362563.06
                        ],
                        "iteration": 913,
                        "passed_time": 27.07301805,
                        "remaining_time": 2.547351808,
                        "test": [
                          2229697.055
                        ]
                      },
                      {
                        "learn": [
                          1362045.038
                        ],
                        "iteration": 914,
                        "passed_time": 27.08539051,
                        "remaining_time": 2.516129173,
                        "test": [
                          2229760.68
                        ]
                      },
                      {
                        "learn": [
                          1361803.63
                        ],
                        "iteration": 915,
                        "passed_time": 27.09672315,
                        "remaining_time": 2.484852341,
                        "test": [
                          2229743.775
                        ]
                      },
                      {
                        "learn": [
                          1361311.029
                        ],
                        "iteration": 916,
                        "passed_time": 27.10812,
                        "remaining_time": 2.45362482,
                        "test": [
                          2229391.217
                        ]
                      },
                      {
                        "learn": [
                          1360669.036
                        ],
                        "iteration": 917,
                        "passed_time": 27.12385472,
                        "remaining_time": 2.422827982,
                        "test": [
                          2229228.257
                        ]
                      },
                      {
                        "learn": [
                          1360182.662
                        ],
                        "iteration": 918,
                        "passed_time": 27.13585169,
                        "remaining_time": 2.39173448,
                        "test": [
                          2229345.992
                        ]
                      },
                      {
                        "learn": [
                          1359899.346
                        ],
                        "iteration": 919,
                        "passed_time": 27.15115276,
                        "remaining_time": 2.360969805,
                        "test": [
                          2229342.417
                        ]
                      },
                      {
                        "learn": [
                          1359460.82
                        ],
                        "iteration": 920,
                        "passed_time": 27.16511853,
                        "remaining_time": 2.330124174,
                        "test": [
                          2229478.886
                        ]
                      },
                      {
                        "learn": [
                          1358824.339
                        ],
                        "iteration": 921,
                        "passed_time": 27.17677752,
                        "remaining_time": 2.299120007,
                        "test": [
                          2229653.206
                        ]
                      },
                      {
                        "learn": [
                          1358411.292
                        ],
                        "iteration": 922,
                        "passed_time": 27.18870338,
                        "remaining_time": 2.268180022,
                        "test": [
                          2229731.464
                        ]
                      },
                      {
                        "learn": [
                          1357997.85
                        ],
                        "iteration": 923,
                        "passed_time": 27.20020171,
                        "remaining_time": 2.237246028,
                        "test": [
                          2230186.551
                        ]
                      },
                      {
                        "learn": [
                          1357717.247
                        ],
                        "iteration": 924,
                        "passed_time": 27.21180661,
                        "remaining_time": 2.206362698,
                        "test": [
                          2230312.547
                        ]
                      },
                      {
                        "learn": [
                          1357300.12
                        ],
                        "iteration": 925,
                        "passed_time": 27.22379745,
                        "remaining_time": 2.175551848,
                        "test": [
                          2230297.697
                        ]
                      },
                      {
                        "learn": [
                          1356843.468
                        ],
                        "iteration": 926,
                        "passed_time": 27.23542192,
                        "remaining_time": 2.144752751,
                        "test": [
                          2230227.232
                        ]
                      },
                      {
                        "learn": [
                          1356276.934
                        ],
                        "iteration": 927,
                        "passed_time": 27.24698976,
                        "remaining_time": 2.113990585,
                        "test": [
                          2230134.591
                        ]
                      },
                      {
                        "learn": [
                          1355747.552
                        ],
                        "iteration": 928,
                        "passed_time": 27.25871176,
                        "remaining_time": 2.083281523,
                        "test": [
                          2230282.243
                        ]
                      },
                      {
                        "learn": [
                          1355608.291
                        ],
                        "iteration": 929,
                        "passed_time": 27.2692418,
                        "remaining_time": 2.052523576,
                        "test": [
                          2230295.359
                        ]
                      },
                      {
                        "learn": [
                          1355106.511
                        ],
                        "iteration": 930,
                        "passed_time": 27.28101135,
                        "remaining_time": 2.021900948,
                        "test": [
                          2229517.185
                        ]
                      },
                      {
                        "learn": [
                          1354797.065
                        ],
                        "iteration": 931,
                        "passed_time": 27.29221372,
                        "remaining_time": 1.991277396,
                        "test": [
                          2229556.599
                        ]
                      },
                      {
                        "learn": [
                          1354332.901
                        ],
                        "iteration": 932,
                        "passed_time": 27.30400628,
                        "remaining_time": 1.960737857,
                        "test": [
                          2229540.128
                        ]
                      },
                      {
                        "learn": [
                          1353931.673
                        ],
                        "iteration": 933,
                        "passed_time": 27.315306,
                        "remaining_time": 1.930203636,
                        "test": [
                          2229759.836
                        ]
                      },
                      {
                        "learn": [
                          1353196.08
                        ],
                        "iteration": 934,
                        "passed_time": 27.32744487,
                        "remaining_time": 1.899768895,
                        "test": [
                          2229783.443
                        ]
                      },
                      {
                        "learn": [
                          1353006.094
                        ],
                        "iteration": 935,
                        "passed_time": 27.33859938,
                        "remaining_time": 1.869305941,
                        "test": [
                          2229700.038
                        ]
                      },
                      {
                        "learn": [
                          1352547.931
                        ],
                        "iteration": 936,
                        "passed_time": 27.35289344,
                        "remaining_time": 1.83909529,
                        "test": [
                          2229862.032
                        ]
                      },
                      {
                        "learn": [
                          1352264.171
                        ],
                        "iteration": 937,
                        "passed_time": 27.36451771,
                        "remaining_time": 1.808742109,
                        "test": [
                          2229939.601
                        ]
                      },
                      {
                        "learn": [
                          1351801.645
                        ],
                        "iteration": 938,
                        "passed_time": 27.52144163,
                        "remaining_time": 1.78786788,
                        "test": [
                          2229962.257
                        ]
                      },
                      {
                        "learn": [
                          1351569.314
                        ],
                        "iteration": 939,
                        "passed_time": 27.5471338,
                        "remaining_time": 1.75832769,
                        "test": [
                          2229978.485
                        ]
                      },
                      {
                        "learn": [
                          1351294.636
                        ],
                        "iteration": 940,
                        "passed_time": 27.5689396,
                        "remaining_time": 1.728552005,
                        "test": [
                          2230039.489
                        ]
                      },
                      {
                        "learn": [
                          1350837.943
                        ],
                        "iteration": 941,
                        "passed_time": 27.58033862,
                        "remaining_time": 1.698152484,
                        "test": [
                          2230176.323
                        ]
                      },
                      {
                        "learn": [
                          1350144.122
                        ],
                        "iteration": 942,
                        "passed_time": 27.59152535,
                        "remaining_time": 1.667780429,
                        "test": [
                          2230435.155
                        ]
                      },
                      {
                        "learn": [
                          1349517.03
                        ],
                        "iteration": 943,
                        "passed_time": 27.60305466,
                        "remaining_time": 1.637469344,
                        "test": [
                          2230696.566
                        ]
                      },
                      {
                        "learn": [
                          1348848.864
                        ],
                        "iteration": 944,
                        "passed_time": 27.61639904,
                        "remaining_time": 1.607303648,
                        "test": [
                          2230756.264
                        ]
                      },
                      {
                        "learn": [
                          1348261.105
                        ],
                        "iteration": 945,
                        "passed_time": 27.62934205,
                        "remaining_time": 1.577150603,
                        "test": [
                          2230915.07
                        ]
                      },
                      {
                        "learn": [
                          1347853.959
                        ],
                        "iteration": 946,
                        "passed_time": 27.64138681,
                        "remaining_time": 1.546983633,
                        "test": [
                          2231116.838
                        ]
                      },
                      {
                        "learn": [
                          1347531.113
                        ],
                        "iteration": 947,
                        "passed_time": 27.65295993,
                        "remaining_time": 1.516829026,
                        "test": [
                          2231059.998
                        ]
                      },
                      {
                        "learn": [
                          1347071.753
                        ],
                        "iteration": 948,
                        "passed_time": 27.66439642,
                        "remaining_time": 1.486706235,
                        "test": [
                          2231001.668
                        ]
                      },
                      {
                        "learn": [
                          1346629.638
                        ],
                        "iteration": 949,
                        "passed_time": 27.6761187,
                        "remaining_time": 1.456637826,
                        "test": [
                          2231039.067
                        ]
                      },
                      {
                        "learn": [
                          1346164.47
                        ],
                        "iteration": 950,
                        "passed_time": 27.68782105,
                        "remaining_time": 1.426606973,
                        "test": [
                          2231476.443
                        ]
                      },
                      {
                        "learn": [
                          1345364
                        ],
                        "iteration": 951,
                        "passed_time": 27.69953647,
                        "remaining_time": 1.396615284,
                        "test": [
                          2231505.554
                        ]
                      },
                      {
                        "learn": [
                          1344514.268
                        ],
                        "iteration": 952,
                        "passed_time": 27.71599273,
                        "remaining_time": 1.366895759,
                        "test": [
                          2231574.375
                        ]
                      },
                      {
                        "learn": [
                          1343665.082
                        ],
                        "iteration": 953,
                        "passed_time": 27.74114143,
                        "remaining_time": 1.337623172,
                        "test": [
                          2232005.819
                        ]
                      },
                      {
                        "learn": [
                          1343274.882
                        ],
                        "iteration": 954,
                        "passed_time": 27.75294779,
                        "remaining_time": 1.307730524,
                        "test": [
                          2232015.073
                        ]
                      },
                      {
                        "learn": [
                          1342786.706
                        ],
                        "iteration": 955,
                        "passed_time": 27.76533457,
                        "remaining_time": 1.277902428,
                        "test": [
                          2232027.468
                        ]
                      },
                      {
                        "learn": [
                          1342362.108
                        ],
                        "iteration": 956,
                        "passed_time": 27.77876619,
                        "remaining_time": 1.248157729,
                        "test": [
                          2232098.647
                        ]
                      },
                      {
                        "learn": [
                          1342094.794
                        ],
                        "iteration": 957,
                        "passed_time": 27.78981702,
                        "remaining_time": 1.218342709,
                        "test": [
                          2232057.78
                        ]
                      },
                      {
                        "learn": [
                          1342000.838
                        ],
                        "iteration": 958,
                        "passed_time": 27.80046288,
                        "remaining_time": 1.188549508,
                        "test": [
                          2232121.239
                        ]
                      },
                      {
                        "learn": [
                          1341359.811
                        ],
                        "iteration": 959,
                        "passed_time": 27.81326426,
                        "remaining_time": 1.158886011,
                        "test": [
                          2231974.057
                        ]
                      },
                      {
                        "learn": [
                          1340801.25
                        ],
                        "iteration": 960,
                        "passed_time": 27.82480254,
                        "remaining_time": 1.129206347,
                        "test": [
                          2232188.893
                        ]
                      },
                      {
                        "learn": [
                          1340377.311
                        ],
                        "iteration": 961,
                        "passed_time": 27.83655727,
                        "remaining_time": 1.099572948,
                        "test": [
                          2231761.007
                        ]
                      },
                      {
                        "learn": [
                          1339894.725
                        ],
                        "iteration": 962,
                        "passed_time": 27.84804583,
                        "remaining_time": 1.069966454,
                        "test": [
                          2231954.915
                        ]
                      },
                      {
                        "learn": [
                          1339852.669
                        ],
                        "iteration": 963,
                        "passed_time": 27.85864128,
                        "remaining_time": 1.040364197,
                        "test": [
                          2231999.585
                        ]
                      },
                      {
                        "learn": [
                          1339482.178
                        ],
                        "iteration": 964,
                        "passed_time": 27.87000544,
                        "remaining_time": 1.010829213,
                        "test": [
                          2232044.742
                        ]
                      },
                      {
                        "learn": [
                          1338872.338
                        ],
                        "iteration": 965,
                        "passed_time": 27.88190218,
                        "remaining_time": 0.9813505942,
                        "test": [
                          2232176.062
                        ]
                      },
                      {
                        "learn": [
                          1338269.278
                        ],
                        "iteration": 966,
                        "passed_time": 27.89355423,
                        "remaining_time": 0.9518999892,
                        "test": [
                          2232184.199
                        ]
                      },
                      {
                        "learn": [
                          1337755.003
                        ],
                        "iteration": 967,
                        "passed_time": 27.90510639,
                        "remaining_time": 0.9224828559,
                        "test": [
                          2232181.888
                        ]
                      },
                      {
                        "learn": [
                          1337609.674
                        ],
                        "iteration": 968,
                        "passed_time": 27.91616166,
                        "remaining_time": 0.893086699,
                        "test": [
                          2232252.171
                        ]
                      },
                      {
                        "learn": [
                          1336882.36
                        ],
                        "iteration": 969,
                        "passed_time": 27.92885756,
                        "remaining_time": 0.8637790998,
                        "test": [
                          2232645.815
                        ]
                      },
                      {
                        "learn": [
                          1336453.407
                        ],
                        "iteration": 970,
                        "passed_time": 27.94019001,
                        "remaining_time": 0.8344649951,
                        "test": [
                          2232681.746
                        ]
                      },
                      {
                        "learn": [
                          1335814.679
                        ],
                        "iteration": 971,
                        "passed_time": 27.95168804,
                        "remaining_time": 0.8051926596,
                        "test": [
                          2232745.45
                        ]
                      },
                      {
                        "learn": [
                          1335206.232
                        ],
                        "iteration": 972,
                        "passed_time": 27.96343471,
                        "remaining_time": 0.7759637588,
                        "test": [
                          2232903.279
                        ]
                      },
                      {
                        "learn": [
                          1334753.581
                        ],
                        "iteration": 973,
                        "passed_time": 27.97487814,
                        "remaining_time": 0.7467626607,
                        "test": [
                          2232878.516
                        ]
                      },
                      {
                        "learn": [
                          1334169.841
                        ],
                        "iteration": 974,
                        "passed_time": 27.98694706,
                        "remaining_time": 0.7176140272,
                        "test": [
                          2233041.023
                        ]
                      },
                      {
                        "learn": [
                          1333898.796
                        ],
                        "iteration": 975,
                        "passed_time": 27.99855072,
                        "remaining_time": 0.6884889522,
                        "test": [
                          2233187.137
                        ]
                      },
                      {
                        "learn": [
                          1333301.969
                        ],
                        "iteration": 976,
                        "passed_time": 28.01020651,
                        "remaining_time": 0.659400972,
                        "test": [
                          2233141.745
                        ]
                      },
                      {
                        "learn": [
                          1333022.872
                        ],
                        "iteration": 977,
                        "passed_time": 28.02127166,
                        "remaining_time": 0.6303353544,
                        "test": [
                          2233249.364
                        ]
                      },
                      {
                        "learn": [
                          1332456.797
                        ],
                        "iteration": 978,
                        "passed_time": 28.03302208,
                        "remaining_time": 0.6013212091,
                        "test": [
                          2233393.814
                        ]
                      },
                      {
                        "learn": [
                          1332033.565
                        ],
                        "iteration": 979,
                        "passed_time": 28.04448748,
                        "remaining_time": 0.5723364792,
                        "test": [
                          2233360.734
                        ]
                      },
                      {
                        "learn": [
                          1331370.827
                        ],
                        "iteration": 980,
                        "passed_time": 28.05653242,
                        "remaining_time": 0.543398691,
                        "test": [
                          2233505.282
                        ]
                      },
                      {
                        "learn": [
                          1331311.144
                        ],
                        "iteration": 981,
                        "passed_time": 28.06719012,
                        "remaining_time": 0.51446988,
                        "test": [
                          2233495.707
                        ]
                      },
                      {
                        "learn": [
                          1330819.901
                        ],
                        "iteration": 982,
                        "passed_time": 28.07942766,
                        "remaining_time": 0.4856055647,
                        "test": [
                          2233307.186
                        ]
                      },
                      {
                        "learn": [
                          1330600.632
                        ],
                        "iteration": 983,
                        "passed_time": 28.09437831,
                        "remaining_time": 0.4568191596,
                        "test": [
                          2233408.934
                        ]
                      },
                      {
                        "learn": [
                          1330218.66
                        ],
                        "iteration": 984,
                        "passed_time": 28.10586093,
                        "remaining_time": 0.4280080345,
                        "test": [
                          2233376.002
                        ]
                      },
                      {
                        "learn": [
                          1329996.692
                        ],
                        "iteration": 985,
                        "passed_time": 28.11802864,
                        "remaining_time": 0.3992417859,
                        "test": [
                          2233290.263
                        ]
                      },
                      {
                        "learn": [
                          1329389.214
                        ],
                        "iteration": 986,
                        "passed_time": 28.13057341,
                        "remaining_time": 0.3705141381,
                        "test": [
                          2232998.903
                        ]
                      },
                      {
                        "learn": [
                          1329056.827
                        ],
                        "iteration": 987,
                        "passed_time": 28.14551634,
                        "remaining_time": 0.3418483766,
                        "test": [
                          2232958.636
                        ]
                      },
                      {
                        "learn": [
                          1328614.051
                        ],
                        "iteration": 988,
                        "passed_time": 28.15751824,
                        "remaining_time": 0.3131776548,
                        "test": [
                          2233088.348
                        ]
                      },
                      {
                        "learn": [
                          1328019.43
                        ],
                        "iteration": 989,
                        "passed_time": 28.16929602,
                        "remaining_time": 0.2845383437,
                        "test": [
                          2233014.083
                        ]
                      },
                      {
                        "learn": [
                          1327464.788
                        ],
                        "iteration": 990,
                        "passed_time": 28.18108708,
                        "remaining_time": 0.2559331823,
                        "test": [
                          2233121.421
                        ]
                      },
                      {
                        "learn": [
                          1326975.553
                        ],
                        "iteration": 991,
                        "passed_time": 28.19263117,
                        "remaining_time": 0.2273599288,
                        "test": [
                          2233185.553
                        ]
                      },
                      {
                        "learn": [
                          1326635.436
                        ],
                        "iteration": 992,
                        "passed_time": 28.2038088,
                        "remaining_time": 0.1988183903,
                        "test": [
                          2232902.334
                        ]
                      },
                      {
                        "learn": [
                          1326560.207
                        ],
                        "iteration": 993,
                        "passed_time": 28.21500831,
                        "remaining_time": 0.1703119214,
                        "test": [
                          2232920.279
                        ]
                      },
                      {
                        "learn": [
                          1326303.663
                        ],
                        "iteration": 994,
                        "passed_time": 28.22652239,
                        "remaining_time": 0.141841821,
                        "test": [
                          2232972.183
                        ]
                      },
                      {
                        "learn": [
                          1325938.252
                        ],
                        "iteration": 995,
                        "passed_time": 28.23814833,
                        "remaining_time": 0.1134062182,
                        "test": [
                          2233093.5
                        ]
                      },
                      {
                        "learn": [
                          1325593.893
                        ],
                        "iteration": 996,
                        "passed_time": 28.24956451,
                        "remaining_time": 0.08500370466,
                        "test": [
                          2233191.785
                        ]
                      },
                      {
                        "learn": [
                          1325216.645
                        ],
                        "iteration": 997,
                        "passed_time": 28.26144069,
                        "remaining_time": 0.05663615369,
                        "test": [
                          2233330.619
                        ]
                      },
                      {
                        "learn": [
                          1324651.401
                        ],
                        "iteration": 998,
                        "passed_time": 28.27306017,
                        "remaining_time": 0.02830136153,
                        "test": [
                          2233638.155
                        ]
                      },
                      {
                        "learn": [
                          1324200.139
                        ],
                        "iteration": 999,
                        "passed_time": 28.28487285,
                        "remaining_time": 0,
                        "test": [
                          2233648.994
                        ]
                      }
                    ],
                    "meta": {
                      "test_sets": [
                        "test"
                      ],
                      "test_metrics": [
                        {
                          "best_value": "Min",
                          "name": "RMSE"
                        }
                      ],
                      "learn_metrics": [
                        {
                          "best_value": "Min",
                          "name": "RMSE"
                        }
                      ],
                      "launch_mode": "Train",
                      "parameters": "",
                      "iteration_count": 1000,
                      "learn_sets": [
                        "learn"
                      ],
                      "name": "experiment"
                    }
                  }
                }
              }
            },
            "layout": "IPY_MODEL_1d45d45933cc49a594bd3fbf93825d63"
          }
        },
        "fd0c698ff1fa4b099ef818bf72023196": {
          "model_module": "catboost-widget",
          "model_name": "CatboostWidgetModel",
          "model_module_version": "^1.0.0",
          "state": {
            "_dom_classes": [],
            "_model_module": "catboost-widget",
            "_model_module_version": "^1.0.0",
            "_model_name": "CatboostWidgetModel",
            "_view_count": null,
            "_view_module": "catboost-widget",
            "_view_module_version": "^1.0.0",
            "_view_name": "CatboostWidgetView",
            "data": {
              "catboost_info": {
                "path": "catboost_info",
                "name": "catboost_info",
                "content": {
                  "passed_iterations": 999,
                  "total_iterations": 1000,
                  "data": {
                    "iterations": [
                      {
                        "learn": [
                          4428223.096
                        ],
                        "iteration": 0,
                        "passed_time": 0.01315616811,
                        "remaining_time": 13.14301194,
                        "test": [
                          4642681.645
                        ]
                      },
                      {
                        "learn": [
                          4229977.94
                        ],
                        "iteration": 1,
                        "passed_time": 0.02678334545,
                        "remaining_time": 13.36488938,
                        "test": [
                          4442966.326
                        ]
                      },
                      {
                        "learn": [
                          4055493.616
                        ],
                        "iteration": 2,
                        "passed_time": 0.03940006496,
                        "remaining_time": 13.09395492,
                        "test": [
                          4280700.018
                        ]
                      },
                      {
                        "learn": [
                          3898675.239
                        ],
                        "iteration": 3,
                        "passed_time": 0.05206915296,
                        "remaining_time": 12.96521909,
                        "test": [
                          4121350.043
                        ]
                      },
                      {
                        "learn": [
                          3753380.163
                        ],
                        "iteration": 4,
                        "passed_time": 0.06704359362,
                        "remaining_time": 13.34167513,
                        "test": [
                          3976249.627
                        ]
                      },
                      {
                        "learn": [
                          3636083.314
                        ],
                        "iteration": 5,
                        "passed_time": 0.07948697404,
                        "remaining_time": 13.16834203,
                        "test": [
                          3862320.574
                        ]
                      },
                      {
                        "learn": [
                          3530116.726
                        ],
                        "iteration": 6,
                        "passed_time": 0.09204830823,
                        "remaining_time": 13.05771001,
                        "test": [
                          3763908.754
                        ]
                      },
                      {
                        "learn": [
                          3428534.763
                        ],
                        "iteration": 7,
                        "passed_time": 0.1042924205,
                        "remaining_time": 12.93226015,
                        "test": [
                          3663652.369
                        ]
                      },
                      {
                        "learn": [
                          3347959.805
                        ],
                        "iteration": 8,
                        "passed_time": 0.1168244453,
                        "remaining_time": 12.86366947,
                        "test": [
                          3588526.705
                        ]
                      },
                      {
                        "learn": [
                          3271306.979
                        ],
                        "iteration": 9,
                        "passed_time": 0.1291445992,
                        "remaining_time": 12.78531532,
                        "test": [
                          3502298.412
                        ]
                      },
                      {
                        "learn": [
                          3200536.76
                        ],
                        "iteration": 10,
                        "passed_time": 0.1410981127,
                        "remaining_time": 12.68600304,
                        "test": [
                          3425417.187
                        ]
                      },
                      {
                        "learn": [
                          3145142.667
                        ],
                        "iteration": 11,
                        "passed_time": 0.1539239939,
                        "remaining_time": 12.6730755,
                        "test": [
                          3365221.263
                        ]
                      },
                      {
                        "learn": [
                          3094588.83
                        ],
                        "iteration": 12,
                        "passed_time": 0.1669770491,
                        "remaining_time": 12.67741134,
                        "test": [
                          3311425.243
                        ]
                      },
                      {
                        "learn": [
                          3048799.334
                        ],
                        "iteration": 13,
                        "passed_time": 0.1797920881,
                        "remaining_time": 12.66249992,
                        "test": [
                          3260907.802
                        ]
                      },
                      {
                        "learn": [
                          3008136.066
                        ],
                        "iteration": 14,
                        "passed_time": 0.1984091684,
                        "remaining_time": 13.02886872,
                        "test": [
                          3215293.94
                        ]
                      },
                      {
                        "learn": [
                          2969950.373
                        ],
                        "iteration": 15,
                        "passed_time": 0.2182635986,
                        "remaining_time": 13.42321132,
                        "test": [
                          3187775.043
                        ]
                      },
                      {
                        "learn": [
                          2939315.78
                        ],
                        "iteration": 16,
                        "passed_time": 0.238707801,
                        "remaining_time": 13.80292755,
                        "test": [
                          3158836.845
                        ]
                      },
                      {
                        "learn": [
                          2906407.62
                        ],
                        "iteration": 17,
                        "passed_time": 0.2511713396,
                        "remaining_time": 13.70279197,
                        "test": [
                          3128539.044
                        ]
                      },
                      {
                        "learn": [
                          2875585.245
                        ],
                        "iteration": 18,
                        "passed_time": 0.2644651768,
                        "remaining_time": 13.65475466,
                        "test": [
                          3105409.938
                        ]
                      },
                      {
                        "learn": [
                          2853711.603
                        ],
                        "iteration": 19,
                        "passed_time": 0.2763534542,
                        "remaining_time": 13.54131925,
                        "test": [
                          3078477.155
                        ]
                      },
                      {
                        "learn": [
                          2829644.864
                        ],
                        "iteration": 20,
                        "passed_time": 0.2884960235,
                        "remaining_time": 13.44940986,
                        "test": [
                          3055444.538
                        ]
                      },
                      {
                        "learn": [
                          2804411.462
                        ],
                        "iteration": 21,
                        "passed_time": 0.3010280424,
                        "remaining_time": 13.38206479,
                        "test": [
                          3019461.357
                        ]
                      },
                      {
                        "learn": [
                          2782774.335
                        ],
                        "iteration": 22,
                        "passed_time": 0.3134527055,
                        "remaining_time": 13.3149258,
                        "test": [
                          2999055.685
                        ]
                      },
                      {
                        "learn": [
                          2761219.663
                        ],
                        "iteration": 23,
                        "passed_time": 0.3257597372,
                        "remaining_time": 13.24756265,
                        "test": [
                          2980623.115
                        ]
                      },
                      {
                        "learn": [
                          2741175.475
                        ],
                        "iteration": 24,
                        "passed_time": 0.3379749255,
                        "remaining_time": 13.18102209,
                        "test": [
                          2961603.307
                        ]
                      },
                      {
                        "learn": [
                          2722941.231
                        ],
                        "iteration": 25,
                        "passed_time": 0.3501086867,
                        "remaining_time": 13.11561003,
                        "test": [
                          2946083.72
                        ]
                      },
                      {
                        "learn": [
                          2703906.48
                        ],
                        "iteration": 26,
                        "passed_time": 0.3624729164,
                        "remaining_time": 13.06244991,
                        "test": [
                          2929233.443
                        ]
                      },
                      {
                        "learn": [
                          2688219.104
                        ],
                        "iteration": 27,
                        "passed_time": 0.3750192743,
                        "remaining_time": 13.01852624,
                        "test": [
                          2909805.641
                        ]
                      },
                      {
                        "learn": [
                          2673131.64
                        ],
                        "iteration": 28,
                        "passed_time": 0.3868636804,
                        "remaining_time": 12.95326323,
                        "test": [
                          2895384.165
                        ]
                      },
                      {
                        "learn": [
                          2661487.781
                        ],
                        "iteration": 29,
                        "passed_time": 0.3984061781,
                        "remaining_time": 12.88179976,
                        "test": [
                          2879085.433
                        ]
                      },
                      {
                        "learn": [
                          2644538.316
                        ],
                        "iteration": 30,
                        "passed_time": 0.4105172544,
                        "remaining_time": 12.83197482,
                        "test": [
                          2865792.387
                        ]
                      },
                      {
                        "learn": [
                          2633275.928
                        ],
                        "iteration": 31,
                        "passed_time": 0.4219883728,
                        "remaining_time": 12.76514828,
                        "test": [
                          2854968.745
                        ]
                      },
                      {
                        "learn": [
                          2617943.87
                        ],
                        "iteration": 32,
                        "passed_time": 0.4333874623,
                        "remaining_time": 12.69956594,
                        "test": [
                          2840488.23
                        ]
                      },
                      {
                        "learn": [
                          2606795.158
                        ],
                        "iteration": 33,
                        "passed_time": 0.4456797522,
                        "remaining_time": 12.66254825,
                        "test": [
                          2829527.673
                        ]
                      },
                      {
                        "learn": [
                          2592977.797
                        ],
                        "iteration": 34,
                        "passed_time": 0.45823624,
                        "remaining_time": 12.63422776,
                        "test": [
                          2817911.446
                        ]
                      },
                      {
                        "learn": [
                          2583543.922
                        ],
                        "iteration": 35,
                        "passed_time": 0.4914224275,
                        "remaining_time": 13.15920056,
                        "test": [
                          2807146.015
                        ]
                      },
                      {
                        "learn": [
                          2575359.662
                        ],
                        "iteration": 36,
                        "passed_time": 0.5179233991,
                        "remaining_time": 13.48000631,
                        "test": [
                          2800303.038
                        ]
                      },
                      {
                        "learn": [
                          2566960.987
                        ],
                        "iteration": 37,
                        "passed_time": 0.5456225631,
                        "remaining_time": 13.81286594,
                        "test": [
                          2793764.294
                        ]
                      },
                      {
                        "learn": [
                          2556949.663
                        ],
                        "iteration": 38,
                        "passed_time": 0.5674336983,
                        "remaining_time": 13.98214831,
                        "test": [
                          2787804.739
                        ]
                      },
                      {
                        "learn": [
                          2547650.935
                        ],
                        "iteration": 39,
                        "passed_time": 0.5812922054,
                        "remaining_time": 13.95101293,
                        "test": [
                          2779957.449
                        ]
                      },
                      {
                        "learn": [
                          2543245.31
                        ],
                        "iteration": 40,
                        "passed_time": 0.5994278847,
                        "remaining_time": 14.02076443,
                        "test": [
                          2775910.564
                        ]
                      },
                      {
                        "learn": [
                          2536110.848
                        ],
                        "iteration": 41,
                        "passed_time": 0.6306008888,
                        "remaining_time": 14.38370599,
                        "test": [
                          2767413.012
                        ]
                      },
                      {
                        "learn": [
                          2529475.841
                        ],
                        "iteration": 42,
                        "passed_time": 0.6603623247,
                        "remaining_time": 14.69690104,
                        "test": [
                          2764083.867
                        ]
                      },
                      {
                        "learn": [
                          2522649.289
                        ],
                        "iteration": 43,
                        "passed_time": 0.6836290251,
                        "remaining_time": 14.85339427,
                        "test": [
                          2757642.894
                        ]
                      },
                      {
                        "learn": [
                          2518569.939
                        ],
                        "iteration": 44,
                        "passed_time": 0.7084445575,
                        "remaining_time": 15.03476783,
                        "test": [
                          2754094.648
                        ]
                      },
                      {
                        "learn": [
                          2510284.47
                        ],
                        "iteration": 45,
                        "passed_time": 0.7356439423,
                        "remaining_time": 15.25661567,
                        "test": [
                          2745745.816
                        ]
                      },
                      {
                        "learn": [
                          2506382.826
                        ],
                        "iteration": 46,
                        "passed_time": 0.7665607121,
                        "remaining_time": 15.54324167,
                        "test": [
                          2743382.316
                        ]
                      },
                      {
                        "learn": [
                          2496596.97
                        ],
                        "iteration": 47,
                        "passed_time": 0.7900620637,
                        "remaining_time": 15.66956426,
                        "test": [
                          2733739.427
                        ]
                      },
                      {
                        "learn": [
                          2486078.348
                        ],
                        "iteration": 48,
                        "passed_time": 0.8138155221,
                        "remaining_time": 15.79466452,
                        "test": [
                          2729652.353
                        ]
                      },
                      {
                        "learn": [
                          2481155.009
                        ],
                        "iteration": 49,
                        "passed_time": 0.8314681044,
                        "remaining_time": 15.79789398,
                        "test": [
                          2725161.62
                        ]
                      },
                      {
                        "learn": [
                          2475588.658
                        ],
                        "iteration": 50,
                        "passed_time": 0.8464564446,
                        "remaining_time": 15.75072874,
                        "test": [
                          2721381.192
                        ]
                      },
                      {
                        "learn": [
                          2472625.099
                        ],
                        "iteration": 51,
                        "passed_time": 0.8668157372,
                        "remaining_time": 15.80271767,
                        "test": [
                          2721605.169
                        ]
                      },
                      {
                        "learn": [
                          2468965.065
                        ],
                        "iteration": 52,
                        "passed_time": 0.8873757524,
                        "remaining_time": 15.85556297,
                        "test": [
                          2718388.783
                        ]
                      },
                      {
                        "learn": [
                          2463927.293
                        ],
                        "iteration": 53,
                        "passed_time": 0.9035951262,
                        "remaining_time": 15.82964795,
                        "test": [
                          2714217.785
                        ]
                      },
                      {
                        "learn": [
                          2459745.155
                        ],
                        "iteration": 54,
                        "passed_time": 0.9236176751,
                        "remaining_time": 15.86943096,
                        "test": [
                          2711359.786
                        ]
                      },
                      {
                        "learn": [
                          2448697.291
                        ],
                        "iteration": 55,
                        "passed_time": 0.9475193703,
                        "remaining_time": 15.97246939,
                        "test": [
                          2707998.711
                        ]
                      },
                      {
                        "learn": [
                          2446011.308
                        ],
                        "iteration": 56,
                        "passed_time": 0.9785436452,
                        "remaining_time": 16.18888873,
                        "test": [
                          2708812.305
                        ]
                      },
                      {
                        "learn": [
                          2439485.441
                        ],
                        "iteration": 57,
                        "passed_time": 1.015468018,
                        "remaining_time": 16.49260126,
                        "test": [
                          2704244.019
                        ]
                      },
                      {
                        "learn": [
                          2433271.2
                        ],
                        "iteration": 58,
                        "passed_time": 1.048129451,
                        "remaining_time": 16.7167765,
                        "test": [
                          2701331.381
                        ]
                      },
                      {
                        "learn": [
                          2425316.207
                        ],
                        "iteration": 59,
                        "passed_time": 1.082319835,
                        "remaining_time": 16.95634408,
                        "test": [
                          2698903.249
                        ]
                      },
                      {
                        "learn": [
                          2422347.175
                        ],
                        "iteration": 60,
                        "passed_time": 1.100138344,
                        "remaining_time": 16.93491647,
                        "test": [
                          2694901.327
                        ]
                      },
                      {
                        "learn": [
                          2419126.134
                        ],
                        "iteration": 61,
                        "passed_time": 1.111407775,
                        "remaining_time": 16.81452408,
                        "test": [
                          2692204.058
                        ]
                      },
                      {
                        "learn": [
                          2412465.923
                        ],
                        "iteration": 62,
                        "passed_time": 1.123476844,
                        "remaining_time": 16.70948894,
                        "test": [
                          2684500.971
                        ]
                      },
                      {
                        "learn": [
                          2403828.846
                        ],
                        "iteration": 63,
                        "passed_time": 1.135568577,
                        "remaining_time": 16.60769044,
                        "test": [
                          2679010.527
                        ]
                      },
                      {
                        "learn": [
                          2399139.722
                        ],
                        "iteration": 64,
                        "passed_time": 1.148019711,
                        "remaining_time": 16.513822,
                        "test": [
                          2675011.911
                        ]
                      },
                      {
                        "learn": [
                          2396703.922
                        ],
                        "iteration": 65,
                        "passed_time": 1.160260216,
                        "remaining_time": 16.41944002,
                        "test": [
                          2672670.815
                        ]
                      },
                      {
                        "learn": [
                          2394616.485
                        ],
                        "iteration": 66,
                        "passed_time": 1.17234034,
                        "remaining_time": 16.32527667,
                        "test": [
                          2666821.277
                        ]
                      },
                      {
                        "learn": [
                          2389977.422
                        ],
                        "iteration": 67,
                        "passed_time": 1.184300662,
                        "remaining_time": 16.23188555,
                        "test": [
                          2663973.313
                        ]
                      },
                      {
                        "learn": [
                          2386014.788
                        ],
                        "iteration": 68,
                        "passed_time": 1.195703891,
                        "remaining_time": 16.13333801,
                        "test": [
                          2662693.228
                        ]
                      },
                      {
                        "learn": [
                          2381558.418
                        ],
                        "iteration": 69,
                        "passed_time": 1.209791766,
                        "remaining_time": 16.07294774,
                        "test": [
                          2656376.003
                        ]
                      },
                      {
                        "learn": [
                          2378021.404
                        ],
                        "iteration": 70,
                        "passed_time": 1.222004022,
                        "remaining_time": 15.98932023,
                        "test": [
                          2652178.392
                        ]
                      },
                      {
                        "learn": [
                          2373793.221
                        ],
                        "iteration": 71,
                        "passed_time": 1.250831855,
                        "remaining_time": 16.1218328,
                        "test": [
                          2650737.879
                        ]
                      },
                      {
                        "learn": [
                          2370697.498
                        ],
                        "iteration": 72,
                        "passed_time": 1.272837996,
                        "remaining_time": 16.16329894,
                        "test": [
                          2649220.465
                        ]
                      },
                      {
                        "learn": [
                          2367014.991
                        ],
                        "iteration": 73,
                        "passed_time": 1.30484306,
                        "remaining_time": 16.32817127,
                        "test": [
                          2646841.945
                        ]
                      },
                      {
                        "learn": [
                          2365100.605
                        ],
                        "iteration": 74,
                        "passed_time": 1.337068473,
                        "remaining_time": 16.49051116,
                        "test": [
                          2645885.297
                        ]
                      },
                      {
                        "learn": [
                          2363215.297
                        ],
                        "iteration": 75,
                        "passed_time": 1.368675458,
                        "remaining_time": 16.64021215,
                        "test": [
                          2645221.309
                        ]
                      },
                      {
                        "learn": [
                          2358478.341
                        ],
                        "iteration": 76,
                        "passed_time": 1.395843976,
                        "remaining_time": 16.73199986,
                        "test": [
                          2640842.411
                        ]
                      },
                      {
                        "learn": [
                          2355100.274
                        ],
                        "iteration": 77,
                        "passed_time": 1.427425199,
                        "remaining_time": 16.87289786,
                        "test": [
                          2637950.216
                        ]
                      },
                      {
                        "learn": [
                          2348780.182
                        ],
                        "iteration": 78,
                        "passed_time": 1.467265018,
                        "remaining_time": 17.1057099,
                        "test": [
                          2634309.875
                        ]
                      },
                      {
                        "learn": [
                          2344315.426
                        ],
                        "iteration": 79,
                        "passed_time": 1.496324425,
                        "remaining_time": 17.20773089,
                        "test": [
                          2631571.923
                        ]
                      },
                      {
                        "learn": [
                          2339559.723
                        ],
                        "iteration": 80,
                        "passed_time": 1.525339301,
                        "remaining_time": 17.3060101,
                        "test": [
                          2627961.676
                        ]
                      },
                      {
                        "learn": [
                          2335683.784
                        ],
                        "iteration": 81,
                        "passed_time": 1.5547106,
                        "remaining_time": 17.40517477,
                        "test": [
                          2624049.358
                        ]
                      },
                      {
                        "learn": [
                          2328956.202
                        ],
                        "iteration": 82,
                        "passed_time": 1.586814041,
                        "remaining_time": 17.53142742,
                        "test": [
                          2621732.872
                        ]
                      },
                      {
                        "learn": [
                          2325996.052
                        ],
                        "iteration": 83,
                        "passed_time": 1.615871966,
                        "remaining_time": 17.62069905,
                        "test": [
                          2620314.734
                        ]
                      },
                      {
                        "learn": [
                          2320740.614
                        ],
                        "iteration": 84,
                        "passed_time": 1.639902188,
                        "remaining_time": 17.65306473,
                        "test": [
                          2619051.991
                        ]
                      },
                      {
                        "learn": [
                          2316202.671
                        ],
                        "iteration": 85,
                        "passed_time": 1.65270482,
                        "remaining_time": 17.56479309,
                        "test": [
                          2617055.653
                        ]
                      },
                      {
                        "learn": [
                          2315248.876
                        ],
                        "iteration": 86,
                        "passed_time": 1.664480168,
                        "remaining_time": 17.46747578,
                        "test": [
                          2615708.263
                        ]
                      },
                      {
                        "learn": [
                          2312947.269
                        ],
                        "iteration": 87,
                        "passed_time": 1.676988199,
                        "remaining_time": 17.37969588,
                        "test": [
                          2613786.35
                        ]
                      },
                      {
                        "learn": [
                          2309824.395
                        ],
                        "iteration": 88,
                        "passed_time": 1.688840112,
                        "remaining_time": 17.28689149,
                        "test": [
                          2611986.022
                        ]
                      },
                      {
                        "learn": [
                          2306747.916
                        ],
                        "iteration": 89,
                        "passed_time": 1.701069792,
                        "remaining_time": 17.19970567,
                        "test": [
                          2609696.956
                        ]
                      },
                      {
                        "learn": [
                          2305206.164
                        ],
                        "iteration": 90,
                        "passed_time": 1.713573003,
                        "remaining_time": 17.11689956,
                        "test": [
                          2608308.999
                        ]
                      },
                      {
                        "learn": [
                          2301620.103
                        ],
                        "iteration": 91,
                        "passed_time": 1.725401706,
                        "remaining_time": 17.02896466,
                        "test": [
                          2604953.376
                        ]
                      },
                      {
                        "learn": [
                          2298865.309
                        ],
                        "iteration": 92,
                        "passed_time": 1.736970709,
                        "remaining_time": 16.94013369,
                        "test": [
                          2602224.96
                        ]
                      },
                      {
                        "learn": [
                          2296376.079
                        ],
                        "iteration": 93,
                        "passed_time": 1.752055125,
                        "remaining_time": 16.88682918,
                        "test": [
                          2600840.846
                        ]
                      },
                      {
                        "learn": [
                          2295280.938
                        ],
                        "iteration": 94,
                        "passed_time": 1.762769921,
                        "remaining_time": 16.79270294,
                        "test": [
                          2601314.348
                        ]
                      },
                      {
                        "learn": [
                          2289014.568
                        ],
                        "iteration": 95,
                        "passed_time": 1.775020691,
                        "remaining_time": 16.71477818,
                        "test": [
                          2599297.37
                        ]
                      },
                      {
                        "learn": [
                          2285106.859
                        ],
                        "iteration": 96,
                        "passed_time": 1.786954416,
                        "remaining_time": 16.63525606,
                        "test": [
                          2595264.294
                        ]
                      },
                      {
                        "learn": [
                          2283524.682
                        ],
                        "iteration": 97,
                        "passed_time": 1.79784197,
                        "remaining_time": 16.54748426,
                        "test": [
                          2595020.302
                        ]
                      },
                      {
                        "learn": [
                          2282079.987
                        ],
                        "iteration": 98,
                        "passed_time": 1.811520529,
                        "remaining_time": 16.48666663,
                        "test": [
                          2594380.741
                        ]
                      },
                      {
                        "learn": [
                          2279290.304
                        ],
                        "iteration": 99,
                        "passed_time": 1.823064651,
                        "remaining_time": 16.40758186,
                        "test": [
                          2593329.9
                        ]
                      },
                      {
                        "learn": [
                          2276468.231
                        ],
                        "iteration": 100,
                        "passed_time": 1.834935121,
                        "remaining_time": 16.33273935,
                        "test": [
                          2591572.912
                        ]
                      },
                      {
                        "learn": [
                          2273595.918
                        ],
                        "iteration": 101,
                        "passed_time": 1.847165881,
                        "remaining_time": 16.26230354,
                        "test": [
                          2590276.571
                        ]
                      },
                      {
                        "learn": [
                          2271373.677
                        ],
                        "iteration": 102,
                        "passed_time": 1.858554967,
                        "remaining_time": 16.18566801,
                        "test": [
                          2588726.852
                        ]
                      },
                      {
                        "learn": [
                          2269498.382
                        ],
                        "iteration": 103,
                        "passed_time": 1.870218167,
                        "remaining_time": 16.11264882,
                        "test": [
                          2587925.055
                        ]
                      },
                      {
                        "learn": [
                          2266001.576
                        ],
                        "iteration": 104,
                        "passed_time": 1.881807954,
                        "remaining_time": 16.04017256,
                        "test": [
                          2587170.763
                        ]
                      },
                      {
                        "learn": [
                          2262989.978
                        ],
                        "iteration": 105,
                        "passed_time": 1.893492932,
                        "remaining_time": 15.96964794,
                        "test": [
                          2585994.301
                        ]
                      },
                      {
                        "learn": [
                          2259843.642
                        ],
                        "iteration": 106,
                        "passed_time": 1.904952246,
                        "remaining_time": 15.89833977,
                        "test": [
                          2584354.783
                        ]
                      },
                      {
                        "learn": [
                          2258345.877
                        ],
                        "iteration": 107,
                        "passed_time": 1.9318227,
                        "remaining_time": 15.95542452,
                        "test": [
                          2585610.809
                        ]
                      },
                      {
                        "learn": [
                          2255643.46
                        ],
                        "iteration": 108,
                        "passed_time": 1.964945565,
                        "remaining_time": 16.06207796,
                        "test": [
                          2584405.491
                        ]
                      },
                      {
                        "learn": [
                          2254026.865
                        ],
                        "iteration": 109,
                        "passed_time": 1.993908052,
                        "remaining_time": 16.13252878,
                        "test": [
                          2583958.837
                        ]
                      },
                      {
                        "learn": [
                          2249188.849
                        ],
                        "iteration": 110,
                        "passed_time": 2.028547027,
                        "remaining_time": 16.24665142,
                        "test": [
                          2579959.214
                        ]
                      },
                      {
                        "learn": [
                          2247005.886
                        ],
                        "iteration": 111,
                        "passed_time": 2.058353574,
                        "remaining_time": 16.31980333,
                        "test": [
                          2578251.923
                        ]
                      },
                      {
                        "learn": [
                          2246449.889
                        ],
                        "iteration": 112,
                        "passed_time": 2.089262333,
                        "remaining_time": 16.39978486,
                        "test": [
                          2578654.178
                        ]
                      },
                      {
                        "learn": [
                          2243983.106
                        ],
                        "iteration": 113,
                        "passed_time": 2.118546912,
                        "remaining_time": 16.46519793,
                        "test": [
                          2578895.243
                        ]
                      },
                      {
                        "learn": [
                          2241814.381
                        ],
                        "iteration": 114,
                        "passed_time": 2.148786201,
                        "remaining_time": 16.5363112,
                        "test": [
                          2578824.852
                        ]
                      },
                      {
                        "learn": [
                          2238036.001
                        ],
                        "iteration": 115,
                        "passed_time": 2.172642392,
                        "remaining_time": 16.5570334,
                        "test": [
                          2576055.623
                        ]
                      },
                      {
                        "learn": [
                          2235764.81
                        ],
                        "iteration": 116,
                        "passed_time": 2.201174115,
                        "remaining_time": 16.61227986,
                        "test": [
                          2575734.186
                        ]
                      },
                      {
                        "learn": [
                          2231613.222
                        ],
                        "iteration": 117,
                        "passed_time": 2.223376974,
                        "remaining_time": 16.61880077,
                        "test": [
                          2573511.607
                        ]
                      },
                      {
                        "learn": [
                          2229104.508
                        ],
                        "iteration": 118,
                        "passed_time": 2.253663466,
                        "remaining_time": 16.68468499,
                        "test": [
                          2572016.07
                        ]
                      },
                      {
                        "learn": [
                          2227020.178
                        ],
                        "iteration": 119,
                        "passed_time": 2.292141581,
                        "remaining_time": 16.80903826,
                        "test": [
                          2571386.039
                        ]
                      },
                      {
                        "learn": [
                          2223454.514
                        ],
                        "iteration": 120,
                        "passed_time": 2.319641754,
                        "remaining_time": 16.85095126,
                        "test": [
                          2568369.431
                        ]
                      },
                      {
                        "learn": [
                          2219071.185
                        ],
                        "iteration": 121,
                        "passed_time": 2.350527274,
                        "remaining_time": 16.91608972,
                        "test": [
                          2566208.925
                        ]
                      },
                      {
                        "learn": [
                          2216710.157
                        ],
                        "iteration": 122,
                        "passed_time": 2.378012542,
                        "remaining_time": 16.95542276,
                        "test": [
                          2564248.479
                        ]
                      },
                      {
                        "learn": [
                          2213232.867
                        ],
                        "iteration": 123,
                        "passed_time": 2.410597217,
                        "remaining_time": 17.02970292,
                        "test": [
                          2561714.486
                        ]
                      },
                      {
                        "learn": [
                          2210528.231
                        ],
                        "iteration": 124,
                        "passed_time": 2.442184512,
                        "remaining_time": 17.09529158,
                        "test": [
                          2560299.365
                        ]
                      },
                      {
                        "learn": [
                          2208540.914
                        ],
                        "iteration": 125,
                        "passed_time": 2.473230406,
                        "remaining_time": 17.15558234,
                        "test": [
                          2559190.273
                        ]
                      },
                      {
                        "learn": [
                          2206603.067
                        ],
                        "iteration": 126,
                        "passed_time": 2.504177283,
                        "remaining_time": 17.21375408,
                        "test": [
                          2558664.494
                        ]
                      },
                      {
                        "learn": [
                          2204640.096
                        ],
                        "iteration": 127,
                        "passed_time": 2.534710883,
                        "remaining_time": 17.26771789,
                        "test": [
                          2557817.917
                        ]
                      },
                      {
                        "learn": [
                          2204228.532
                        ],
                        "iteration": 128,
                        "passed_time": 2.579013865,
                        "remaining_time": 17.41334168,
                        "test": [
                          2557370.534
                        ]
                      },
                      {
                        "learn": [
                          2203090.367
                        ],
                        "iteration": 129,
                        "passed_time": 2.600888034,
                        "remaining_time": 17.40594299,
                        "test": [
                          2556738.81
                        ]
                      },
                      {
                        "learn": [
                          2202600.052
                        ],
                        "iteration": 130,
                        "passed_time": 2.630902658,
                        "remaining_time": 17.45232374,
                        "test": [
                          2557355.942
                        ]
                      },
                      {
                        "learn": [
                          2199333.198
                        ],
                        "iteration": 131,
                        "passed_time": 2.661131888,
                        "remaining_time": 17.49895817,
                        "test": [
                          2556392.85
                        ]
                      },
                      {
                        "learn": [
                          2196520.986
                        ],
                        "iteration": 132,
                        "passed_time": 2.688949089,
                        "remaining_time": 17.52871324,
                        "test": [
                          2555551.626
                        ]
                      },
                      {
                        "learn": [
                          2195951.8
                        ],
                        "iteration": 133,
                        "passed_time": 2.717071405,
                        "remaining_time": 17.55958087,
                        "test": [
                          2554821.163
                        ]
                      },
                      {
                        "learn": [
                          2194445.392
                        ],
                        "iteration": 134,
                        "passed_time": 2.747008967,
                        "remaining_time": 17.6012056,
                        "test": [
                          2554271.972
                        ]
                      },
                      {
                        "learn": [
                          2194114.941
                        ],
                        "iteration": 135,
                        "passed_time": 2.776371132,
                        "remaining_time": 17.63812249,
                        "test": [
                          2553825.396
                        ]
                      },
                      {
                        "learn": [
                          2190764.586
                        ],
                        "iteration": 136,
                        "passed_time": 2.808906522,
                        "remaining_time": 17.69406079,
                        "test": [
                          2553274.239
                        ]
                      },
                      {
                        "learn": [
                          2187650.055
                        ],
                        "iteration": 137,
                        "passed_time": 2.838213184,
                        "remaining_time": 17.72854902,
                        "test": [
                          2551649.782
                        ]
                      },
                      {
                        "learn": [
                          2186208.399
                        ],
                        "iteration": 138,
                        "passed_time": 2.878056136,
                        "remaining_time": 17.82738369,
                        "test": [
                          2552630.581
                        ]
                      },
                      {
                        "learn": [
                          2184496.299
                        ],
                        "iteration": 139,
                        "passed_time": 2.90709859,
                        "remaining_time": 17.85789134,
                        "test": [
                          2552367.993
                        ]
                      },
                      {
                        "learn": [
                          2182416.918
                        ],
                        "iteration": 140,
                        "passed_time": 2.934134735,
                        "remaining_time": 17.87533147,
                        "test": [
                          2550660.554
                        ]
                      },
                      {
                        "learn": [
                          2179365.071
                        ],
                        "iteration": 141,
                        "passed_time": 2.979105394,
                        "remaining_time": 18.00051006,
                        "test": [
                          2549689.998
                        ]
                      },
                      {
                        "learn": [
                          2177748.016
                        ],
                        "iteration": 142,
                        "passed_time": 3.012144765,
                        "remaining_time": 18.05180464,
                        "test": [
                          2548529.378
                        ]
                      },
                      {
                        "learn": [
                          2174102.515
                        ],
                        "iteration": 143,
                        "passed_time": 3.039969657,
                        "remaining_time": 18.07093074,
                        "test": [
                          2547158.572
                        ]
                      },
                      {
                        "learn": [
                          2172169.926
                        ],
                        "iteration": 144,
                        "passed_time": 3.06890406,
                        "remaining_time": 18.09595153,
                        "test": [
                          2546610.916
                        ]
                      },
                      {
                        "learn": [
                          2170325.591
                        ],
                        "iteration": 145,
                        "passed_time": 3.098224021,
                        "remaining_time": 18.12248845,
                        "test": [
                          2546777.999
                        ]
                      },
                      {
                        "learn": [
                          2168192.458
                        ],
                        "iteration": 146,
                        "passed_time": 3.127218344,
                        "remaining_time": 18.14637584,
                        "test": [
                          2547673.83
                        ]
                      },
                      {
                        "learn": [
                          2166406.746
                        ],
                        "iteration": 147,
                        "passed_time": 3.159239076,
                        "remaining_time": 18.1869709,
                        "test": [
                          2547069.418
                        ]
                      },
                      {
                        "learn": [
                          2164243.599
                        ],
                        "iteration": 148,
                        "passed_time": 3.193620919,
                        "remaining_time": 18.24007653,
                        "test": [
                          2546812.112
                        ]
                      },
                      {
                        "learn": [
                          2161659.263
                        ],
                        "iteration": 149,
                        "passed_time": 3.230966768,
                        "remaining_time": 18.30881169,
                        "test": [
                          2546630.868
                        ]
                      },
                      {
                        "learn": [
                          2159336.526
                        ],
                        "iteration": 150,
                        "passed_time": 3.268209843,
                        "remaining_time": 18.37556395,
                        "test": [
                          2546217.345
                        ]
                      },
                      {
                        "learn": [
                          2157075.647
                        ],
                        "iteration": 151,
                        "passed_time": 3.301449591,
                        "remaining_time": 18.41861351,
                        "test": [
                          2545407.184
                        ]
                      },
                      {
                        "learn": [
                          2156732.671
                        ],
                        "iteration": 152,
                        "passed_time": 3.336470794,
                        "remaining_time": 18.47052786,
                        "test": [
                          2546160.927
                        ]
                      },
                      {
                        "learn": [
                          2154668.148
                        ],
                        "iteration": 153,
                        "passed_time": 3.374077671,
                        "remaining_time": 18.5355176,
                        "test": [
                          2544304.879
                        ]
                      },
                      {
                        "learn": [
                          2153005.69
                        ],
                        "iteration": 154,
                        "passed_time": 3.404394131,
                        "remaining_time": 18.55943897,
                        "test": [
                          2543606.472
                        ]
                      },
                      {
                        "learn": [
                          2150172.316
                        ],
                        "iteration": 155,
                        "passed_time": 3.438439364,
                        "remaining_time": 18.60283861,
                        "test": [
                          2543499.377
                        ]
                      },
                      {
                        "learn": [
                          2148554.252
                        ],
                        "iteration": 156,
                        "passed_time": 3.467047186,
                        "remaining_time": 18.61605591,
                        "test": [
                          2542992.818
                        ]
                      },
                      {
                        "learn": [
                          2144994.548
                        ],
                        "iteration": 157,
                        "passed_time": 3.482753468,
                        "remaining_time": 18.55999,
                        "test": [
                          2543097.425
                        ]
                      },
                      {
                        "learn": [
                          2142208.362
                        ],
                        "iteration": 158,
                        "passed_time": 3.504511459,
                        "remaining_time": 18.53644111,
                        "test": [
                          2540615.265
                        ]
                      },
                      {
                        "learn": [
                          2139774.364
                        ],
                        "iteration": 159,
                        "passed_time": 3.53381489,
                        "remaining_time": 18.55252817,
                        "test": [
                          2539720.09
                        ]
                      },
                      {
                        "learn": [
                          2138150.611
                        ],
                        "iteration": 160,
                        "passed_time": 3.563928496,
                        "remaining_time": 18.57227334,
                        "test": [
                          2538877.254
                        ]
                      },
                      {
                        "learn": [
                          2136232.383
                        ],
                        "iteration": 161,
                        "passed_time": 3.603849328,
                        "remaining_time": 18.64213418,
                        "test": [
                          2538587.948
                        ]
                      },
                      {
                        "learn": [
                          2133920.367
                        ],
                        "iteration": 162,
                        "passed_time": 3.629292944,
                        "remaining_time": 18.63630794,
                        "test": [
                          2538067.798
                        ]
                      },
                      {
                        "learn": [
                          2131832.305
                        ],
                        "iteration": 163,
                        "passed_time": 3.645731604,
                        "remaining_time": 18.58433915,
                        "test": [
                          2537288.238
                        ]
                      },
                      {
                        "learn": [
                          2130158.062
                        ],
                        "iteration": 164,
                        "passed_time": 3.663468229,
                        "remaining_time": 18.53936952,
                        "test": [
                          2536924.492
                        ]
                      },
                      {
                        "learn": [
                          2128456.101
                        ],
                        "iteration": 165,
                        "passed_time": 3.692569026,
                        "remaining_time": 18.5518227,
                        "test": [
                          2536140.387
                        ]
                      },
                      {
                        "learn": [
                          2126270.863
                        ],
                        "iteration": 166,
                        "passed_time": 3.722774399,
                        "remaining_time": 18.56928787,
                        "test": [
                          2536393.655
                        ]
                      },
                      {
                        "learn": [
                          2124086.197
                        ],
                        "iteration": 167,
                        "passed_time": 3.768843018,
                        "remaining_time": 18.66474638,
                        "test": [
                          2535587.286
                        ]
                      },
                      {
                        "learn": [
                          2122470.084
                        ],
                        "iteration": 168,
                        "passed_time": 3.795782806,
                        "remaining_time": 18.66447048,
                        "test": [
                          2535778.763
                        ]
                      },
                      {
                        "learn": [
                          2122193.99
                        ],
                        "iteration": 169,
                        "passed_time": 3.826126108,
                        "remaining_time": 18.68049806,
                        "test": [
                          2536448.953
                        ]
                      },
                      {
                        "learn": [
                          2120096.956
                        ],
                        "iteration": 170,
                        "passed_time": 3.847240515,
                        "remaining_time": 18.65124203,
                        "test": [
                          2536682.228
                        ]
                      },
                      {
                        "learn": [
                          2118767.887
                        ],
                        "iteration": 171,
                        "passed_time": 3.8619006,
                        "remaining_time": 18.59100987,
                        "test": [
                          2537482.577
                        ]
                      },
                      {
                        "learn": [
                          2116896.617
                        ],
                        "iteration": 172,
                        "passed_time": 3.881418876,
                        "remaining_time": 18.55452839,
                        "test": [
                          2536623.489
                        ]
                      },
                      {
                        "learn": [
                          2115537.527
                        ],
                        "iteration": 173,
                        "passed_time": 3.895629508,
                        "remaining_time": 18.49304583,
                        "test": [
                          2536844.437
                        ]
                      },
                      {
                        "learn": [
                          2113161.104
                        ],
                        "iteration": 174,
                        "passed_time": 3.911411944,
                        "remaining_time": 18.43951345,
                        "test": [
                          2536457.9
                        ]
                      },
                      {
                        "learn": [
                          2110218.146
                        ],
                        "iteration": 175,
                        "passed_time": 3.948347653,
                        "remaining_time": 18.48544583,
                        "test": [
                          2536240.693
                        ]
                      },
                      {
                        "learn": [
                          2108630.463
                        ],
                        "iteration": 176,
                        "passed_time": 3.985354315,
                        "remaining_time": 18.53077176,
                        "test": [
                          2535251.678
                        ]
                      },
                      {
                        "learn": [
                          2106864.709
                        ],
                        "iteration": 177,
                        "passed_time": 4.027524317,
                        "remaining_time": 18.59901679,
                        "test": [
                          2535511.028
                        ]
                      },
                      {
                        "learn": [
                          2105123.441
                        ],
                        "iteration": 178,
                        "passed_time": 4.07064235,
                        "remaining_time": 18.67037636,
                        "test": [
                          2536787.448
                        ]
                      },
                      {
                        "learn": [
                          2104527.387
                        ],
                        "iteration": 179,
                        "passed_time": 4.11081364,
                        "remaining_time": 18.72703991,
                        "test": [
                          2536868.978
                        ]
                      },
                      {
                        "learn": [
                          2102181.008
                        ],
                        "iteration": 180,
                        "passed_time": 4.151692051,
                        "remaining_time": 18.78583309,
                        "test": [
                          2536389.149
                        ]
                      },
                      {
                        "learn": [
                          2100271.743
                        ],
                        "iteration": 181,
                        "passed_time": 4.180991588,
                        "remaining_time": 18.79148966,
                        "test": [
                          2535541.016
                        ]
                      },
                      {
                        "learn": [
                          2098161.817
                        ],
                        "iteration": 182,
                        "passed_time": 4.21662422,
                        "remaining_time": 18.82503819,
                        "test": [
                          2534883.569
                        ]
                      },
                      {
                        "learn": [
                          2096651.578
                        ],
                        "iteration": 183,
                        "passed_time": 4.248288034,
                        "remaining_time": 18.84023389,
                        "test": [
                          2534444.821
                        ]
                      },
                      {
                        "learn": [
                          2094768.961
                        ],
                        "iteration": 184,
                        "passed_time": 4.286930719,
                        "remaining_time": 18.88566776,
                        "test": [
                          2534069.546
                        ]
                      },
                      {
                        "learn": [
                          2092870.082
                        ],
                        "iteration": 185,
                        "passed_time": 4.321877354,
                        "remaining_time": 18.9140224,
                        "test": [
                          2533757.497
                        ]
                      },
                      {
                        "learn": [
                          2091403.418
                        ],
                        "iteration": 186,
                        "passed_time": 4.361815973,
                        "remaining_time": 18.96340314,
                        "test": [
                          2533269.189
                        ]
                      },
                      {
                        "learn": [
                          2090401.616
                        ],
                        "iteration": 187,
                        "passed_time": 4.387214178,
                        "remaining_time": 18.94903145,
                        "test": [
                          2533940.286
                        ]
                      },
                      {
                        "learn": [
                          2088596.249
                        ],
                        "iteration": 188,
                        "passed_time": 4.422350968,
                        "remaining_time": 18.9763314,
                        "test": [
                          2534084.359
                        ]
                      },
                      {
                        "learn": [
                          2088112.384
                        ],
                        "iteration": 189,
                        "passed_time": 4.474755668,
                        "remaining_time": 19.07658995,
                        "test": [
                          2534161.604
                        ]
                      },
                      {
                        "learn": [
                          2084684.757
                        ],
                        "iteration": 190,
                        "passed_time": 4.510206077,
                        "remaining_time": 19.10343831,
                        "test": [
                          2533448.187
                        ]
                      },
                      {
                        "learn": [
                          2082415.338
                        ],
                        "iteration": 191,
                        "passed_time": 4.535211141,
                        "remaining_time": 19.08568022,
                        "test": [
                          2533720.714
                        ]
                      },
                      {
                        "learn": [
                          2080057.588
                        ],
                        "iteration": 192,
                        "passed_time": 4.563331263,
                        "remaining_time": 19.08087217,
                        "test": [
                          2533387.421
                        ]
                      },
                      {
                        "learn": [
                          2078701.365
                        ],
                        "iteration": 193,
                        "passed_time": 4.614792991,
                        "remaining_time": 19.17279975,
                        "test": [
                          2533495.276
                        ]
                      },
                      {
                        "learn": [
                          2076725.273
                        ],
                        "iteration": 194,
                        "passed_time": 4.656346492,
                        "remaining_time": 19.22235347,
                        "test": [
                          2533093.207
                        ]
                      },
                      {
                        "learn": [
                          2074839.017
                        ],
                        "iteration": 195,
                        "passed_time": 4.703602628,
                        "remaining_time": 19.29436996,
                        "test": [
                          2533744.807
                        ]
                      },
                      {
                        "learn": [
                          2072719.718
                        ],
                        "iteration": 196,
                        "passed_time": 4.747303636,
                        "remaining_time": 19.35068437,
                        "test": [
                          2533685.382
                        ]
                      },
                      {
                        "learn": [
                          2070960.244
                        ],
                        "iteration": 197,
                        "passed_time": 4.792919118,
                        "remaining_time": 19.41374309,
                        "test": [
                          2532780.764
                        ]
                      },
                      {
                        "learn": [
                          2069234.227
                        ],
                        "iteration": 198,
                        "passed_time": 4.818529631,
                        "remaining_time": 19.39518711,
                        "test": [
                          2532392.819
                        ]
                      },
                      {
                        "learn": [
                          2066912.35
                        ],
                        "iteration": 199,
                        "passed_time": 4.843978785,
                        "remaining_time": 19.37591514,
                        "test": [
                          2530803.956
                        ]
                      },
                      {
                        "learn": [
                          2064325.898
                        ],
                        "iteration": 200,
                        "passed_time": 4.881576482,
                        "remaining_time": 19.40487368,
                        "test": [
                          2530735.793
                        ]
                      },
                      {
                        "learn": [
                          2062865.543
                        ],
                        "iteration": 201,
                        "passed_time": 4.948626248,
                        "remaining_time": 19.54952349,
                        "test": [
                          2529975.399
                        ]
                      },
                      {
                        "learn": [
                          2061182.475
                        ],
                        "iteration": 202,
                        "passed_time": 4.999683747,
                        "remaining_time": 19.62930023,
                        "test": [
                          2529295.819
                        ]
                      },
                      {
                        "learn": [
                          2059112.9
                        ],
                        "iteration": 203,
                        "passed_time": 5.031437893,
                        "remaining_time": 19.63247335,
                        "test": [
                          2528488.341
                        ]
                      },
                      {
                        "learn": [
                          2057627.446
                        ],
                        "iteration": 204,
                        "passed_time": 5.058701123,
                        "remaining_time": 19.61788972,
                        "test": [
                          2527822.607
                        ]
                      },
                      {
                        "learn": [
                          2056004.81
                        ],
                        "iteration": 205,
                        "passed_time": 5.077431936,
                        "remaining_time": 19.57029591,
                        "test": [
                          2527500.022
                        ]
                      },
                      {
                        "learn": [
                          2054211.054
                        ],
                        "iteration": 206,
                        "passed_time": 5.099396578,
                        "remaining_time": 19.5353695,
                        "test": [
                          2526948.914
                        ]
                      },
                      {
                        "learn": [
                          2052652.83
                        ],
                        "iteration": 207,
                        "passed_time": 5.115647528,
                        "remaining_time": 19.47881174,
                        "test": [
                          2526358.692
                        ]
                      },
                      {
                        "learn": [
                          2052423.543
                        ],
                        "iteration": 208,
                        "passed_time": 5.13705549,
                        "remaining_time": 19.44215738,
                        "test": [
                          2526434.388
                        ]
                      },
                      {
                        "learn": [
                          2050494.966
                        ],
                        "iteration": 209,
                        "passed_time": 5.153479029,
                        "remaining_time": 19.3868973,
                        "test": [
                          2526220.744
                        ]
                      },
                      {
                        "learn": [
                          2048378.002
                        ],
                        "iteration": 210,
                        "passed_time": 5.170886472,
                        "remaining_time": 19.33568448,
                        "test": [
                          2525833.049
                        ]
                      },
                      {
                        "learn": [
                          2046721.402
                        ],
                        "iteration": 211,
                        "passed_time": 5.186895018,
                        "remaining_time": 19.27959092,
                        "test": [
                          2524040.439
                        ]
                      },
                      {
                        "learn": [
                          2045437.887
                        ],
                        "iteration": 212,
                        "passed_time": 5.207922162,
                        "remaining_time": 19.24241662,
                        "test": [
                          2523497.473
                        ]
                      },
                      {
                        "learn": [
                          2043684.145
                        ],
                        "iteration": 213,
                        "passed_time": 5.240576628,
                        "remaining_time": 19.2480992,
                        "test": [
                          2523444.063
                        ]
                      },
                      {
                        "learn": [
                          2042188.652
                        ],
                        "iteration": 214,
                        "passed_time": 5.273968645,
                        "remaining_time": 19.25611807,
                        "test": [
                          2523762.698
                        ]
                      },
                      {
                        "learn": [
                          2041008.017
                        ],
                        "iteration": 215,
                        "passed_time": 5.307142193,
                        "remaining_time": 19.26296055,
                        "test": [
                          2523409.67
                        ]
                      },
                      {
                        "learn": [
                          2039890.684
                        ],
                        "iteration": 216,
                        "passed_time": 5.337472114,
                        "remaining_time": 19.25917357,
                        "test": [
                          2523595.023
                        ]
                      },
                      {
                        "learn": [
                          2038195.73
                        ],
                        "iteration": 217,
                        "passed_time": 5.364846841,
                        "remaining_time": 19.24454234,
                        "test": [
                          2522777.605
                        ]
                      },
                      {
                        "learn": [
                          2037010.216
                        ],
                        "iteration": 218,
                        "passed_time": 5.404564662,
                        "remaining_time": 19.27381279,
                        "test": [
                          2521970.218
                        ]
                      },
                      {
                        "learn": [
                          2034959.141
                        ],
                        "iteration": 219,
                        "passed_time": 5.431533824,
                        "remaining_time": 19.25725629,
                        "test": [
                          2521269.017
                        ]
                      },
                      {
                        "learn": [
                          2033451.739
                        ],
                        "iteration": 220,
                        "passed_time": 5.455751187,
                        "remaining_time": 19.23090577,
                        "test": [
                          2521179.928
                        ]
                      },
                      {
                        "learn": [
                          2032413.825
                        ],
                        "iteration": 221,
                        "passed_time": 5.480061401,
                        "remaining_time": 19.20489986,
                        "test": [
                          2520891.548
                        ]
                      },
                      {
                        "learn": [
                          2030956.309
                        ],
                        "iteration": 222,
                        "passed_time": 5.505204613,
                        "remaining_time": 19.18181159,
                        "test": [
                          2520436.929
                        ]
                      },
                      {
                        "learn": [
                          2029123.98
                        ],
                        "iteration": 223,
                        "passed_time": 5.537604736,
                        "remaining_time": 19.18384498,
                        "test": [
                          2520200.148
                        ]
                      },
                      {
                        "learn": [
                          2026902.178
                        ],
                        "iteration": 224,
                        "passed_time": 5.573692849,
                        "remaining_time": 19.19827537,
                        "test": [
                          2520349.915
                        ]
                      },
                      {
                        "learn": [
                          2024983.788
                        ],
                        "iteration": 225,
                        "passed_time": 5.609221171,
                        "remaining_time": 19.21034153,
                        "test": [
                          2519505.795
                        ]
                      },
                      {
                        "learn": [
                          2022774.502
                        ],
                        "iteration": 226,
                        "passed_time": 5.63956064,
                        "remaining_time": 19.20431883,
                        "test": [
                          2517963.212
                        ]
                      },
                      {
                        "learn": [
                          2020025.177
                        ],
                        "iteration": 227,
                        "passed_time": 5.666806245,
                        "remaining_time": 19.18760711,
                        "test": [
                          2516895.7
                        ]
                      },
                      {
                        "learn": [
                          2018841.278
                        ],
                        "iteration": 228,
                        "passed_time": 5.699683155,
                        "remaining_time": 19.18976294,
                        "test": [
                          2516870.894
                        ]
                      },
                      {
                        "learn": [
                          2016909.745
                        ],
                        "iteration": 229,
                        "passed_time": 5.728309039,
                        "remaining_time": 19.17738243,
                        "test": [
                          2516683.251
                        ]
                      },
                      {
                        "learn": [
                          2014650.128
                        ],
                        "iteration": 230,
                        "passed_time": 5.755025802,
                        "remaining_time": 19.15850581,
                        "test": [
                          2515962.549
                        ]
                      },
                      {
                        "learn": [
                          2012826.584
                        ],
                        "iteration": 231,
                        "passed_time": 5.783678123,
                        "remaining_time": 19.14596896,
                        "test": [
                          2515462.877
                        ]
                      },
                      {
                        "learn": [
                          2011500.75
                        ],
                        "iteration": 232,
                        "passed_time": 5.815496825,
                        "remaining_time": 19.14371702,
                        "test": [
                          2515544.142
                        ]
                      },
                      {
                        "learn": [
                          2009424.873
                        ],
                        "iteration": 233,
                        "passed_time": 5.846800647,
                        "remaining_time": 19.13952691,
                        "test": [
                          2514702.781
                        ]
                      },
                      {
                        "learn": [
                          2007850.647
                        ],
                        "iteration": 234,
                        "passed_time": 5.882587491,
                        "remaining_time": 19.14969971,
                        "test": [
                          2514435.689
                        ]
                      },
                      {
                        "learn": [
                          2005609.535
                        ],
                        "iteration": 235,
                        "passed_time": 5.908145917,
                        "remaining_time": 19.12637068,
                        "test": [
                          2513917.53
                        ]
                      },
                      {
                        "learn": [
                          2003836.748
                        ],
                        "iteration": 236,
                        "passed_time": 5.925601617,
                        "remaining_time": 19.07693685,
                        "test": [
                          2514779.454
                        ]
                      },
                      {
                        "learn": [
                          2001479.219
                        ],
                        "iteration": 237,
                        "passed_time": 5.951238655,
                        "remaining_time": 19.05396578,
                        "test": [
                          2514178.64
                        ]
                      },
                      {
                        "learn": [
                          1997769.589
                        ],
                        "iteration": 238,
                        "passed_time": 5.983442891,
                        "remaining_time": 19.05188301,
                        "test": [
                          2513990.714
                        ]
                      },
                      {
                        "learn": [
                          1996631.794
                        ],
                        "iteration": 239,
                        "passed_time": 6.018989417,
                        "remaining_time": 19.06013315,
                        "test": [
                          2514312.013
                        ]
                      },
                      {
                        "learn": [
                          1994619.645
                        ],
                        "iteration": 240,
                        "passed_time": 6.054123809,
                        "remaining_time": 19.06672187,
                        "test": [
                          2513015.228
                        ]
                      },
                      {
                        "learn": [
                          1992607.975
                        ],
                        "iteration": 241,
                        "passed_time": 6.08928593,
                        "remaining_time": 19.07305262,
                        "test": [
                          2512725.034
                        ]
                      },
                      {
                        "learn": [
                          1990118.096
                        ],
                        "iteration": 242,
                        "passed_time": 6.124766679,
                        "remaining_time": 19.08003447,
                        "test": [
                          2512934.843
                        ]
                      },
                      {
                        "learn": [
                          1987809.038
                        ],
                        "iteration": 243,
                        "passed_time": 6.150731974,
                        "remaining_time": 19.05718595,
                        "test": [
                          2512377.837
                        ]
                      },
                      {
                        "learn": [
                          1986345.343
                        ],
                        "iteration": 244,
                        "passed_time": 6.185246301,
                        "remaining_time": 19.06065697,
                        "test": [
                          2513287.745
                        ]
                      },
                      {
                        "learn": [
                          1985243.986
                        ],
                        "iteration": 245,
                        "passed_time": 6.236857628,
                        "remaining_time": 19.11622216,
                        "test": [
                          2513720.996
                        ]
                      },
                      {
                        "learn": [
                          1984215.823
                        ],
                        "iteration": 246,
                        "passed_time": 6.26651142,
                        "remaining_time": 19.10398016,
                        "test": [
                          2513644.486
                        ]
                      },
                      {
                        "learn": [
                          1982747.372
                        ],
                        "iteration": 247,
                        "passed_time": 6.300305786,
                        "remaining_time": 19.10415303,
                        "test": [
                          2513186.783
                        ]
                      },
                      {
                        "learn": [
                          1980711.851
                        ],
                        "iteration": 248,
                        "passed_time": 6.332929569,
                        "remaining_time": 19.10052252,
                        "test": [
                          2512369.597
                        ]
                      },
                      {
                        "learn": [
                          1978965.811
                        ],
                        "iteration": 249,
                        "passed_time": 6.356883696,
                        "remaining_time": 19.07065109,
                        "test": [
                          2511273.437
                        ]
                      },
                      {
                        "learn": [
                          1977647.966
                        ],
                        "iteration": 250,
                        "passed_time": 6.384695406,
                        "remaining_time": 19.05233809,
                        "test": [
                          2510720.878
                        ]
                      },
                      {
                        "learn": [
                          1976252.068
                        ],
                        "iteration": 251,
                        "passed_time": 6.411939942,
                        "remaining_time": 19.03226618,
                        "test": [
                          2511199.594
                        ]
                      },
                      {
                        "learn": [
                          1974986.26
                        ],
                        "iteration": 252,
                        "passed_time": 6.45521143,
                        "remaining_time": 19.05945825,
                        "test": [
                          2511213.888
                        ]
                      },
                      {
                        "learn": [
                          1974019.677
                        ],
                        "iteration": 253,
                        "passed_time": 6.496772576,
                        "remaining_time": 19.08107221,
                        "test": [
                          2510752.16
                        ]
                      },
                      {
                        "learn": [
                          1972896.371
                        ],
                        "iteration": 254,
                        "passed_time": 6.531302584,
                        "remaining_time": 19.08164873,
                        "test": [
                          2510355.241
                        ]
                      },
                      {
                        "learn": [
                          1971778.547
                        ],
                        "iteration": 255,
                        "passed_time": 6.561425995,
                        "remaining_time": 19.0691443,
                        "test": [
                          2510371.929
                        ]
                      },
                      {
                        "learn": [
                          1969738.118
                        ],
                        "iteration": 256,
                        "passed_time": 6.592073036,
                        "remaining_time": 19.0580166,
                        "test": [
                          2510166.085
                        ]
                      },
                      {
                        "learn": [
                          1968775.498
                        ],
                        "iteration": 257,
                        "passed_time": 6.63064248,
                        "remaining_time": 19.06952217,
                        "test": [
                          2510206.107
                        ]
                      },
                      {
                        "learn": [
                          1967522.95
                        ],
                        "iteration": 258,
                        "passed_time": 6.660563261,
                        "remaining_time": 19.05589721,
                        "test": [
                          2511786.723
                        ]
                      },
                      {
                        "learn": [
                          1966260.359
                        ],
                        "iteration": 259,
                        "passed_time": 6.721684805,
                        "remaining_time": 19.13094906,
                        "test": [
                          2511553.148
                        ]
                      },
                      {
                        "learn": [
                          1964948.44
                        ],
                        "iteration": 260,
                        "passed_time": 6.764548137,
                        "remaining_time": 19.15326082,
                        "test": [
                          2511502.394
                        ]
                      },
                      {
                        "learn": [
                          1963949.702
                        ],
                        "iteration": 261,
                        "passed_time": 6.792839673,
                        "remaining_time": 19.13402931,
                        "test": [
                          2511262.342
                        ]
                      },
                      {
                        "learn": [
                          1960968.592
                        ],
                        "iteration": 262,
                        "passed_time": 6.83624677,
                        "remaining_time": 19.15708696,
                        "test": [
                          2510717.622
                        ]
                      },
                      {
                        "learn": [
                          1958757.819
                        ],
                        "iteration": 263,
                        "passed_time": 6.904202684,
                        "remaining_time": 19.24808021,
                        "test": [
                          2510584.355
                        ]
                      },
                      {
                        "learn": [
                          1958383.648
                        ],
                        "iteration": 264,
                        "passed_time": 6.947313406,
                        "remaining_time": 19.2689636,
                        "test": [
                          2510436.189
                        ]
                      },
                      {
                        "learn": [
                          1956817.745
                        ],
                        "iteration": 265,
                        "passed_time": 6.974795304,
                        "remaining_time": 19.24623967,
                        "test": [
                          2510209.793
                        ]
                      },
                      {
                        "learn": [
                          1955112.351
                        ],
                        "iteration": 266,
                        "passed_time": 7.005373584,
                        "remaining_time": 19.23198066,
                        "test": [
                          2509615.019
                        ]
                      },
                      {
                        "learn": [
                          1953938.156
                        ],
                        "iteration": 267,
                        "passed_time": 7.0993728,
                        "remaining_time": 19.39082422,
                        "test": [
                          2510210.175
                        ]
                      },
                      {
                        "learn": [
                          1952677.573
                        ],
                        "iteration": 268,
                        "passed_time": 7.145940028,
                        "remaining_time": 19.41889279,
                        "test": [
                          2510056.706
                        ]
                      },
                      {
                        "learn": [
                          1951457.63
                        ],
                        "iteration": 269,
                        "passed_time": 7.20145732,
                        "remaining_time": 19.47060683,
                        "test": [
                          2509952.6
                        ]
                      },
                      {
                        "learn": [
                          1949378.672
                        ],
                        "iteration": 270,
                        "passed_time": 7.261229881,
                        "remaining_time": 19.53297632,
                        "test": [
                          2509182.93
                        ]
                      },
                      {
                        "learn": [
                          1948368.604
                        ],
                        "iteration": 271,
                        "passed_time": 7.3330199,
                        "remaining_time": 19.62661208,
                        "test": [
                          2509429.202
                        ]
                      },
                      {
                        "learn": [
                          1946517.324
                        ],
                        "iteration": 272,
                        "passed_time": 7.397712701,
                        "remaining_time": 19.70013602,
                        "test": [
                          2509276.88
                        ]
                      },
                      {
                        "learn": [
                          1945816.483
                        ],
                        "iteration": 273,
                        "passed_time": 7.472484425,
                        "remaining_time": 19.79935654,
                        "test": [
                          2508920.118
                        ]
                      },
                      {
                        "learn": [
                          1944952.587
                        ],
                        "iteration": 274,
                        "passed_time": 7.532514848,
                        "remaining_time": 19.85844824,
                        "test": [
                          2508894.989
                        ]
                      },
                      {
                        "learn": [
                          1943952.263
                        ],
                        "iteration": 275,
                        "passed_time": 7.59071152,
                        "remaining_time": 19.91186645,
                        "test": [
                          2508863.843
                        ]
                      },
                      {
                        "learn": [
                          1942446.709
                        ],
                        "iteration": 276,
                        "passed_time": 7.642703074,
                        "remaining_time": 19.94828275,
                        "test": [
                          2508285.469
                        ]
                      },
                      {
                        "learn": [
                          1941428.396
                        ],
                        "iteration": 277,
                        "passed_time": 7.679856502,
                        "remaining_time": 19.9455266,
                        "test": [
                          2508168.351
                        ]
                      },
                      {
                        "learn": [
                          1939864.321
                        ],
                        "iteration": 278,
                        "passed_time": 7.723901071,
                        "remaining_time": 19.96033216,
                        "test": [
                          2508382.905
                        ]
                      },
                      {
                        "learn": [
                          1938617.537
                        ],
                        "iteration": 279,
                        "passed_time": 7.761116283,
                        "remaining_time": 19.95715616,
                        "test": [
                          2508322.83
                        ]
                      },
                      {
                        "learn": [
                          1937436.543
                        ],
                        "iteration": 280,
                        "passed_time": 7.806842234,
                        "remaining_time": 19.97551447,
                        "test": [
                          2508513.539
                        ]
                      },
                      {
                        "learn": [
                          1936034.211
                        ],
                        "iteration": 281,
                        "passed_time": 7.840596072,
                        "remaining_time": 19.9629361,
                        "test": [
                          2508120.189
                        ]
                      },
                      {
                        "learn": [
                          1935045.105
                        ],
                        "iteration": 282,
                        "passed_time": 7.866658124,
                        "remaining_time": 19.93072041,
                        "test": [
                          2507257.799
                        ]
                      },
                      {
                        "learn": [
                          1934036.392
                        ],
                        "iteration": 283,
                        "passed_time": 7.905553672,
                        "remaining_time": 19.93090292,
                        "test": [
                          2506960.64
                        ]
                      },
                      {
                        "learn": [
                          1933332.685
                        ],
                        "iteration": 284,
                        "passed_time": 7.948663819,
                        "remaining_time": 19.94138467,
                        "test": [
                          2506826.316
                        ]
                      },
                      {
                        "learn": [
                          1932029.425
                        ],
                        "iteration": 285,
                        "passed_time": 8.006266286,
                        "remaining_time": 19.98767178,
                        "test": [
                          2508219.534
                        ]
                      },
                      {
                        "learn": [
                          1929947.683
                        ],
                        "iteration": 286,
                        "passed_time": 8.062707595,
                        "remaining_time": 20.03035023,
                        "test": [
                          2508589.688
                        ]
                      },
                      {
                        "learn": [
                          1928700.569
                        ],
                        "iteration": 287,
                        "passed_time": 8.099890982,
                        "remaining_time": 20.02473048,
                        "test": [
                          2508384.004
                        ]
                      },
                      {
                        "learn": [
                          1926892.06
                        ],
                        "iteration": 288,
                        "passed_time": 8.149594566,
                        "remaining_time": 20.04969459,
                        "test": [
                          2508125.431
                        ]
                      },
                      {
                        "learn": [
                          1925656.702
                        ],
                        "iteration": 289,
                        "passed_time": 8.189962645,
                        "remaining_time": 20.05128786,
                        "test": [
                          2507917.739
                        ]
                      },
                      {
                        "learn": [
                          1923374.939
                        ],
                        "iteration": 290,
                        "passed_time": 8.223027333,
                        "remaining_time": 20.03479855,
                        "test": [
                          2508179.03
                        ]
                      },
                      {
                        "learn": [
                          1922148.449
                        ],
                        "iteration": 291,
                        "passed_time": 8.268575517,
                        "remaining_time": 20.04846393,
                        "test": [
                          2510069.614
                        ]
                      },
                      {
                        "learn": [
                          1920022.43
                        ],
                        "iteration": 292,
                        "passed_time": 8.313635014,
                        "remaining_time": 20.06054592,
                        "test": [
                          2509626.569
                        ]
                      },
                      {
                        "learn": [
                          1919077.018
                        ],
                        "iteration": 293,
                        "passed_time": 8.385359131,
                        "remaining_time": 20.13627057,
                        "test": [
                          2509282.936
                        ]
                      },
                      {
                        "learn": [
                          1917613.574
                        ],
                        "iteration": 294,
                        "passed_time": 8.43520411,
                        "remaining_time": 20.15870813,
                        "test": [
                          2509312.816
                        ]
                      },
                      {
                        "learn": [
                          1916023.372
                        ],
                        "iteration": 295,
                        "passed_time": 8.480315176,
                        "remaining_time": 20.16939826,
                        "test": [
                          2509010.326
                        ]
                      },
                      {
                        "learn": [
                          1913970.716
                        ],
                        "iteration": 296,
                        "passed_time": 8.547496394,
                        "remaining_time": 20.23195274,
                        "test": [
                          2508447.829
                        ]
                      },
                      {
                        "learn": [
                          1913098.946
                        ],
                        "iteration": 297,
                        "passed_time": 8.591410207,
                        "remaining_time": 20.23882539,
                        "test": [
                          2507404.14
                        ]
                      },
                      {
                        "learn": [
                          1911654.085
                        ],
                        "iteration": 298,
                        "passed_time": 8.636415264,
                        "remaining_time": 20.24791672,
                        "test": [
                          2507747.039
                        ]
                      },
                      {
                        "learn": [
                          1910796.509
                        ],
                        "iteration": 299,
                        "passed_time": 8.695735221,
                        "remaining_time": 20.29004885,
                        "test": [
                          2507670.506
                        ]
                      },
                      {
                        "learn": [
                          1909746.807
                        ],
                        "iteration": 300,
                        "passed_time": 8.746057443,
                        "remaining_time": 20.3106118,
                        "test": [
                          2507504.957
                        ]
                      },
                      {
                        "learn": [
                          1908830.767
                        ],
                        "iteration": 301,
                        "passed_time": 8.805385035,
                        "remaining_time": 20.35151905,
                        "test": [
                          2507593.723
                        ]
                      },
                      {
                        "learn": [
                          1907469.975
                        ],
                        "iteration": 302,
                        "passed_time": 8.864407036,
                        "remaining_time": 20.39106173,
                        "test": [
                          2508210.231
                        ]
                      },
                      {
                        "learn": [
                          1906752.874
                        ],
                        "iteration": 303,
                        "passed_time": 8.910504892,
                        "remaining_time": 20.40036646,
                        "test": [
                          2508666.188
                        ]
                      },
                      {
                        "learn": [
                          1905997.105
                        ],
                        "iteration": 304,
                        "passed_time": 8.987113361,
                        "remaining_time": 20.47883208,
                        "test": [
                          2508634.332
                        ]
                      },
                      {
                        "learn": [
                          1904661.133
                        ],
                        "iteration": 305,
                        "passed_time": 9.064544256,
                        "remaining_time": 20.55814939,
                        "test": [
                          2508871.279
                        ]
                      },
                      {
                        "learn": [
                          1903925.223
                        ],
                        "iteration": 306,
                        "passed_time": 9.109641305,
                        "remaining_time": 20.56345741,
                        "test": [
                          2509185.515
                        ]
                      },
                      {
                        "learn": [
                          1902708.578
                        ],
                        "iteration": 307,
                        "passed_time": 9.18082606,
                        "remaining_time": 20.62705076,
                        "test": [
                          2508809.152
                        ]
                      },
                      {
                        "learn": [
                          1900775.497
                        ],
                        "iteration": 308,
                        "passed_time": 9.243497384,
                        "remaining_time": 20.67073363,
                        "test": [
                          2509168.732
                        ]
                      },
                      {
                        "learn": [
                          1899836.75
                        ],
                        "iteration": 309,
                        "passed_time": 9.278489711,
                        "remaining_time": 20.65212226,
                        "test": [
                          2509527.655
                        ]
                      },
                      {
                        "learn": [
                          1898800.153
                        ],
                        "iteration": 310,
                        "passed_time": 9.34894159,
                        "remaining_time": 20.71196384,
                        "test": [
                          2509037.42
                        ]
                      },
                      {
                        "learn": [
                          1897150.992
                        ],
                        "iteration": 311,
                        "passed_time": 9.39457587,
                        "remaining_time": 20.71624423,
                        "test": [
                          2509260.164
                        ]
                      },
                      {
                        "learn": [
                          1896319.522
                        ],
                        "iteration": 312,
                        "passed_time": 9.460597928,
                        "remaining_time": 20.76495456,
                        "test": [
                          2509073.722
                        ]
                      },
                      {
                        "learn": [
                          1894973.359
                        ],
                        "iteration": 313,
                        "passed_time": 9.544932086,
                        "remaining_time": 20.8529408,
                        "test": [
                          2508746.882
                        ]
                      },
                      {
                        "learn": [
                          1893510.193
                        ],
                        "iteration": 314,
                        "passed_time": 9.600474062,
                        "remaining_time": 20.87722137,
                        "test": [
                          2508938.974
                        ]
                      },
                      {
                        "learn": [
                          1892404.306
                        ],
                        "iteration": 315,
                        "passed_time": 9.659106621,
                        "remaining_time": 20.90768648,
                        "test": [
                          2509147.551
                        ]
                      },
                      {
                        "learn": [
                          1891526.752
                        ],
                        "iteration": 316,
                        "passed_time": 9.743644685,
                        "remaining_time": 20.9934048,
                        "test": [
                          2508869.394
                        ]
                      },
                      {
                        "learn": [
                          1890629.926
                        ],
                        "iteration": 317,
                        "passed_time": 9.790013995,
                        "remaining_time": 20.99619354,
                        "test": [
                          2508741.819
                        ]
                      },
                      {
                        "learn": [
                          1889881.517
                        ],
                        "iteration": 318,
                        "passed_time": 9.83366271,
                        "remaining_time": 20.99286616,
                        "test": [
                          2508765.851
                        ]
                      },
                      {
                        "learn": [
                          1888209.014
                        ],
                        "iteration": 319,
                        "passed_time": 9.888027606,
                        "remaining_time": 21.01205866,
                        "test": [
                          2509036.006
                        ]
                      },
                      {
                        "learn": [
                          1887560.113
                        ],
                        "iteration": 320,
                        "passed_time": 9.935468759,
                        "remaining_time": 21.01614731,
                        "test": [
                          2509073.913
                        ]
                      },
                      {
                        "learn": [
                          1885743.504
                        ],
                        "iteration": 321,
                        "passed_time": 9.97747629,
                        "remaining_time": 21.00847492,
                        "test": [
                          2508654.607
                        ]
                      },
                      {
                        "learn": [
                          1884847.516
                        ],
                        "iteration": 322,
                        "passed_time": 10.0170361,
                        "remaining_time": 20.99545956,
                        "test": [
                          2509137.621
                        ]
                      },
                      {
                        "learn": [
                          1884178.077
                        ],
                        "iteration": 323,
                        "passed_time": 10.04803859,
                        "remaining_time": 20.9644262,
                        "test": [
                          2509032.271
                        ]
                      },
                      {
                        "learn": [
                          1882798.977
                        ],
                        "iteration": 324,
                        "passed_time": 10.07765497,
                        "remaining_time": 20.93051418,
                        "test": [
                          2509890.905
                        ]
                      },
                      {
                        "learn": [
                          1881578.212
                        ],
                        "iteration": 325,
                        "passed_time": 10.11079848,
                        "remaining_time": 20.90392079,
                        "test": [
                          2509932.671
                        ]
                      },
                      {
                        "learn": [
                          1880876.944
                        ],
                        "iteration": 326,
                        "passed_time": 10.13917521,
                        "remaining_time": 20.86747681,
                        "test": [
                          2509469.049
                        ]
                      },
                      {
                        "learn": [
                          1879687.305
                        ],
                        "iteration": 327,
                        "passed_time": 10.18098693,
                        "remaining_time": 20.85860737,
                        "test": [
                          2509548.51
                        ]
                      },
                      {
                        "learn": [
                          1878416.607
                        ],
                        "iteration": 328,
                        "passed_time": 10.21338931,
                        "remaining_time": 20.83034719,
                        "test": [
                          2510358.15
                        ]
                      },
                      {
                        "learn": [
                          1877677.857
                        ],
                        "iteration": 329,
                        "passed_time": 10.23860885,
                        "remaining_time": 20.78747858,
                        "test": [
                          2510014.165
                        ]
                      },
                      {
                        "learn": [
                          1876323.666
                        ],
                        "iteration": 330,
                        "passed_time": 10.32086788,
                        "remaining_time": 20.86000184,
                        "test": [
                          2509801.406
                        ]
                      },
                      {
                        "learn": [
                          1875188.533
                        ],
                        "iteration": 331,
                        "passed_time": 10.36030129,
                        "remaining_time": 20.84542548,
                        "test": [
                          2509495.071
                        ]
                      },
                      {
                        "learn": [
                          1873510.197
                        ],
                        "iteration": 332,
                        "passed_time": 10.40176375,
                        "remaining_time": 20.83476404,
                        "test": [
                          2509064.578
                        ]
                      },
                      {
                        "learn": [
                          1872826.623
                        ],
                        "iteration": 333,
                        "passed_time": 10.45802419,
                        "remaining_time": 20.85342548,
                        "test": [
                          2508506.954
                        ]
                      },
                      {
                        "learn": [
                          1871889.357
                        ],
                        "iteration": 334,
                        "passed_time": 10.51829134,
                        "remaining_time": 20.87959326,
                        "test": [
                          2508982.037
                        ]
                      },
                      {
                        "learn": [
                          1871101.524
                        ],
                        "iteration": 335,
                        "passed_time": 10.59501082,
                        "remaining_time": 20.93775949,
                        "test": [
                          2509851.302
                        ]
                      },
                      {
                        "learn": [
                          1869721.473
                        ],
                        "iteration": 336,
                        "passed_time": 10.67171082,
                        "remaining_time": 20.99508686,
                        "test": [
                          2508871.983
                        ]
                      },
                      {
                        "learn": [
                          1868416.342
                        ],
                        "iteration": 337,
                        "passed_time": 10.73571787,
                        "remaining_time": 21.02676103,
                        "test": [
                          2509207.126
                        ]
                      },
                      {
                        "learn": [
                          1866827.809
                        ],
                        "iteration": 338,
                        "passed_time": 10.81137378,
                        "remaining_time": 21.08058428,
                        "test": [
                          2509272.009
                        ]
                      },
                      {
                        "learn": [
                          1865473.275
                        ],
                        "iteration": 339,
                        "passed_time": 10.8684228,
                        "remaining_time": 21.09752661,
                        "test": [
                          2508997.234
                        ]
                      },
                      {
                        "learn": [
                          1864481.88
                        ],
                        "iteration": 340,
                        "passed_time": 10.91453709,
                        "remaining_time": 21.09290305,
                        "test": [
                          2508692.967
                        ]
                      },
                      {
                        "learn": [
                          1863153.738
                        ],
                        "iteration": 341,
                        "passed_time": 10.96363336,
                        "remaining_time": 21.09377412,
                        "test": [
                          2508207.044
                        ]
                      },
                      {
                        "learn": [
                          1861462.495
                        ],
                        "iteration": 342,
                        "passed_time": 11.01132148,
                        "remaining_time": 21.09165659,
                        "test": [
                          2508355.453
                        ]
                      },
                      {
                        "learn": [
                          1859568.792
                        ],
                        "iteration": 343,
                        "passed_time": 11.06058783,
                        "remaining_time": 21.09228377,
                        "test": [
                          2508774.45
                        ]
                      },
                      {
                        "learn": [
                          1858484.175
                        ],
                        "iteration": 344,
                        "passed_time": 11.10428602,
                        "remaining_time": 21.08205027,
                        "test": [
                          2507773.048
                        ]
                      },
                      {
                        "learn": [
                          1857582.284
                        ],
                        "iteration": 345,
                        "passed_time": 11.13911506,
                        "remaining_time": 21.05485909,
                        "test": [
                          2507849.117
                        ]
                      },
                      {
                        "learn": [
                          1856685
                        ],
                        "iteration": 346,
                        "passed_time": 11.20279578,
                        "remaining_time": 21.08191828,
                        "test": [
                          2507815.563
                        ]
                      },
                      {
                        "learn": [
                          1855603.783
                        ],
                        "iteration": 347,
                        "passed_time": 11.24789328,
                        "remaining_time": 21.07363913,
                        "test": [
                          2507726.606
                        ]
                      },
                      {
                        "learn": [
                          1854415.256
                        ],
                        "iteration": 348,
                        "passed_time": 11.29343261,
                        "remaining_time": 21.06597315,
                        "test": [
                          2507969.832
                        ]
                      },
                      {
                        "learn": [
                          1853459.878
                        ],
                        "iteration": 349,
                        "passed_time": 11.36366353,
                        "remaining_time": 21.10394656,
                        "test": [
                          2507906.955
                        ]
                      },
                      {
                        "learn": [
                          1852338.953
                        ],
                        "iteration": 350,
                        "passed_time": 11.44015442,
                        "remaining_time": 21.15287812,
                        "test": [
                          2508416.699
                        ]
                      },
                      {
                        "learn": [
                          1851176.305
                        ],
                        "iteration": 351,
                        "passed_time": 11.48347187,
                        "remaining_time": 21.14002775,
                        "test": [
                          2508435.308
                        ]
                      },
                      {
                        "learn": [
                          1850856.394
                        ],
                        "iteration": 352,
                        "passed_time": 11.52648069,
                        "remaining_time": 21.12643912,
                        "test": [
                          2508366.388
                        ]
                      },
                      {
                        "learn": [
                          1849932.579
                        ],
                        "iteration": 353,
                        "passed_time": 11.55418617,
                        "remaining_time": 21.0847578,
                        "test": [
                          2508822.039
                        ]
                      },
                      {
                        "learn": [
                          1849400.463
                        ],
                        "iteration": 354,
                        "passed_time": 11.59544235,
                        "remaining_time": 21.06777554,
                        "test": [
                          2508790.774
                        ]
                      },
                      {
                        "learn": [
                          1848248.874
                        ],
                        "iteration": 355,
                        "passed_time": 11.65255515,
                        "remaining_time": 21.07934133,
                        "test": [
                          2508524.557
                        ]
                      },
                      {
                        "learn": [
                          1847187.689
                        ],
                        "iteration": 356,
                        "passed_time": 11.73565816,
                        "remaining_time": 21.13733389,
                        "test": [
                          2508956.07
                        ]
                      },
                      {
                        "learn": [
                          1846362.109
                        ],
                        "iteration": 357,
                        "passed_time": 11.77470276,
                        "remaining_time": 21.11552841,
                        "test": [
                          2508969.771
                        ]
                      },
                      {
                        "learn": [
                          1845333.258
                        ],
                        "iteration": 358,
                        "passed_time": 11.7949412,
                        "remaining_time": 21.06004822,
                        "test": [
                          2509106.776
                        ]
                      },
                      {
                        "learn": [
                          1844544.751
                        ],
                        "iteration": 359,
                        "passed_time": 11.81154514,
                        "remaining_time": 20.99830247,
                        "test": [
                          2508546.739
                        ]
                      },
                      {
                        "learn": [
                          1843312.656
                        ],
                        "iteration": 360,
                        "passed_time": 11.82900762,
                        "remaining_time": 20.9383265,
                        "test": [
                          2508483.809
                        ]
                      },
                      {
                        "learn": [
                          1842311.426
                        ],
                        "iteration": 361,
                        "passed_time": 11.8446695,
                        "remaining_time": 20.87541199,
                        "test": [
                          2509176.421
                        ]
                      },
                      {
                        "learn": [
                          1841441.485
                        ],
                        "iteration": 362,
                        "passed_time": 11.86358432,
                        "remaining_time": 20.81846614,
                        "test": [
                          2509317.659
                        ]
                      },
                      {
                        "learn": [
                          1840287.483
                        ],
                        "iteration": 363,
                        "passed_time": 11.88335902,
                        "remaining_time": 20.76323169,
                        "test": [
                          2508750.051
                        ]
                      },
                      {
                        "learn": [
                          1838830.583
                        ],
                        "iteration": 364,
                        "passed_time": 11.94067561,
                        "remaining_time": 20.77350414,
                        "test": [
                          2508329.874
                        ]
                      },
                      {
                        "learn": [
                          1837613.172
                        ],
                        "iteration": 365,
                        "passed_time": 11.97984097,
                        "remaining_time": 20.75196496,
                        "test": [
                          2507659.448
                        ]
                      },
                      {
                        "learn": [
                          1836851.24
                        ],
                        "iteration": 366,
                        "passed_time": 12.01767985,
                        "remaining_time": 20.72804181,
                        "test": [
                          2507390.971
                        ]
                      },
                      {
                        "learn": [
                          1835764.295
                        ],
                        "iteration": 367,
                        "passed_time": 12.05033236,
                        "remaining_time": 20.695136,
                        "test": [
                          2507344.396
                        ]
                      },
                      {
                        "learn": [
                          1834879.583
                        ],
                        "iteration": 368,
                        "passed_time": 12.08544369,
                        "remaining_time": 20.66643623,
                        "test": [
                          2507207.581
                        ]
                      },
                      {
                        "learn": [
                          1833754.202
                        ],
                        "iteration": 369,
                        "passed_time": 12.12359759,
                        "remaining_time": 20.64288238,
                        "test": [
                          2506814.346
                        ]
                      },
                      {
                        "learn": [
                          1832766.148
                        ],
                        "iteration": 370,
                        "passed_time": 12.16610054,
                        "remaining_time": 20.62662328,
                        "test": [
                          2506072.471
                        ]
                      },
                      {
                        "learn": [
                          1831818.178
                        ],
                        "iteration": 371,
                        "passed_time": 12.21661611,
                        "remaining_time": 20.62374978,
                        "test": [
                          2505351.261
                        ]
                      },
                      {
                        "learn": [
                          1830849.972
                        ],
                        "iteration": 372,
                        "passed_time": 12.25882128,
                        "remaining_time": 20.60665133,
                        "test": [
                          2505506.912
                        ]
                      },
                      {
                        "learn": [
                          1829388.916
                        ],
                        "iteration": 373,
                        "passed_time": 12.30672475,
                        "remaining_time": 20.59895639,
                        "test": [
                          2505706.443
                        ]
                      },
                      {
                        "learn": [
                          1828045.055
                        ],
                        "iteration": 374,
                        "passed_time": 12.34649358,
                        "remaining_time": 20.5774893,
                        "test": [
                          2504476.065
                        ]
                      },
                      {
                        "learn": [
                          1827505.595
                        ],
                        "iteration": 375,
                        "passed_time": 12.41477764,
                        "remaining_time": 20.60324801,
                        "test": [
                          2504430.248
                        ]
                      },
                      {
                        "learn": [
                          1826851.163
                        ],
                        "iteration": 376,
                        "passed_time": 12.48017168,
                        "remaining_time": 20.62373198,
                        "test": [
                          2504445.006
                        ]
                      },
                      {
                        "learn": [
                          1825410.672
                        ],
                        "iteration": 377,
                        "passed_time": 12.51562965,
                        "remaining_time": 20.59450169,
                        "test": [
                          2504446.715
                        ]
                      },
                      {
                        "learn": [
                          1824627.745
                        ],
                        "iteration": 378,
                        "passed_time": 12.53860629,
                        "remaining_time": 20.54478761,
                        "test": [
                          2504491.816
                        ]
                      },
                      {
                        "learn": [
                          1823478.265
                        ],
                        "iteration": 379,
                        "passed_time": 12.55573961,
                        "remaining_time": 20.48568041,
                        "test": [
                          2503943.371
                        ]
                      },
                      {
                        "learn": [
                          1822881.79
                        ],
                        "iteration": 380,
                        "passed_time": 12.56993603,
                        "remaining_time": 20.42202205,
                        "test": [
                          2503916.687
                        ]
                      },
                      {
                        "learn": [
                          1822148.124
                        ],
                        "iteration": 381,
                        "passed_time": 12.60566626,
                        "remaining_time": 20.39346007,
                        "test": [
                          2505016.293
                        ]
                      },
                      {
                        "learn": [
                          1820711.047
                        ],
                        "iteration": 382,
                        "passed_time": 12.6281825,
                        "remaining_time": 20.34357337,
                        "test": [
                          2504956.84
                        ]
                      },
                      {
                        "learn": [
                          1819404.901
                        ],
                        "iteration": 383,
                        "passed_time": 12.64259449,
                        "remaining_time": 20.28082866,
                        "test": [
                          2505234.678
                        ]
                      },
                      {
                        "learn": [
                          1818822.48
                        ],
                        "iteration": 384,
                        "passed_time": 12.66759761,
                        "remaining_time": 20.23525332,
                        "test": [
                          2504439.184
                        ]
                      },
                      {
                        "learn": [
                          1817867.448
                        ],
                        "iteration": 385,
                        "passed_time": 12.70023685,
                        "remaining_time": 20.20193115,
                        "test": [
                          2503833.379
                        ]
                      },
                      {
                        "learn": [
                          1816835.642
                        ],
                        "iteration": 386,
                        "passed_time": 12.73005543,
                        "remaining_time": 20.16414464,
                        "test": [
                          2503747.366
                        ]
                      },
                      {
                        "learn": [
                          1816226.446
                        ],
                        "iteration": 387,
                        "passed_time": 12.76656879,
                        "remaining_time": 20.13695901,
                        "test": [
                          2504029.786
                        ]
                      },
                      {
                        "learn": [
                          1815346.263
                        ],
                        "iteration": 388,
                        "passed_time": 12.79852145,
                        "remaining_time": 20.10256197,
                        "test": [
                          2503635.232
                        ]
                      },
                      {
                        "learn": [
                          1814792.701
                        ],
                        "iteration": 389,
                        "passed_time": 12.83090963,
                        "remaining_time": 20.06885865,
                        "test": [
                          2503405.832
                        ]
                      },
                      {
                        "learn": [
                          1813058.212
                        ],
                        "iteration": 390,
                        "passed_time": 12.86187508,
                        "remaining_time": 20.0329461,
                        "test": [
                          2503375.356
                        ]
                      },
                      {
                        "learn": [
                          1812776.948
                        ],
                        "iteration": 391,
                        "passed_time": 12.89391352,
                        "remaining_time": 19.998723,
                        "test": [
                          2503522.506
                        ]
                      },
                      {
                        "learn": [
                          1812114.243
                        ],
                        "iteration": 392,
                        "passed_time": 12.93359806,
                        "remaining_time": 19.97632067,
                        "test": [
                          2503738.877
                        ]
                      },
                      {
                        "learn": [
                          1810939.193
                        ],
                        "iteration": 393,
                        "passed_time": 12.97616358,
                        "remaining_time": 19.95826175,
                        "test": [
                          2503610.346
                        ]
                      },
                      {
                        "learn": [
                          1809886.069
                        ],
                        "iteration": 394,
                        "passed_time": 13.03200054,
                        "remaining_time": 19.96040589,
                        "test": [
                          2503202.797
                        ]
                      },
                      {
                        "learn": [
                          1808937.179
                        ],
                        "iteration": 395,
                        "passed_time": 13.06920154,
                        "remaining_time": 19.93383265,
                        "test": [
                          2503246.346
                        ]
                      },
                      {
                        "learn": [
                          1807771.675
                        ],
                        "iteration": 396,
                        "passed_time": 13.09589851,
                        "remaining_time": 19.89125139,
                        "test": [
                          2502935.505
                        ]
                      },
                      {
                        "learn": [
                          1806947.57
                        ],
                        "iteration": 397,
                        "passed_time": 13.12361591,
                        "remaining_time": 19.85029341,
                        "test": [
                          2503057.712
                        ]
                      },
                      {
                        "learn": [
                          1805849.543
                        ],
                        "iteration": 398,
                        "passed_time": 13.15862807,
                        "remaining_time": 19.82038965,
                        "test": [
                          2503221.026
                        ]
                      },
                      {
                        "learn": [
                          1805046.899
                        ],
                        "iteration": 399,
                        "passed_time": 13.18765469,
                        "remaining_time": 19.78148203,
                        "test": [
                          2503251.919
                        ]
                      },
                      {
                        "learn": [
                          1804300.967
                        ],
                        "iteration": 400,
                        "passed_time": 13.21596155,
                        "remaining_time": 19.74154855,
                        "test": [
                          2503205.598
                        ]
                      },
                      {
                        "learn": [
                          1803546.296
                        ],
                        "iteration": 401,
                        "passed_time": 13.24439181,
                        "remaining_time": 19.70185647,
                        "test": [
                          2503696.049
                        ]
                      },
                      {
                        "learn": [
                          1802432.414
                        ],
                        "iteration": 402,
                        "passed_time": 13.28608576,
                        "remaining_time": 19.68186897,
                        "test": [
                          2503997.009
                        ]
                      },
                      {
                        "learn": [
                          1801233.8
                        ],
                        "iteration": 403,
                        "passed_time": 13.31967168,
                        "remaining_time": 19.64981268,
                        "test": [
                          2503922.605
                        ]
                      },
                      {
                        "learn": [
                          1800287.089
                        ],
                        "iteration": 404,
                        "passed_time": 13.34719878,
                        "remaining_time": 19.60884758,
                        "test": [
                          2503990.272
                        ]
                      },
                      {
                        "learn": [
                          1799469.688
                        ],
                        "iteration": 405,
                        "passed_time": 13.37509394,
                        "remaining_time": 19.5684872,
                        "test": [
                          2504350.744
                        ]
                      },
                      {
                        "learn": [
                          1797863.685
                        ],
                        "iteration": 406,
                        "passed_time": 13.40562491,
                        "remaining_time": 19.53202843,
                        "test": [
                          2505990.9
                        ]
                      },
                      {
                        "learn": [
                          1796915.902
                        ],
                        "iteration": 407,
                        "passed_time": 13.45887986,
                        "remaining_time": 19.52857077,
                        "test": [
                          2505960.54
                        ]
                      },
                      {
                        "learn": [
                          1795488.152
                        ],
                        "iteration": 408,
                        "passed_time": 13.49820241,
                        "remaining_time": 19.50473746,
                        "test": [
                          2505941.534
                        ]
                      },
                      {
                        "learn": [
                          1794406.576
                        ],
                        "iteration": 409,
                        "passed_time": 13.55142642,
                        "remaining_time": 19.50083314,
                        "test": [
                          2505593.024
                        ]
                      },
                      {
                        "learn": [
                          1793183.095
                        ],
                        "iteration": 410,
                        "passed_time": 13.59724585,
                        "remaining_time": 19.48607739,
                        "test": [
                          2505329.239
                        ]
                      },
                      {
                        "learn": [
                          1792256.795
                        ],
                        "iteration": 411,
                        "passed_time": 13.63286116,
                        "remaining_time": 19.45660768,
                        "test": [
                          2505705.439
                        ]
                      },
                      {
                        "learn": [
                          1791702.81
                        ],
                        "iteration": 412,
                        "passed_time": 13.67186129,
                        "remaining_time": 19.43191908,
                        "test": [
                          2505625.827
                        ]
                      },
                      {
                        "learn": [
                          1790183.008
                        ],
                        "iteration": 413,
                        "passed_time": 13.71205065,
                        "remaining_time": 19.40884464,
                        "test": [
                          2505283.673
                        ]
                      },
                      {
                        "learn": [
                          1789306.236
                        ],
                        "iteration": 414,
                        "passed_time": 13.74440309,
                        "remaining_time": 19.3746405,
                        "test": [
                          2504950.51
                        ]
                      },
                      {
                        "learn": [
                          1788550.914
                        ],
                        "iteration": 415,
                        "passed_time": 13.791286,
                        "remaining_time": 19.36084381,
                        "test": [
                          2504754.827
                        ]
                      },
                      {
                        "learn": [
                          1787746.035
                        ],
                        "iteration": 416,
                        "passed_time": 13.8383101,
                        "remaining_time": 19.34708582,
                        "test": [
                          2504621.105
                        ]
                      },
                      {
                        "learn": [
                          1786396.007
                        ],
                        "iteration": 417,
                        "passed_time": 13.87911637,
                        "remaining_time": 19.32451132,
                        "test": [
                          2504540.854
                        ]
                      },
                      {
                        "learn": [
                          1785830.977
                        ],
                        "iteration": 418,
                        "passed_time": 13.9067865,
                        "remaining_time": 19.28363474,
                        "test": [
                          2504467.558
                        ]
                      },
                      {
                        "learn": [
                          1785190.512
                        ],
                        "iteration": 419,
                        "passed_time": 13.94672942,
                        "remaining_time": 19.2597692,
                        "test": [
                          2504309.622
                        ]
                      },
                      {
                        "learn": [
                          1783700.855
                        ],
                        "iteration": 420,
                        "passed_time": 13.99528263,
                        "remaining_time": 19.24766899,
                        "test": [
                          2504302.165
                        ]
                      },
                      {
                        "learn": [
                          1783641.952
                        ],
                        "iteration": 421,
                        "passed_time": 14.0303463,
                        "remaining_time": 19.21691982,
                        "test": [
                          2504242.991
                        ]
                      },
                      {
                        "learn": [
                          1783102.684
                        ],
                        "iteration": 422,
                        "passed_time": 14.07927063,
                        "remaining_time": 19.2050571,
                        "test": [
                          2504083.011
                        ]
                      },
                      {
                        "learn": [
                          1782314.366
                        ],
                        "iteration": 423,
                        "passed_time": 14.14802202,
                        "remaining_time": 19.21995444,
                        "test": [
                          2505195.628
                        ]
                      },
                      {
                        "learn": [
                          1781479.755
                        ],
                        "iteration": 424,
                        "passed_time": 14.18394333,
                        "remaining_time": 19.19004097,
                        "test": [
                          2505004.141
                        ]
                      },
                      {
                        "learn": [
                          1781426.25
                        ],
                        "iteration": 425,
                        "passed_time": 14.20757913,
                        "remaining_time": 19.14354559,
                        "test": [
                          2505159.32
                        ]
                      },
                      {
                        "learn": [
                          1780884.009
                        ],
                        "iteration": 426,
                        "passed_time": 14.23915124,
                        "remaining_time": 19.10780717,
                        "test": [
                          2506109.226
                        ]
                      },
                      {
                        "learn": [
                          1779993.781
                        ],
                        "iteration": 427,
                        "passed_time": 14.29922175,
                        "remaining_time": 19.11017486,
                        "test": [
                          2506345.725
                        ]
                      },
                      {
                        "learn": [
                          1779494.925
                        ],
                        "iteration": 428,
                        "passed_time": 14.34514498,
                        "remaining_time": 19.0934214,
                        "test": [
                          2506527.849
                        ]
                      },
                      {
                        "learn": [
                          1778614.6
                        ],
                        "iteration": 429,
                        "passed_time": 14.38660416,
                        "remaining_time": 19.07061482,
                        "test": [
                          2506565.594
                        ]
                      },
                      {
                        "learn": [
                          1777976.15
                        ],
                        "iteration": 430,
                        "passed_time": 14.41385906,
                        "remaining_time": 19.02896938,
                        "test": [
                          2507045.092
                        ]
                      },
                      {
                        "learn": [
                          1777544.067
                        ],
                        "iteration": 431,
                        "passed_time": 14.45858086,
                        "remaining_time": 19.01035631,
                        "test": [
                          2507299.159
                        ]
                      },
                      {
                        "learn": [
                          1776584.04
                        ],
                        "iteration": 432,
                        "passed_time": 14.51408411,
                        "remaining_time": 19.00574062,
                        "test": [
                          2507296.901
                        ]
                      },
                      {
                        "learn": [
                          1775130.997
                        ],
                        "iteration": 433,
                        "passed_time": 14.56551953,
                        "remaining_time": 18.99558537,
                        "test": [
                          2507493.288
                        ]
                      },
                      {
                        "learn": [
                          1774151.989
                        ],
                        "iteration": 434,
                        "passed_time": 14.62750513,
                        "remaining_time": 18.99894345,
                        "test": [
                          2507209.846
                        ]
                      },
                      {
                        "learn": [
                          1773563.111
                        ],
                        "iteration": 435,
                        "passed_time": 14.65700964,
                        "remaining_time": 18.95998495,
                        "test": [
                          2507966.867
                        ]
                      },
                      {
                        "learn": [
                          1772993.927
                        ],
                        "iteration": 436,
                        "passed_time": 14.69748886,
                        "remaining_time": 18.93520876,
                        "test": [
                          2507915.961
                        ]
                      },
                      {
                        "learn": [
                          1772229.38
                        ],
                        "iteration": 437,
                        "passed_time": 14.73025352,
                        "remaining_time": 18.90046228,
                        "test": [
                          2508230.501
                        ]
                      },
                      {
                        "learn": [
                          1771436.919
                        ],
                        "iteration": 438,
                        "passed_time": 14.76029807,
                        "remaining_time": 18.86224878,
                        "test": [
                          2508114.292
                        ]
                      },
                      {
                        "learn": [
                          1770830.443
                        ],
                        "iteration": 439,
                        "passed_time": 14.79360246,
                        "remaining_time": 18.82822131,
                        "test": [
                          2507910.986
                        ]
                      },
                      {
                        "learn": [
                          1769916.57
                        ],
                        "iteration": 440,
                        "passed_time": 14.83995441,
                        "remaining_time": 18.81073586,
                        "test": [
                          2508125.348
                        ]
                      },
                      {
                        "learn": [
                          1769533.231
                        ],
                        "iteration": 441,
                        "passed_time": 14.86917321,
                        "remaining_time": 18.77149016,
                        "test": [
                          2508028.103
                        ]
                      },
                      {
                        "learn": [
                          1768956.836
                        ],
                        "iteration": 442,
                        "passed_time": 14.90995328,
                        "remaining_time": 18.74682613,
                        "test": [
                          2507854.428
                        ]
                      },
                      {
                        "learn": [
                          1768320.465
                        ],
                        "iteration": 443,
                        "passed_time": 14.95089467,
                        "remaining_time": 18.72229152,
                        "test": [
                          2507623.036
                        ]
                      },
                      {
                        "learn": [
                          1767480.066
                        ],
                        "iteration": 444,
                        "passed_time": 15.00228697,
                        "remaining_time": 18.71071745,
                        "test": [
                          2507712.304
                        ]
                      },
                      {
                        "learn": [
                          1766961.194
                        ],
                        "iteration": 445,
                        "passed_time": 15.0530153,
                        "remaining_time": 18.69814008,
                        "test": [
                          2508016.681
                        ]
                      },
                      {
                        "learn": [
                          1766303.869
                        ],
                        "iteration": 446,
                        "passed_time": 15.1043201,
                        "remaining_time": 18.68610518,
                        "test": [
                          2507933.919
                        ]
                      },
                      {
                        "learn": [
                          1765633.062
                        ],
                        "iteration": 447,
                        "passed_time": 15.15018402,
                        "remaining_time": 18.66719102,
                        "test": [
                          2508554.027
                        ]
                      },
                      {
                        "learn": [
                          1764653.705
                        ],
                        "iteration": 448,
                        "passed_time": 15.17803504,
                        "remaining_time": 18.62605191,
                        "test": [
                          2508499.065
                        ]
                      },
                      {
                        "learn": [
                          1763348.672
                        ],
                        "iteration": 449,
                        "passed_time": 15.2082148,
                        "remaining_time": 18.58781809,
                        "test": [
                          2508581.808
                        ]
                      },
                      {
                        "learn": [
                          1762029.345
                        ],
                        "iteration": 450,
                        "passed_time": 15.23672595,
                        "remaining_time": 18.54758879,
                        "test": [
                          2508420.677
                        ]
                      },
                      {
                        "learn": [
                          1761188.918
                        ],
                        "iteration": 451,
                        "passed_time": 15.26455911,
                        "remaining_time": 18.50658937,
                        "test": [
                          2508047.355
                        ]
                      },
                      {
                        "learn": [
                          1760585.276
                        ],
                        "iteration": 452,
                        "passed_time": 15.30599196,
                        "remaining_time": 18.48206976,
                        "test": [
                          2507963.616
                        ]
                      },
                      {
                        "learn": [
                          1759228.106
                        ],
                        "iteration": 453,
                        "passed_time": 15.33591012,
                        "remaining_time": 18.44362759,
                        "test": [
                          2507850.218
                        ]
                      },
                      {
                        "learn": [
                          1759173.435
                        ],
                        "iteration": 454,
                        "passed_time": 15.37088032,
                        "remaining_time": 18.41127423,
                        "test": [
                          2507795.875
                        ]
                      },
                      {
                        "learn": [
                          1757942.66
                        ],
                        "iteration": 455,
                        "passed_time": 15.40543844,
                        "remaining_time": 18.37841779,
                        "test": [
                          2507513.625
                        ]
                      },
                      {
                        "learn": [
                          1757034.643
                        ],
                        "iteration": 456,
                        "passed_time": 15.44186606,
                        "remaining_time": 18.34777521,
                        "test": [
                          2507518.558
                        ]
                      },
                      {
                        "learn": [
                          1755451.137
                        ],
                        "iteration": 457,
                        "passed_time": 15.48790707,
                        "remaining_time": 18.32848391,
                        "test": [
                          2507092.556
                        ]
                      },
                      {
                        "learn": [
                          1754438.492
                        ],
                        "iteration": 458,
                        "passed_time": 15.53286269,
                        "remaining_time": 18.30779677,
                        "test": [
                          2507112.69
                        ]
                      },
                      {
                        "learn": [
                          1753209.158
                        ],
                        "iteration": 459,
                        "passed_time": 15.56747659,
                        "remaining_time": 18.27486382,
                        "test": [
                          2507144.685
                        ]
                      },
                      {
                        "learn": [
                          1752480.199
                        ],
                        "iteration": 460,
                        "passed_time": 15.59510107,
                        "remaining_time": 18.23375158,
                        "test": [
                          2507078.062
                        ]
                      },
                      {
                        "learn": [
                          1752430.303
                        ],
                        "iteration": 461,
                        "passed_time": 15.63450439,
                        "remaining_time": 18.20641421,
                        "test": [
                          2507016.169
                        ]
                      },
                      {
                        "learn": [
                          1751643.349
                        ],
                        "iteration": 462,
                        "passed_time": 15.68403822,
                        "remaining_time": 18.19077435,
                        "test": [
                          2507148.845
                        ]
                      },
                      {
                        "learn": [
                          1750101.851
                        ],
                        "iteration": 463,
                        "passed_time": 15.71468707,
                        "remaining_time": 18.153173,
                        "test": [
                          2507627.709
                        ]
                      },
                      {
                        "learn": [
                          1749313.427
                        ],
                        "iteration": 464,
                        "passed_time": 15.74518157,
                        "remaining_time": 18.11542396,
                        "test": [
                          2507676.074
                        ]
                      },
                      {
                        "learn": [
                          1748093.712
                        ],
                        "iteration": 465,
                        "passed_time": 15.77106205,
                        "remaining_time": 18.07241875,
                        "test": [
                          2508456.715
                        ]
                      },
                      {
                        "learn": [
                          1747082.403
                        ],
                        "iteration": 466,
                        "passed_time": 15.81381636,
                        "remaining_time": 18.04874544,
                        "test": [
                          2508208.383
                        ]
                      },
                      {
                        "learn": [
                          1745986.771
                        ],
                        "iteration": 467,
                        "passed_time": 15.84996331,
                        "remaining_time": 18.01747966,
                        "test": [
                          2507974.247
                        ]
                      },
                      {
                        "learn": [
                          1744570.426
                        ],
                        "iteration": 468,
                        "passed_time": 15.89710388,
                        "remaining_time": 17.99864,
                        "test": [
                          2507638.424
                        ]
                      },
                      {
                        "learn": [
                          1743262.507
                        ],
                        "iteration": 469,
                        "passed_time": 15.95336129,
                        "remaining_time": 17.9899606,
                        "test": [
                          2507322.374
                        ]
                      },
                      {
                        "learn": [
                          1742632.612
                        ],
                        "iteration": 470,
                        "passed_time": 16.01021994,
                        "remaining_time": 17.98175445,
                        "test": [
                          2507069.886
                        ]
                      },
                      {
                        "learn": [
                          1742348.973
                        ],
                        "iteration": 471,
                        "passed_time": 16.0471652,
                        "remaining_time": 17.95106616,
                        "test": [
                          2507232.701
                        ]
                      },
                      {
                        "learn": [
                          1742022.676
                        ],
                        "iteration": 472,
                        "passed_time": 16.07411594,
                        "remaining_time": 17.90921586,
                        "test": [
                          2507125.308
                        ]
                      },
                      {
                        "learn": [
                          1741100.429
                        ],
                        "iteration": 473,
                        "passed_time": 16.09912614,
                        "remaining_time": 17.865275,
                        "test": [
                          2507583.704
                        ]
                      },
                      {
                        "learn": [
                          1739779.184
                        ],
                        "iteration": 474,
                        "passed_time": 16.1190458,
                        "remaining_time": 17.81578746,
                        "test": [
                          2508458.642
                        ]
                      },
                      {
                        "learn": [
                          1738693.93
                        ],
                        "iteration": 475,
                        "passed_time": 16.14144304,
                        "remaining_time": 17.76915158,
                        "test": [
                          2508246.919
                        ]
                      },
                      {
                        "learn": [
                          1737590.289
                        ],
                        "iteration": 476,
                        "passed_time": 16.1869701,
                        "remaining_time": 17.7479777,
                        "test": [
                          2508182.107
                        ]
                      },
                      {
                        "learn": [
                          1736382.527
                        ],
                        "iteration": 477,
                        "passed_time": 16.24126055,
                        "remaining_time": 17.73627198,
                        "test": [
                          2508181.776
                        ]
                      },
                      {
                        "learn": [
                          1735848.882
                        ],
                        "iteration": 478,
                        "passed_time": 16.28091687,
                        "remaining_time": 17.70847117,
                        "test": [
                          2508386.925
                        ]
                      },
                      {
                        "learn": [
                          1735262.951
                        ],
                        "iteration": 479,
                        "passed_time": 16.30452021,
                        "remaining_time": 17.66323023,
                        "test": [
                          2508425.179
                        ]
                      },
                      {
                        "learn": [
                          1734803.031
                        ],
                        "iteration": 480,
                        "passed_time": 16.32908637,
                        "remaining_time": 17.61911814,
                        "test": [
                          2508502.504
                        ]
                      },
                      {
                        "learn": [
                          1733928.874
                        ],
                        "iteration": 481,
                        "passed_time": 16.36658325,
                        "remaining_time": 17.58898366,
                        "test": [
                          2508447.257
                        ]
                      },
                      {
                        "learn": [
                          1732656.978
                        ],
                        "iteration": 482,
                        "passed_time": 16.39962838,
                        "remaining_time": 17.55405356,
                        "test": [
                          2508918.922
                        ]
                      },
                      {
                        "learn": [
                          1732485.527
                        ],
                        "iteration": 483,
                        "passed_time": 16.42753108,
                        "remaining_time": 17.51364884,
                        "test": [
                          2508877.568
                        ]
                      },
                      {
                        "learn": [
                          1731606.605
                        ],
                        "iteration": 484,
                        "passed_time": 16.47119401,
                        "remaining_time": 17.49003075,
                        "test": [
                          2508727.799
                        ]
                      },
                      {
                        "learn": [
                          1730644.838
                        ],
                        "iteration": 485,
                        "passed_time": 16.50894221,
                        "remaining_time": 17.46007468,
                        "test": [
                          2508728.058
                        ]
                      },
                      {
                        "learn": [
                          1730120.431
                        ],
                        "iteration": 486,
                        "passed_time": 16.56222865,
                        "remaining_time": 17.44645441,
                        "test": [
                          2508789.745
                        ]
                      },
                      {
                        "learn": [
                          1728890.897
                        ],
                        "iteration": 487,
                        "passed_time": 16.59692763,
                        "remaining_time": 17.41316998,
                        "test": [
                          2509116.895
                        ]
                      },
                      {
                        "learn": [
                          1728413.243
                        ],
                        "iteration": 488,
                        "passed_time": 16.64152363,
                        "remaining_time": 17.39022203,
                        "test": [
                          2509059.934
                        ]
                      },
                      {
                        "learn": [
                          1727340.566
                        ],
                        "iteration": 489,
                        "passed_time": 16.71807444,
                        "remaining_time": 17.40044483,
                        "test": [
                          2509578.366
                        ]
                      },
                      {
                        "learn": [
                          1726539.042
                        ],
                        "iteration": 490,
                        "passed_time": 16.76787032,
                        "remaining_time": 17.38257839,
                        "test": [
                          2509855.254
                        ]
                      },
                      {
                        "learn": [
                          1726118.167
                        ],
                        "iteration": 491,
                        "passed_time": 16.8272815,
                        "remaining_time": 17.37451017,
                        "test": [
                          2509911.215
                        ]
                      },
                      {
                        "learn": [
                          1725519.052
                        ],
                        "iteration": 492,
                        "passed_time": 16.8648824,
                        "remaining_time": 17.34380401,
                        "test": [
                          2509919.791
                        ]
                      },
                      {
                        "learn": [
                          1724514.51
                        ],
                        "iteration": 493,
                        "passed_time": 16.9110996,
                        "remaining_time": 17.32189554,
                        "test": [
                          2509491.407
                        ]
                      },
                      {
                        "learn": [
                          1723476.867
                        ],
                        "iteration": 494,
                        "passed_time": 16.96371586,
                        "remaining_time": 17.30641719,
                        "test": [
                          2509108.388
                        ]
                      },
                      {
                        "learn": [
                          1722548.934
                        ],
                        "iteration": 495,
                        "passed_time": 16.98744357,
                        "remaining_time": 17.2614346,
                        "test": [
                          2508997.18
                        ]
                      },
                      {
                        "learn": [
                          1721957.745
                        ],
                        "iteration": 496,
                        "passed_time": 17.01057353,
                        "remaining_time": 17.21593257,
                        "test": [
                          2508858.143
                        ]
                      },
                      {
                        "learn": [
                          1721703.505
                        ],
                        "iteration": 497,
                        "passed_time": 17.04193516,
                        "remaining_time": 17.17881817,
                        "test": [
                          2508883.697
                        ]
                      },
                      {
                        "learn": [
                          1720870.83
                        ],
                        "iteration": 498,
                        "passed_time": 17.08628052,
                        "remaining_time": 17.15476261,
                        "test": [
                          2508927.952
                        ]
                      },
                      {
                        "learn": [
                          1720046.64
                        ],
                        "iteration": 499,
                        "passed_time": 17.11572888,
                        "remaining_time": 17.11572888,
                        "test": [
                          2508934.103
                        ]
                      },
                      {
                        "learn": [
                          1719357.331
                        ],
                        "iteration": 500,
                        "passed_time": 17.16272253,
                        "remaining_time": 17.09420867,
                        "test": [
                          2509028.128
                        ]
                      },
                      {
                        "learn": [
                          1718670.385
                        ],
                        "iteration": 501,
                        "passed_time": 17.21733738,
                        "remaining_time": 17.08014744,
                        "test": [
                          2509014.41
                        ]
                      },
                      {
                        "learn": [
                          1717437.86
                        ],
                        "iteration": 502,
                        "passed_time": 17.25761524,
                        "remaining_time": 17.05175899,
                        "test": [
                          2509060.828
                        ]
                      },
                      {
                        "learn": [
                          1716257.022
                        ],
                        "iteration": 503,
                        "passed_time": 17.30021478,
                        "remaining_time": 17.0256082,
                        "test": [
                          2509270.529
                        ]
                      },
                      {
                        "learn": [
                          1715635.662
                        ],
                        "iteration": 504,
                        "passed_time": 17.33202477,
                        "remaining_time": 16.98881636,
                        "test": [
                          2509395.709
                        ]
                      },
                      {
                        "learn": [
                          1714978.76
                        ],
                        "iteration": 505,
                        "passed_time": 17.36540533,
                        "remaining_time": 16.95357753,
                        "test": [
                          2509050.508
                        ]
                      },
                      {
                        "learn": [
                          1714138.322
                        ],
                        "iteration": 506,
                        "passed_time": 17.40866761,
                        "remaining_time": 16.92795489,
                        "test": [
                          2509181.892
                        ]
                      },
                      {
                        "learn": [
                          1713145.083
                        ],
                        "iteration": 507,
                        "passed_time": 17.43987357,
                        "remaining_time": 16.89058621,
                        "test": [
                          2509335.263
                        ]
                      },
                      {
                        "learn": [
                          1712262.213
                        ],
                        "iteration": 508,
                        "passed_time": 17.46589489,
                        "remaining_time": 16.84824045,
                        "test": [
                          2509419.249
                        ]
                      },
                      {
                        "learn": [
                          1711647.042
                        ],
                        "iteration": 509,
                        "passed_time": 17.50385837,
                        "remaining_time": 16.81743255,
                        "test": [
                          2509625.73
                        ]
                      },
                      {
                        "learn": [
                          1710623.845
                        ],
                        "iteration": 510,
                        "passed_time": 17.5311357,
                        "remaining_time": 16.77637056,
                        "test": [
                          2509776.424
                        ]
                      },
                      {
                        "learn": [
                          1709703.04
                        ],
                        "iteration": 511,
                        "passed_time": 17.56756552,
                        "remaining_time": 16.74408589,
                        "test": [
                          2509753.158
                        ]
                      },
                      {
                        "learn": [
                          1708685.458
                        ],
                        "iteration": 512,
                        "passed_time": 17.60196279,
                        "remaining_time": 16.70985552,
                        "test": [
                          2509406.022
                        ]
                      },
                      {
                        "learn": [
                          1707610.572
                        ],
                        "iteration": 513,
                        "passed_time": 17.63567138,
                        "remaining_time": 16.67497332,
                        "test": [
                          2509361.908
                        ]
                      },
                      {
                        "learn": [
                          1707126.357
                        ],
                        "iteration": 514,
                        "passed_time": 17.6757948,
                        "remaining_time": 16.64613685,
                        "test": [
                          2509339.558
                        ]
                      },
                      {
                        "learn": [
                          1706462.411
                        ],
                        "iteration": 515,
                        "passed_time": 17.71955041,
                        "remaining_time": 16.62066356,
                        "test": [
                          2509379.745
                        ]
                      },
                      {
                        "learn": [
                          1705513.933
                        ],
                        "iteration": 516,
                        "passed_time": 17.75982949,
                        "remaining_time": 16.59187165,
                        "test": [
                          2509024.005
                        ]
                      },
                      {
                        "learn": [
                          1704622.721
                        ],
                        "iteration": 517,
                        "passed_time": 17.82945217,
                        "remaining_time": 16.59033967,
                        "test": [
                          2508911.785
                        ]
                      },
                      {
                        "learn": [
                          1704018.952
                        ],
                        "iteration": 518,
                        "passed_time": 17.92498283,
                        "remaining_time": 16.61255634,
                        "test": [
                          2509299.982
                        ]
                      },
                      {
                        "learn": [
                          1703859.374
                        ],
                        "iteration": 519,
                        "passed_time": 17.97879604,
                        "remaining_time": 16.59581173,
                        "test": [
                          2509375.212
                        ]
                      },
                      {
                        "learn": [
                          1703434.903
                        ],
                        "iteration": 520,
                        "passed_time": 18.05184617,
                        "remaining_time": 16.59661097,
                        "test": [
                          2509744.698
                        ]
                      },
                      {
                        "learn": [
                          1703031.113
                        ],
                        "iteration": 521,
                        "passed_time": 18.12479975,
                        "remaining_time": 16.59703885,
                        "test": [
                          2509749.073
                        ]
                      },
                      {
                        "learn": [
                          1701871.924
                        ],
                        "iteration": 522,
                        "passed_time": 18.18028539,
                        "remaining_time": 16.58125455,
                        "test": [
                          2509839.713
                        ]
                      },
                      {
                        "learn": [
                          1701647.174
                        ],
                        "iteration": 523,
                        "passed_time": 18.22926325,
                        "remaining_time": 16.55940707,
                        "test": [
                          2510001.367
                        ]
                      },
                      {
                        "learn": [
                          1701025.438
                        ],
                        "iteration": 524,
                        "passed_time": 18.26822464,
                        "remaining_time": 16.52839372,
                        "test": [
                          2510180.091
                        ]
                      },
                      {
                        "learn": [
                          1699974.352
                        ],
                        "iteration": 525,
                        "passed_time": 18.2963746,
                        "remaining_time": 16.48760753,
                        "test": [
                          2511943.124
                        ]
                      },
                      {
                        "learn": [
                          1698677.188
                        ],
                        "iteration": 526,
                        "passed_time": 18.33353485,
                        "remaining_time": 16.45495633,
                        "test": [
                          2511587.952
                        ]
                      },
                      {
                        "learn": [
                          1698521.278
                        ],
                        "iteration": 527,
                        "passed_time": 18.36554991,
                        "remaining_time": 16.41768856,
                        "test": [
                          2511830.455
                        ]
                      },
                      {
                        "learn": [
                          1697804.391
                        ],
                        "iteration": 528,
                        "passed_time": 18.40955596,
                        "remaining_time": 16.39111693,
                        "test": [
                          2511594.84
                        ]
                      },
                      {
                        "learn": [
                          1696986.475
                        ],
                        "iteration": 529,
                        "passed_time": 18.4521889,
                        "remaining_time": 16.36326186,
                        "test": [
                          2511224.367
                        ]
                      },
                      {
                        "learn": [
                          1696124.98
                        ],
                        "iteration": 530,
                        "passed_time": 18.5051929,
                        "remaining_time": 16.34451125,
                        "test": [
                          2511196.058
                        ]
                      },
                      {
                        "learn": [
                          1695316.583
                        ],
                        "iteration": 531,
                        "passed_time": 18.56550403,
                        "remaining_time": 16.33205993,
                        "test": [
                          2511372.1
                        ]
                      },
                      {
                        "learn": [
                          1694125.375
                        ],
                        "iteration": 532,
                        "passed_time": 18.59727054,
                        "remaining_time": 16.29441903,
                        "test": [
                          2512099.293
                        ]
                      },
                      {
                        "learn": [
                          1693704.091
                        ],
                        "iteration": 533,
                        "passed_time": 18.62840875,
                        "remaining_time": 16.25625183,
                        "test": [
                          2512187.464
                        ]
                      },
                      {
                        "learn": [
                          1692647.738
                        ],
                        "iteration": 534,
                        "passed_time": 18.67905408,
                        "remaining_time": 16.23506569,
                        "test": [
                          2512037.83
                        ]
                      },
                      {
                        "learn": [
                          1692203.269
                        ],
                        "iteration": 535,
                        "passed_time": 18.73497377,
                        "remaining_time": 16.2183355,
                        "test": [
                          2511851.931
                        ]
                      },
                      {
                        "learn": [
                          1691175.242
                        ],
                        "iteration": 536,
                        "passed_time": 18.79353601,
                        "remaining_time": 16.20373775,
                        "test": [
                          2512411.34
                        ]
                      },
                      {
                        "learn": [
                          1690291.172
                        ],
                        "iteration": 537,
                        "passed_time": 18.84254938,
                        "remaining_time": 16.1807766,
                        "test": [
                          2512404.903
                        ]
                      },
                      {
                        "learn": [
                          1689506.907
                        ],
                        "iteration": 538,
                        "passed_time": 18.90403292,
                        "remaining_time": 16.16838437,
                        "test": [
                          2512717.833
                        ]
                      },
                      {
                        "learn": [
                          1688994.034
                        ],
                        "iteration": 539,
                        "passed_time": 18.97391444,
                        "remaining_time": 16.16296415,
                        "test": [
                          2512256.167
                        ]
                      },
                      {
                        "learn": [
                          1687833.243
                        ],
                        "iteration": 540,
                        "passed_time": 19.01470499,
                        "remaining_time": 16.13262401,
                        "test": [
                          2512078.095
                        ]
                      },
                      {
                        "learn": [
                          1687253.87
                        ],
                        "iteration": 541,
                        "passed_time": 19.06163472,
                        "remaining_time": 16.10743303,
                        "test": [
                          2512117.389
                        ]
                      },
                      {
                        "learn": [
                          1686387.418
                        ],
                        "iteration": 542,
                        "passed_time": 19.11815487,
                        "remaining_time": 16.09023347,
                        "test": [
                          2512369.083
                        ]
                      },
                      {
                        "learn": [
                          1686018.439
                        ],
                        "iteration": 543,
                        "passed_time": 19.1670814,
                        "remaining_time": 16.06652412,
                        "test": [
                          2512440.841
                        ]
                      },
                      {
                        "learn": [
                          1685394.532
                        ],
                        "iteration": 544,
                        "passed_time": 19.21929703,
                        "remaining_time": 16.04546816,
                        "test": [
                          2512423.931
                        ]
                      },
                      {
                        "learn": [
                          1684616.773
                        ],
                        "iteration": 545,
                        "passed_time": 19.27916291,
                        "remaining_time": 16.03065927,
                        "test": [
                          2512619.753
                        ]
                      },
                      {
                        "learn": [
                          1683674.308
                        ],
                        "iteration": 546,
                        "passed_time": 19.33313997,
                        "remaining_time": 16.01080879,
                        "test": [
                          2512539.591
                        ]
                      },
                      {
                        "learn": [
                          1682600.076
                        ],
                        "iteration": 547,
                        "passed_time": 19.36965288,
                        "remaining_time": 15.97642901,
                        "test": [
                          2512881.428
                        ]
                      },
                      {
                        "learn": [
                          1681309.407
                        ],
                        "iteration": 548,
                        "passed_time": 19.42163655,
                        "remaining_time": 15.95475061,
                        "test": [
                          2512616.33
                        ]
                      },
                      {
                        "learn": [
                          1680725.027
                        ],
                        "iteration": 549,
                        "passed_time": 19.45500906,
                        "remaining_time": 15.91773469,
                        "test": [
                          2512498.969
                        ]
                      },
                      {
                        "learn": [
                          1679990.596
                        ],
                        "iteration": 550,
                        "passed_time": 19.48322948,
                        "remaining_time": 15.87653364,
                        "test": [
                          2512475.067
                        ]
                      },
                      {
                        "learn": [
                          1679062.409
                        ],
                        "iteration": 551,
                        "passed_time": 19.53836567,
                        "remaining_time": 15.85722431,
                        "test": [
                          2512023.008
                        ]
                      },
                      {
                        "learn": [
                          1678343.05
                        ],
                        "iteration": 552,
                        "passed_time": 19.60115916,
                        "remaining_time": 15.84397495,
                        "test": [
                          2511278.233
                        ]
                      },
                      {
                        "learn": [
                          1677426.424
                        ],
                        "iteration": 553,
                        "passed_time": 19.66559083,
                        "remaining_time": 15.83186554,
                        "test": [
                          2511158.879
                        ]
                      },
                      {
                        "learn": [
                          1676934.837
                        ],
                        "iteration": 554,
                        "passed_time": 19.70907599,
                        "remaining_time": 15.80277264,
                        "test": [
                          2511259.498
                        ]
                      },
                      {
                        "learn": [
                          1676375.73
                        ],
                        "iteration": 555,
                        "passed_time": 19.75826557,
                        "remaining_time": 15.7781833,
                        "test": [
                          2511265.989
                        ]
                      },
                      {
                        "learn": [
                          1675431.96
                        ],
                        "iteration": 556,
                        "passed_time": 19.79678536,
                        "remaining_time": 15.74501959,
                        "test": [
                          2511227.948
                        ]
                      },
                      {
                        "learn": [
                          1674777.653
                        ],
                        "iteration": 557,
                        "passed_time": 19.84342936,
                        "remaining_time": 15.718272,
                        "test": [
                          2511602.617
                        ]
                      },
                      {
                        "learn": [
                          1673779.575
                        ],
                        "iteration": 558,
                        "passed_time": 19.88702017,
                        "remaining_time": 15.68904453,
                        "test": [
                          2511521.211
                        ]
                      },
                      {
                        "learn": [
                          1672915.451
                        ],
                        "iteration": 559,
                        "passed_time": 19.94118635,
                        "remaining_time": 15.66807499,
                        "test": [
                          2511521.94
                        ]
                      },
                      {
                        "learn": [
                          1671936.796
                        ],
                        "iteration": 560,
                        "passed_time": 20.00202234,
                        "remaining_time": 15.65220643,
                        "test": [
                          2512061.704
                        ]
                      },
                      {
                        "learn": [
                          1671042.438
                        ],
                        "iteration": 561,
                        "passed_time": 20.06408554,
                        "remaining_time": 15.63713428,
                        "test": [
                          2512022.584
                        ]
                      },
                      {
                        "learn": [
                          1670132.975
                        ],
                        "iteration": 562,
                        "passed_time": 20.12495624,
                        "remaining_time": 15.62096959,
                        "test": [
                          2511381.42
                        ]
                      },
                      {
                        "learn": [
                          1669040.045
                        ],
                        "iteration": 563,
                        "passed_time": 20.16959228,
                        "remaining_time": 15.59209616,
                        "test": [
                          2511282.641
                        ]
                      },
                      {
                        "learn": [
                          1667974.849
                        ],
                        "iteration": 564,
                        "passed_time": 20.21200901,
                        "remaining_time": 15.56145826,
                        "test": [
                          2511423.578
                        ]
                      },
                      {
                        "learn": [
                          1667207.1
                        ],
                        "iteration": 565,
                        "passed_time": 20.23103141,
                        "remaining_time": 15.51284034,
                        "test": [
                          2511755.728
                        ]
                      },
                      {
                        "learn": [
                          1666767.045
                        ],
                        "iteration": 566,
                        "passed_time": 20.2488824,
                        "remaining_time": 15.46343224,
                        "test": [
                          2511440.378
                        ]
                      },
                      {
                        "learn": [
                          1666044.788
                        ],
                        "iteration": 567,
                        "passed_time": 20.2952439,
                        "remaining_time": 15.4358193,
                        "test": [
                          2511737.227
                        ]
                      },
                      {
                        "learn": [
                          1665226.5
                        ],
                        "iteration": 568,
                        "passed_time": 20.34834254,
                        "remaining_time": 15.41324364,
                        "test": [
                          2511271.815
                        ]
                      },
                      {
                        "learn": [
                          1664615.03
                        ],
                        "iteration": 569,
                        "passed_time": 20.37864645,
                        "remaining_time": 15.37336486,
                        "test": [
                          2511409.982
                        ]
                      },
                      {
                        "learn": [
                          1663626.495
                        ],
                        "iteration": 570,
                        "passed_time": 20.4404143,
                        "remaining_time": 15.35715891,
                        "test": [
                          2511322.748
                        ]
                      },
                      {
                        "learn": [
                          1662304.541
                        ],
                        "iteration": 571,
                        "passed_time": 20.49795802,
                        "remaining_time": 15.33763293,
                        "test": [
                          2511368.214
                        ]
                      },
                      {
                        "learn": [
                          1661870.972
                        ],
                        "iteration": 572,
                        "passed_time": 20.54215801,
                        "remaining_time": 15.30803049,
                        "test": [
                          2511974.329
                        ]
                      },
                      {
                        "learn": [
                          1661084.758
                        ],
                        "iteration": 573,
                        "passed_time": 20.58550268,
                        "remaining_time": 15.2777424,
                        "test": [
                          2511818.104
                        ]
                      },
                      {
                        "learn": [
                          1660749.949
                        ],
                        "iteration": 574,
                        "passed_time": 20.63287384,
                        "remaining_time": 15.25038501,
                        "test": [
                          2512118.489
                        ]
                      },
                      {
                        "learn": [
                          1660238.358
                        ],
                        "iteration": 575,
                        "passed_time": 20.66823969,
                        "remaining_time": 15.21412088,
                        "test": [
                          2512268.023
                        ]
                      },
                      {
                        "learn": [
                          1659190.731
                        ],
                        "iteration": 576,
                        "passed_time": 20.69557986,
                        "remaining_time": 15.17197622,
                        "test": [
                          2511942.056
                        ]
                      },
                      {
                        "learn": [
                          1658552.578
                        ],
                        "iteration": 577,
                        "passed_time": 20.73198846,
                        "remaining_time": 15.13650368,
                        "test": [
                          2512054.514
                        ]
                      },
                      {
                        "learn": [
                          1658082.792
                        ],
                        "iteration": 578,
                        "passed_time": 20.7606908,
                        "remaining_time": 15.09542457,
                        "test": [
                          2511914.053
                        ]
                      },
                      {
                        "learn": [
                          1657537.726
                        ],
                        "iteration": 579,
                        "passed_time": 20.78762162,
                        "remaining_time": 15.05310531,
                        "test": [
                          2512306.912
                        ]
                      },
                      {
                        "learn": [
                          1657040.456
                        ],
                        "iteration": 580,
                        "passed_time": 20.81468371,
                        "remaining_time": 15.01093369,
                        "test": [
                          2512656.862
                        ]
                      },
                      {
                        "learn": [
                          1656614.447
                        ],
                        "iteration": 581,
                        "passed_time": 20.84756089,
                        "remaining_time": 14.97299046,
                        "test": [
                          2512885.673
                        ]
                      },
                      {
                        "learn": [
                          1656198.006
                        ],
                        "iteration": 582,
                        "passed_time": 20.88076148,
                        "remaining_time": 14.93529595,
                        "test": [
                          2513069.883
                        ]
                      },
                      {
                        "learn": [
                          1655262.632
                        ],
                        "iteration": 583,
                        "passed_time": 20.93238777,
                        "remaining_time": 14.91074198,
                        "test": [
                          2513146.968
                        ]
                      },
                      {
                        "learn": [
                          1654880.456
                        ],
                        "iteration": 584,
                        "passed_time": 20.97317904,
                        "remaining_time": 14.87840906,
                        "test": [
                          2513140.475
                        ]
                      },
                      {
                        "learn": [
                          1653879.352
                        ],
                        "iteration": 585,
                        "passed_time": 21.0137952,
                        "remaining_time": 14.84592357,
                        "test": [
                          2513311.654
                        ]
                      },
                      {
                        "learn": [
                          1653072.457
                        ],
                        "iteration": 586,
                        "passed_time": 21.04797964,
                        "remaining_time": 14.80888516,
                        "test": [
                          2512883.843
                        ]
                      },
                      {
                        "learn": [
                          1652289.461
                        ],
                        "iteration": 587,
                        "passed_time": 21.10532048,
                        "remaining_time": 14.78808169,
                        "test": [
                          2513020.733
                        ]
                      },
                      {
                        "learn": [
                          1652072.663
                        ],
                        "iteration": 588,
                        "passed_time": 21.17090832,
                        "remaining_time": 14.77290886,
                        "test": [
                          2513341.079
                        ]
                      },
                      {
                        "learn": [
                          1651560.19
                        ],
                        "iteration": 589,
                        "passed_time": 21.22497003,
                        "remaining_time": 14.74955544,
                        "test": [
                          2513776.784
                        ]
                      },
                      {
                        "learn": [
                          1650886.34
                        ],
                        "iteration": 590,
                        "passed_time": 21.27808925,
                        "remaining_time": 14.72544586,
                        "test": [
                          2513367.387
                        ]
                      },
                      {
                        "learn": [
                          1650503.072
                        ],
                        "iteration": 591,
                        "passed_time": 21.312558,
                        "remaining_time": 14.68838457,
                        "test": [
                          2513158.645
                        ]
                      },
                      {
                        "learn": [
                          1649768.208
                        ],
                        "iteration": 592,
                        "passed_time": 21.34072246,
                        "remaining_time": 14.64700513,
                        "test": [
                          2513226.855
                        ]
                      },
                      {
                        "learn": [
                          1649272.317
                        ],
                        "iteration": 593,
                        "passed_time": 21.36635109,
                        "remaining_time": 14.60393694,
                        "test": [
                          2513160.42
                        ]
                      },
                      {
                        "learn": [
                          1648442.035
                        ],
                        "iteration": 594,
                        "passed_time": 21.41019863,
                        "remaining_time": 14.57332848,
                        "test": [
                          2513267.805
                        ]
                      },
                      {
                        "learn": [
                          1647437.802
                        ],
                        "iteration": 595,
                        "passed_time": 21.44439715,
                        "remaining_time": 14.53613498,
                        "test": [
                          2513222.5
                        ]
                      },
                      {
                        "learn": [
                          1646982.358
                        ],
                        "iteration": 596,
                        "passed_time": 21.47743382,
                        "remaining_time": 14.49816722,
                        "test": [
                          2512863.513
                        ]
                      },
                      {
                        "learn": [
                          1646674
                        ],
                        "iteration": 597,
                        "passed_time": 21.50454278,
                        "remaining_time": 14.4562311,
                        "test": [
                          2512768.344
                        ]
                      },
                      {
                        "learn": [
                          1646109.41
                        ],
                        "iteration": 598,
                        "passed_time": 21.54231668,
                        "remaining_time": 14.42148412,
                        "test": [
                          2513411.137
                        ]
                      },
                      {
                        "learn": [
                          1645514.414
                        ],
                        "iteration": 599,
                        "passed_time": 21.58259613,
                        "remaining_time": 14.38839742,
                        "test": [
                          2513463.446
                        ]
                      },
                      {
                        "learn": [
                          1644722.411
                        ],
                        "iteration": 600,
                        "passed_time": 21.64279809,
                        "remaining_time": 14.36851321,
                        "test": [
                          2513478.657
                        ]
                      },
                      {
                        "learn": [
                          1644227.379
                        ],
                        "iteration": 601,
                        "passed_time": 21.69401556,
                        "remaining_time": 14.34255514,
                        "test": [
                          2513693.113
                        ]
                      },
                      {
                        "learn": [
                          1643740.655
                        ],
                        "iteration": 602,
                        "passed_time": 21.74291284,
                        "remaining_time": 14.31498573,
                        "test": [
                          2513356.198
                        ]
                      },
                      {
                        "learn": [
                          1643390.711
                        ],
                        "iteration": 603,
                        "passed_time": 21.78990037,
                        "remaining_time": 14.28609362,
                        "test": [
                          2513733.757
                        ]
                      },
                      {
                        "learn": [
                          1643033.335
                        ],
                        "iteration": 604,
                        "passed_time": 21.85067796,
                        "remaining_time": 14.26614512,
                        "test": [
                          2513462.141
                        ]
                      },
                      {
                        "learn": [
                          1642339.677
                        ],
                        "iteration": 605,
                        "passed_time": 21.94835307,
                        "remaining_time": 14.27005134,
                        "test": [
                          2513366.502
                        ]
                      },
                      {
                        "learn": [
                          1641121.931
                        ],
                        "iteration": 606,
                        "passed_time": 22.0118531,
                        "remaining_time": 14.25149632,
                        "test": [
                          2513234.905
                        ]
                      },
                      {
                        "learn": [
                          1640361.317
                        ],
                        "iteration": 607,
                        "passed_time": 22.03248113,
                        "remaining_time": 14.20515231,
                        "test": [
                          2513327.908
                        ]
                      },
                      {
                        "learn": [
                          1640096.953
                        ],
                        "iteration": 608,
                        "passed_time": 22.04973935,
                        "remaining_time": 14.15672921,
                        "test": [
                          2513243.076
                        ]
                      },
                      {
                        "learn": [
                          1639870.87
                        ],
                        "iteration": 609,
                        "passed_time": 22.08271486,
                        "remaining_time": 14.11845704,
                        "test": [
                          2513079.746
                        ]
                      },
                      {
                        "learn": [
                          1638628.251
                        ],
                        "iteration": 610,
                        "passed_time": 22.15334406,
                        "remaining_time": 14.10417486,
                        "test": [
                          2513465.303
                        ]
                      },
                      {
                        "learn": [
                          1637891.98
                        ],
                        "iteration": 611,
                        "passed_time": 22.26758875,
                        "remaining_time": 14.11736019,
                        "test": [
                          2513327.272
                        ]
                      },
                      {
                        "learn": [
                          1637563.632
                        ],
                        "iteration": 612,
                        "passed_time": 22.32525611,
                        "remaining_time": 14.09441128,
                        "test": [
                          2513482.364
                        ]
                      },
                      {
                        "learn": [
                          1637092.796
                        ],
                        "iteration": 613,
                        "passed_time": 22.40546664,
                        "remaining_time": 14.08552138,
                        "test": [
                          2514095.661
                        ]
                      },
                      {
                        "learn": [
                          1636328.785
                        ],
                        "iteration": 614,
                        "passed_time": 22.46172069,
                        "remaining_time": 14.06140238,
                        "test": [
                          2513556.889
                        ]
                      },
                      {
                        "learn": [
                          1636085.578
                        ],
                        "iteration": 615,
                        "passed_time": 22.51877404,
                        "remaining_time": 14.03767732,
                        "test": [
                          2513496.036
                        ]
                      },
                      {
                        "learn": [
                          1635016.07
                        ],
                        "iteration": 616,
                        "passed_time": 22.57950703,
                        "remaining_time": 14.01612835,
                        "test": [
                          2513616.875
                        ]
                      },
                      {
                        "learn": [
                          1634470.156
                        ],
                        "iteration": 617,
                        "passed_time": 22.63224425,
                        "remaining_time": 13.9895102,
                        "test": [
                          2513537.61
                        ]
                      },
                      {
                        "learn": [
                          1633985.465
                        ],
                        "iteration": 618,
                        "passed_time": 22.67739278,
                        "remaining_time": 13.95813675,
                        "test": [
                          2513454.681
                        ]
                      },
                      {
                        "learn": [
                          1633065.669
                        ],
                        "iteration": 619,
                        "passed_time": 22.74995055,
                        "remaining_time": 13.94351808,
                        "test": [
                          2513542.177
                        ]
                      },
                      {
                        "learn": [
                          1632421.522
                        ],
                        "iteration": 620,
                        "passed_time": 22.8118508,
                        "remaining_time": 13.92220846,
                        "test": [
                          2513488.37
                        ]
                      },
                      {
                        "learn": [
                          1631475.159
                        ],
                        "iteration": 621,
                        "passed_time": 22.88745219,
                        "remaining_time": 13.90909474,
                        "test": [
                          2514303.28
                        ]
                      },
                      {
                        "learn": [
                          1631082.129
                        ],
                        "iteration": 622,
                        "passed_time": 22.92364304,
                        "remaining_time": 13.87193166,
                        "test": [
                          2514147.136
                        ]
                      },
                      {
                        "learn": [
                          1630417.446
                        ],
                        "iteration": 623,
                        "passed_time": 22.98238364,
                        "remaining_time": 13.84835938,
                        "test": [
                          2514034.067
                        ]
                      },
                      {
                        "learn": [
                          1630074.826
                        ],
                        "iteration": 624,
                        "passed_time": 23.03046116,
                        "remaining_time": 13.81827669,
                        "test": [
                          2513907.919
                        ]
                      },
                      {
                        "learn": [
                          1629277.874
                        ],
                        "iteration": 625,
                        "passed_time": 23.10511759,
                        "remaining_time": 13.80401594,
                        "test": [
                          2513964.131
                        ]
                      },
                      {
                        "learn": [
                          1628286.13
                        ],
                        "iteration": 626,
                        "passed_time": 23.18812089,
                        "remaining_time": 13.79452806,
                        "test": [
                          2513966.57
                        ]
                      },
                      {
                        "learn": [
                          1627690.58
                        ],
                        "iteration": 627,
                        "passed_time": 23.25434475,
                        "remaining_time": 13.77486664,
                        "test": [
                          2513902.454
                        ]
                      },
                      {
                        "learn": [
                          1626798.278
                        ],
                        "iteration": 628,
                        "passed_time": 23.31190587,
                        "remaining_time": 13.74994766,
                        "test": [
                          2513882.294
                        ]
                      },
                      {
                        "learn": [
                          1626140.006
                        ],
                        "iteration": 629,
                        "passed_time": 23.44598649,
                        "remaining_time": 13.76986508,
                        "test": [
                          2513730.996
                        ]
                      },
                      {
                        "learn": [
                          1625174.082
                        ],
                        "iteration": 630,
                        "passed_time": 23.52988318,
                        "remaining_time": 13.75994753,
                        "test": [
                          2513983.928
                        ]
                      },
                      {
                        "learn": [
                          1624360.338
                        ],
                        "iteration": 631,
                        "passed_time": 23.62901336,
                        "remaining_time": 13.75866601,
                        "test": [
                          2514041.161
                        ]
                      },
                      {
                        "learn": [
                          1623371.927
                        ],
                        "iteration": 632,
                        "passed_time": 23.71445588,
                        "remaining_time": 13.74913951,
                        "test": [
                          2514299.95
                        ]
                      },
                      {
                        "learn": [
                          1622299.237
                        ],
                        "iteration": 633,
                        "passed_time": 23.80092757,
                        "remaining_time": 13.73996765,
                        "test": [
                          2514452.857
                        ]
                      },
                      {
                        "learn": [
                          1620880.63
                        ],
                        "iteration": 634,
                        "passed_time": 23.8909942,
                        "remaining_time": 13.73261871,
                        "test": [
                          2514062.637
                        ]
                      },
                      {
                        "learn": [
                          1620619.723
                        ],
                        "iteration": 635,
                        "passed_time": 24.00776301,
                        "remaining_time": 13.74029204,
                        "test": [
                          2514004.863
                        ]
                      },
                      {
                        "learn": [
                          1619542.278
                        ],
                        "iteration": 636,
                        "passed_time": 24.1175042,
                        "remaining_time": 13.7435699,
                        "test": [
                          2513924.315
                        ]
                      },
                      {
                        "learn": [
                          1618673.127
                        ],
                        "iteration": 637,
                        "passed_time": 24.20933684,
                        "remaining_time": 13.73633219,
                        "test": [
                          2513922.663
                        ]
                      },
                      {
                        "learn": [
                          1617831.241
                        ],
                        "iteration": 638,
                        "passed_time": 24.2962728,
                        "remaining_time": 13.72606335,
                        "test": [
                          2514115.718
                        ]
                      },
                      {
                        "learn": [
                          1617361.122
                        ],
                        "iteration": 639,
                        "passed_time": 24.37956581,
                        "remaining_time": 13.71350577,
                        "test": [
                          2514033.069
                        ]
                      },
                      {
                        "learn": [
                          1616426.268
                        ],
                        "iteration": 640,
                        "passed_time": 24.45752286,
                        "remaining_time": 13.69773901,
                        "test": [
                          2513915.967
                        ]
                      },
                      {
                        "learn": [
                          1615505.894
                        ],
                        "iteration": 641,
                        "passed_time": 24.52827152,
                        "remaining_time": 13.67775888,
                        "test": [
                          2514169.6
                        ]
                      },
                      {
                        "learn": [
                          1614483.268
                        ],
                        "iteration": 642,
                        "passed_time": 24.62588266,
                        "remaining_time": 13.67253517,
                        "test": [
                          2514378.526
                        ]
                      },
                      {
                        "learn": [
                          1614164.505
                        ],
                        "iteration": 643,
                        "passed_time": 24.72206535,
                        "remaining_time": 13.66623488,
                        "test": [
                          2514377.968
                        ]
                      },
                      {
                        "learn": [
                          1613778.524
                        ],
                        "iteration": 644,
                        "passed_time": 24.81598073,
                        "remaining_time": 13.658408,
                        "test": [
                          2514414.082
                        ]
                      },
                      {
                        "learn": [
                          1613303.524
                        ],
                        "iteration": 645,
                        "passed_time": 24.91262666,
                        "remaining_time": 13.6518109,
                        "test": [
                          2514396.828
                        ]
                      },
                      {
                        "learn": [
                          1612307.925
                        ],
                        "iteration": 646,
                        "passed_time": 25.00564107,
                        "remaining_time": 13.64295409,
                        "test": [
                          2514054.131
                        ]
                      },
                      {
                        "learn": [
                          1611451.4
                        ],
                        "iteration": 647,
                        "passed_time": 25.06341361,
                        "remaining_time": 13.61469381,
                        "test": [
                          2514009.559
                        ]
                      },
                      {
                        "learn": [
                          1610918.059
                        ],
                        "iteration": 648,
                        "passed_time": 25.1664973,
                        "remaining_time": 13.61084831,
                        "test": [
                          2513967.398
                        ]
                      },
                      {
                        "learn": [
                          1610115.388
                        ],
                        "iteration": 649,
                        "passed_time": 25.21830254,
                        "remaining_time": 13.57908598,
                        "test": [
                          2514217.546
                        ]
                      },
                      {
                        "learn": [
                          1609662.455
                        ],
                        "iteration": 650,
                        "passed_time": 25.2768762,
                        "remaining_time": 13.55089062,
                        "test": [
                          2513723.673
                        ]
                      },
                      {
                        "learn": [
                          1609065.905
                        ],
                        "iteration": 651,
                        "passed_time": 25.35637702,
                        "remaining_time": 13.53377178,
                        "test": [
                          2513819.031
                        ]
                      },
                      {
                        "learn": [
                          1608106.416
                        ],
                        "iteration": 652,
                        "passed_time": 25.40780571,
                        "remaining_time": 13.50154454,
                        "test": [
                          2513763.402
                        ]
                      },
                      {
                        "learn": [
                          1607598.624
                        ],
                        "iteration": 653,
                        "passed_time": 25.45375031,
                        "remaining_time": 13.4663572,
                        "test": [
                          2513800.683
                        ]
                      },
                      {
                        "learn": [
                          1606909.632
                        ],
                        "iteration": 654,
                        "passed_time": 25.50783537,
                        "remaining_time": 13.43542474,
                        "test": [
                          2513573.944
                        ]
                      },
                      {
                        "learn": [
                          1606402.619
                        ],
                        "iteration": 655,
                        "passed_time": 25.56799764,
                        "remaining_time": 13.40760852,
                        "test": [
                          2513509.67
                        ]
                      },
                      {
                        "learn": [
                          1605680.032
                        ],
                        "iteration": 656,
                        "passed_time": 25.63898361,
                        "remaining_time": 13.38534456,
                        "test": [
                          2513803.409
                        ]
                      },
                      {
                        "learn": [
                          1604999.74
                        ],
                        "iteration": 657,
                        "passed_time": 25.71036367,
                        "remaining_time": 13.36313735,
                        "test": [
                          2513802.634
                        ]
                      },
                      {
                        "learn": [
                          1604148.756
                        ],
                        "iteration": 658,
                        "passed_time": 25.82523426,
                        "remaining_time": 13.3632851,
                        "test": [
                          2513977.614
                        ]
                      },
                      {
                        "learn": [
                          1603652.293
                        ],
                        "iteration": 659,
                        "passed_time": 25.91529954,
                        "remaining_time": 13.35030582,
                        "test": [
                          2513988.15
                        ]
                      },
                      {
                        "learn": [
                          1602752.1
                        ],
                        "iteration": 660,
                        "passed_time": 25.98684314,
                        "remaining_time": 13.32759429,
                        "test": [
                          2514084.234
                        ]
                      },
                      {
                        "learn": [
                          1601874.643
                        ],
                        "iteration": 661,
                        "passed_time": 26.0618251,
                        "remaining_time": 13.30649076,
                        "test": [
                          2514130.362
                        ]
                      },
                      {
                        "learn": [
                          1601430.983
                        ],
                        "iteration": 662,
                        "passed_time": 26.13993554,
                        "remaining_time": 13.2868149,
                        "test": [
                          2514626.28
                        ]
                      },
                      {
                        "learn": [
                          1600336.05
                        ],
                        "iteration": 663,
                        "passed_time": 26.21276794,
                        "remaining_time": 13.26429221,
                        "test": [
                          2514442.656
                        ]
                      },
                      {
                        "learn": [
                          1599945.726
                        ],
                        "iteration": 664,
                        "passed_time": 26.28233898,
                        "remaining_time": 13.23997528,
                        "test": [
                          2514702.099
                        ]
                      },
                      {
                        "learn": [
                          1599365.8
                        ],
                        "iteration": 665,
                        "passed_time": 26.35611021,
                        "remaining_time": 13.21762884,
                        "test": [
                          2514629.111
                        ]
                      },
                      {
                        "learn": [
                          1598360.136
                        ],
                        "iteration": 666,
                        "passed_time": 26.42040337,
                        "remaining_time": 13.19039628,
                        "test": [
                          2514502.899
                        ]
                      },
                      {
                        "learn": [
                          1597663.432
                        ],
                        "iteration": 667,
                        "passed_time": 26.49585217,
                        "remaining_time": 13.16859719,
                        "test": [
                          2514528.41
                        ]
                      },
                      {
                        "learn": [
                          1597077.687
                        ],
                        "iteration": 668,
                        "passed_time": 26.56480334,
                        "remaining_time": 13.14342288,
                        "test": [
                          2514234.829
                        ]
                      },
                      {
                        "learn": [
                          1596452.753
                        ],
                        "iteration": 669,
                        "passed_time": 26.61480655,
                        "remaining_time": 13.10878532,
                        "test": [
                          2514319.01
                        ]
                      },
                      {
                        "learn": [
                          1595834.037
                        ],
                        "iteration": 670,
                        "passed_time": 26.65216319,
                        "remaining_time": 13.06790118,
                        "test": [
                          2514306.071
                        ]
                      },
                      {
                        "learn": [
                          1595238.009
                        ],
                        "iteration": 671,
                        "passed_time": 26.71064539,
                        "remaining_time": 13.03733882,
                        "test": [
                          2514381.31
                        ]
                      },
                      {
                        "learn": [
                          1594787.784
                        ],
                        "iteration": 672,
                        "passed_time": 26.7786263,
                        "remaining_time": 13.01130877,
                        "test": [
                          2514508.553
                        ]
                      },
                      {
                        "learn": [
                          1594367.861
                        ],
                        "iteration": 673,
                        "passed_time": 26.86333412,
                        "remaining_time": 12.99324469,
                        "test": [
                          2514495.474
                        ]
                      },
                      {
                        "learn": [
                          1594056.482
                        ],
                        "iteration": 674,
                        "passed_time": 26.94397242,
                        "remaining_time": 12.97302376,
                        "test": [
                          2514545.088
                        ]
                      },
                      {
                        "learn": [
                          1593622.478
                        ],
                        "iteration": 675,
                        "passed_time": 26.98629828,
                        "remaining_time": 12.93426131,
                        "test": [
                          2514582.386
                        ]
                      },
                      {
                        "learn": [
                          1593111.151
                        ],
                        "iteration": 676,
                        "passed_time": 27.09133831,
                        "remaining_time": 12.92540956,
                        "test": [
                          2514780.574
                        ]
                      },
                      {
                        "learn": [
                          1592407.429
                        ],
                        "iteration": 677,
                        "passed_time": 27.1664816,
                        "remaining_time": 12.90207533,
                        "test": [
                          2514788.86
                        ]
                      },
                      {
                        "learn": [
                          1591589.101
                        ],
                        "iteration": 678,
                        "passed_time": 27.22078688,
                        "remaining_time": 12.86873724,
                        "test": [
                          2514832.321
                        ]
                      },
                      {
                        "learn": [
                          1590840.206
                        ],
                        "iteration": 679,
                        "passed_time": 27.27938392,
                        "remaining_time": 12.83735714,
                        "test": [
                          2515150.469
                        ]
                      },
                      {
                        "learn": [
                          1590475.331
                        ],
                        "iteration": 680,
                        "passed_time": 27.3328182,
                        "remaining_time": 12.80347871,
                        "test": [
                          2515194.561
                        ]
                      },
                      {
                        "learn": [
                          1590157.861
                        ],
                        "iteration": 681,
                        "passed_time": 27.37805004,
                        "remaining_time": 12.76571835,
                        "test": [
                          2515415.846
                        ]
                      },
                      {
                        "learn": [
                          1589811.813
                        ],
                        "iteration": 682,
                        "passed_time": 27.42549066,
                        "remaining_time": 12.72896126,
                        "test": [
                          2515128.712
                        ]
                      },
                      {
                        "learn": [
                          1588340.317
                        ],
                        "iteration": 683,
                        "passed_time": 27.48531649,
                        "remaining_time": 12.69789475,
                        "test": [
                          2514864.678
                        ]
                      },
                      {
                        "learn": [
                          1587562.84
                        ],
                        "iteration": 684,
                        "passed_time": 27.5373841,
                        "remaining_time": 12.66317663,
                        "test": [
                          2514838.979
                        ]
                      },
                      {
                        "learn": [
                          1587203.979
                        ],
                        "iteration": 685,
                        "passed_time": 27.5899996,
                        "remaining_time": 12.62865871,
                        "test": [
                          2514914.303
                        ]
                      },
                      {
                        "learn": [
                          1586830.807
                        ],
                        "iteration": 686,
                        "passed_time": 27.63412834,
                        "remaining_time": 12.5902215,
                        "test": [
                          2514783.405
                        ]
                      },
                      {
                        "learn": [
                          1585808.597
                        ],
                        "iteration": 687,
                        "passed_time": 27.67265941,
                        "remaining_time": 12.54922927,
                        "test": [
                          2514393.775
                        ]
                      },
                      {
                        "learn": [
                          1584881.532
                        ],
                        "iteration": 688,
                        "passed_time": 27.73242451,
                        "remaining_time": 12.51782877,
                        "test": [
                          2513972.385
                        ]
                      },
                      {
                        "learn": [
                          1584671.328
                        ],
                        "iteration": 689,
                        "passed_time": 27.77611983,
                        "remaining_time": 12.4791263,
                        "test": [
                          2513687.153
                        ]
                      },
                      {
                        "learn": [
                          1584022.064
                        ],
                        "iteration": 690,
                        "passed_time": 27.80401276,
                        "remaining_time": 12.4333429,
                        "test": [
                          2513918.137
                        ]
                      },
                      {
                        "learn": [
                          1583726.363
                        ],
                        "iteration": 691,
                        "passed_time": 27.83890038,
                        "remaining_time": 12.39072445,
                        "test": [
                          2513819.916
                        ]
                      },
                      {
                        "learn": [
                          1583361.037
                        ],
                        "iteration": 692,
                        "passed_time": 27.86888722,
                        "remaining_time": 12.34595725,
                        "test": [
                          2513946.419
                        ]
                      },
                      {
                        "learn": [
                          1582535.715
                        ],
                        "iteration": 693,
                        "passed_time": 27.9006293,
                        "remaining_time": 12.30200658,
                        "test": [
                          2514086.381
                        ]
                      },
                      {
                        "learn": [
                          1582398.851
                        ],
                        "iteration": 694,
                        "passed_time": 27.92956712,
                        "remaining_time": 12.25686039,
                        "test": [
                          2514194.473
                        ]
                      },
                      {
                        "learn": [
                          1581755.109
                        ],
                        "iteration": 695,
                        "passed_time": 27.97084462,
                        "remaining_time": 12.21715052,
                        "test": [
                          2514620.298
                        ]
                      },
                      {
                        "learn": [
                          1581140.24
                        ],
                        "iteration": 696,
                        "passed_time": 27.99636502,
                        "remaining_time": 12.17058623,
                        "test": [
                          2514608.836
                        ]
                      },
                      {
                        "learn": [
                          1579644.381
                        ],
                        "iteration": 697,
                        "passed_time": 28.02808725,
                        "remaining_time": 12.12676554,
                        "test": [
                          2514594.656
                        ]
                      },
                      {
                        "learn": [
                          1579098.437
                        ],
                        "iteration": 698,
                        "passed_time": 28.05714136,
                        "remaining_time": 12.08183054,
                        "test": [
                          2514532.887
                        ]
                      },
                      {
                        "learn": [
                          1578366.226
                        ],
                        "iteration": 699,
                        "passed_time": 28.0946072,
                        "remaining_time": 12.04054594,
                        "test": [
                          2514699.268
                        ]
                      },
                      {
                        "learn": [
                          1578111.453
                        ],
                        "iteration": 700,
                        "passed_time": 28.13552824,
                        "remaining_time": 12.000746,
                        "test": [
                          2514740.212
                        ]
                      },
                      {
                        "learn": [
                          1577386.448
                        ],
                        "iteration": 701,
                        "passed_time": 28.1972134,
                        "remaining_time": 11.96975726,
                        "test": [
                          2515025.166
                        ]
                      },
                      {
                        "learn": [
                          1576810.282
                        ],
                        "iteration": 702,
                        "passed_time": 28.27750685,
                        "remaining_time": 11.94654272,
                        "test": [
                          2514470.366
                        ]
                      },
                      {
                        "learn": [
                          1576236.552
                        ],
                        "iteration": 703,
                        "passed_time": 28.32823672,
                        "remaining_time": 11.91073589,
                        "test": [
                          2514554.318
                        ]
                      },
                      {
                        "learn": [
                          1575836.714
                        ],
                        "iteration": 704,
                        "passed_time": 28.40219145,
                        "remaining_time": 11.88460493,
                        "test": [
                          2514605.432
                        ]
                      },
                      {
                        "learn": [
                          1575168.454
                        ],
                        "iteration": 705,
                        "passed_time": 28.4632708,
                        "remaining_time": 11.85297679,
                        "test": [
                          2514659.464
                        ]
                      },
                      {
                        "learn": [
                          1574900.044
                        ],
                        "iteration": 706,
                        "passed_time": 28.52117051,
                        "remaining_time": 11.81994761,
                        "test": [
                          2514618.018
                        ]
                      },
                      {
                        "learn": [
                          1574786.559
                        ],
                        "iteration": 707,
                        "passed_time": 28.57071424,
                        "remaining_time": 11.78340192,
                        "test": [
                          2514840.432
                        ]
                      },
                      {
                        "learn": [
                          1574123.75
                        ],
                        "iteration": 708,
                        "passed_time": 28.61768667,
                        "remaining_time": 11.7457642,
                        "test": [
                          2514924.947
                        ]
                      },
                      {
                        "learn": [
                          1573426.832
                        ],
                        "iteration": 709,
                        "passed_time": 28.65754082,
                        "remaining_time": 11.70519273,
                        "test": [
                          2515055.738
                        ]
                      },
                      {
                        "learn": [
                          1573235.961
                        ],
                        "iteration": 710,
                        "passed_time": 28.69488506,
                        "remaining_time": 11.66360307,
                        "test": [
                          2514980.684
                        ]
                      },
                      {
                        "learn": [
                          1572842.392
                        ],
                        "iteration": 711,
                        "passed_time": 28.74782368,
                        "remaining_time": 11.62833317,
                        "test": [
                          2514794.685
                        ]
                      },
                      {
                        "learn": [
                          1572131.748
                        ],
                        "iteration": 712,
                        "passed_time": 28.82709108,
                        "remaining_time": 11.6036117,
                        "test": [
                          2515157.649
                        ]
                      },
                      {
                        "learn": [
                          1571310.006
                        ],
                        "iteration": 713,
                        "passed_time": 28.88280423,
                        "remaining_time": 11.56930253,
                        "test": [
                          2514716.456
                        ]
                      },
                      {
                        "learn": [
                          1570875.34
                        ],
                        "iteration": 714,
                        "passed_time": 28.93408802,
                        "remaining_time": 11.53316795,
                        "test": [
                          2514627.343
                        ]
                      },
                      {
                        "learn": [
                          1570235.539
                        ],
                        "iteration": 715,
                        "passed_time": 28.9622885,
                        "remaining_time": 11.4878351,
                        "test": [
                          2514477.166
                        ]
                      },
                      {
                        "learn": [
                          1569701.956
                        ],
                        "iteration": 716,
                        "passed_time": 29.00092248,
                        "remaining_time": 11.44666815,
                        "test": [
                          2514510.645
                        ]
                      },
                      {
                        "learn": [
                          1568975.337
                        ],
                        "iteration": 717,
                        "passed_time": 29.03451988,
                        "remaining_time": 11.40353009,
                        "test": [
                          2514597.491
                        ]
                      },
                      {
                        "learn": [
                          1568470.987
                        ],
                        "iteration": 718,
                        "passed_time": 29.06789737,
                        "remaining_time": 11.36033263,
                        "test": [
                          2514134.59
                        ]
                      },
                      {
                        "learn": [
                          1568347.268
                        ],
                        "iteration": 719,
                        "passed_time": 29.10004132,
                        "remaining_time": 11.31668273,
                        "test": [
                          2514046.037
                        ]
                      },
                      {
                        "learn": [
                          1567675.545
                        ],
                        "iteration": 720,
                        "passed_time": 29.12908238,
                        "remaining_time": 11.27186406,
                        "test": [
                          2514598.335
                        ]
                      },
                      {
                        "learn": [
                          1566702.338
                        ],
                        "iteration": 721,
                        "passed_time": 29.15401371,
                        "remaining_time": 11.22550667,
                        "test": [
                          2514773.201
                        ]
                      },
                      {
                        "learn": [
                          1566255.625
                        ],
                        "iteration": 722,
                        "passed_time": 29.16919719,
                        "remaining_time": 11.17547389,
                        "test": [
                          2514828.575
                        ]
                      },
                      {
                        "learn": [
                          1565888.701
                        ],
                        "iteration": 723,
                        "passed_time": 29.18623172,
                        "remaining_time": 11.12624303,
                        "test": [
                          2514981.959
                        ]
                      },
                      {
                        "learn": [
                          1565154.419
                        ],
                        "iteration": 724,
                        "passed_time": 29.20180026,
                        "remaining_time": 11.07654492,
                        "test": [
                          2514806.829
                        ]
                      },
                      {
                        "learn": [
                          1564861.494
                        ],
                        "iteration": 725,
                        "passed_time": 29.22160235,
                        "remaining_time": 11.02853863,
                        "test": [
                          2514596.298
                        ]
                      },
                      {
                        "learn": [
                          1564635.992
                        ],
                        "iteration": 726,
                        "passed_time": 29.23588504,
                        "remaining_time": 10.9785373,
                        "test": [
                          2514532.14
                        ]
                      },
                      {
                        "learn": [
                          1564144.55
                        ],
                        "iteration": 727,
                        "passed_time": 29.25555801,
                        "remaining_time": 10.93064805,
                        "test": [
                          2514517.254
                        ]
                      },
                      {
                        "learn": [
                          1563724.819
                        ],
                        "iteration": 728,
                        "passed_time": 29.32104122,
                        "remaining_time": 10.8998658,
                        "test": [
                          2514750.745
                        ]
                      },
                      {
                        "learn": [
                          1563153.666
                        ],
                        "iteration": 729,
                        "passed_time": 29.38554375,
                        "remaining_time": 10.86862577,
                        "test": [
                          2515007.959
                        ]
                      },
                      {
                        "learn": [
                          1561992.797
                        ],
                        "iteration": 730,
                        "passed_time": 29.44467945,
                        "remaining_time": 10.8353198,
                        "test": [
                          2515092.188
                        ]
                      },
                      {
                        "learn": [
                          1561540.026
                        ],
                        "iteration": 731,
                        "passed_time": 29.53521288,
                        "remaining_time": 10.8134386,
                        "test": [
                          2514823.318
                        ]
                      },
                      {
                        "learn": [
                          1561197.38
                        ],
                        "iteration": 732,
                        "passed_time": 29.57251294,
                        "remaining_time": 10.77197948,
                        "test": [
                          2515058.338
                        ]
                      },
                      {
                        "learn": [
                          1560410.685
                        ],
                        "iteration": 733,
                        "passed_time": 29.5849413,
                        "remaining_time": 10.72151824,
                        "test": [
                          2514852.684
                        ]
                      },
                      {
                        "learn": [
                          1559571.634
                        ],
                        "iteration": 734,
                        "passed_time": 29.59730114,
                        "remaining_time": 10.67113579,
                        "test": [
                          2514991.991
                        ]
                      },
                      {
                        "learn": [
                          1558871.646
                        ],
                        "iteration": 735,
                        "passed_time": 29.6098052,
                        "remaining_time": 10.62090839,
                        "test": [
                          2514871.994
                        ]
                      },
                      {
                        "learn": [
                          1558314.583
                        ],
                        "iteration": 736,
                        "passed_time": 29.62116976,
                        "remaining_time": 10.57037673,
                        "test": [
                          2514734.402
                        ]
                      },
                      {
                        "learn": [
                          1557848.27
                        ],
                        "iteration": 737,
                        "passed_time": 29.63360614,
                        "remaining_time": 10.52033172,
                        "test": [
                          2514723.106
                        ]
                      },
                      {
                        "learn": [
                          1557707.497
                        ],
                        "iteration": 738,
                        "passed_time": 29.64521171,
                        "remaining_time": 10.47009507,
                        "test": [
                          2514807.295
                        ]
                      },
                      {
                        "learn": [
                          1556843.104
                        ],
                        "iteration": 739,
                        "passed_time": 29.65723553,
                        "remaining_time": 10.42010978,
                        "test": [
                          2514690.836
                        ]
                      },
                      {
                        "learn": [
                          1556322.111
                        ],
                        "iteration": 740,
                        "passed_time": 29.67000812,
                        "remaining_time": 10.37048867,
                        "test": [
                          2514614.134
                        ]
                      },
                      {
                        "learn": [
                          1555674.446
                        ],
                        "iteration": 741,
                        "passed_time": 29.68193556,
                        "remaining_time": 10.32067301,
                        "test": [
                          2514541.896
                        ]
                      },
                      {
                        "learn": [
                          1554908.84
                        ],
                        "iteration": 742,
                        "passed_time": 29.6939947,
                        "remaining_time": 10.2710049,
                        "test": [
                          2514625.25
                        ]
                      },
                      {
                        "learn": [
                          1554398.618
                        ],
                        "iteration": 743,
                        "passed_time": 29.70636749,
                        "remaining_time": 10.2215458,
                        "test": [
                          2514543.26
                        ]
                      },
                      {
                        "learn": [
                          1553894.025
                        ],
                        "iteration": 744,
                        "passed_time": 29.71820354,
                        "remaining_time": 10.17200255,
                        "test": [
                          2514753.493
                        ]
                      },
                      {
                        "learn": [
                          1553645.367
                        ],
                        "iteration": 745,
                        "passed_time": 29.72988534,
                        "remaining_time": 10.12250788,
                        "test": [
                          2514688.343
                        ]
                      },
                      {
                        "learn": [
                          1552957.81
                        ],
                        "iteration": 746,
                        "passed_time": 29.74204397,
                        "remaining_time": 10.07327594,
                        "test": [
                          2514711.569
                        ]
                      },
                      {
                        "learn": [
                          1551721.457
                        ],
                        "iteration": 747,
                        "passed_time": 29.75476615,
                        "remaining_time": 10.02433298,
                        "test": [
                          2515120.001
                        ]
                      },
                      {
                        "learn": [
                          1551403.075
                        ],
                        "iteration": 748,
                        "passed_time": 29.77146916,
                        "remaining_time": 9.976820772,
                        "test": [
                          2515282.791
                        ]
                      },
                      {
                        "learn": [
                          1550616.314
                        ],
                        "iteration": 749,
                        "passed_time": 29.78550105,
                        "remaining_time": 9.928500349,
                        "test": [
                          2514595.936
                        ]
                      },
                      {
                        "learn": [
                          1549812.043
                        ],
                        "iteration": 750,
                        "passed_time": 29.79810188,
                        "remaining_time": 9.879796763,
                        "test": [
                          2514364.387
                        ]
                      },
                      {
                        "learn": [
                          1549219.804
                        ],
                        "iteration": 751,
                        "passed_time": 29.81003785,
                        "remaining_time": 9.830969929,
                        "test": [
                          2514366.611
                        ]
                      },
                      {
                        "learn": [
                          1548965.611
                        ],
                        "iteration": 752,
                        "passed_time": 29.82503853,
                        "remaining_time": 9.783246371,
                        "test": [
                          2514434.086
                        ]
                      },
                      {
                        "learn": [
                          1548575.323
                        ],
                        "iteration": 753,
                        "passed_time": 29.83683569,
                        "remaining_time": 9.734564428,
                        "test": [
                          2514417.814
                        ]
                      },
                      {
                        "learn": [
                          1547903.08
                        ],
                        "iteration": 754,
                        "passed_time": 29.84899924,
                        "remaining_time": 9.68609909,
                        "test": [
                          2514506.372
                        ]
                      },
                      {
                        "learn": [
                          1547043.58
                        ],
                        "iteration": 755,
                        "passed_time": 29.86152388,
                        "remaining_time": 9.637846331,
                        "test": [
                          2515202.026
                        ]
                      },
                      {
                        "learn": [
                          1546366.253
                        ],
                        "iteration": 756,
                        "passed_time": 29.87319143,
                        "remaining_time": 9.589412837,
                        "test": [
                          2515400.079
                        ]
                      },
                      {
                        "learn": [
                          1545642.861
                        ],
                        "iteration": 757,
                        "passed_time": 29.88559352,
                        "remaining_time": 9.541310861,
                        "test": [
                          2515709.644
                        ]
                      },
                      {
                        "learn": [
                          1544777.868
                        ],
                        "iteration": 758,
                        "passed_time": 29.89793136,
                        "remaining_time": 9.493282554,
                        "test": [
                          2515631.224
                        ]
                      },
                      {
                        "learn": [
                          1544109.537
                        ],
                        "iteration": 759,
                        "passed_time": 29.90995334,
                        "remaining_time": 9.445248424,
                        "test": [
                          2515451.268
                        ]
                      },
                      {
                        "learn": [
                          1543073.628
                        ],
                        "iteration": 760,
                        "passed_time": 29.92216028,
                        "remaining_time": 9.397367026,
                        "test": [
                          2515544.789
                        ]
                      },
                      {
                        "learn": [
                          1542368.664
                        ],
                        "iteration": 761,
                        "passed_time": 29.9341521,
                        "remaining_time": 9.349512072,
                        "test": [
                          2515564.4
                        ]
                      },
                      {
                        "learn": [
                          1541588.427
                        ],
                        "iteration": 762,
                        "passed_time": 29.94668923,
                        "remaining_time": 9.301920507,
                        "test": [
                          2515429.329
                        ]
                      },
                      {
                        "learn": [
                          1541273.734
                        ],
                        "iteration": 763,
                        "passed_time": 29.95835129,
                        "remaining_time": 9.254150397,
                        "test": [
                          2516029.884
                        ]
                      },
                      {
                        "learn": [
                          1540940.895
                        ],
                        "iteration": 764,
                        "passed_time": 29.97034054,
                        "remaining_time": 9.206575197,
                        "test": [
                          2516130.361
                        ]
                      },
                      {
                        "learn": [
                          1539897.482
                        ],
                        "iteration": 765,
                        "passed_time": 29.98453213,
                        "remaining_time": 9.159765689,
                        "test": [
                          2516670.768
                        ]
                      },
                      {
                        "learn": [
                          1539217.452
                        ],
                        "iteration": 766,
                        "passed_time": 29.99674874,
                        "remaining_time": 9.112441274,
                        "test": [
                          2517300.544
                        ]
                      },
                      {
                        "learn": [
                          1538810.157
                        ],
                        "iteration": 767,
                        "passed_time": 30.00862569,
                        "remaining_time": 9.065105678,
                        "test": [
                          2517143.9
                        ]
                      },
                      {
                        "learn": [
                          1538046.459
                        ],
                        "iteration": 768,
                        "passed_time": 30.02069611,
                        "remaining_time": 9.017920418,
                        "test": [
                          2517132.786
                        ]
                      },
                      {
                        "learn": [
                          1537676.857
                        ],
                        "iteration": 769,
                        "passed_time": 30.03240305,
                        "remaining_time": 8.970717795,
                        "test": [
                          2517450.562
                        ]
                      },
                      {
                        "learn": [
                          1536948.029
                        ],
                        "iteration": 770,
                        "passed_time": 30.04613583,
                        "remaining_time": 8.924208957,
                        "test": [
                          2517848.115
                        ]
                      },
                      {
                        "learn": [
                          1536397.241
                        ],
                        "iteration": 771,
                        "passed_time": 30.05867962,
                        "remaining_time": 8.877433879,
                        "test": [
                          2517580.293
                        ]
                      },
                      {
                        "learn": [
                          1535764.644
                        ],
                        "iteration": 772,
                        "passed_time": 30.07074126,
                        "remaining_time": 8.830605778,
                        "test": [
                          2517515.538
                        ]
                      },
                      {
                        "learn": [
                          1535392.032
                        ],
                        "iteration": 773,
                        "passed_time": 30.08247817,
                        "remaining_time": 8.783772695,
                        "test": [
                          2517338.405
                        ]
                      },
                      {
                        "learn": [
                          1535082.138
                        ],
                        "iteration": 774,
                        "passed_time": 30.0938161,
                        "remaining_time": 8.736914353,
                        "test": [
                          2517909.469
                        ]
                      },
                      {
                        "learn": [
                          1534161.357
                        ],
                        "iteration": 775,
                        "passed_time": 30.10628987,
                        "remaining_time": 8.690475426,
                        "test": [
                          2518035.381
                        ]
                      },
                      {
                        "learn": [
                          1533880.219
                        ],
                        "iteration": 776,
                        "passed_time": 30.11788035,
                        "remaining_time": 8.643870421,
                        "test": [
                          2518001.23
                        ]
                      },
                      {
                        "learn": [
                          1533477.638
                        ],
                        "iteration": 777,
                        "passed_time": 30.12993754,
                        "remaining_time": 8.597488605,
                        "test": [
                          2518064.177
                        ]
                      },
                      {
                        "learn": [
                          1532482.423
                        ],
                        "iteration": 778,
                        "passed_time": 30.14220969,
                        "remaining_time": 8.551255895,
                        "test": [
                          2518127.657
                        ]
                      },
                      {
                        "learn": [
                          1531969.72
                        ],
                        "iteration": 779,
                        "passed_time": 30.15399587,
                        "remaining_time": 8.504973195,
                        "test": [
                          2518290.195
                        ]
                      },
                      {
                        "learn": [
                          1531446.196
                        ],
                        "iteration": 780,
                        "passed_time": 30.16547337,
                        "remaining_time": 8.458692276,
                        "test": [
                          2518124.479
                        ]
                      },
                      {
                        "learn": [
                          1530894.847
                        ],
                        "iteration": 781,
                        "passed_time": 30.17754941,
                        "remaining_time": 8.412667228,
                        "test": [
                          2518257.144
                        ]
                      },
                      {
                        "learn": [
                          1530407.952
                        ],
                        "iteration": 782,
                        "passed_time": 30.19030996,
                        "remaining_time": 8.366918598,
                        "test": [
                          2518564.552
                        ]
                      },
                      {
                        "learn": [
                          1529572.785
                        ],
                        "iteration": 783,
                        "passed_time": 30.2022196,
                        "remaining_time": 8.321019684,
                        "test": [
                          2518627.052
                        ]
                      },
                      {
                        "learn": [
                          1528742.873
                        ],
                        "iteration": 784,
                        "passed_time": 30.2141342,
                        "remaining_time": 8.275208731,
                        "test": [
                          2518774.381
                        ]
                      },
                      {
                        "learn": [
                          1527975.822
                        ],
                        "iteration": 785,
                        "passed_time": 30.22719722,
                        "remaining_time": 8.229796697,
                        "test": [
                          2518872.195
                        ]
                      },
                      {
                        "learn": [
                          1527574.531
                        ],
                        "iteration": 786,
                        "passed_time": 30.23920544,
                        "remaining_time": 8.184181396,
                        "test": [
                          2519035.759
                        ]
                      },
                      {
                        "learn": [
                          1527259.24
                        ],
                        "iteration": 787,
                        "passed_time": 30.25095133,
                        "remaining_time": 8.138580814,
                        "test": [
                          2518730.497
                        ]
                      },
                      {
                        "learn": [
                          1526719.428
                        ],
                        "iteration": 788,
                        "passed_time": 30.26330663,
                        "remaining_time": 8.093229023,
                        "test": [
                          2518964.664
                        ]
                      },
                      {
                        "learn": [
                          1525731.931
                        ],
                        "iteration": 789,
                        "passed_time": 30.27600531,
                        "remaining_time": 8.048052044,
                        "test": [
                          2518641.898
                        ]
                      },
                      {
                        "learn": [
                          1525139.003
                        ],
                        "iteration": 790,
                        "passed_time": 30.28798327,
                        "remaining_time": 8.002766754,
                        "test": [
                          2518659.101
                        ]
                      },
                      {
                        "learn": [
                          1524790.522
                        ],
                        "iteration": 791,
                        "passed_time": 30.29947653,
                        "remaining_time": 7.957438281,
                        "test": [
                          2518648.985
                        ]
                      },
                      {
                        "learn": [
                          1523901.791
                        ],
                        "iteration": 792,
                        "passed_time": 30.31191098,
                        "remaining_time": 7.912440823,
                        "test": [
                          2518891.021
                        ]
                      },
                      {
                        "learn": [
                          1523201.075
                        ],
                        "iteration": 793,
                        "passed_time": 30.32366525,
                        "remaining_time": 7.867348918,
                        "test": [
                          2518897.593
                        ]
                      },
                      {
                        "learn": [
                          1522334.617
                        ],
                        "iteration": 794,
                        "passed_time": 30.33609624,
                        "remaining_time": 7.822515382,
                        "test": [
                          2518495.78
                        ]
                      },
                      {
                        "learn": [
                          1521795.592
                        ],
                        "iteration": 795,
                        "passed_time": 30.34830631,
                        "remaining_time": 7.777706641,
                        "test": [
                          2517992.559
                        ]
                      },
                      {
                        "learn": [
                          1521101.608
                        ],
                        "iteration": 796,
                        "passed_time": 30.36111051,
                        "remaining_time": 7.733131032,
                        "test": [
                          2517939.584
                        ]
                      },
                      {
                        "learn": [
                          1520249.972
                        ],
                        "iteration": 797,
                        "passed_time": 30.37828285,
                        "remaining_time": 7.689740771,
                        "test": [
                          2518033.912
                        ]
                      },
                      {
                        "learn": [
                          1519725.839
                        ],
                        "iteration": 798,
                        "passed_time": 30.39038583,
                        "remaining_time": 7.645140865,
                        "test": [
                          2518116.718
                        ]
                      },
                      {
                        "learn": [
                          1518899.636
                        ],
                        "iteration": 799,
                        "passed_time": 30.40663759,
                        "remaining_time": 7.601659397,
                        "test": [
                          2518262.789
                        ]
                      },
                      {
                        "learn": [
                          1518462.262
                        ],
                        "iteration": 800,
                        "passed_time": 30.4184971,
                        "remaining_time": 7.557154711,
                        "test": [
                          2518064.677
                        ]
                      },
                      {
                        "learn": [
                          1517900.942
                        ],
                        "iteration": 801,
                        "passed_time": 30.43107624,
                        "remaining_time": 7.512909097,
                        "test": [
                          2518034.881
                        ]
                      },
                      {
                        "learn": [
                          1517597.611
                        ],
                        "iteration": 802,
                        "passed_time": 30.44341598,
                        "remaining_time": 7.468683622,
                        "test": [
                          2517965.082
                        ]
                      },
                      {
                        "learn": [
                          1517306.221
                        ],
                        "iteration": 803,
                        "passed_time": 30.45523086,
                        "remaining_time": 7.424409514,
                        "test": [
                          2517961.249
                        ]
                      },
                      {
                        "learn": [
                          1516736.6
                        ],
                        "iteration": 804,
                        "passed_time": 30.46732548,
                        "remaining_time": 7.380283812,
                        "test": [
                          2517816.767
                        ]
                      },
                      {
                        "learn": [
                          1516484.688
                        ],
                        "iteration": 805,
                        "passed_time": 30.47954752,
                        "remaining_time": 7.336268262,
                        "test": [
                          2517667.264
                        ]
                      },
                      {
                        "learn": [
                          1515817.891
                        ],
                        "iteration": 806,
                        "passed_time": 30.49167522,
                        "remaining_time": 7.292308942,
                        "test": [
                          2517554.675
                        ]
                      },
                      {
                        "learn": [
                          1515078.646
                        ],
                        "iteration": 807,
                        "passed_time": 30.50399994,
                        "remaining_time": 7.248475234,
                        "test": [
                          2517387.538
                        ]
                      },
                      {
                        "learn": [
                          1514411.771
                        ],
                        "iteration": 808,
                        "passed_time": 30.66068305,
                        "remaining_time": 7.238801561,
                        "test": [
                          2517127.947
                        ]
                      },
                      {
                        "learn": [
                          1513784.782
                        ],
                        "iteration": 809,
                        "passed_time": 30.69032282,
                        "remaining_time": 7.198964611,
                        "test": [
                          2517497.557
                        ]
                      },
                      {
                        "learn": [
                          1513327.591
                        ],
                        "iteration": 810,
                        "passed_time": 30.7066141,
                        "remaining_time": 7.156042004,
                        "test": [
                          2517577.176
                        ]
                      },
                      {
                        "learn": [
                          1513050.799
                        ],
                        "iteration": 811,
                        "passed_time": 30.71779045,
                        "remaining_time": 7.112000744,
                        "test": [
                          2517676.267
                        ]
                      },
                      {
                        "learn": [
                          1512651.468
                        ],
                        "iteration": 812,
                        "passed_time": 30.72952126,
                        "remaining_time": 7.068167867,
                        "test": [
                          2517803.026
                        ]
                      },
                      {
                        "learn": [
                          1512547.074
                        ],
                        "iteration": 813,
                        "passed_time": 30.74089384,
                        "remaining_time": 7.024332007,
                        "test": [
                          2517699.186
                        ]
                      },
                      {
                        "learn": [
                          1511900.413
                        ],
                        "iteration": 814,
                        "passed_time": 30.75301815,
                        "remaining_time": 6.98074645,
                        "test": [
                          2517908.519
                        ]
                      },
                      {
                        "learn": [
                          1511476.729
                        ],
                        "iteration": 815,
                        "passed_time": 30.76570017,
                        "remaining_time": 6.937363763,
                        "test": [
                          2517876.812
                        ]
                      },
                      {
                        "learn": [
                          1510873.896
                        ],
                        "iteration": 816,
                        "passed_time": 30.77758973,
                        "remaining_time": 6.893878728,
                        "test": [
                          2517519.696
                        ]
                      },
                      {
                        "learn": [
                          1510490.495
                        ],
                        "iteration": 817,
                        "passed_time": 30.78953692,
                        "remaining_time": 6.850483764,
                        "test": [
                          2517648.781
                        ]
                      },
                      {
                        "learn": [
                          1509919.265
                        ],
                        "iteration": 818,
                        "passed_time": 30.80139084,
                        "remaining_time": 6.807144984,
                        "test": [
                          2517823.294
                        ]
                      },
                      {
                        "learn": [
                          1508921.756
                        ],
                        "iteration": 819,
                        "passed_time": 30.81839567,
                        "remaining_time": 6.765013684,
                        "test": [
                          2517729.134
                        ]
                      },
                      {
                        "learn": [
                          1508560.269
                        ],
                        "iteration": 820,
                        "passed_time": 30.83025406,
                        "remaining_time": 6.721821532,
                        "test": [
                          2517762.878
                        ]
                      },
                      {
                        "learn": [
                          1507850.507
                        ],
                        "iteration": 821,
                        "passed_time": 30.84262177,
                        "remaining_time": 6.678815906,
                        "test": [
                          2517695.954
                        ]
                      },
                      {
                        "learn": [
                          1507233.94
                        ],
                        "iteration": 822,
                        "passed_time": 30.85453967,
                        "remaining_time": 6.635787997,
                        "test": [
                          2517634.771
                        ]
                      },
                      {
                        "learn": [
                          1506501.011
                        ],
                        "iteration": 823,
                        "passed_time": 30.86870078,
                        "remaining_time": 6.593314729,
                        "test": [
                          2517443.657
                        ]
                      },
                      {
                        "learn": [
                          1505741.871
                        ],
                        "iteration": 824,
                        "passed_time": 30.88067244,
                        "remaining_time": 6.55044567,
                        "test": [
                          2517473.099
                        ]
                      },
                      {
                        "learn": [
                          1505542.895
                        ],
                        "iteration": 825,
                        "passed_time": 30.89224669,
                        "remaining_time": 6.507567706,
                        "test": [
                          2517431.719
                        ]
                      },
                      {
                        "learn": [
                          1505129.173
                        ],
                        "iteration": 826,
                        "passed_time": 30.90407763,
                        "remaining_time": 6.464819141,
                        "test": [
                          2517343.73
                        ]
                      },
                      {
                        "learn": [
                          1504395.551
                        ],
                        "iteration": 827,
                        "passed_time": 30.9165677,
                        "remaining_time": 6.42228218,
                        "test": [
                          2517310.14
                        ]
                      },
                      {
                        "learn": [
                          1503744.348
                        ],
                        "iteration": 828,
                        "passed_time": 30.93142449,
                        "remaining_time": 6.380305897,
                        "test": [
                          2517340.104
                        ]
                      },
                      {
                        "learn": [
                          1503179.151
                        ],
                        "iteration": 829,
                        "passed_time": 30.94829775,
                        "remaining_time": 6.338807973,
                        "test": [
                          2517577.481
                        ]
                      },
                      {
                        "learn": [
                          1502775.452
                        ],
                        "iteration": 830,
                        "passed_time": 30.96016148,
                        "remaining_time": 6.296350529,
                        "test": [
                          2517593.456
                        ]
                      },
                      {
                        "learn": [
                          1501851.929
                        ],
                        "iteration": 831,
                        "passed_time": 30.97501136,
                        "remaining_time": 6.254569602,
                        "test": [
                          2516883.989
                        ]
                      },
                      {
                        "learn": [
                          1501054.171
                        ],
                        "iteration": 832,
                        "passed_time": 30.98765128,
                        "remaining_time": 6.212410281,
                        "test": [
                          2516942.18
                        ]
                      },
                      {
                        "learn": [
                          1500787.862
                        ],
                        "iteration": 833,
                        "passed_time": 31.00406232,
                        "remaining_time": 6.171072355,
                        "test": [
                          2516718.891
                        ]
                      },
                      {
                        "learn": [
                          1500484.684
                        ],
                        "iteration": 834,
                        "passed_time": 31.01605246,
                        "remaining_time": 6.128920546,
                        "test": [
                          2516884.104
                        ]
                      },
                      {
                        "learn": [
                          1499704.273
                        ],
                        "iteration": 835,
                        "passed_time": 31.03052629,
                        "remaining_time": 6.087328124,
                        "test": [
                          2516444.425
                        ]
                      },
                      {
                        "learn": [
                          1499006.404
                        ],
                        "iteration": 836,
                        "passed_time": 31.04304923,
                        "remaining_time": 6.045420579,
                        "test": [
                          2516679.03
                        ]
                      },
                      {
                        "learn": [
                          1498674.756
                        ],
                        "iteration": 837,
                        "passed_time": 31.05533226,
                        "remaining_time": 6.003536785,
                        "test": [
                          2516804.254
                        ]
                      },
                      {
                        "learn": [
                          1498303.69
                        ],
                        "iteration": 838,
                        "passed_time": 31.06675739,
                        "remaining_time": 5.961558927,
                        "test": [
                          2516516.789
                        ]
                      },
                      {
                        "learn": [
                          1497912.758
                        ],
                        "iteration": 839,
                        "passed_time": 31.07888872,
                        "remaining_time": 5.919788327,
                        "test": [
                          2516405.254
                        ]
                      },
                      {
                        "learn": [
                          1497389.381
                        ],
                        "iteration": 840,
                        "passed_time": 31.09091093,
                        "remaining_time": 5.878067584,
                        "test": [
                          2516191.557
                        ]
                      },
                      {
                        "learn": [
                          1497183.877
                        ],
                        "iteration": 841,
                        "passed_time": 31.10253659,
                        "remaining_time": 5.836342971,
                        "test": [
                          2516069.346
                        ]
                      },
                      {
                        "learn": [
                          1496290.201
                        ],
                        "iteration": 842,
                        "passed_time": 31.11530578,
                        "remaining_time": 5.794902736,
                        "test": [
                          2515702.552
                        ]
                      },
                      {
                        "learn": [
                          1495450.678
                        ],
                        "iteration": 843,
                        "passed_time": 31.12763539,
                        "remaining_time": 5.753449196,
                        "test": [
                          2515404.553
                        ]
                      },
                      {
                        "learn": [
                          1494385.604
                        ],
                        "iteration": 844,
                        "passed_time": 31.14035632,
                        "remaining_time": 5.712136366,
                        "test": [
                          2515739.336
                        ]
                      },
                      {
                        "learn": [
                          1494165.84
                        ],
                        "iteration": 845,
                        "passed_time": 31.15240892,
                        "remaining_time": 5.670769473,
                        "test": [
                          2515607.297
                        ]
                      },
                      {
                        "learn": [
                          1493430.771
                        ],
                        "iteration": 846,
                        "passed_time": 31.16532504,
                        "remaining_time": 5.629627782,
                        "test": [
                          2515654.535
                        ]
                      },
                      {
                        "learn": [
                          1492983.898
                        ],
                        "iteration": 847,
                        "passed_time": 31.17849943,
                        "remaining_time": 5.588598955,
                        "test": [
                          2515570.902
                        ]
                      },
                      {
                        "learn": [
                          1492551.397
                        ],
                        "iteration": 848,
                        "passed_time": 31.19121121,
                        "remaining_time": 5.547553465,
                        "test": [
                          2515599.339
                        ]
                      },
                      {
                        "learn": [
                          1491659.352
                        ],
                        "iteration": 849,
                        "passed_time": 31.20365734,
                        "remaining_time": 5.506527766,
                        "test": [
                          2515286.49
                        ]
                      },
                      {
                        "learn": [
                          1491346.903
                        ],
                        "iteration": 850,
                        "passed_time": 31.21518427,
                        "remaining_time": 5.465408292,
                        "test": [
                          2515177.155
                        ]
                      },
                      {
                        "learn": [
                          1490902.445
                        ],
                        "iteration": 851,
                        "passed_time": 31.22745075,
                        "remaining_time": 5.42448675,
                        "test": [
                          2514987.85
                        ]
                      },
                      {
                        "learn": [
                          1490558.978
                        ],
                        "iteration": 852,
                        "passed_time": 31.23925825,
                        "remaining_time": 5.383553297,
                        "test": [
                          2514869.3
                        ]
                      },
                      {
                        "learn": [
                          1489975.437
                        ],
                        "iteration": 853,
                        "passed_time": 31.25168108,
                        "remaining_time": 5.342793252,
                        "test": [
                          2514681.569
                        ]
                      },
                      {
                        "learn": [
                          1489415.94
                        ],
                        "iteration": 854,
                        "passed_time": 31.26400851,
                        "remaining_time": 5.302083315,
                        "test": [
                          2514907.499
                        ]
                      },
                      {
                        "learn": [
                          1488386.513
                        ],
                        "iteration": 855,
                        "passed_time": 31.27714732,
                        "remaining_time": 5.261576184,
                        "test": [
                          2515495.88
                        ]
                      },
                      {
                        "learn": [
                          1488242.983
                        ],
                        "iteration": 856,
                        "passed_time": 31.28848016,
                        "remaining_time": 5.220831578,
                        "test": [
                          2515531.25
                        ]
                      },
                      {
                        "learn": [
                          1487829.04
                        ],
                        "iteration": 857,
                        "passed_time": 31.29984471,
                        "remaining_time": 5.18016078,
                        "test": [
                          2515801.947
                        ]
                      },
                      {
                        "learn": [
                          1486920.638
                        ],
                        "iteration": 858,
                        "passed_time": 31.31222835,
                        "remaining_time": 5.139725491,
                        "test": [
                          2515978.658
                        ]
                      },
                      {
                        "learn": [
                          1486200.362
                        ],
                        "iteration": 859,
                        "passed_time": 31.32460169,
                        "remaining_time": 5.099353764,
                        "test": [
                          2516106.348
                        ]
                      },
                      {
                        "learn": [
                          1485566.951
                        ],
                        "iteration": 860,
                        "passed_time": 31.33661335,
                        "remaining_time": 5.058988683,
                        "test": [
                          2516423.604
                        ]
                      },
                      {
                        "learn": [
                          1484972.445
                        ],
                        "iteration": 861,
                        "passed_time": 31.34933864,
                        "remaining_time": 5.018803633,
                        "test": [
                          2516317.532
                        ]
                      },
                      {
                        "learn": [
                          1484793.321
                        ],
                        "iteration": 862,
                        "passed_time": 31.36110304,
                        "remaining_time": 4.978529684,
                        "test": [
                          2516313.367
                        ]
                      },
                      {
                        "learn": [
                          1483865.482
                        ],
                        "iteration": 863,
                        "passed_time": 31.37383053,
                        "remaining_time": 4.938473324,
                        "test": [
                          2516288.168
                        ]
                      },
                      {
                        "learn": [
                          1483598.556
                        ],
                        "iteration": 864,
                        "passed_time": 31.38759175,
                        "remaining_time": 4.898641486,
                        "test": [
                          2516216.253
                        ]
                      },
                      {
                        "learn": [
                          1483250.944
                        ],
                        "iteration": 865,
                        "passed_time": 31.40268848,
                        "remaining_time": 4.859076508,
                        "test": [
                          2516023.266
                        ]
                      },
                      {
                        "learn": [
                          1482698.166
                        ],
                        "iteration": 866,
                        "passed_time": 31.41489206,
                        "remaining_time": 4.819124158,
                        "test": [
                          2516019.564
                        ]
                      },
                      {
                        "learn": [
                          1482274.158
                        ],
                        "iteration": 867,
                        "passed_time": 31.42689233,
                        "remaining_time": 4.779204825,
                        "test": [
                          2515917.337
                        ]
                      },
                      {
                        "learn": [
                          1481698.215
                        ],
                        "iteration": 868,
                        "passed_time": 31.44025589,
                        "remaining_time": 4.73955526,
                        "test": [
                          2515902.352
                        ]
                      },
                      {
                        "learn": [
                          1481147.525
                        ],
                        "iteration": 869,
                        "passed_time": 31.45464923,
                        "remaining_time": 4.700119999,
                        "test": [
                          2515819.499
                        ]
                      },
                      {
                        "learn": [
                          1480617.313
                        ],
                        "iteration": 870,
                        "passed_time": 31.46714621,
                        "remaining_time": 4.660461378,
                        "test": [
                          2515627.243
                        ]
                      },
                      {
                        "learn": [
                          1480127.777
                        ],
                        "iteration": 871,
                        "passed_time": 31.47874323,
                        "remaining_time": 4.620732952,
                        "test": [
                          2515997.853
                        ]
                      },
                      {
                        "learn": [
                          1479440.553
                        ],
                        "iteration": 872,
                        "passed_time": 31.49085991,
                        "remaining_time": 4.581144569,
                        "test": [
                          2516150.323
                        ]
                      },
                      {
                        "learn": [
                          1479235.666
                        ],
                        "iteration": 873,
                        "passed_time": 31.5024057,
                        "remaining_time": 4.541536749,
                        "test": [
                          2516035.462
                        ]
                      },
                      {
                        "learn": [
                          1478940.808
                        ],
                        "iteration": 874,
                        "passed_time": 31.51436162,
                        "remaining_time": 4.50205166,
                        "test": [
                          2515970.802
                        ]
                      },
                      {
                        "learn": [
                          1478572.931
                        ],
                        "iteration": 875,
                        "passed_time": 31.52652494,
                        "remaining_time": 4.462658782,
                        "test": [
                          2515971.931
                        ]
                      },
                      {
                        "learn": [
                          1478229.506
                        ],
                        "iteration": 876,
                        "passed_time": 31.53840794,
                        "remaining_time": 4.423288685,
                        "test": [
                          2516043.015
                        ]
                      },
                      {
                        "learn": [
                          1477845.955
                        ],
                        "iteration": 877,
                        "passed_time": 31.55059023,
                        "remaining_time": 4.384022788,
                        "test": [
                          2516114.727
                        ]
                      },
                      {
                        "learn": [
                          1477302.126
                        ],
                        "iteration": 878,
                        "passed_time": 31.57057748,
                        "remaining_time": 4.345892919,
                        "test": [
                          2516117.08
                        ]
                      },
                      {
                        "learn": [
                          1476926.337
                        ],
                        "iteration": 879,
                        "passed_time": 31.59164135,
                        "remaining_time": 4.307951094,
                        "test": [
                          2516154.03
                        ]
                      },
                      {
                        "learn": [
                          1476389.042
                        ],
                        "iteration": 880,
                        "passed_time": 31.60383676,
                        "remaining_time": 4.268849687,
                        "test": [
                          2516201.657
                        ]
                      },
                      {
                        "learn": [
                          1475752.072
                        ],
                        "iteration": 881,
                        "passed_time": 31.61590752,
                        "remaining_time": 4.229792616,
                        "test": [
                          2516307.168
                        ]
                      },
                      {
                        "learn": [
                          1475253.48
                        ],
                        "iteration": 882,
                        "passed_time": 31.62787191,
                        "remaining_time": 4.190782575,
                        "test": [
                          2516278.896
                        ]
                      },
                      {
                        "learn": [
                          1474693.292
                        ],
                        "iteration": 883,
                        "passed_time": 31.64030224,
                        "remaining_time": 4.151894864,
                        "test": [
                          2515996.928
                        ]
                      },
                      {
                        "learn": [
                          1474082.643
                        ],
                        "iteration": 884,
                        "passed_time": 31.65251143,
                        "remaining_time": 4.113038208,
                        "test": [
                          2515949.99
                        ]
                      },
                      {
                        "learn": [
                          1473732.284
                        ],
                        "iteration": 885,
                        "passed_time": 31.69560227,
                        "remaining_time": 4.078215191,
                        "test": [
                          2516015.036
                        ]
                      },
                      {
                        "learn": [
                          1473062.998
                        ],
                        "iteration": 886,
                        "passed_time": 31.72308214,
                        "remaining_time": 4.04138476,
                        "test": [
                          2516111.184
                        ]
                      },
                      {
                        "learn": [
                          1472718.718
                        ],
                        "iteration": 887,
                        "passed_time": 31.74442807,
                        "remaining_time": 4.003801738,
                        "test": [
                          2515890.232
                        ]
                      },
                      {
                        "learn": [
                          1472520.758
                        ],
                        "iteration": 888,
                        "passed_time": 31.75807075,
                        "remaining_time": 3.965293423,
                        "test": [
                          2516115.113
                        ]
                      },
                      {
                        "learn": [
                          1472145.413
                        ],
                        "iteration": 889,
                        "passed_time": 31.76984221,
                        "remaining_time": 3.926609711,
                        "test": [
                          2516220.536
                        ]
                      },
                      {
                        "learn": [
                          1471648.306
                        ],
                        "iteration": 890,
                        "passed_time": 31.78470122,
                        "remaining_time": 3.888364122,
                        "test": [
                          2516248.012
                        ]
                      },
                      {
                        "learn": [
                          1471393.249
                        ],
                        "iteration": 891,
                        "passed_time": 31.79821093,
                        "remaining_time": 3.850007602,
                        "test": [
                          2516438.593
                        ]
                      },
                      {
                        "learn": [
                          1470624.124
                        ],
                        "iteration": 892,
                        "passed_time": 31.81320074,
                        "remaining_time": 3.811884076,
                        "test": [
                          2516122.529
                        ]
                      },
                      {
                        "learn": [
                          1470008.136
                        ],
                        "iteration": 893,
                        "passed_time": 31.82522777,
                        "remaining_time": 3.77346101,
                        "test": [
                          2515608.858
                        ]
                      },
                      {
                        "learn": [
                          1469314.729
                        ],
                        "iteration": 894,
                        "passed_time": 31.83783728,
                        "remaining_time": 3.735165267,
                        "test": [
                          2515755.611
                        ]
                      },
                      {
                        "learn": [
                          1468872.635
                        ],
                        "iteration": 895,
                        "passed_time": 31.85054095,
                        "remaining_time": 3.696937789,
                        "test": [
                          2515846.542
                        ]
                      },
                      {
                        "learn": [
                          1468043.563
                        ],
                        "iteration": 896,
                        "passed_time": 31.86366227,
                        "remaining_time": 3.658815177,
                        "test": [
                          2516094.062
                        ]
                      },
                      {
                        "learn": [
                          1467618.024
                        ],
                        "iteration": 897,
                        "passed_time": 31.8761549,
                        "remaining_time": 3.620676838,
                        "test": [
                          2516059.465
                        ]
                      },
                      {
                        "learn": [
                          1467150.281
                        ],
                        "iteration": 898,
                        "passed_time": 31.8884158,
                        "remaining_time": 3.582569517,
                        "test": [
                          2516093.407
                        ]
                      },
                      {
                        "learn": [
                          1466862.424
                        ],
                        "iteration": 899,
                        "passed_time": 31.90059549,
                        "remaining_time": 3.54451061,
                        "test": [
                          2516136.428
                        ]
                      },
                      {
                        "learn": [
                          1466062.395
                        ],
                        "iteration": 900,
                        "passed_time": 31.91361908,
                        "remaining_time": 3.506601874,
                        "test": [
                          2516440.78
                        ]
                      },
                      {
                        "learn": [
                          1465471.17
                        ],
                        "iteration": 901,
                        "passed_time": 31.92667403,
                        "remaining_time": 3.468751723,
                        "test": [
                          2516485.715
                        ]
                      },
                      {
                        "learn": [
                          1464981.269
                        ],
                        "iteration": 902,
                        "passed_time": 31.93924771,
                        "remaining_time": 3.430904793,
                        "test": [
                          2516501.786
                        ]
                      },
                      {
                        "learn": [
                          1464752.385
                        ],
                        "iteration": 903,
                        "passed_time": 31.95137195,
                        "remaining_time": 3.393066047,
                        "test": [
                          2516474.235
                        ]
                      },
                      {
                        "learn": [
                          1464293.771
                        ],
                        "iteration": 904,
                        "passed_time": 31.96336124,
                        "remaining_time": 3.355269965,
                        "test": [
                          2516366.68
                        ]
                      },
                      {
                        "learn": [
                          1464052.865
                        ],
                        "iteration": 905,
                        "passed_time": 31.9770198,
                        "remaining_time": 3.317704041,
                        "test": [
                          2516406.758
                        ]
                      },
                      {
                        "learn": [
                          1463504.534
                        ],
                        "iteration": 906,
                        "passed_time": 31.98928595,
                        "remaining_time": 3.280048063,
                        "test": [
                          2516375.369
                        ]
                      },
                      {
                        "learn": [
                          1462946.493
                        ],
                        "iteration": 907,
                        "passed_time": 32.00171526,
                        "remaining_time": 3.242464542,
                        "test": [
                          2516417.216
                        ]
                      },
                      {
                        "learn": [
                          1462378.501
                        ],
                        "iteration": 908,
                        "passed_time": 32.01559869,
                        "remaining_time": 3.205081937,
                        "test": [
                          2516514.8
                        ]
                      },
                      {
                        "learn": [
                          1462177.951
                        ],
                        "iteration": 909,
                        "passed_time": 32.02747819,
                        "remaining_time": 3.167552788,
                        "test": [
                          2516528.827
                        ]
                      },
                      {
                        "learn": [
                          1461449.213
                        ],
                        "iteration": 910,
                        "passed_time": 32.03996737,
                        "remaining_time": 3.130139513,
                        "test": [
                          2516282.101
                        ]
                      },
                      {
                        "learn": [
                          1460727.952
                        ],
                        "iteration": 911,
                        "passed_time": 32.05199576,
                        "remaining_time": 3.092736433,
                        "test": [
                          2516395.368
                        ]
                      },
                      {
                        "learn": [
                          1460354.168
                        ],
                        "iteration": 912,
                        "passed_time": 32.067569,
                        "remaining_time": 3.055726729,
                        "test": [
                          2516524.397
                        ]
                      },
                      {
                        "learn": [
                          1459878.239
                        ],
                        "iteration": 913,
                        "passed_time": 32.07933124,
                        "remaining_time": 3.018405347,
                        "test": [
                          2516833.828
                        ]
                      },
                      {
                        "learn": [
                          1459545.038
                        ],
                        "iteration": 914,
                        "passed_time": 32.09144443,
                        "remaining_time": 2.981172433,
                        "test": [
                          2516546.441
                        ]
                      },
                      {
                        "learn": [
                          1458948.419
                        ],
                        "iteration": 915,
                        "passed_time": 32.10354795,
                        "remaining_time": 2.94399348,
                        "test": [
                          2516117.344
                        ]
                      },
                      {
                        "learn": [
                          1457999.011
                        ],
                        "iteration": 916,
                        "passed_time": 32.11922668,
                        "remaining_time": 2.907192819,
                        "test": [
                          2515894.231
                        ]
                      },
                      {
                        "learn": [
                          1457544.945
                        ],
                        "iteration": 917,
                        "passed_time": 32.13111892,
                        "remaining_time": 2.870099947,
                        "test": [
                          2516464.423
                        ]
                      },
                      {
                        "learn": [
                          1457414.277
                        ],
                        "iteration": 918,
                        "passed_time": 32.14238282,
                        "remaining_time": 2.833006538,
                        "test": [
                          2516522.135
                        ]
                      },
                      {
                        "learn": [
                          1456850.485
                        ],
                        "iteration": 919,
                        "passed_time": 32.15514747,
                        "remaining_time": 2.79609978,
                        "test": [
                          2516757.479
                        ]
                      },
                      {
                        "learn": [
                          1456178.461
                        ],
                        "iteration": 920,
                        "passed_time": 32.16838176,
                        "remaining_time": 2.759285732,
                        "test": [
                          2516999.755
                        ]
                      },
                      {
                        "learn": [
                          1455790.663
                        ],
                        "iteration": 921,
                        "passed_time": 32.18029803,
                        "remaining_time": 2.72241133,
                        "test": [
                          2516953.69
                        ]
                      },
                      {
                        "learn": [
                          1454945.209
                        ],
                        "iteration": 922,
                        "passed_time": 32.19331101,
                        "remaining_time": 2.6856825,
                        "test": [
                          2517206.135
                        ]
                      },
                      {
                        "learn": [
                          1454799.581
                        ],
                        "iteration": 923,
                        "passed_time": 32.20509591,
                        "remaining_time": 2.648903992,
                        "test": [
                          2517085.273
                        ]
                      },
                      {
                        "learn": [
                          1454289.669
                        ],
                        "iteration": 924,
                        "passed_time": 32.21762457,
                        "remaining_time": 2.61223983,
                        "test": [
                          2517454.457
                        ]
                      },
                      {
                        "learn": [
                          1453780.439
                        ],
                        "iteration": 925,
                        "passed_time": 32.22977549,
                        "remaining_time": 2.57559761,
                        "test": [
                          2517494.725
                        ]
                      },
                      {
                        "learn": [
                          1453302.492
                        ],
                        "iteration": 926,
                        "passed_time": 32.24185993,
                        "remaining_time": 2.539002993,
                        "test": [
                          2517328.14
                        ]
                      },
                      {
                        "learn": [
                          1452397.981
                        ],
                        "iteration": 927,
                        "passed_time": 32.25497387,
                        "remaining_time": 2.502541076,
                        "test": [
                          2517103.491
                        ]
                      },
                      {
                        "learn": [
                          1451912.702
                        ],
                        "iteration": 928,
                        "passed_time": 32.26698496,
                        "remaining_time": 2.466045137,
                        "test": [
                          2517562.139
                        ]
                      },
                      {
                        "learn": [
                          1451518.159
                        ],
                        "iteration": 929,
                        "passed_time": 32.27861675,
                        "remaining_time": 2.429573304,
                        "test": [
                          2517301.866
                        ]
                      },
                      {
                        "learn": [
                          1450861.27
                        ],
                        "iteration": 930,
                        "passed_time": 32.29110725,
                        "remaining_time": 2.393218475,
                        "test": [
                          2517397.423
                        ]
                      },
                      {
                        "learn": [
                          1450536.365
                        ],
                        "iteration": 931,
                        "passed_time": 32.30272871,
                        "remaining_time": 2.356851451,
                        "test": [
                          2517463.579
                        ]
                      },
                      {
                        "learn": [
                          1449980.138
                        ],
                        "iteration": 932,
                        "passed_time": 32.31558268,
                        "remaining_time": 2.32062598,
                        "test": [
                          2517450.687
                        ]
                      },
                      {
                        "learn": [
                          1449327.898
                        ],
                        "iteration": 933,
                        "passed_time": 32.32869312,
                        "remaining_time": 2.284468679,
                        "test": [
                          2517450.107
                        ]
                      },
                      {
                        "learn": [
                          1448602.659
                        ],
                        "iteration": 934,
                        "passed_time": 32.34119527,
                        "remaining_time": 2.248318388,
                        "test": [
                          2517223.335
                        ]
                      },
                      {
                        "learn": [
                          1448373.873
                        ],
                        "iteration": 935,
                        "passed_time": 32.35270757,
                        "remaining_time": 2.212150945,
                        "test": [
                          2517375.453
                        ]
                      },
                      {
                        "learn": [
                          1447924.737
                        ],
                        "iteration": 936,
                        "passed_time": 32.36531833,
                        "remaining_time": 2.176109984,
                        "test": [
                          2517273.313
                        ]
                      },
                      {
                        "learn": [
                          1447236.874
                        ],
                        "iteration": 937,
                        "passed_time": 32.38015491,
                        "remaining_time": 2.140266103,
                        "test": [
                          2516833.98
                        ]
                      },
                      {
                        "learn": [
                          1446762.118
                        ],
                        "iteration": 938,
                        "passed_time": 32.39384529,
                        "remaining_time": 2.104392505,
                        "test": [
                          2516912.411
                        ]
                      },
                      {
                        "learn": [
                          1446143.816
                        ],
                        "iteration": 939,
                        "passed_time": 32.40888128,
                        "remaining_time": 2.068651996,
                        "test": [
                          2517371.377
                        ]
                      },
                      {
                        "learn": [
                          1445597.909
                        ],
                        "iteration": 940,
                        "passed_time": 32.42149277,
                        "remaining_time": 2.032803478,
                        "test": [
                          2517402.425
                        ]
                      },
                      {
                        "learn": [
                          1445163.546
                        ],
                        "iteration": 941,
                        "passed_time": 32.43425934,
                        "remaining_time": 1.997013845,
                        "test": [
                          2517214.35
                        ]
                      },
                      {
                        "learn": [
                          1444662.882
                        ],
                        "iteration": 942,
                        "passed_time": 32.44635082,
                        "remaining_time": 1.961232234,
                        "test": [
                          2517234.584
                        ]
                      },
                      {
                        "learn": [
                          1444472.58
                        ],
                        "iteration": 943,
                        "passed_time": 32.4586219,
                        "remaining_time": 1.925511468,
                        "test": [
                          2517275.16
                        ]
                      },
                      {
                        "learn": [
                          1443846.266
                        ],
                        "iteration": 944,
                        "passed_time": 32.47056173,
                        "remaining_time": 1.889821053,
                        "test": [
                          2517417.745
                        ]
                      },
                      {
                        "learn": [
                          1443466.687
                        ],
                        "iteration": 945,
                        "passed_time": 32.48302893,
                        "remaining_time": 1.854210954,
                        "test": [
                          2517290.024
                        ]
                      },
                      {
                        "learn": [
                          1442696.883
                        ],
                        "iteration": 946,
                        "passed_time": 32.4955594,
                        "remaining_time": 1.818653272,
                        "test": [
                          2517294.352
                        ]
                      },
                      {
                        "learn": [
                          1441967.445
                        ],
                        "iteration": 947,
                        "passed_time": 32.50811396,
                        "remaining_time": 1.783145492,
                        "test": [
                          2517534.596
                        ]
                      },
                      {
                        "learn": [
                          1441282.598
                        ],
                        "iteration": 948,
                        "passed_time": 32.52011544,
                        "remaining_time": 1.747656362,
                        "test": [
                          2517737.953
                        ]
                      },
                      {
                        "learn": [
                          1441087.933
                        ],
                        "iteration": 949,
                        "passed_time": 32.53143451,
                        "remaining_time": 1.712180764,
                        "test": [
                          2517786.574
                        ]
                      },
                      {
                        "learn": [
                          1440378.124
                        ],
                        "iteration": 950,
                        "passed_time": 32.54367509,
                        "remaining_time": 1.676803448,
                        "test": [
                          2517971.087
                        ]
                      },
                      {
                        "learn": [
                          1439792.738
                        ],
                        "iteration": 951,
                        "passed_time": 32.55661226,
                        "remaining_time": 1.641509862,
                        "test": [
                          2518131.392
                        ]
                      },
                      {
                        "learn": [
                          1438883.071
                        ],
                        "iteration": 952,
                        "passed_time": 32.56906852,
                        "remaining_time": 1.606239476,
                        "test": [
                          2518507.115
                        ]
                      },
                      {
                        "learn": [
                          1438478.442
                        ],
                        "iteration": 953,
                        "passed_time": 32.59146097,
                        "remaining_time": 1.571496022,
                        "test": [
                          2517888.767
                        ]
                      },
                      {
                        "learn": [
                          1438150.775
                        ],
                        "iteration": 954,
                        "passed_time": 32.60985613,
                        "remaining_time": 1.536590079,
                        "test": [
                          2517806.764
                        ]
                      },
                      {
                        "learn": [
                          1437474.44
                        ],
                        "iteration": 955,
                        "passed_time": 32.62256356,
                        "remaining_time": 1.5014569,
                        "test": [
                          2517652.695
                        ]
                      },
                      {
                        "learn": [
                          1437018.224
                        ],
                        "iteration": 956,
                        "passed_time": 32.63433559,
                        "remaining_time": 1.466328558,
                        "test": [
                          2517647.449
                        ]
                      },
                      {
                        "learn": [
                          1436690.068
                        ],
                        "iteration": 957,
                        "passed_time": 32.64730536,
                        "remaining_time": 1.431301487,
                        "test": [
                          2517548.951
                        ]
                      },
                      {
                        "learn": [
                          1436130.324
                        ],
                        "iteration": 958,
                        "passed_time": 32.65927115,
                        "remaining_time": 1.396277495,
                        "test": [
                          2517406.853
                        ]
                      },
                      {
                        "learn": [
                          1435597.599
                        ],
                        "iteration": 959,
                        "passed_time": 32.67083442,
                        "remaining_time": 1.361284768,
                        "test": [
                          2517667.557
                        ]
                      },
                      {
                        "learn": [
                          1435348.115
                        ],
                        "iteration": 960,
                        "passed_time": 32.68212659,
                        "remaining_time": 1.326329799,
                        "test": [
                          2517713.211
                        ]
                      },
                      {
                        "learn": [
                          1435024.118
                        ],
                        "iteration": 961,
                        "passed_time": 32.73711367,
                        "remaining_time": 1.29315002,
                        "test": [
                          2517885.058
                        ]
                      },
                      {
                        "learn": [
                          1434714.502
                        ],
                        "iteration": 962,
                        "passed_time": 32.76752122,
                        "remaining_time": 1.258980566,
                        "test": [
                          2517856.515
                        ]
                      },
                      {
                        "learn": [
                          1434185.741
                        ],
                        "iteration": 963,
                        "passed_time": 32.77937215,
                        "remaining_time": 1.224125931,
                        "test": [
                          2517893.455
                        ]
                      },
                      {
                        "learn": [
                          1433671.215
                        ],
                        "iteration": 964,
                        "passed_time": 32.79158668,
                        "remaining_time": 1.189332159,
                        "test": [
                          2517940.814
                        ]
                      },
                      {
                        "learn": [
                          1433203.83
                        ],
                        "iteration": 965,
                        "passed_time": 32.80625854,
                        "remaining_time": 1.154671626,
                        "test": [
                          2516985.096
                        ]
                      },
                      {
                        "learn": [
                          1432905.247
                        ],
                        "iteration": 966,
                        "passed_time": 32.81771299,
                        "remaining_time": 1.119942636,
                        "test": [
                          2517163.82
                        ]
                      },
                      {
                        "learn": [
                          1432459.538
                        ],
                        "iteration": 967,
                        "passed_time": 32.8302117,
                        "remaining_time": 1.085296254,
                        "test": [
                          2516852.536
                        ]
                      },
                      {
                        "learn": [
                          1432280.999
                        ],
                        "iteration": 968,
                        "passed_time": 32.84181899,
                        "remaining_time": 1.050667068,
                        "test": [
                          2516814.886
                        ]
                      },
                      {
                        "learn": [
                          1431630.659
                        ],
                        "iteration": 969,
                        "passed_time": 32.85390371,
                        "remaining_time": 1.016100115,
                        "test": [
                          2516678.989
                        ]
                      },
                      {
                        "learn": [
                          1431085.236
                        ],
                        "iteration": 970,
                        "passed_time": 32.86599891,
                        "remaining_time": 0.9815797822,
                        "test": [
                          2516506.486
                        ]
                      },
                      {
                        "learn": [
                          1430708.905
                        ],
                        "iteration": 971,
                        "passed_time": 32.87772872,
                        "remaining_time": 0.9470950661,
                        "test": [
                          2516538.389
                        ]
                      },
                      {
                        "learn": [
                          1430284.284
                        ],
                        "iteration": 972,
                        "passed_time": 32.88992998,
                        "remaining_time": 0.9126702051,
                        "test": [
                          2516384.291
                        ]
                      },
                      {
                        "learn": [
                          1429761.538
                        ],
                        "iteration": 973,
                        "passed_time": 32.90275916,
                        "remaining_time": 0.8783077394,
                        "test": [
                          2516256.494
                        ]
                      },
                      {
                        "learn": [
                          1429545.862
                        ],
                        "iteration": 974,
                        "passed_time": 32.91500751,
                        "remaining_time": 0.8439745516,
                        "test": [
                          2516201.742
                        ]
                      },
                      {
                        "learn": [
                          1428881.593
                        ],
                        "iteration": 975,
                        "passed_time": 32.92735491,
                        "remaining_time": 0.8096890552,
                        "test": [
                          2516155.082
                        ]
                      },
                      {
                        "learn": [
                          1428434.062
                        ],
                        "iteration": 976,
                        "passed_time": 32.93922104,
                        "remaining_time": 0.7754371381,
                        "test": [
                          2515887.068
                        ]
                      },
                      {
                        "learn": [
                          1428085.43
                        ],
                        "iteration": 977,
                        "passed_time": 32.95120003,
                        "remaining_time": 0.7412335384,
                        "test": [
                          2515973.026
                        ]
                      },
                      {
                        "learn": [
                          1427963.595
                        ],
                        "iteration": 978,
                        "passed_time": 32.96515585,
                        "remaining_time": 0.7071177456,
                        "test": [
                          2516014.155
                        ]
                      },
                      {
                        "learn": [
                          1427277.101
                        ],
                        "iteration": 979,
                        "passed_time": 32.9772421,
                        "remaining_time": 0.6730049408,
                        "test": [
                          2515674.943
                        ]
                      },
                      {
                        "learn": [
                          1426993.384
                        ],
                        "iteration": 980,
                        "passed_time": 32.98892555,
                        "remaining_time": 0.6389292411,
                        "test": [
                          2515752.633
                        ]
                      },
                      {
                        "learn": [
                          1426508.065
                        ],
                        "iteration": 981,
                        "passed_time": 33.00277354,
                        "remaining_time": 0.6049388225,
                        "test": [
                          2515921.471
                        ]
                      },
                      {
                        "learn": [
                          1425879.912
                        ],
                        "iteration": 982,
                        "passed_time": 33.01497492,
                        "remaining_time": 0.5709609092,
                        "test": [
                          2515969.537
                        ]
                      },
                      {
                        "learn": [
                          1425318.071
                        ],
                        "iteration": 983,
                        "passed_time": 33.0266431,
                        "remaining_time": 0.5370185869,
                        "test": [
                          2515434.975
                        ]
                      },
                      {
                        "learn": [
                          1424619.878
                        ],
                        "iteration": 984,
                        "passed_time": 33.03812858,
                        "remaining_time": 0.5031187093,
                        "test": [
                          2515326.956
                        ]
                      },
                      {
                        "learn": [
                          1424014.573
                        ],
                        "iteration": 985,
                        "passed_time": 33.05063096,
                        "remaining_time": 0.4692787357,
                        "test": [
                          2515342.352
                        ]
                      },
                      {
                        "learn": [
                          1423511.641
                        ],
                        "iteration": 986,
                        "passed_time": 33.06266845,
                        "remaining_time": 0.4354758763,
                        "test": [
                          2515425.947
                        ]
                      },
                      {
                        "learn": [
                          1423141.473
                        ],
                        "iteration": 987,
                        "passed_time": 33.07450025,
                        "remaining_time": 0.4017145779,
                        "test": [
                          2515502.178
                        ]
                      },
                      {
                        "learn": [
                          1422458.689
                        ],
                        "iteration": 988,
                        "passed_time": 33.08752895,
                        "remaining_time": 0.3680109388,
                        "test": [
                          2515567.385
                        ]
                      },
                      {
                        "learn": [
                          1421990.513
                        ],
                        "iteration": 989,
                        "passed_time": 33.10174672,
                        "remaining_time": 0.334361078,
                        "test": [
                          2515413.909
                        ]
                      },
                      {
                        "learn": [
                          1421464.979
                        ],
                        "iteration": 990,
                        "passed_time": 33.11407196,
                        "remaining_time": 0.3007332469,
                        "test": [
                          2515581.242
                        ]
                      },
                      {
                        "learn": [
                          1420777.69
                        ],
                        "iteration": 991,
                        "passed_time": 33.12689406,
                        "remaining_time": 0.2671523715,
                        "test": [
                          2515295.155
                        ]
                      },
                      {
                        "learn": [
                          1420154.547
                        ],
                        "iteration": 992,
                        "passed_time": 33.13878116,
                        "remaining_time": 0.2336067151,
                        "test": [
                          2515300.633
                        ]
                      },
                      {
                        "learn": [
                          1419434.325
                        ],
                        "iteration": 993,
                        "passed_time": 33.15085471,
                        "remaining_time": 0.2001057628,
                        "test": [
                          2515549.797
                        ]
                      },
                      {
                        "learn": [
                          1419157.879
                        ],
                        "iteration": 994,
                        "passed_time": 33.16402844,
                        "remaining_time": 0.1666534092,
                        "test": [
                          2515476.828
                        ]
                      },
                      {
                        "learn": [
                          1418792.58
                        ],
                        "iteration": 995,
                        "passed_time": 33.17634727,
                        "remaining_time": 0.1332383424,
                        "test": [
                          2515363.15
                        ]
                      },
                      {
                        "learn": [
                          1418577.731
                        ],
                        "iteration": 996,
                        "passed_time": 33.18763665,
                        "remaining_time": 0.09986249744,
                        "test": [
                          2515249.132
                        ]
                      },
                      {
                        "learn": [
                          1418469.274
                        ],
                        "iteration": 997,
                        "passed_time": 33.19948087,
                        "remaining_time": 0.06653202579,
                        "test": [
                          2515027.365
                        ]
                      },
                      {
                        "learn": [
                          1417824.818
                        ],
                        "iteration": 998,
                        "passed_time": 33.21131412,
                        "remaining_time": 0.03324455868,
                        "test": [
                          2515073.499
                        ]
                      },
                      {
                        "learn": [
                          1417187.984
                        ],
                        "iteration": 999,
                        "passed_time": 33.22315593,
                        "remaining_time": 0,
                        "test": [
                          2515383.974
                        ]
                      }
                    ],
                    "meta": {
                      "test_sets": [
                        "test"
                      ],
                      "test_metrics": [
                        {
                          "best_value": "Min",
                          "name": "RMSE"
                        }
                      ],
                      "learn_metrics": [
                        {
                          "best_value": "Min",
                          "name": "RMSE"
                        }
                      ],
                      "launch_mode": "Train",
                      "parameters": "",
                      "iteration_count": 1000,
                      "learn_sets": [
                        "learn"
                      ],
                      "name": "experiment"
                    }
                  }
                }
              }
            },
            "layout": "IPY_MODEL_09b4669021b2405aba3ed9fbaee281a3"
          }
        }
      }
    }
  },
  "nbformat": 4,
  "nbformat_minor": 0
}